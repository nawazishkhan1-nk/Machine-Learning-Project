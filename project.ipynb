{
 "cells": [
  {
   "cell_type": "code",
   "execution_count": 375,
   "source": [
    "from sklearn import preprocessing\n",
    "from sklearn import tree\n",
    "from sklearn.ensemble import RandomForestClassifier, AdaBoostClassifier, StackingClassifier, BaggingClassifier, VotingClassifier, HistGradientBoostingClassifier\n",
    "from sklearn.model_selection import RandomizedSearchCV, GridSearchCV\n",
    "from sklearn.model_selection import validation_curve\n",
    "from sklearn.linear_model import LogisticRegression, SGDOneClassSVM, Perceptron\n",
    "from sklearn.metrics import roc_auc_score, roc_curve\n",
    "from sklearn.naive_bayes import GaussianNB\n",
    "from sklearn import tree\n",
    "import sys\n",
    "import sklearn.svm as svm\n",
    "import numpy as np\n",
    "import pandas as pd\n",
    "from Helpers import encode_labels\n",
    "import matplotlib.pyplot as plt\n",
    "%matplotlib inline"
   ],
   "outputs": [],
   "metadata": {}
  },
  {
   "cell_type": "code",
   "execution_count": null,
   "source": [
    "training=pd.read_csv(\"train_final_1.csv\")                                                     ##Reading the data\n",
    "testing=pd.read_csv(\"test_final_1.csv\")"
   ],
   "outputs": [],
   "metadata": {}
  },
  {
   "cell_type": "code",
   "execution_count": null,
   "source": [
    "training = encode_labels(training)\n",
    "testing = encode_labels(testing)"
   ],
   "outputs": [],
   "metadata": {}
  },
  {
   "cell_type": "markdown",
   "source": [
    "# Model 1: Decision Trees"
   ],
   "metadata": {}
  },
  {
   "cell_type": "code",
   "execution_count": 387,
   "source": [
    "param_grid = {\n",
    "        'max_depth': range(10, 50, 2),\n",
    "        'min_impurity_decrease': [0.0, 0.01, 0.1, 0.2, 0.001]\n",
    "    }\n",
    "dt = tree.DecisionTreeClassifier(criterion='gini', random_state=42, max_features='auto')\n"
   ],
   "outputs": [],
   "metadata": {}
  },
  {
   "cell_type": "code",
   "execution_count": 388,
   "source": [
    "clf_dt = RandomizedSearchCV(estimator=dt,param_distributions=param_grid,cv=5,n_iter=100,verbose=2,random_state=42,n_jobs=-1)\n",
    "clf_dt.fit(training.drop(['income>50K'],axis=1),training['income>50K'])"
   ],
   "outputs": [
    {
     "output_type": "stream",
     "name": "stdout",
     "text": [
      "Fitting 5 folds for each of 100 candidates, totalling 500 fits\n",
      "[CV] END ...........max_depth=10, min_impurity_decrease=0.01; total time=   0.0s\n",
      "[CV] END ...........max_depth=10, min_impurity_decrease=0.01; total time=   0.0s\n",
      "[CV] END ...........max_depth=10, min_impurity_decrease=0.01; total time=   0.0s\n",
      "[CV] END ............max_depth=10, min_impurity_decrease=0.0; total time=   0.0s\n",
      "[CV] END ............max_depth=10, min_impurity_decrease=0.0; total time=   0.0s\n",
      "[CV] END ............max_depth=10, min_impurity_decrease=0.0; total time=   0.0s\n",
      "[CV] END ............max_depth=10, min_impurity_decrease=0.0; total time=   0.1s\n",
      "[CV] END ............max_depth=10, min_impurity_decrease=0.0; total time=   0.1s\n",
      "[CV] END ...........max_depth=10, min_impurity_decrease=0.01; total time=   0.0s\n",
      "[CV] END ...........max_depth=10, min_impurity_decrease=0.01; total time=   0.0s\n",
      "[CV] END ............max_depth=10, min_impurity_decrease=0.1; total time=   0.0s\n",
      "[CV] END ............max_depth=10, min_impurity_decrease=0.1; total time=   0.0s\n",
      "[CV] END ............max_depth=10, min_impurity_decrease=0.1; total time=   0.0s\n",
      "[CV] END ............max_depth=10, min_impurity_decrease=0.1; total time=   0.0s\n",
      "[CV] END ............max_depth=10, min_impurity_decrease=0.1; total time=   0.0s\n",
      "[CV] END ............max_depth=10, min_impurity_decrease=0.2; total time=   0.0s\n",
      "[CV] END ............max_depth=10, min_impurity_decrease=0.2; total time=   0.0s\n",
      "[CV] END ............max_depth=10, min_impurity_decrease=0.2; total time=   0.0s\n",
      "[CV] END ............max_depth=10, min_impurity_decrease=0.2; total time=   0.0s\n",
      "[CV] END ............max_depth=10, min_impurity_decrease=0.2; total time=   0.0s\n",
      "[CV] END ..........max_depth=10, min_impurity_decrease=0.001; total time=   0.0s\n",
      "[CV] END ..........max_depth=10, min_impurity_decrease=0.001; total time=   0.0s\n",
      "[CV] END ..........max_depth=10, min_impurity_decrease=0.001; total time=   0.0s\n",
      "[CV] END ..........max_depth=10, min_impurity_decrease=0.001; total time=   0.0s\n",
      "[CV] END ..........max_depth=10, min_impurity_decrease=0.001; total time=   0.0s\n",
      "[CV] END ............max_depth=12, min_impurity_decrease=0.0; total time=   0.0s\n",
      "[CV] END ............max_depth=12, min_impurity_decrease=0.0; total time=   0.0s\n",
      "[CV] END ............max_depth=12, min_impurity_decrease=0.0; total time=   0.0s\n",
      "[CV] END ............max_depth=12, min_impurity_decrease=0.0; total time=   0.0s\n",
      "[CV] END ............max_depth=12, min_impurity_decrease=0.0; total time=   0.0s\n",
      "[CV] END ...........max_depth=12, min_impurity_decrease=0.01; total time=   0.0s\n",
      "[CV] END ...........max_depth=12, min_impurity_decrease=0.01; total time=   0.0s\n",
      "[CV] END ...........max_depth=12, min_impurity_decrease=0.01; total time=   0.0s\n",
      "[CV] END ............max_depth=12, min_impurity_decrease=0.1; total time=   0.0s\n",
      "[CV] END ...........max_depth=12, min_impurity_decrease=0.01; total time=   0.0s\n",
      "[CV] END ...........max_depth=12, min_impurity_decrease=0.01; total time=   0.0s\n",
      "[CV] END ............max_depth=12, min_impurity_decrease=0.1; total time=   0.0s\n",
      "[CV] END ............max_depth=12, min_impurity_decrease=0.1; total time=   0.0s\n",
      "[CV] END ............max_depth=12, min_impurity_decrease=0.1; total time=   0.0s\n",
      "[CV] END ............max_depth=12, min_impurity_decrease=0.1; total time=   0.0s\n",
      "[CV] END ............max_depth=12, min_impurity_decrease=0.2; total time=   0.0s\n",
      "[CV] END ............max_depth=12, min_impurity_decrease=0.2; total time=   0.0s\n",
      "[CV] END ............max_depth=12, min_impurity_decrease=0.2; total time=   0.0s\n",
      "[CV] END ............max_depth=12, min_impurity_decrease=0.2; total time=   0.0s\n",
      "[CV] END ............max_depth=12, min_impurity_decrease=0.2; total time=   0.0s\n",
      "[CV] END ..........max_depth=12, min_impurity_decrease=0.001; total time=   0.0s\n",
      "[CV] END ..........max_depth=12, min_impurity_decrease=0.001; total time=   0.0s\n",
      "[CV] END ..........max_depth=12, min_impurity_decrease=0.001; total time=   0.0s\n",
      "[CV] END ..........max_depth=12, min_impurity_decrease=0.001; total time=   0.0s\n",
      "[CV] END ..........max_depth=12, min_impurity_decrease=0.001; total time=   0.0s[CV] END ............max_depth=14, min_impurity_decrease=0.0; total time=   0.0s\n",
      "\n",
      "[CV] END ...........max_depth=14, min_impurity_decrease=0.01; total time=   0.0s\n",
      "[CV] END ............max_depth=14, min_impurity_decrease=0.1; total time=   0.0s\n",
      "[CV] END ............max_depth=14, min_impurity_decrease=0.0; total time=   0.0s\n",
      "[CV] END ...........max_depth=14, min_impurity_decrease=0.01; total time=   0.0s\n",
      "[CV] END ............max_depth=14, min_impurity_decrease=0.1; total time=   0.0s\n",
      "[CV] END ............max_depth=14, min_impurity_decrease=0.1; total time=   0.0s\n",
      "[CV] END ...........max_depth=14, min_impurity_decrease=0.01; total time=   0.0s\n",
      "[CV] END ...........max_depth=14, min_impurity_decrease=0.01; total time=   0.0s\n",
      "[CV] END ............max_depth=14, min_impurity_decrease=0.1; total time=   0.0s\n",
      "[CV] END ............max_depth=14, min_impurity_decrease=0.0; total time=   0.0s\n",
      "[CV] END ............max_depth=14, min_impurity_decrease=0.0; total time=   0.0s\n",
      "[CV] END ............max_depth=14, min_impurity_decrease=0.1; total time=   0.0s\n",
      "[CV] END ...........max_depth=14, min_impurity_decrease=0.01; total time=   0.0s\n",
      "[CV] END ............max_depth=14, min_impurity_decrease=0.2; total time=   0.0s\n",
      "[CV] END ............max_depth=14, min_impurity_decrease=0.2; total time=   0.0s\n",
      "[CV] END ............max_depth=14, min_impurity_decrease=0.0; total time=   0.1s\n",
      "[CV] END ............max_depth=14, min_impurity_decrease=0.2; total time=   0.0s\n",
      "[CV] END ............max_depth=14, min_impurity_decrease=0.2; total time=   0.0s\n",
      "[CV] END ............max_depth=14, min_impurity_decrease=0.2; total time=   0.0s\n",
      "[CV] END ..........max_depth=14, min_impurity_decrease=0.001; total time=   0.0s\n",
      "[CV] END ..........max_depth=14, min_impurity_decrease=0.001; total time=   0.0s\n",
      "[CV] END ..........max_depth=14, min_impurity_decrease=0.001; total time=   0.0s\n",
      "[CV] END ..........max_depth=14, min_impurity_decrease=0.001; total time=   0.0s\n",
      "[CV] END ..........max_depth=14, min_impurity_decrease=0.001; total time=   0.0s\n",
      "[CV] END ............max_depth=16, min_impurity_decrease=0.0; total time=   0.0s\n",
      "[CV] END ...........max_depth=16, min_impurity_decrease=0.01; total time=   0.0s\n",
      "[CV] END ............max_depth=16, min_impurity_decrease=0.0; total time=   0.0s\n",
      "[CV] END ............max_depth=16, min_impurity_decrease=0.0; total time=   0.0s\n",
      "[CV] END ............max_depth=16, min_impurity_decrease=0.1; total time=   0.0s\n",
      "[CV] END ...........max_depth=16, min_impurity_decrease=0.01; total time=   0.0s\n",
      "[CV] END ............max_depth=16, min_impurity_decrease=0.1; total time=   0.0s[CV] END ...........max_depth=16, min_impurity_decrease=0.01; total time=   0.0s\n",
      "\n",
      "[CV] END ............max_depth=16, min_impurity_decrease=0.1; total time=   0.0s\n",
      "[CV] END ............max_depth=16, min_impurity_decrease=0.2; total time=   0.0s\n",
      "[CV] END ............max_depth=16, min_impurity_decrease=0.1; total time=   0.0s\n",
      "[CV] END ............max_depth=16, min_impurity_decrease=0.2; total time=   0.0s\n",
      "[CV] END ............max_depth=16, min_impurity_decrease=0.2; total time=   0.0s\n",
      "[CV] END ...........max_depth=16, min_impurity_decrease=0.01; total time=   0.0s\n",
      "[CV] END ............max_depth=16, min_impurity_decrease=0.0; total time=   0.0s\n",
      "[CV] END ............max_depth=16, min_impurity_decrease=0.1; total time=   0.0s\n",
      "[CV] END ............max_depth=16, min_impurity_decrease=0.0; total time=   0.1s\n",
      "[CV] END ............max_depth=16, min_impurity_decrease=0.2; total time=   0.0s\n",
      "[CV] END ............max_depth=16, min_impurity_decrease=0.2; total time=   0.0s\n",
      "[CV] END ...........max_depth=16, min_impurity_decrease=0.01; total time=   0.0s\n",
      "[CV] END ..........max_depth=16, min_impurity_decrease=0.001; total time=   0.0s\n",
      "[CV] END ..........max_depth=16, min_impurity_decrease=0.001; total time=   0.0s\n",
      "[CV] END ..........max_depth=16, min_impurity_decrease=0.001; total time=   0.0s\n",
      "[CV] END ............max_depth=18, min_impurity_decrease=0.0; total time=   0.0s\n",
      "[CV] END ..........max_depth=16, min_impurity_decrease=0.001; total time=   0.0s\n",
      "[CV] END ............max_depth=18, min_impurity_decrease=0.1; total time=   0.0s\n",
      "[CV] END ...........max_depth=18, min_impurity_decrease=0.01; total time=   0.0s\n",
      "[CV] END ............max_depth=18, min_impurity_decrease=0.2; total time=   0.0s\n",
      "[CV] END ............max_depth=18, min_impurity_decrease=0.1; total time=   0.0s\n",
      "[CV] END ............max_depth=18, min_impurity_decrease=0.0; total time=   0.0s\n",
      "[CV] END ..........max_depth=16, min_impurity_decrease=0.001; total time=   0.0s\n",
      "[CV] END ...........max_depth=18, min_impurity_decrease=0.01; total time=   0.0s\n",
      "[CV] END ............max_depth=18, min_impurity_decrease=0.1; total time=   0.0s\n",
      "[CV] END ............max_depth=18, min_impurity_decrease=0.2; total time=   0.0s\n",
      "[CV] END ..........max_depth=18, min_impurity_decrease=0.001; total time=   0.0s\n",
      "[CV] END ............max_depth=18, min_impurity_decrease=0.1; total time=   0.0s\n",
      "[CV] END ............max_depth=18, min_impurity_decrease=0.2; total time=   0.0s\n",
      "[CV] END ............max_depth=18, min_impurity_decrease=0.0; total time=   0.0s\n",
      "[CV] END ...........max_depth=18, min_impurity_decrease=0.01; total time=   0.0s\n",
      "[CV] END ............max_depth=18, min_impurity_decrease=0.2; total time=   0.0s\n",
      "[CV] END ............max_depth=18, min_impurity_decrease=0.1; total time=   0.0s\n",
      "[CV] END ..........max_depth=18, min_impurity_decrease=0.001; total time=   0.0s\n",
      "[CV] END ............max_depth=18, min_impurity_decrease=0.2; total time=   0.0s\n",
      "[CV] END ...........max_depth=18, min_impurity_decrease=0.01; total time=   0.0s\n",
      "[CV] END ..........max_depth=18, min_impurity_decrease=0.001; total time=   0.0s\n",
      "[CV] END ..........max_depth=18, min_impurity_decrease=0.001; total time=   0.0s\n",
      "[CV] END ............max_depth=18, min_impurity_decrease=0.0; total time=   0.0s\n",
      "[CV] END ...........max_depth=18, min_impurity_decrease=0.01; total time=   0.0s\n",
      "[CV] END ............max_depth=20, min_impurity_decrease=0.0; total time=   0.0s\n",
      "[CV] END ...........max_depth=20, min_impurity_decrease=0.01; total time=   0.0s\n",
      "[CV] END ..........max_depth=18, min_impurity_decrease=0.001; total time=   0.0s\n",
      "[CV] END ............max_depth=20, min_impurity_decrease=0.1; total time=   0.0s\n",
      "[CV] END ............max_depth=20, min_impurity_decrease=0.0; total time=   0.0s\n",
      "[CV] END ...........max_depth=20, min_impurity_decrease=0.01; total time=   0.0s\n",
      "[CV] END ............max_depth=20, min_impurity_decrease=0.1; total time=   0.0s\n",
      "[CV] END ............max_depth=18, min_impurity_decrease=0.0; total time=   0.0s\n",
      "[CV] END ............max_depth=20, min_impurity_decrease=0.2; total time=   0.0s\n",
      "[CV] END ............max_depth=20, min_impurity_decrease=0.1; total time=   0.0s\n",
      "[CV] END ............max_depth=20, min_impurity_decrease=0.0; total time=   0.0s\n",
      "[CV] END ...........max_depth=20, min_impurity_decrease=0.01; total time=   0.0s\n",
      "[CV] END ............max_depth=20, min_impurity_decrease=0.2; total time=   0.0s\n",
      "[CV] END ............max_depth=20, min_impurity_decrease=0.2; total time=   0.0s\n",
      "[CV] END ............max_depth=20, min_impurity_decrease=0.1; total time=   0.0s\n",
      "[CV] END ............max_depth=20, min_impurity_decrease=0.1; total time=   0.0s\n",
      "[CV] END ...........max_depth=20, min_impurity_decrease=0.01; total time=   0.0s\n",
      "[CV] END ............max_depth=20, min_impurity_decrease=0.0; total time=   0.0s\n",
      "[CV] END ............max_depth=20, min_impurity_decrease=0.2; total time=   0.0s\n",
      "[CV] END ..........max_depth=20, min_impurity_decrease=0.001; total time=   0.0s\n",
      "[CV] END ............max_depth=22, min_impurity_decrease=0.1; total time=   0.0s\n",
      "[CV] END ............max_depth=20, min_impurity_decrease=0.2; total time=   0.0s\n",
      "[CV] END ...........max_depth=20, min_impurity_decrease=0.01; total time=   0.0s\n",
      "[CV] END ............max_depth=22, min_impurity_decrease=0.1; total time=   0.0s\n",
      "[CV] END ............max_depth=22, min_impurity_decrease=0.0; total time=   0.0s\n",
      "[CV] END ..........max_depth=20, min_impurity_decrease=0.001; total time=   0.0s\n",
      "[CV] END ............max_depth=22, min_impurity_decrease=0.2; total time=   0.0s\n",
      "[CV] END ............max_depth=22, min_impurity_decrease=0.1; total time=   0.0s\n",
      "[CV] END ............max_depth=20, min_impurity_decrease=0.0; total time=   0.0s\n",
      "[CV] END ............max_depth=22, min_impurity_decrease=0.1; total time=   0.0s\n",
      "[CV] END ............max_depth=22, min_impurity_decrease=0.2; total time=   0.0s\n",
      "[CV] END ..........max_depth=20, min_impurity_decrease=0.001; total time=   0.0s\n",
      "[CV] END ............max_depth=22, min_impurity_decrease=0.1; total time=   0.0s\n",
      "[CV] END ............max_depth=22, min_impurity_decrease=0.2; total time=   0.0s\n",
      "[CV] END ............max_depth=22, min_impurity_decrease=0.0; total time=   0.0s\n",
      "[CV] END ...........max_depth=24, min_impurity_decrease=0.01; total time=   0.0s\n",
      "[CV] END ..........max_depth=22, min_impurity_decrease=0.001; total time=   0.0s\n",
      "[CV] END ..........max_depth=20, min_impurity_decrease=0.001; total time=   0.0s\n",
      "[CV] END ............max_depth=24, min_impurity_decrease=0.2; total time=   0.0s\n",
      "[CV] END ............max_depth=22, min_impurity_decrease=0.2; total time=   0.0s\n",
      "[CV] END ............max_depth=24, min_impurity_decrease=0.1; total time=   0.0s\n",
      "[CV] END ............max_depth=24, min_impurity_decrease=0.0; total time=   0.0s\n",
      "[CV] END ............max_depth=24, min_impurity_decrease=0.2; total time=   0.0s\n",
      "[CV] END ............max_depth=22, min_impurity_decrease=0.2; total time=   0.0s\n",
      "[CV] END ..........max_depth=22, min_impurity_decrease=0.001; total time=   0.0s\n",
      "[CV] END ..........max_depth=20, min_impurity_decrease=0.001; total time=   0.0s\n",
      "[CV] END ............max_depth=24, min_impurity_decrease=0.1; total time=   0.0s\n",
      "[CV] END ............max_depth=24, min_impurity_decrease=0.2; total time=   0.0s\n",
      "[CV] END ............max_depth=24, min_impurity_decrease=0.1; total time=   0.0s\n",
      "[CV] END ............max_depth=22, min_impurity_decrease=0.0; total time=   0.0s\n",
      "[CV] END ..........max_depth=22, min_impurity_decrease=0.001; total time=   0.0s\n",
      "[CV] END ............max_depth=24, min_impurity_decrease=0.0; total time=   0.1s\n",
      "[CV] END ...........max_depth=22, min_impurity_decrease=0.01; total time=   0.0s\n",
      "[CV] END ..........max_depth=24, min_impurity_decrease=0.001; total time=   0.0s\n",
      "[CV] END ............max_depth=24, min_impurity_decrease=0.1; total time=   0.0s\n",
      "[CV] END ..........max_depth=22, min_impurity_decrease=0.001; total time=   0.0s\n",
      "[CV] END ............max_depth=24, min_impurity_decrease=0.1; total time=   0.0s[CV] END ............max_depth=26, min_impurity_decrease=0.0; total time=   0.1s\n",
      "[CV] END ...........max_depth=26, min_impurity_decrease=0.01; total time=   0.0s\n",
      "[CV] END ...........max_depth=22, min_impurity_decrease=0.01; total time=   0.0s\n",
      "[CV] END ..........max_depth=24, min_impurity_decrease=0.001; total time=   0.0s\n",
      "\n",
      "[CV] END ..........max_depth=22, min_impurity_decrease=0.001; total time=   0.0s\n",
      "[CV] END ...........max_depth=22, min_impurity_decrease=0.01; total time=   0.0s\n",
      "[CV] END ............max_depth=24, min_impurity_decrease=0.2; total time=   0.0s\n",
      "[CV] END ...........max_depth=26, min_impurity_decrease=0.01; total time=   0.0s\n",
      "[CV] END ..........max_depth=24, min_impurity_decrease=0.001; total time=   0.0s\n",
      "[CV] END ............max_depth=22, min_impurity_decrease=0.0; total time=   0.1s\n",
      "[CV] END ............max_depth=26, min_impurity_decrease=0.1; total time=   0.0s\n",
      "[CV] END ............max_depth=24, min_impurity_decrease=0.2; total time=   0.0s\n",
      "[CV] END ...........max_depth=22, min_impurity_decrease=0.01; total time=   0.0s\n",
      "[CV] END ............max_depth=24, min_impurity_decrease=0.0; total time=   0.1s\n",
      "[CV] END ..........max_depth=24, min_impurity_decrease=0.001; total time=   0.0s\n",
      "[CV] END ............max_depth=26, min_impurity_decrease=0.0; total time=   0.1s[CV] END ............max_depth=26, min_impurity_decrease=0.1; total time=   0.0s\n",
      "\n",
      "[CV] END ............max_depth=24, min_impurity_decrease=0.0; total time=   0.0s\n",
      "[CV] END ............max_depth=26, min_impurity_decrease=0.2; total time=   0.0s\n",
      "[CV] END ...........max_depth=22, min_impurity_decrease=0.01; total time=   0.0s\n",
      "[CV] END ............max_depth=26, min_impurity_decrease=0.1; total time=   0.0s\n",
      "[CV] END ............max_depth=22, min_impurity_decrease=0.0; total time=   0.0s\n",
      "[CV] END ............max_depth=26, min_impurity_decrease=0.2; total time=   0.0s\n",
      "[CV] END ............max_depth=26, min_impurity_decrease=0.1; total time=   0.0s\n",
      "[CV] END ............max_depth=26, min_impurity_decrease=0.2; total time=   0.0s\n",
      "[CV] END ..........max_depth=26, min_impurity_decrease=0.001; total time=   0.0s\n",
      "[CV] END ...........max_depth=28, min_impurity_decrease=0.01; total time=   0.0s[CV] END ..........max_depth=24, min_impurity_decrease=0.001; total time=   0.0s\n",
      "\n",
      "[CV] END ............max_depth=24, min_impurity_decrease=0.0; total time=   0.0s\n",
      "[CV] END ............max_depth=26, min_impurity_decrease=0.1; total time=   0.0s\n",
      "[CV] END ............max_depth=26, min_impurity_decrease=0.2; total time=   0.0s\n",
      "[CV] END ............max_depth=26, min_impurity_decrease=0.2; total time=   0.0s\n",
      "[CV] END ............max_depth=28, min_impurity_decrease=0.2; total time=   0.0s\n",
      "[CV] END ...........max_depth=28, min_impurity_decrease=0.01; total time=   0.0s[CV] END ...........max_depth=24, min_impurity_decrease=0.01; total time=   0.0s\n",
      "\n",
      "[CV] END ............max_depth=26, min_impurity_decrease=0.0; total time=   0.1s\n",
      "[CV] END ............max_depth=28, min_impurity_decrease=0.2; total time=   0.0s\n",
      "[CV] END ..........max_depth=28, min_impurity_decrease=0.001; total time=   0.0s\n",
      "[CV] END ...........max_depth=24, min_impurity_decrease=0.01; total time=   0.0s\n",
      "[CV] END ............max_depth=28, min_impurity_decrease=0.0; total time=   0.0s\n",
      "[CV] END ..........max_depth=26, min_impurity_decrease=0.001; total time=   0.0s\n",
      "[CV] END ...........max_depth=28, min_impurity_decrease=0.01; total time=   0.0s\n",
      "[CV] END ...........max_depth=30, min_impurity_decrease=0.01; total time=   0.0s\n",
      "[CV] END ............max_depth=28, min_impurity_decrease=0.2; total time=   0.0s\n",
      "[CV] END ..........max_depth=28, min_impurity_decrease=0.001; total time=   0.0s\n",
      "[CV] END ............max_depth=28, min_impurity_decrease=0.1; total time=   0.0s\n",
      "[CV] END ...........max_depth=24, min_impurity_decrease=0.01; total time=   0.0s\n",
      "[CV] END ...........max_depth=30, min_impurity_decrease=0.01; total time=   0.0s\n",
      "[CV] END ............max_depth=28, min_impurity_decrease=0.2; total time=   0.0s\n",
      "[CV] END ............max_depth=26, min_impurity_decrease=0.0; total time=   0.0s\n",
      "[CV] END ............max_depth=28, min_impurity_decrease=0.1; total time=   0.0s\n",
      "[CV] END ..........max_depth=26, min_impurity_decrease=0.001; total time=   0.0s\n",
      "[CV] END ...........max_depth=24, min_impurity_decrease=0.01; total time=   0.0s[CV] END ............max_depth=28, min_impurity_decrease=0.0; total time=   0.0s\n",
      "[CV] END ............max_depth=28, min_impurity_decrease=0.2; total time=   0.0s\n",
      "[CV] END ............max_depth=28, min_impurity_decrease=0.1; total time=   0.0s\n",
      "[CV] END ...........max_depth=30, min_impurity_decrease=0.01; total time=   0.0s\n",
      "\n",
      "[CV] END ............max_depth=28, min_impurity_decrease=0.1; total time=   0.0s\n",
      "[CV] END ...........max_depth=30, min_impurity_decrease=0.01; total time=   0.0s\n",
      "[CV] END ..........max_depth=26, min_impurity_decrease=0.001; total time=   0.0s\n",
      "[CV] END ............max_depth=30, min_impurity_decrease=0.1; total time=   0.0s\n",
      "[CV] END ............max_depth=26, min_impurity_decrease=0.0; total time=   0.0s\n",
      "[CV] END ............max_depth=28, min_impurity_decrease=0.1; total time=   0.0s\n",
      "[CV] END ............max_depth=30, min_impurity_decrease=0.0; total time=   0.1s\n",
      "[CV] END ..........max_depth=28, min_impurity_decrease=0.001; total time=   0.0s\n",
      "[CV] END ............max_depth=30, min_impurity_decrease=0.1; total time=   0.0s\n",
      "[CV] END ............max_depth=30, min_impurity_decrease=0.2; total time=   0.0s\n",
      "[CV] END ............max_depth=28, min_impurity_decrease=0.0; total time=   0.0s\n",
      "[CV] END ...........max_depth=26, min_impurity_decrease=0.01; total time=   0.0s\n",
      "[CV] END ............max_depth=30, min_impurity_decrease=0.1; total time=   0.0s\n",
      "[CV] END ............max_depth=30, min_impurity_decrease=0.2; total time=   0.0s\n",
      "[CV] END ..........max_depth=26, min_impurity_decrease=0.001; total time=   0.0s\n",
      "[CV] END ..........max_depth=28, min_impurity_decrease=0.001; total time=   0.0s\n",
      "[CV] END ............max_depth=30, min_impurity_decrease=0.2; total time=   0.0s\n",
      "[CV] END ............max_depth=30, min_impurity_decrease=0.1; total time=   0.0s\n",
      "[CV] END ...........max_depth=26, min_impurity_decrease=0.01; total time=   0.0s\n",
      "[CV] END ............max_depth=30, min_impurity_decrease=0.2; total time=   0.0s\n",
      "[CV] END ..........max_depth=30, min_impurity_decrease=0.001; total time=   0.0s\n",
      "[CV] END ............max_depth=30, min_impurity_decrease=0.1; total time=   0.0s\n",
      "[CV] END ............max_depth=30, min_impurity_decrease=0.2; total time=   0.0s\n",
      "[CV] END ..........max_depth=28, min_impurity_decrease=0.001; total time=   0.0s\n",
      "[CV] END ...........max_depth=26, min_impurity_decrease=0.01; total time=   0.0s\n",
      "[CV] END ............max_depth=28, min_impurity_decrease=0.0; total time=   0.0s\n",
      "[CV] END ..........max_depth=30, min_impurity_decrease=0.001; total time=   0.0s\n",
      "[CV] END ............max_depth=30, min_impurity_decrease=0.0; total time=   0.1s\n",
      "[CV] END ..........max_depth=30, min_impurity_decrease=0.001; total time=   0.0s\n",
      "[CV] END ..........max_depth=30, min_impurity_decrease=0.001; total time=   0.0s\n",
      "[CV] END ...........max_depth=32, min_impurity_decrease=0.01; total time=   0.0s\n",
      "[CV] END ..........max_depth=30, min_impurity_decrease=0.001; total time=   0.0s\n",
      "[CV] END ............max_depth=32, min_impurity_decrease=0.1; total time=   0.0s\n",
      "[CV] END ...........max_depth=32, min_impurity_decrease=0.01; total time=   0.0s\n",
      "[CV] END ............max_depth=28, min_impurity_decrease=0.0; total time=   0.1s\n",
      "[CV] END ..........max_depth=32, min_impurity_decrease=0.001; total time=   0.0s\n",
      "[CV] END ............max_depth=30, min_impurity_decrease=0.0; total time=   0.1s[CV] END ...........max_depth=28, min_impurity_decrease=0.01; total time=   0.0s\n",
      "\n",
      "[CV] END ...........max_depth=32, min_impurity_decrease=0.01; total time=   0.0s\n",
      "[CV] END ............max_depth=32, min_impurity_decrease=0.0; total time=   0.1s\n",
      "[CV] END ............max_depth=32, min_impurity_decrease=0.1; total time=   0.0s\n",
      "[CV] END ...........max_depth=28, min_impurity_decrease=0.01; total time=   0.0s\n",
      "[CV] END ............max_depth=34, min_impurity_decrease=0.1; total time=   0.0s\n",
      "[CV] END ..........max_depth=32, min_impurity_decrease=0.001; total time=   0.0s\n",
      "[CV] END ............max_depth=34, min_impurity_decrease=0.0; total time=   0.0s\n",
      "[CV] END ............max_depth=32, min_impurity_decrease=0.2; total time=   0.0s\n",
      "[CV] END ............max_depth=34, min_impurity_decrease=0.1; total time=   0.0s\n",
      "[CV] END ...........max_depth=34, min_impurity_decrease=0.01; total time=   0.0s\n",
      "[CV] END ............max_depth=34, min_impurity_decrease=0.1; total time=   0.0s\n",
      "[CV] END ..........max_depth=32, min_impurity_decrease=0.001; total time=   0.0s\n",
      "[CV] END ............max_depth=32, min_impurity_decrease=0.2; total time=   0.0s\n",
      "[CV] END ............max_depth=32, min_impurity_decrease=0.0; total time=   0.1s\n",
      "[CV] END ............max_depth=30, min_impurity_decrease=0.0; total time=   0.1s\n",
      "[CV] END ...........max_depth=32, min_impurity_decrease=0.01; total time=   0.1s\n",
      "[CV] END ............max_depth=34, min_impurity_decrease=0.2; total time=   0.0s\n",
      "[CV] END ..........max_depth=34, min_impurity_decrease=0.001; total time=   0.0s\n",
      "[CV] END ...........max_depth=34, min_impurity_decrease=0.01; total time=   0.0s\n",
      "[CV] END ............max_depth=34, min_impurity_decrease=0.2; total time=   0.0s\n",
      "[CV] END ............max_depth=32, min_impurity_decrease=0.2; total time=   0.0s\n",
      "[CV] END ...........max_depth=32, min_impurity_decrease=0.01; total time=   0.0s\n",
      "[CV] END ..........max_depth=32, min_impurity_decrease=0.001; total time=   0.0s\n",
      "[CV] END ..........max_depth=34, min_impurity_decrease=0.001; total time=   0.0s\n",
      "[CV] END ............max_depth=34, min_impurity_decrease=0.2; total time=   0.0s\n",
      "[CV] END ............max_depth=32, min_impurity_decrease=0.1; total time=   0.0s\n",
      "[CV] END ...........max_depth=34, min_impurity_decrease=0.01; total time=   0.0s\n",
      "[CV] END ............max_depth=32, min_impurity_decrease=0.0; total time=   0.0s\n",
      "[CV] END ............max_depth=30, min_impurity_decrease=0.0; total time=   0.1s\n",
      "[CV] END ............max_depth=32, min_impurity_decrease=0.2; total time=   0.0s\n",
      "[CV] END ............max_depth=34, min_impurity_decrease=0.2; total time=   0.0s\n",
      "[CV] END ..........max_depth=34, min_impurity_decrease=0.001; total time=   0.0s\n",
      "[CV] END ...........max_depth=34, min_impurity_decrease=0.01; total time=   0.0s\n",
      "[CV] END ............max_depth=32, min_impurity_decrease=0.1; total time=   0.0s\n",
      "[CV] END ............max_depth=32, min_impurity_decrease=0.2; total time=   0.0s\n",
      "[CV] END ............max_depth=34, min_impurity_decrease=0.2; total time=   0.0s\n",
      "[CV] END ............max_depth=32, min_impurity_decrease=0.1; total time=   0.0s[CV] END ..........max_depth=34, min_impurity_decrease=0.001; total time=   0.0s\n",
      "[CV] END ...........max_depth=30, min_impurity_decrease=0.01; total time=   0.0s\n",
      "[CV] END ...........max_depth=34, min_impurity_decrease=0.01; total time=   0.0s\n",
      "\n",
      "[CV] END ............max_depth=34, min_impurity_decrease=0.0; total time=   0.0s\n",
      "[CV] END ............max_depth=34, min_impurity_decrease=0.1; total time=   0.0s\n",
      "[CV] END ............max_depth=32, min_impurity_decrease=0.0; total time=   0.1s\n",
      "[CV] END ..........max_depth=34, min_impurity_decrease=0.001; total time=   0.0s\n",
      "[CV] END ............max_depth=34, min_impurity_decrease=0.1; total time=   0.0s\n",
      "[CV] END ..........max_depth=32, min_impurity_decrease=0.001; total time=   0.0s\n",
      "[CV] END ............max_depth=36, min_impurity_decrease=0.1; total time=   0.0s\n",
      "[CV] END ............max_depth=36, min_impurity_decrease=0.1; total time=   0.0s\n",
      "[CV] END ............max_depth=36, min_impurity_decrease=0.1; total time=   0.0s\n",
      "[CV] END ............max_depth=36, min_impurity_decrease=0.2; total time=   0.0s[CV] END ............max_depth=32, min_impurity_decrease=0.0; total time=   0.1s\n",
      "\n",
      "[CV] END ............max_depth=36, min_impurity_decrease=0.0; total time=   0.1s\n",
      "[CV] END ............max_depth=36, min_impurity_decrease=0.0; total time=   0.1s\n",
      "[CV] END ............max_depth=34, min_impurity_decrease=0.0; total time=   0.1s\n",
      "[CV] END ............max_depth=36, min_impurity_decrease=0.1; total time=   0.0s\n",
      "[CV] END ..........max_depth=36, min_impurity_decrease=0.001; total time=   0.0s\n",
      "[CV] END ............max_depth=38, min_impurity_decrease=0.1; total time=   0.0s\n",
      "[CV] END ............max_depth=36, min_impurity_decrease=0.2; total time=   0.0s\n",
      "[CV] END ............max_depth=38, min_impurity_decrease=0.1; total time=   0.0s\n",
      "[CV] END ..........max_depth=36, min_impurity_decrease=0.001; total time=   0.0s\n",
      "[CV] END ............max_depth=36, min_impurity_decrease=0.2; total time=   0.0s\n",
      "[CV] END ............max_depth=36, min_impurity_decrease=0.0; total time=   0.1s\n",
      "[CV] END ............max_depth=38, min_impurity_decrease=0.2; total time=   0.0s\n",
      "[CV] END ............max_depth=36, min_impurity_decrease=0.2; total time=   0.0s\n",
      "[CV] END ............max_depth=36, min_impurity_decrease=0.0; total time=   0.1s\n",
      "[CV] END ............max_depth=38, min_impurity_decrease=0.2; total time=   0.0s[CV] END ............max_depth=38, min_impurity_decrease=0.1; total time=   0.0s\n",
      "\n",
      "[CV] END ..........max_depth=36, min_impurity_decrease=0.001; total time=   0.0s\n",
      "[CV] END ............max_depth=36, min_impurity_decrease=0.2; total time=   0.0s\n",
      "[CV] END ..........max_depth=36, min_impurity_decrease=0.001; total time=   0.0s\n",
      "[CV] END ............max_depth=34, min_impurity_decrease=0.0; total time=   0.1s\n",
      "[CV] END ...........max_depth=36, min_impurity_decrease=0.01; total time=   0.0s\n",
      "[CV] END ..........max_depth=38, min_impurity_decrease=0.001; total time=   0.0s\n",
      "[CV] END ............max_depth=36, min_impurity_decrease=0.0; total time=   0.0s\n",
      "[CV] END ............max_depth=38, min_impurity_decrease=0.1; total time=   0.0s\n",
      "[CV] END ..........max_depth=36, min_impurity_decrease=0.001; total time=   0.0s\n",
      "[CV] END ............max_depth=38, min_impurity_decrease=0.1; total time=   0.0s\n",
      "[CV] END ...........max_depth=36, min_impurity_decrease=0.01; total time=   0.0s\n",
      "[CV] END ..........max_depth=38, min_impurity_decrease=0.001; total time=   0.0s\n",
      "[CV] END ............max_depth=38, min_impurity_decrease=0.0; total time=   0.1s\n",
      "[CV] END ............max_depth=40, min_impurity_decrease=0.0; total time=   0.0s\n",
      "[CV] END ...........max_depth=40, min_impurity_decrease=0.01; total time=   0.0s\n",
      "[CV] END ...........max_depth=36, min_impurity_decrease=0.01; total time=   0.0s\n",
      "[CV] END ............max_depth=40, min_impurity_decrease=0.1; total time=   0.0s\n",
      "[CV] END ..........max_depth=38, min_impurity_decrease=0.001; total time=   0.0s\n",
      "[CV] END ............max_depth=38, min_impurity_decrease=0.2; total time=   0.0s\n",
      "[CV] END ............max_depth=38, min_impurity_decrease=0.0; total time=   0.0s[CV] END ............max_depth=34, min_impurity_decrease=0.0; total time=   0.1s\n",
      "\n",
      "[CV] END ............max_depth=40, min_impurity_decrease=0.1; total time=   0.0s\n",
      "[CV] END ............max_depth=38, min_impurity_decrease=0.2; total time=   0.0s\n",
      "[CV] END ..........max_depth=38, min_impurity_decrease=0.001; total time=   0.0s\n",
      "[CV] END ............max_depth=40, min_impurity_decrease=0.1; total time=   0.0s[CV] END ............max_depth=40, min_impurity_decrease=0.0; total time=   0.0s\n",
      "[CV] END ............max_depth=40, min_impurity_decrease=0.2; total time=   0.0s\n",
      "\n",
      "[CV] END ...........max_depth=36, min_impurity_decrease=0.01; total time=   0.0s\n",
      "[CV] END ..........max_depth=38, min_impurity_decrease=0.001; total time=   0.0s\n",
      "[CV] END ............max_depth=38, min_impurity_decrease=0.2; total time=   0.0s\n",
      "[CV] END ............max_depth=40, min_impurity_decrease=0.2; total time=   0.0s\n",
      "[CV] END ............max_depth=40, min_impurity_decrease=0.1; total time=   0.0s\n",
      "[CV] END ............max_depth=38, min_impurity_decrease=0.0; total time=   0.0s\n",
      "[CV] END ............max_depth=40, min_impurity_decrease=0.2; total time=   0.0s\n",
      "[CV] END ............max_depth=38, min_impurity_decrease=0.0; total time=   0.1s\n",
      "[CV] END ...........max_depth=36, min_impurity_decrease=0.01; total time=   0.0s\n",
      "[CV] END ............max_depth=40, min_impurity_decrease=0.1; total time=   0.0s\n",
      "[CV] END ............max_depth=36, min_impurity_decrease=0.1; total time=   0.0s\n",
      "[CV] END ............max_depth=40, min_impurity_decrease=0.2; total time=   0.0s[CV] END ..........max_depth=40, min_impurity_decrease=0.001; total time=   0.0s\n",
      "\n",
      "[CV] END ............max_depth=40, min_impurity_decrease=0.0; total time=   0.1s\n",
      "[CV] END ............max_depth=40, min_impurity_decrease=0.2; total time=   0.0s\n",
      "[CV] END ............max_depth=40, min_impurity_decrease=0.0; total time=   0.1s\n",
      "[CV] END ..........max_depth=40, min_impurity_decrease=0.001; total time=   0.0s\n",
      "[CV] END ...........max_depth=42, min_impurity_decrease=0.01; total time=   0.0s\n",
      "[CV] END ............max_depth=42, min_impurity_decrease=0.0; total time=   0.0s\n",
      "[CV] END ............max_depth=38, min_impurity_decrease=0.0; total time=   0.0s\n",
      "[CV] END ............max_depth=42, min_impurity_decrease=0.2; total time=   0.0s\n",
      "[CV] END ..........max_depth=40, min_impurity_decrease=0.001; total time=   0.0s\n",
      "[CV] END ...........max_depth=42, min_impurity_decrease=0.01; total time=   0.0s\n",
      "[CV] END ...........max_depth=38, min_impurity_decrease=0.01; total time=   0.0s\n",
      "[CV] END ............max_depth=42, min_impurity_decrease=0.2; total time=   0.0s\n",
      "[CV] END ............max_depth=42, min_impurity_decrease=0.1; total time=   0.0s\n",
      "[CV] END ............max_depth=42, min_impurity_decrease=0.2; total time=   0.0s\n",
      "[CV] END ............max_depth=40, min_impurity_decrease=0.0; total time=   0.0s\n",
      "[CV] END ..........max_depth=40, min_impurity_decrease=0.001; total time=   0.0s\n",
      "[CV] END ............max_depth=42, min_impurity_decrease=0.0; total time=   0.0s\n",
      "[CV] END ..........max_depth=42, min_impurity_decrease=0.001; total time=   0.0s\n",
      "[CV] END ...........max_depth=44, min_impurity_decrease=0.01; total time=   0.0s\n",
      "[CV] END ...........max_depth=38, min_impurity_decrease=0.01; total time=   0.0s\n",
      "[CV] END ............max_depth=42, min_impurity_decrease=0.1; total time=   0.0s\n",
      "[CV] END ............max_depth=42, min_impurity_decrease=0.2; total time=   0.0s\n",
      "[CV] END ...........max_depth=40, min_impurity_decrease=0.01; total time=   0.0s\n",
      "[CV] END ..........max_depth=40, min_impurity_decrease=0.001; total time=   0.0s\n",
      "[CV] END ............max_depth=42, min_impurity_decrease=0.1; total time=   0.0s\n",
      "[CV] END ...........max_depth=38, min_impurity_decrease=0.01; total time=   0.0s\n",
      "[CV] END ...........max_depth=44, min_impurity_decrease=0.01; total time=   0.0s\n",
      "[CV] END ...........max_depth=40, min_impurity_decrease=0.01; total time=   0.0s\n",
      "[CV] END ..........max_depth=42, min_impurity_decrease=0.001; total time=   0.0s\n",
      "[CV] END ............max_depth=44, min_impurity_decrease=0.2; total time=   0.0s\n",
      "[CV] END ............max_depth=42, min_impurity_decrease=0.1; total time=   0.0s\n",
      "[CV] END ...........max_depth=44, min_impurity_decrease=0.01; total time=   0.0s\n",
      "[CV] END ............max_depth=42, min_impurity_decrease=0.0; total time=   0.0s\n",
      "[CV] END ............max_depth=44, min_impurity_decrease=0.2; total time=   0.0s\n",
      "[CV] END ............max_depth=42, min_impurity_decrease=0.1; total time=   0.0s\n",
      "[CV] END ...........max_depth=40, min_impurity_decrease=0.01; total time=   0.0s\n",
      "[CV] END ..........max_depth=42, min_impurity_decrease=0.001; total time=   0.0s\n",
      "[CV] END ............max_depth=44, min_impurity_decrease=0.1; total time=   0.0s\n",
      "[CV] END ............max_depth=44, min_impurity_decrease=0.2; total time=   0.0s\n",
      "[CV] END ............max_depth=42, min_impurity_decrease=0.2; total time=   0.0s\n",
      "[CV] END ............max_depth=44, min_impurity_decrease=0.1; total time=   0.0s\n",
      "[CV] END ...........max_depth=40, min_impurity_decrease=0.01; total time=   0.0s\n",
      "[CV] END ...........max_depth=38, min_impurity_decrease=0.01; total time=   0.1s\n",
      "[CV] END ..........max_depth=42, min_impurity_decrease=0.001; total time=   0.0s\n",
      "[CV] END ............max_depth=44, min_impurity_decrease=0.0; total time=   0.1s\n",
      "[CV] END ............max_depth=44, min_impurity_decrease=0.1; total time=   0.0s\n",
      "[CV] END ............max_depth=42, min_impurity_decrease=0.0; total time=   0.0s\n",
      "[CV] END ............max_depth=44, min_impurity_decrease=0.2; total time=   0.0s\n",
      "[CV] END ............max_depth=44, min_impurity_decrease=0.1; total time=   0.0s\n",
      "[CV] END ..........max_depth=42, min_impurity_decrease=0.001; total time=   0.0s\n",
      "[CV] END ..........max_depth=44, min_impurity_decrease=0.001; total time=   0.0s\n",
      "[CV] END ...........max_depth=38, min_impurity_decrease=0.01; total time=   0.0s\n",
      "[CV] END ............max_depth=44, min_impurity_decrease=0.2; total time=   0.0s\n",
      "[CV] END ............max_depth=44, min_impurity_decrease=0.1; total time=   0.0s\n",
      "[CV] END ...........max_depth=46, min_impurity_decrease=0.01; total time=   0.0s\n",
      "[CV] END ............max_depth=46, min_impurity_decrease=0.1; total time=   0.0s\n",
      "[CV] END ..........max_depth=44, min_impurity_decrease=0.001; total time=   0.0s\n",
      "[CV] END ............max_depth=46, min_impurity_decrease=0.2; total time=   0.0s\n",
      "[CV] END ..........max_depth=44, min_impurity_decrease=0.001; total time=   0.0s[CV] END ............max_depth=42, min_impurity_decrease=0.0; total time=   0.0s\n",
      "\n",
      "[CV] END ............max_depth=46, min_impurity_decrease=0.2; total time=   0.0s\n",
      "[CV] END ...........max_depth=46, min_impurity_decrease=0.01; total time=   0.0s\n",
      "[CV] END ............max_depth=46, min_impurity_decrease=0.2; total time=   0.0s\n",
      "[CV] END ............max_depth=44, min_impurity_decrease=0.0; total time=   0.1s\n",
      "[CV] END ...........max_depth=42, min_impurity_decrease=0.01; total time=   0.0s\n",
      "[CV] END ............max_depth=46, min_impurity_decrease=0.2; total time=   0.0s[CV] END ...........max_depth=46, min_impurity_decrease=0.01; total time=   0.0s\n",
      "\n",
      "[CV] END ..........max_depth=44, min_impurity_decrease=0.001; total time=   0.0s\n",
      "[CV] END ............max_depth=46, min_impurity_decrease=0.2; total time=   0.0s\n",
      "[CV] END ...........max_depth=42, min_impurity_decrease=0.01; total time=   0.0s\n",
      "[CV] END ............max_depth=46, min_impurity_decrease=0.0; total time=   0.0s\n",
      "[CV] END ..........max_depth=44, min_impurity_decrease=0.001; total time=   0.0s\n",
      "[CV] END ...........max_depth=46, min_impurity_decrease=0.01; total time=   0.0s\n",
      "[CV] END ............max_depth=44, min_impurity_decrease=0.0; total time=   0.0s\n",
      "[CV] END ..........max_depth=46, min_impurity_decrease=0.001; total time=   0.0s\n",
      "[CV] END ............max_depth=46, min_impurity_decrease=0.1; total time=   0.0s\n",
      "[CV] END ...........max_depth=42, min_impurity_decrease=0.01; total time=   0.0s\n",
      "[CV] END ............max_depth=46, min_impurity_decrease=0.1; total time=   0.0s\n",
      "[CV] END ..........max_depth=46, min_impurity_decrease=0.001; total time=   0.0s\n",
      "[CV] END ..........max_depth=46, min_impurity_decrease=0.001; total time=   0.0s\n",
      "[CV] END ..........max_depth=46, min_impurity_decrease=0.001; total time=   0.0s[CV] END ............max_depth=46, min_impurity_decrease=0.1; total time=   0.0s\n",
      "[CV] END ..........max_depth=46, min_impurity_decrease=0.001; total time=   0.0s\n",
      "\n",
      "[CV] END ............max_depth=46, min_impurity_decrease=0.0; total time=   0.0s\n",
      "[CV] END ............max_depth=46, min_impurity_decrease=0.1; total time=   0.0s\n",
      "[CV] END ............max_depth=44, min_impurity_decrease=0.0; total time=   0.0s\n",
      "[CV] END ...........max_depth=48, min_impurity_decrease=0.01; total time=   0.0s\n",
      "[CV] END ............max_depth=48, min_impurity_decrease=0.0; total time=   0.0s\n",
      "[CV] END ............max_depth=46, min_impurity_decrease=0.0; total time=   0.0s\n",
      "[CV] END ............max_depth=48, min_impurity_decrease=0.0; total time=   0.1s\n",
      "[CV] END ............max_depth=48, min_impurity_decrease=0.0; total time=   0.0s\n",
      "[CV] END ............max_depth=44, min_impurity_decrease=0.0; total time=   0.0s\n",
      "[CV] END ...........max_depth=48, min_impurity_decrease=0.01; total time=   0.0s\n",
      "[CV] END ...........max_depth=48, min_impurity_decrease=0.01; total time=   0.0s\n",
      "[CV] END ............max_depth=48, min_impurity_decrease=0.0; total time=   0.1s\n",
      "[CV] END ............max_depth=48, min_impurity_decrease=0.0; total time=   0.0s\n",
      "[CV] END ...........max_depth=48, min_impurity_decrease=0.01; total time=   0.0s\n",
      "[CV] END ............max_depth=48, min_impurity_decrease=0.1; total time=   0.0s\n",
      "[CV] END ...........max_depth=48, min_impurity_decrease=0.01; total time=   0.0s\n",
      "[CV] END ...........max_depth=44, min_impurity_decrease=0.01; total time=   0.0s\n",
      "[CV] END ............max_depth=48, min_impurity_decrease=0.1; total time=   0.0s\n",
      "[CV] END ............max_depth=48, min_impurity_decrease=0.1; total time=   0.0s\n",
      "[CV] END ............max_depth=46, min_impurity_decrease=0.0; total time=   0.0s\n",
      "[CV] END ............max_depth=48, min_impurity_decrease=0.1; total time=   0.0s[CV] END ...........max_depth=44, min_impurity_decrease=0.01; total time=   0.0s\n",
      "[CV] END ............max_depth=48, min_impurity_decrease=0.1; total time=   0.0s\n",
      "\n",
      "[CV] END ............max_depth=48, min_impurity_decrease=0.2; total time=   0.0s\n",
      "[CV] END ............max_depth=48, min_impurity_decrease=0.2; total time=   0.0s\n",
      "[CV] END ............max_depth=48, min_impurity_decrease=0.2; total time=   0.0s\n",
      "[CV] END ............max_depth=48, min_impurity_decrease=0.2; total time=   0.0s\n",
      "[CV] END ............max_depth=48, min_impurity_decrease=0.2; total time=   0.0s\n",
      "[CV] END ..........max_depth=48, min_impurity_decrease=0.001; total time=   0.0s\n",
      "[CV] END ..........max_depth=48, min_impurity_decrease=0.001; total time=   0.0s\n",
      "[CV] END ............max_depth=46, min_impurity_decrease=0.0; total time=   0.0s\n",
      "[CV] END ..........max_depth=48, min_impurity_decrease=0.001; total time=   0.0s\n",
      "[CV] END ..........max_depth=48, min_impurity_decrease=0.001; total time=   0.0s\n",
      "[CV] END ..........max_depth=48, min_impurity_decrease=0.001; total time=   0.0s\n",
      "[CV] END ...........max_depth=46, min_impurity_decrease=0.01; total time=   0.0s\n"
     ]
    },
    {
     "output_type": "execute_result",
     "data": {
      "text/plain": [
       "RandomizedSearchCV(cv=5,\n",
       "                   estimator=DecisionTreeClassifier(max_features='auto',\n",
       "                                                    random_state=42),\n",
       "                   n_iter=100, n_jobs=-1,\n",
       "                   param_distributions={'max_depth': range(10, 50, 2),\n",
       "                                        'min_impurity_decrease': [0.0, 0.01,\n",
       "                                                                  0.1, 0.2,\n",
       "                                                                  0.001]},\n",
       "                   random_state=42, verbose=2)"
      ]
     },
     "metadata": {},
     "execution_count": 388
    }
   ],
   "metadata": {}
  },
  {
   "cell_type": "code",
   "execution_count": 389,
   "source": [
    "clf_dt.best_estimator_"
   ],
   "outputs": [
    {
     "output_type": "execute_result",
     "data": {
      "text/plain": [
       "DecisionTreeClassifier(max_depth=12, max_features='auto', random_state=42)"
      ]
     },
     "metadata": {},
     "execution_count": 389
    }
   ],
   "metadata": {}
  },
  {
   "cell_type": "code",
   "execution_count": 390,
   "source": [
    "clf_dt.cv_results_['mean_test_score']"
   ],
   "outputs": [
    {
     "output_type": "execute_result",
     "data": {
      "text/plain": [
       "array([0.84096, 0.81432, 0.75936, 0.75936, 0.8266 , 0.84408, 0.81432,\n",
       "       0.75936, 0.75936, 0.8266 , 0.83932, 0.81432, 0.75936, 0.75936,\n",
       "       0.8266 , 0.83492, 0.81432, 0.75936, 0.75936, 0.8266 , 0.82624,\n",
       "       0.81432, 0.75936, 0.75936, 0.8266 , 0.82824, 0.81432, 0.75936,\n",
       "       0.75936, 0.8266 , 0.81824, 0.81432, 0.75936, 0.75936, 0.8266 ,\n",
       "       0.81884, 0.81432, 0.75936, 0.75936, 0.8266 , 0.81444, 0.81432,\n",
       "       0.75936, 0.75936, 0.8266 , 0.81088, 0.81432, 0.75936, 0.75936,\n",
       "       0.8266 , 0.80832, 0.81432, 0.75936, 0.75936, 0.8266 , 0.80892,\n",
       "       0.81432, 0.75936, 0.75936, 0.8266 , 0.8094 , 0.81432, 0.75936,\n",
       "       0.75936, 0.8266 , 0.80864, 0.81432, 0.75936, 0.75936, 0.8266 ,\n",
       "       0.80656, 0.81432, 0.75936, 0.75936, 0.8266 , 0.80712, 0.81432,\n",
       "       0.75936, 0.75936, 0.8266 , 0.80876, 0.81432, 0.75936, 0.75936,\n",
       "       0.8266 , 0.80844, 0.81432, 0.75936, 0.75936, 0.8266 , 0.80652,\n",
       "       0.81432, 0.75936, 0.75936, 0.8266 , 0.80648, 0.81432, 0.75936,\n",
       "       0.75936, 0.8266 ])"
      ]
     },
     "metadata": {},
     "execution_count": 390
    }
   ],
   "metadata": {}
  },
  {
   "cell_type": "code",
   "execution_count": 392,
   "source": [
    "probs= clf_dt.predict_proba(testing.drop(['ID'],axis=1))\n",
    "ID=[]\n",
    "for i in range(23842):\n",
    "    ID.append(i+1)\n",
    "d={'ID':ID,\"Prediction\":probs[:,1]}                                                            \n",
    "df=pd.DataFrame(d)\n",
    "df.to_csv(\"Submission_dt.csv\",index=False)"
   ],
   "outputs": [],
   "metadata": {}
  },
  {
   "cell_type": "code",
   "execution_count": 397,
   "source": [
    "# Get Validation Curves for the Best Model\n",
    "best_model = clf_dt\n",
    "fig_name = 'output-dt.png'\n",
    "train_scores, test_scores = validation_curve(clf_dt.best_estimator_, training.drop(['income>50K'],axis=1),training['income>50K'],cv=5, param_name='max_depth',\n",
    "                                            param_range=param_grid['max_depth'], scoring='accuracy', n_jobs=-1)\n",
    "train_scores_mean = np.mean(train_scores, axis=1)\n",
    "train_scores_std = np.std(train_scores, axis=1)\n",
    "test_scores_mean = np.mean(test_scores, axis=1)\n",
    "test_scores_std = np.std(test_scores, axis=1)\n",
    "\n",
    "plt.title(\"Validation Curve for Best Model\")\n",
    "plt.xlabel('Max Depth')\n",
    "plt.ylabel(\"Score\")\n",
    "plt.ylim(0.0, 1.1)\n",
    "lw = 0.75\n",
    "plt.plot(\n",
    "    param_grid['max_depth'], train_scores_mean, label=\"Training score\", color=\"darkorange\", lw=lw\n",
    ")\n",
    "plt.fill_between(\n",
    "    param_grid['max_depth'],\n",
    "    train_scores_mean - train_scores_std,\n",
    "    train_scores_mean + train_scores_std,\n",
    "    alpha=0.2,\n",
    "    color=\"darkorange\",\n",
    "    lw=lw,\n",
    ")\n",
    "plt.plot(\n",
    "    param_grid['max_depth'], test_scores_mean, label=\"Cross-validation score\", color=\"navy\", lw=lw\n",
    ")\n",
    "plt.fill_between(\n",
    "    param_grid['max_depth'],\n",
    "    test_scores_mean - test_scores_std,\n",
    "    test_scores_mean + test_scores_std,\n",
    "    alpha=0.2,\n",
    "    color=\"navy\",\n",
    "    lw=lw,\n",
    ")\n",
    "plt.legend(loc=\"best\")\n",
    "plt.savefig(f'Figures/{fig_name}', dpi=200)\n",
    "plt.show()"
   ],
   "outputs": [
    {
     "output_type": "display_data",
     "data": {
      "text/plain": [
       "<Figure size 432x288 with 1 Axes>"
      ],
      "image/svg+xml": "<?xml version=\"1.0\" encoding=\"utf-8\" standalone=\"no\"?>\n<!DOCTYPE svg PUBLIC \"-//W3C//DTD SVG 1.1//EN\"\n  \"http://www.w3.org/Graphics/SVG/1.1/DTD/svg11.dtd\">\n<svg height=\"277.314375pt\" version=\"1.1\" viewBox=\"0 0 385.78125 277.314375\" width=\"385.78125pt\" xmlns=\"http://www.w3.org/2000/svg\" xmlns:xlink=\"http://www.w3.org/1999/xlink\">\n <metadata>\n  <rdf:RDF xmlns:cc=\"http://creativecommons.org/ns#\" xmlns:dc=\"http://purl.org/dc/elements/1.1/\" xmlns:rdf=\"http://www.w3.org/1999/02/22-rdf-syntax-ns#\">\n   <cc:Work>\n    <dc:type rdf:resource=\"http://purl.org/dc/dcmitype/StillImage\"/>\n    <dc:date>2021-12-19T14:56:05.150592</dc:date>\n    <dc:format>image/svg+xml</dc:format>\n    <dc:creator>\n     <cc:Agent>\n      <dc:title>Matplotlib v3.4.3, https://matplotlib.org/</dc:title>\n     </cc:Agent>\n    </dc:creator>\n   </cc:Work>\n  </rdf:RDF>\n </metadata>\n <defs>\n  <style type=\"text/css\">*{stroke-linecap:butt;stroke-linejoin:round;}</style>\n </defs>\n <g id=\"figure_1\">\n  <g id=\"patch_1\">\n   <path d=\"M 0 277.314375 \nL 385.78125 277.314375 \nL 385.78125 0 \nL 0 0 \nz\n\" style=\"fill:none;\"/>\n  </g>\n  <g id=\"axes_1\">\n   <g id=\"patch_2\">\n    <path d=\"M 43.78125 239.758125 \nL 378.58125 239.758125 \nL 378.58125 22.318125 \nL 43.78125 22.318125 \nz\n\" style=\"fill:#ffffff;\"/>\n   </g>\n   <g id=\"PolyCollection_1\">\n    <defs>\n     <path d=\"M 58.999432 -207.371451 \nL 58.999432 -205.02607 \nL 75.018571 -208.671074 \nL 91.037709 -212.091293 \nL 107.056848 -215.314925 \nL 123.075987 -219.019578 \nL 139.095126 -222.000368 \nL 155.114264 -225.326803 \nL 171.133403 -227.489982 \nL 187.152542 -229.506345 \nL 203.171681 -230.510194 \nL 219.190819 -232.403314 \nL 235.209958 -233.488397 \nL 251.229097 -233.983341 \nL 267.248236 -234.356089 \nL 283.267374 -234.826634 \nL 299.286513 -234.933165 \nL 315.305652 -234.985753 \nL 331.324791 -235.075158 \nL 347.343929 -235.161835 \nL 363.363068 -235.166472 \nL 363.363068 -235.228227 \nL 363.363068 -235.228227 \nL 347.343929 -235.221004 \nL 331.324791 -235.224659 \nL 315.305652 -235.211273 \nL 299.286513 -235.117584 \nL 283.267374 -235.010629 \nL 267.248236 -234.781412 \nL 251.229097 -234.482072 \nL 235.209958 -234.233767 \nL 219.190819 -232.986311 \nL 203.171681 -232.234571 \nL 187.152542 -230.621233 \nL 171.133403 -228.288795 \nL 155.114264 -226.628985 \nL 139.095126 -223.092223 \nL 123.075987 -219.881902 \nL 107.056848 -216.35964 \nL 91.037709 -213.249838 \nL 75.018571 -210.459181 \nL 58.999432 -207.371451 \nz\n\" id=\"m3f78adf68f\" style=\"stroke:#ff8c00;stroke-opacity:0.2;stroke-width:0.75;\"/>\n    </defs>\n    <g clip-path=\"url(#pff05fe0c6b)\">\n     <use style=\"fill:#ff8c00;fill-opacity:0.2;stroke:#ff8c00;stroke-opacity:0.2;stroke-width:0.75;\" x=\"0\" xlink:href=\"#m3f78adf68f\" y=\"277.314375\"/>\n    </g>\n   </g>\n   <g id=\"PolyCollection_2\">\n    <defs>\n     <path d=\"M 58.999432 -205.106223 \nL 58.999432 -202.47599 \nL 75.018571 -202.74446 \nL 91.037709 -201.71013 \nL 107.056848 -201.449 \nL 123.075987 -199.849096 \nL 139.095126 -200.578659 \nL 155.114264 -198.992323 \nL 171.133403 -198.332314 \nL 187.152542 -197.286095 \nL 203.171681 -197.335376 \nL 219.190819 -196.816016 \nL 235.209958 -196.998255 \nL 251.229097 -196.883966 \nL 267.248236 -196.149285 \nL 283.267374 -196.046496 \nL 299.286513 -196.344035 \nL 315.305652 -196.970865 \nL 331.324791 -196.190432 \nL 347.343929 -196.581948 \nL 363.363068 -196.441064 \nL 363.363068 -197.509638 \nL 363.363068 -197.509638 \nL 347.343929 -197.384568 \nL 331.324791 -198.535147 \nL 315.305652 -197.881225 \nL 299.286513 -197.859688 \nL 283.267374 -197.935834 \nL 267.248236 -198.655363 \nL 251.229097 -198.221145 \nL 235.209958 -197.917091 \nL 219.190819 -197.862122 \nL 203.171681 -198.354846 \nL 187.152542 -199.811557 \nL 171.133403 -200.504858 \nL 155.114264 -199.607641 \nL 139.095126 -201.97476 \nL 123.075987 -201.913632 \nL 107.056848 -203.745327 \nL 91.037709 -205.223717 \nL 75.018571 -206.071231 \nL 58.999432 -205.106223 \nz\n\" id=\"mf0db192e53\" style=\"stroke:#000080;stroke-opacity:0.2;stroke-width:0.75;\"/>\n    </defs>\n    <g clip-path=\"url(#pff05fe0c6b)\">\n     <use style=\"fill:#000080;fill-opacity:0.2;stroke:#000080;stroke-opacity:0.2;stroke-width:0.75;\" x=\"0\" xlink:href=\"#mf0db192e53\" y=\"277.314375\"/>\n    </g>\n   </g>\n   <g id=\"matplotlib.axis_1\">\n    <g id=\"xtick_1\">\n     <g id=\"line2d_1\">\n      <defs>\n       <path d=\"M 0 0 \nL 0 3.5 \n\" id=\"m478aa14747\" style=\"stroke:#000000;stroke-width:0.8;\"/>\n      </defs>\n      <g>\n       <use style=\"stroke:#000000;stroke-width:0.8;\" x=\"58.999432\" xlink:href=\"#m478aa14747\" y=\"239.758125\"/>\n      </g>\n     </g>\n     <g id=\"text_1\">\n      <!-- 10 -->\n      <g transform=\"translate(52.636932 254.356562)scale(0.1 -0.1)\">\n       <defs>\n        <path d=\"M 794 531 \nL 1825 531 \nL 1825 4091 \nL 703 3866 \nL 703 4441 \nL 1819 4666 \nL 2450 4666 \nL 2450 531 \nL 3481 531 \nL 3481 0 \nL 794 0 \nL 794 531 \nz\n\" id=\"DejaVuSans-31\" transform=\"scale(0.015625)\"/>\n        <path d=\"M 2034 4250 \nQ 1547 4250 1301 3770 \nQ 1056 3291 1056 2328 \nQ 1056 1369 1301 889 \nQ 1547 409 2034 409 \nQ 2525 409 2770 889 \nQ 3016 1369 3016 2328 \nQ 3016 3291 2770 3770 \nQ 2525 4250 2034 4250 \nz\nM 2034 4750 \nQ 2819 4750 3233 4129 \nQ 3647 3509 3647 2328 \nQ 3647 1150 3233 529 \nQ 2819 -91 2034 -91 \nQ 1250 -91 836 529 \nQ 422 1150 422 2328 \nQ 422 3509 836 4129 \nQ 1250 4750 2034 4750 \nz\n\" id=\"DejaVuSans-30\" transform=\"scale(0.015625)\"/>\n       </defs>\n       <use xlink:href=\"#DejaVuSans-31\"/>\n       <use x=\"63.623047\" xlink:href=\"#DejaVuSans-30\"/>\n      </g>\n     </g>\n    </g>\n    <g id=\"xtick_2\">\n     <g id=\"line2d_2\">\n      <g>\n       <use style=\"stroke:#000000;stroke-width:0.8;\" x=\"99.047279\" xlink:href=\"#m478aa14747\" y=\"239.758125\"/>\n      </g>\n     </g>\n     <g id=\"text_2\">\n      <!-- 15 -->\n      <g transform=\"translate(92.684779 254.356562)scale(0.1 -0.1)\">\n       <defs>\n        <path d=\"M 691 4666 \nL 3169 4666 \nL 3169 4134 \nL 1269 4134 \nL 1269 2991 \nQ 1406 3038 1543 3061 \nQ 1681 3084 1819 3084 \nQ 2600 3084 3056 2656 \nQ 3513 2228 3513 1497 \nQ 3513 744 3044 326 \nQ 2575 -91 1722 -91 \nQ 1428 -91 1123 -41 \nQ 819 9 494 109 \nL 494 744 \nQ 775 591 1075 516 \nQ 1375 441 1709 441 \nQ 2250 441 2565 725 \nQ 2881 1009 2881 1497 \nQ 2881 1984 2565 2268 \nQ 2250 2553 1709 2553 \nQ 1456 2553 1204 2497 \nQ 953 2441 691 2322 \nL 691 4666 \nz\n\" id=\"DejaVuSans-35\" transform=\"scale(0.015625)\"/>\n       </defs>\n       <use xlink:href=\"#DejaVuSans-31\"/>\n       <use x=\"63.623047\" xlink:href=\"#DejaVuSans-35\"/>\n      </g>\n     </g>\n    </g>\n    <g id=\"xtick_3\">\n     <g id=\"line2d_3\">\n      <g>\n       <use style=\"stroke:#000000;stroke-width:0.8;\" x=\"139.095126\" xlink:href=\"#m478aa14747\" y=\"239.758125\"/>\n      </g>\n     </g>\n     <g id=\"text_3\">\n      <!-- 20 -->\n      <g transform=\"translate(132.732626 254.356562)scale(0.1 -0.1)\">\n       <defs>\n        <path d=\"M 1228 531 \nL 3431 531 \nL 3431 0 \nL 469 0 \nL 469 531 \nQ 828 903 1448 1529 \nQ 2069 2156 2228 2338 \nQ 2531 2678 2651 2914 \nQ 2772 3150 2772 3378 \nQ 2772 3750 2511 3984 \nQ 2250 4219 1831 4219 \nQ 1534 4219 1204 4116 \nQ 875 4013 500 3803 \nL 500 4441 \nQ 881 4594 1212 4672 \nQ 1544 4750 1819 4750 \nQ 2544 4750 2975 4387 \nQ 3406 4025 3406 3419 \nQ 3406 3131 3298 2873 \nQ 3191 2616 2906 2266 \nQ 2828 2175 2409 1742 \nQ 1991 1309 1228 531 \nz\n\" id=\"DejaVuSans-32\" transform=\"scale(0.015625)\"/>\n       </defs>\n       <use xlink:href=\"#DejaVuSans-32\"/>\n       <use x=\"63.623047\" xlink:href=\"#DejaVuSans-30\"/>\n      </g>\n     </g>\n    </g>\n    <g id=\"xtick_4\">\n     <g id=\"line2d_4\">\n      <g>\n       <use style=\"stroke:#000000;stroke-width:0.8;\" x=\"179.142972\" xlink:href=\"#m478aa14747\" y=\"239.758125\"/>\n      </g>\n     </g>\n     <g id=\"text_4\">\n      <!-- 25 -->\n      <g transform=\"translate(172.780472 254.356562)scale(0.1 -0.1)\">\n       <use xlink:href=\"#DejaVuSans-32\"/>\n       <use x=\"63.623047\" xlink:href=\"#DejaVuSans-35\"/>\n      </g>\n     </g>\n    </g>\n    <g id=\"xtick_5\">\n     <g id=\"line2d_5\">\n      <g>\n       <use style=\"stroke:#000000;stroke-width:0.8;\" x=\"219.190819\" xlink:href=\"#m478aa14747\" y=\"239.758125\"/>\n      </g>\n     </g>\n     <g id=\"text_5\">\n      <!-- 30 -->\n      <g transform=\"translate(212.828319 254.356562)scale(0.1 -0.1)\">\n       <defs>\n        <path d=\"M 2597 2516 \nQ 3050 2419 3304 2112 \nQ 3559 1806 3559 1356 \nQ 3559 666 3084 287 \nQ 2609 -91 1734 -91 \nQ 1441 -91 1130 -33 \nQ 819 25 488 141 \nL 488 750 \nQ 750 597 1062 519 \nQ 1375 441 1716 441 \nQ 2309 441 2620 675 \nQ 2931 909 2931 1356 \nQ 2931 1769 2642 2001 \nQ 2353 2234 1838 2234 \nL 1294 2234 \nL 1294 2753 \nL 1863 2753 \nQ 2328 2753 2575 2939 \nQ 2822 3125 2822 3475 \nQ 2822 3834 2567 4026 \nQ 2313 4219 1838 4219 \nQ 1578 4219 1281 4162 \nQ 984 4106 628 3988 \nL 628 4550 \nQ 988 4650 1302 4700 \nQ 1616 4750 1894 4750 \nQ 2613 4750 3031 4423 \nQ 3450 4097 3450 3541 \nQ 3450 3153 3228 2886 \nQ 3006 2619 2597 2516 \nz\n\" id=\"DejaVuSans-33\" transform=\"scale(0.015625)\"/>\n       </defs>\n       <use xlink:href=\"#DejaVuSans-33\"/>\n       <use x=\"63.623047\" xlink:href=\"#DejaVuSans-30\"/>\n      </g>\n     </g>\n    </g>\n    <g id=\"xtick_6\">\n     <g id=\"line2d_6\">\n      <g>\n       <use style=\"stroke:#000000;stroke-width:0.8;\" x=\"259.238666\" xlink:href=\"#m478aa14747\" y=\"239.758125\"/>\n      </g>\n     </g>\n     <g id=\"text_6\">\n      <!-- 35 -->\n      <g transform=\"translate(252.876166 254.356562)scale(0.1 -0.1)\">\n       <use xlink:href=\"#DejaVuSans-33\"/>\n       <use x=\"63.623047\" xlink:href=\"#DejaVuSans-35\"/>\n      </g>\n     </g>\n    </g>\n    <g id=\"xtick_7\">\n     <g id=\"line2d_7\">\n      <g>\n       <use style=\"stroke:#000000;stroke-width:0.8;\" x=\"299.286513\" xlink:href=\"#m478aa14747\" y=\"239.758125\"/>\n      </g>\n     </g>\n     <g id=\"text_7\">\n      <!-- 40 -->\n      <g transform=\"translate(292.924013 254.356562)scale(0.1 -0.1)\">\n       <defs>\n        <path d=\"M 2419 4116 \nL 825 1625 \nL 2419 1625 \nL 2419 4116 \nz\nM 2253 4666 \nL 3047 4666 \nL 3047 1625 \nL 3713 1625 \nL 3713 1100 \nL 3047 1100 \nL 3047 0 \nL 2419 0 \nL 2419 1100 \nL 313 1100 \nL 313 1709 \nL 2253 4666 \nz\n\" id=\"DejaVuSans-34\" transform=\"scale(0.015625)\"/>\n       </defs>\n       <use xlink:href=\"#DejaVuSans-34\"/>\n       <use x=\"63.623047\" xlink:href=\"#DejaVuSans-30\"/>\n      </g>\n     </g>\n    </g>\n    <g id=\"xtick_8\">\n     <g id=\"line2d_8\">\n      <g>\n       <use style=\"stroke:#000000;stroke-width:0.8;\" x=\"339.33436\" xlink:href=\"#m478aa14747\" y=\"239.758125\"/>\n      </g>\n     </g>\n     <g id=\"text_8\">\n      <!-- 45 -->\n      <g transform=\"translate(332.97186 254.356562)scale(0.1 -0.1)\">\n       <use xlink:href=\"#DejaVuSans-34\"/>\n       <use x=\"63.623047\" xlink:href=\"#DejaVuSans-35\"/>\n      </g>\n     </g>\n    </g>\n    <g id=\"text_9\">\n     <!-- Max Depth -->\n     <g transform=\"translate(184.025 268.034687)scale(0.1 -0.1)\">\n      <defs>\n       <path d=\"M 628 4666 \nL 1569 4666 \nL 2759 1491 \nL 3956 4666 \nL 4897 4666 \nL 4897 0 \nL 4281 0 \nL 4281 4097 \nL 3078 897 \nL 2444 897 \nL 1241 4097 \nL 1241 0 \nL 628 0 \nL 628 4666 \nz\n\" id=\"DejaVuSans-4d\" transform=\"scale(0.015625)\"/>\n       <path d=\"M 2194 1759 \nQ 1497 1759 1228 1600 \nQ 959 1441 959 1056 \nQ 959 750 1161 570 \nQ 1363 391 1709 391 \nQ 2188 391 2477 730 \nQ 2766 1069 2766 1631 \nL 2766 1759 \nL 2194 1759 \nz\nM 3341 1997 \nL 3341 0 \nL 2766 0 \nL 2766 531 \nQ 2569 213 2275 61 \nQ 1981 -91 1556 -91 \nQ 1019 -91 701 211 \nQ 384 513 384 1019 \nQ 384 1609 779 1909 \nQ 1175 2209 1959 2209 \nL 2766 2209 \nL 2766 2266 \nQ 2766 2663 2505 2880 \nQ 2244 3097 1772 3097 \nQ 1472 3097 1187 3025 \nQ 903 2953 641 2809 \nL 641 3341 \nQ 956 3463 1253 3523 \nQ 1550 3584 1831 3584 \nQ 2591 3584 2966 3190 \nQ 3341 2797 3341 1997 \nz\n\" id=\"DejaVuSans-61\" transform=\"scale(0.015625)\"/>\n       <path d=\"M 3513 3500 \nL 2247 1797 \nL 3578 0 \nL 2900 0 \nL 1881 1375 \nL 863 0 \nL 184 0 \nL 1544 1831 \nL 300 3500 \nL 978 3500 \nL 1906 2253 \nL 2834 3500 \nL 3513 3500 \nz\n\" id=\"DejaVuSans-78\" transform=\"scale(0.015625)\"/>\n       <path id=\"DejaVuSans-20\" transform=\"scale(0.015625)\"/>\n       <path d=\"M 1259 4147 \nL 1259 519 \nL 2022 519 \nQ 2988 519 3436 956 \nQ 3884 1394 3884 2338 \nQ 3884 3275 3436 3711 \nQ 2988 4147 2022 4147 \nL 1259 4147 \nz\nM 628 4666 \nL 1925 4666 \nQ 3281 4666 3915 4102 \nQ 4550 3538 4550 2338 \nQ 4550 1131 3912 565 \nQ 3275 0 1925 0 \nL 628 0 \nL 628 4666 \nz\n\" id=\"DejaVuSans-44\" transform=\"scale(0.015625)\"/>\n       <path d=\"M 3597 1894 \nL 3597 1613 \nL 953 1613 \nQ 991 1019 1311 708 \nQ 1631 397 2203 397 \nQ 2534 397 2845 478 \nQ 3156 559 3463 722 \nL 3463 178 \nQ 3153 47 2828 -22 \nQ 2503 -91 2169 -91 \nQ 1331 -91 842 396 \nQ 353 884 353 1716 \nQ 353 2575 817 3079 \nQ 1281 3584 2069 3584 \nQ 2775 3584 3186 3129 \nQ 3597 2675 3597 1894 \nz\nM 3022 2063 \nQ 3016 2534 2758 2815 \nQ 2500 3097 2075 3097 \nQ 1594 3097 1305 2825 \nQ 1016 2553 972 2059 \nL 3022 2063 \nz\n\" id=\"DejaVuSans-65\" transform=\"scale(0.015625)\"/>\n       <path d=\"M 1159 525 \nL 1159 -1331 \nL 581 -1331 \nL 581 3500 \nL 1159 3500 \nL 1159 2969 \nQ 1341 3281 1617 3432 \nQ 1894 3584 2278 3584 \nQ 2916 3584 3314 3078 \nQ 3713 2572 3713 1747 \nQ 3713 922 3314 415 \nQ 2916 -91 2278 -91 \nQ 1894 -91 1617 61 \nQ 1341 213 1159 525 \nz\nM 3116 1747 \nQ 3116 2381 2855 2742 \nQ 2594 3103 2138 3103 \nQ 1681 3103 1420 2742 \nQ 1159 2381 1159 1747 \nQ 1159 1113 1420 752 \nQ 1681 391 2138 391 \nQ 2594 391 2855 752 \nQ 3116 1113 3116 1747 \nz\n\" id=\"DejaVuSans-70\" transform=\"scale(0.015625)\"/>\n       <path d=\"M 1172 4494 \nL 1172 3500 \nL 2356 3500 \nL 2356 3053 \nL 1172 3053 \nL 1172 1153 \nQ 1172 725 1289 603 \nQ 1406 481 1766 481 \nL 2356 481 \nL 2356 0 \nL 1766 0 \nQ 1100 0 847 248 \nQ 594 497 594 1153 \nL 594 3053 \nL 172 3053 \nL 172 3500 \nL 594 3500 \nL 594 4494 \nL 1172 4494 \nz\n\" id=\"DejaVuSans-74\" transform=\"scale(0.015625)\"/>\n       <path d=\"M 3513 2113 \nL 3513 0 \nL 2938 0 \nL 2938 2094 \nQ 2938 2591 2744 2837 \nQ 2550 3084 2163 3084 \nQ 1697 3084 1428 2787 \nQ 1159 2491 1159 1978 \nL 1159 0 \nL 581 0 \nL 581 4863 \nL 1159 4863 \nL 1159 2956 \nQ 1366 3272 1645 3428 \nQ 1925 3584 2291 3584 \nQ 2894 3584 3203 3211 \nQ 3513 2838 3513 2113 \nz\n\" id=\"DejaVuSans-68\" transform=\"scale(0.015625)\"/>\n      </defs>\n      <use xlink:href=\"#DejaVuSans-4d\"/>\n      <use x=\"86.279297\" xlink:href=\"#DejaVuSans-61\"/>\n      <use x=\"147.558594\" xlink:href=\"#DejaVuSans-78\"/>\n      <use x=\"206.738281\" xlink:href=\"#DejaVuSans-20\"/>\n      <use x=\"238.525391\" xlink:href=\"#DejaVuSans-44\"/>\n      <use x=\"315.527344\" xlink:href=\"#DejaVuSans-65\"/>\n      <use x=\"377.050781\" xlink:href=\"#DejaVuSans-70\"/>\n      <use x=\"440.527344\" xlink:href=\"#DejaVuSans-74\"/>\n      <use x=\"479.736328\" xlink:href=\"#DejaVuSans-68\"/>\n     </g>\n    </g>\n   </g>\n   <g id=\"matplotlib.axis_2\">\n    <g id=\"ytick_1\">\n     <g id=\"line2d_9\">\n      <defs>\n       <path d=\"M 0 0 \nL -3.5 0 \n\" id=\"m55cdcfbbb9\" style=\"stroke:#000000;stroke-width:0.8;\"/>\n      </defs>\n      <g>\n       <use style=\"stroke:#000000;stroke-width:0.8;\" x=\"43.78125\" xlink:href=\"#m55cdcfbbb9\" y=\"239.758125\"/>\n      </g>\n     </g>\n     <g id=\"text_10\">\n      <!-- 0.0 -->\n      <g transform=\"translate(20.878125 243.557344)scale(0.1 -0.1)\">\n       <defs>\n        <path d=\"M 684 794 \nL 1344 794 \nL 1344 0 \nL 684 0 \nL 684 794 \nz\n\" id=\"DejaVuSans-2e\" transform=\"scale(0.015625)\"/>\n       </defs>\n       <use xlink:href=\"#DejaVuSans-30\"/>\n       <use x=\"63.623047\" xlink:href=\"#DejaVuSans-2e\"/>\n       <use x=\"95.410156\" xlink:href=\"#DejaVuSans-30\"/>\n      </g>\n     </g>\n    </g>\n    <g id=\"ytick_2\">\n     <g id=\"line2d_10\">\n      <g>\n       <use style=\"stroke:#000000;stroke-width:0.8;\" x=\"43.78125\" xlink:href=\"#m55cdcfbbb9\" y=\"200.22358\"/>\n      </g>\n     </g>\n     <g id=\"text_11\">\n      <!-- 0.2 -->\n      <g transform=\"translate(20.878125 204.022798)scale(0.1 -0.1)\">\n       <use xlink:href=\"#DejaVuSans-30\"/>\n       <use x=\"63.623047\" xlink:href=\"#DejaVuSans-2e\"/>\n       <use x=\"95.410156\" xlink:href=\"#DejaVuSans-32\"/>\n      </g>\n     </g>\n    </g>\n    <g id=\"ytick_3\">\n     <g id=\"line2d_11\">\n      <g>\n       <use style=\"stroke:#000000;stroke-width:0.8;\" x=\"43.78125\" xlink:href=\"#m55cdcfbbb9\" y=\"160.689034\"/>\n      </g>\n     </g>\n     <g id=\"text_12\">\n      <!-- 0.4 -->\n      <g transform=\"translate(20.878125 164.488253)scale(0.1 -0.1)\">\n       <use xlink:href=\"#DejaVuSans-30\"/>\n       <use x=\"63.623047\" xlink:href=\"#DejaVuSans-2e\"/>\n       <use x=\"95.410156\" xlink:href=\"#DejaVuSans-34\"/>\n      </g>\n     </g>\n    </g>\n    <g id=\"ytick_4\">\n     <g id=\"line2d_12\">\n      <g>\n       <use style=\"stroke:#000000;stroke-width:0.8;\" x=\"43.78125\" xlink:href=\"#m55cdcfbbb9\" y=\"121.154489\"/>\n      </g>\n     </g>\n     <g id=\"text_13\">\n      <!-- 0.6 -->\n      <g transform=\"translate(20.878125 124.953707)scale(0.1 -0.1)\">\n       <defs>\n        <path d=\"M 2113 2584 \nQ 1688 2584 1439 2293 \nQ 1191 2003 1191 1497 \nQ 1191 994 1439 701 \nQ 1688 409 2113 409 \nQ 2538 409 2786 701 \nQ 3034 994 3034 1497 \nQ 3034 2003 2786 2293 \nQ 2538 2584 2113 2584 \nz\nM 3366 4563 \nL 3366 3988 \nQ 3128 4100 2886 4159 \nQ 2644 4219 2406 4219 \nQ 1781 4219 1451 3797 \nQ 1122 3375 1075 2522 \nQ 1259 2794 1537 2939 \nQ 1816 3084 2150 3084 \nQ 2853 3084 3261 2657 \nQ 3669 2231 3669 1497 \nQ 3669 778 3244 343 \nQ 2819 -91 2113 -91 \nQ 1303 -91 875 529 \nQ 447 1150 447 2328 \nQ 447 3434 972 4092 \nQ 1497 4750 2381 4750 \nQ 2619 4750 2861 4703 \nQ 3103 4656 3366 4563 \nz\n\" id=\"DejaVuSans-36\" transform=\"scale(0.015625)\"/>\n       </defs>\n       <use xlink:href=\"#DejaVuSans-30\"/>\n       <use x=\"63.623047\" xlink:href=\"#DejaVuSans-2e\"/>\n       <use x=\"95.410156\" xlink:href=\"#DejaVuSans-36\"/>\n      </g>\n     </g>\n    </g>\n    <g id=\"ytick_5\">\n     <g id=\"line2d_13\">\n      <g>\n       <use style=\"stroke:#000000;stroke-width:0.8;\" x=\"43.78125\" xlink:href=\"#m55cdcfbbb9\" y=\"81.619943\"/>\n      </g>\n     </g>\n     <g id=\"text_14\">\n      <!-- 0.8 -->\n      <g transform=\"translate(20.878125 85.419162)scale(0.1 -0.1)\">\n       <defs>\n        <path d=\"M 2034 2216 \nQ 1584 2216 1326 1975 \nQ 1069 1734 1069 1313 \nQ 1069 891 1326 650 \nQ 1584 409 2034 409 \nQ 2484 409 2743 651 \nQ 3003 894 3003 1313 \nQ 3003 1734 2745 1975 \nQ 2488 2216 2034 2216 \nz\nM 1403 2484 \nQ 997 2584 770 2862 \nQ 544 3141 544 3541 \nQ 544 4100 942 4425 \nQ 1341 4750 2034 4750 \nQ 2731 4750 3128 4425 \nQ 3525 4100 3525 3541 \nQ 3525 3141 3298 2862 \nQ 3072 2584 2669 2484 \nQ 3125 2378 3379 2068 \nQ 3634 1759 3634 1313 \nQ 3634 634 3220 271 \nQ 2806 -91 2034 -91 \nQ 1263 -91 848 271 \nQ 434 634 434 1313 \nQ 434 1759 690 2068 \nQ 947 2378 1403 2484 \nz\nM 1172 3481 \nQ 1172 3119 1398 2916 \nQ 1625 2713 2034 2713 \nQ 2441 2713 2670 2916 \nQ 2900 3119 2900 3481 \nQ 2900 3844 2670 4047 \nQ 2441 4250 2034 4250 \nQ 1625 4250 1398 4047 \nQ 1172 3844 1172 3481 \nz\n\" id=\"DejaVuSans-38\" transform=\"scale(0.015625)\"/>\n       </defs>\n       <use xlink:href=\"#DejaVuSans-30\"/>\n       <use x=\"63.623047\" xlink:href=\"#DejaVuSans-2e\"/>\n       <use x=\"95.410156\" xlink:href=\"#DejaVuSans-38\"/>\n      </g>\n     </g>\n    </g>\n    <g id=\"ytick_6\">\n     <g id=\"line2d_14\">\n      <g>\n       <use style=\"stroke:#000000;stroke-width:0.8;\" x=\"43.78125\" xlink:href=\"#m55cdcfbbb9\" y=\"42.085398\"/>\n      </g>\n     </g>\n     <g id=\"text_15\">\n      <!-- 1.0 -->\n      <g transform=\"translate(20.878125 45.884616)scale(0.1 -0.1)\">\n       <use xlink:href=\"#DejaVuSans-31\"/>\n       <use x=\"63.623047\" xlink:href=\"#DejaVuSans-2e\"/>\n       <use x=\"95.410156\" xlink:href=\"#DejaVuSans-30\"/>\n      </g>\n     </g>\n    </g>\n    <g id=\"text_16\">\n     <!-- Score -->\n     <g transform=\"translate(14.798438 145.040469)rotate(-90)scale(0.1 -0.1)\">\n      <defs>\n       <path d=\"M 3425 4513 \nL 3425 3897 \nQ 3066 4069 2747 4153 \nQ 2428 4238 2131 4238 \nQ 1616 4238 1336 4038 \nQ 1056 3838 1056 3469 \nQ 1056 3159 1242 3001 \nQ 1428 2844 1947 2747 \nL 2328 2669 \nQ 3034 2534 3370 2195 \nQ 3706 1856 3706 1288 \nQ 3706 609 3251 259 \nQ 2797 -91 1919 -91 \nQ 1588 -91 1214 -16 \nQ 841 59 441 206 \nL 441 856 \nQ 825 641 1194 531 \nQ 1563 422 1919 422 \nQ 2459 422 2753 634 \nQ 3047 847 3047 1241 \nQ 3047 1584 2836 1778 \nQ 2625 1972 2144 2069 \nL 1759 2144 \nQ 1053 2284 737 2584 \nQ 422 2884 422 3419 \nQ 422 4038 858 4394 \nQ 1294 4750 2059 4750 \nQ 2388 4750 2728 4690 \nQ 3069 4631 3425 4513 \nz\n\" id=\"DejaVuSans-53\" transform=\"scale(0.015625)\"/>\n       <path d=\"M 3122 3366 \nL 3122 2828 \nQ 2878 2963 2633 3030 \nQ 2388 3097 2138 3097 \nQ 1578 3097 1268 2742 \nQ 959 2388 959 1747 \nQ 959 1106 1268 751 \nQ 1578 397 2138 397 \nQ 2388 397 2633 464 \nQ 2878 531 3122 666 \nL 3122 134 \nQ 2881 22 2623 -34 \nQ 2366 -91 2075 -91 \nQ 1284 -91 818 406 \nQ 353 903 353 1747 \nQ 353 2603 823 3093 \nQ 1294 3584 2113 3584 \nQ 2378 3584 2631 3529 \nQ 2884 3475 3122 3366 \nz\n\" id=\"DejaVuSans-63\" transform=\"scale(0.015625)\"/>\n       <path d=\"M 1959 3097 \nQ 1497 3097 1228 2736 \nQ 959 2375 959 1747 \nQ 959 1119 1226 758 \nQ 1494 397 1959 397 \nQ 2419 397 2687 759 \nQ 2956 1122 2956 1747 \nQ 2956 2369 2687 2733 \nQ 2419 3097 1959 3097 \nz\nM 1959 3584 \nQ 2709 3584 3137 3096 \nQ 3566 2609 3566 1747 \nQ 3566 888 3137 398 \nQ 2709 -91 1959 -91 \nQ 1206 -91 779 398 \nQ 353 888 353 1747 \nQ 353 2609 779 3096 \nQ 1206 3584 1959 3584 \nz\n\" id=\"DejaVuSans-6f\" transform=\"scale(0.015625)\"/>\n       <path d=\"M 2631 2963 \nQ 2534 3019 2420 3045 \nQ 2306 3072 2169 3072 \nQ 1681 3072 1420 2755 \nQ 1159 2438 1159 1844 \nL 1159 0 \nL 581 0 \nL 581 3500 \nL 1159 3500 \nL 1159 2956 \nQ 1341 3275 1631 3429 \nQ 1922 3584 2338 3584 \nQ 2397 3584 2469 3576 \nQ 2541 3569 2628 3553 \nL 2631 2963 \nz\n\" id=\"DejaVuSans-72\" transform=\"scale(0.015625)\"/>\n      </defs>\n      <use xlink:href=\"#DejaVuSans-53\"/>\n      <use x=\"63.476562\" xlink:href=\"#DejaVuSans-63\"/>\n      <use x=\"118.457031\" xlink:href=\"#DejaVuSans-6f\"/>\n      <use x=\"179.638672\" xlink:href=\"#DejaVuSans-72\"/>\n      <use x=\"218.501953\" xlink:href=\"#DejaVuSans-65\"/>\n     </g>\n    </g>\n   </g>\n   <g id=\"line2d_15\">\n    <path clip-path=\"url(#pff05fe0c6b)\" d=\"M 58.999432 71.115614 \nL 75.018571 67.749248 \nL 91.037709 64.643809 \nL 107.056848 61.477092 \nL 123.075987 57.863635 \nL 139.095126 54.76808 \nL 155.114264 51.336481 \nL 171.133403 49.424986 \nL 187.152542 47.250586 \nL 203.171681 45.941993 \nL 219.190819 44.619562 \nL 235.209958 43.453293 \nL 251.229097 43.081668 \nL 267.248236 42.745625 \nL 283.267374 42.395744 \nL 299.286513 42.289001 \nL 315.305652 42.215862 \nL 331.324791 42.164467 \nL 347.343929 42.122956 \nL 363.363068 42.117025 \n\" style=\"fill:none;stroke:#ff8c00;stroke-linecap:square;stroke-width:0.75;\"/>\n   </g>\n   <g id=\"line2d_16\">\n    <path clip-path=\"url(#pff05fe0c6b)\" d=\"M 58.999432 73.523268 \nL 75.018571 72.906529 \nL 91.037709 73.847452 \nL 107.056848 74.717212 \nL 123.075987 76.433011 \nL 139.095126 76.037665 \nL 155.114264 78.014393 \nL 171.133403 77.895789 \nL 187.152542 78.765549 \nL 203.171681 79.469264 \nL 219.190819 79.975306 \nL 235.209958 79.856702 \nL 251.229097 79.76182 \nL 267.248236 79.912051 \nL 283.267374 80.32321 \nL 299.286513 80.212513 \nL 315.305652 79.88833 \nL 331.324791 79.951585 \nL 347.343929 80.331117 \nL 363.363068 80.339024 \n\" style=\"fill:none;stroke:#000080;stroke-linecap:square;stroke-width:0.75;\"/>\n   </g>\n   <g id=\"patch_3\">\n    <path d=\"M 43.78125 239.758125 \nL 43.78125 22.318125 \n\" style=\"fill:none;stroke:#000000;stroke-linecap:square;stroke-linejoin:miter;stroke-width:0.8;\"/>\n   </g>\n   <g id=\"patch_4\">\n    <path d=\"M 378.58125 239.758125 \nL 378.58125 22.318125 \n\" style=\"fill:none;stroke:#000000;stroke-linecap:square;stroke-linejoin:miter;stroke-width:0.8;\"/>\n   </g>\n   <g id=\"patch_5\">\n    <path d=\"M 43.78125 239.758125 \nL 378.58125 239.758125 \n\" style=\"fill:none;stroke:#000000;stroke-linecap:square;stroke-linejoin:miter;stroke-width:0.8;\"/>\n   </g>\n   <g id=\"patch_6\">\n    <path d=\"M 43.78125 22.318125 \nL 378.58125 22.318125 \n\" style=\"fill:none;stroke:#000000;stroke-linecap:square;stroke-linejoin:miter;stroke-width:0.8;\"/>\n   </g>\n   <g id=\"text_17\">\n    <!-- Validation Curve for Best Model -->\n    <g transform=\"translate(116.670938 16.318125)scale(0.12 -0.12)\">\n     <defs>\n      <path d=\"M 1831 0 \nL 50 4666 \nL 709 4666 \nL 2188 738 \nL 3669 4666 \nL 4325 4666 \nL 2547 0 \nL 1831 0 \nz\n\" id=\"DejaVuSans-56\" transform=\"scale(0.015625)\"/>\n      <path d=\"M 603 4863 \nL 1178 4863 \nL 1178 0 \nL 603 0 \nL 603 4863 \nz\n\" id=\"DejaVuSans-6c\" transform=\"scale(0.015625)\"/>\n      <path d=\"M 603 3500 \nL 1178 3500 \nL 1178 0 \nL 603 0 \nL 603 3500 \nz\nM 603 4863 \nL 1178 4863 \nL 1178 4134 \nL 603 4134 \nL 603 4863 \nz\n\" id=\"DejaVuSans-69\" transform=\"scale(0.015625)\"/>\n      <path d=\"M 2906 2969 \nL 2906 4863 \nL 3481 4863 \nL 3481 0 \nL 2906 0 \nL 2906 525 \nQ 2725 213 2448 61 \nQ 2172 -91 1784 -91 \nQ 1150 -91 751 415 \nQ 353 922 353 1747 \nQ 353 2572 751 3078 \nQ 1150 3584 1784 3584 \nQ 2172 3584 2448 3432 \nQ 2725 3281 2906 2969 \nz\nM 947 1747 \nQ 947 1113 1208 752 \nQ 1469 391 1925 391 \nQ 2381 391 2643 752 \nQ 2906 1113 2906 1747 \nQ 2906 2381 2643 2742 \nQ 2381 3103 1925 3103 \nQ 1469 3103 1208 2742 \nQ 947 2381 947 1747 \nz\n\" id=\"DejaVuSans-64\" transform=\"scale(0.015625)\"/>\n      <path d=\"M 3513 2113 \nL 3513 0 \nL 2938 0 \nL 2938 2094 \nQ 2938 2591 2744 2837 \nQ 2550 3084 2163 3084 \nQ 1697 3084 1428 2787 \nQ 1159 2491 1159 1978 \nL 1159 0 \nL 581 0 \nL 581 3500 \nL 1159 3500 \nL 1159 2956 \nQ 1366 3272 1645 3428 \nQ 1925 3584 2291 3584 \nQ 2894 3584 3203 3211 \nQ 3513 2838 3513 2113 \nz\n\" id=\"DejaVuSans-6e\" transform=\"scale(0.015625)\"/>\n      <path d=\"M 4122 4306 \nL 4122 3641 \nQ 3803 3938 3442 4084 \nQ 3081 4231 2675 4231 \nQ 1875 4231 1450 3742 \nQ 1025 3253 1025 2328 \nQ 1025 1406 1450 917 \nQ 1875 428 2675 428 \nQ 3081 428 3442 575 \nQ 3803 722 4122 1019 \nL 4122 359 \nQ 3791 134 3420 21 \nQ 3050 -91 2638 -91 \nQ 1578 -91 968 557 \nQ 359 1206 359 2328 \nQ 359 3453 968 4101 \nQ 1578 4750 2638 4750 \nQ 3056 4750 3426 4639 \nQ 3797 4528 4122 4306 \nz\n\" id=\"DejaVuSans-43\" transform=\"scale(0.015625)\"/>\n      <path d=\"M 544 1381 \nL 544 3500 \nL 1119 3500 \nL 1119 1403 \nQ 1119 906 1312 657 \nQ 1506 409 1894 409 \nQ 2359 409 2629 706 \nQ 2900 1003 2900 1516 \nL 2900 3500 \nL 3475 3500 \nL 3475 0 \nL 2900 0 \nL 2900 538 \nQ 2691 219 2414 64 \nQ 2138 -91 1772 -91 \nQ 1169 -91 856 284 \nQ 544 659 544 1381 \nz\nM 1991 3584 \nL 1991 3584 \nz\n\" id=\"DejaVuSans-75\" transform=\"scale(0.015625)\"/>\n      <path d=\"M 191 3500 \nL 800 3500 \nL 1894 563 \nL 2988 3500 \nL 3597 3500 \nL 2284 0 \nL 1503 0 \nL 191 3500 \nz\n\" id=\"DejaVuSans-76\" transform=\"scale(0.015625)\"/>\n      <path d=\"M 2375 4863 \nL 2375 4384 \nL 1825 4384 \nQ 1516 4384 1395 4259 \nQ 1275 4134 1275 3809 \nL 1275 3500 \nL 2222 3500 \nL 2222 3053 \nL 1275 3053 \nL 1275 0 \nL 697 0 \nL 697 3053 \nL 147 3053 \nL 147 3500 \nL 697 3500 \nL 697 3744 \nQ 697 4328 969 4595 \nQ 1241 4863 1831 4863 \nL 2375 4863 \nz\n\" id=\"DejaVuSans-66\" transform=\"scale(0.015625)\"/>\n      <path d=\"M 1259 2228 \nL 1259 519 \nL 2272 519 \nQ 2781 519 3026 730 \nQ 3272 941 3272 1375 \nQ 3272 1813 3026 2020 \nQ 2781 2228 2272 2228 \nL 1259 2228 \nz\nM 1259 4147 \nL 1259 2741 \nL 2194 2741 \nQ 2656 2741 2882 2914 \nQ 3109 3088 3109 3444 \nQ 3109 3797 2882 3972 \nQ 2656 4147 2194 4147 \nL 1259 4147 \nz\nM 628 4666 \nL 2241 4666 \nQ 2963 4666 3353 4366 \nQ 3744 4066 3744 3513 \nQ 3744 3084 3544 2831 \nQ 3344 2578 2956 2516 \nQ 3422 2416 3680 2098 \nQ 3938 1781 3938 1306 \nQ 3938 681 3513 340 \nQ 3088 0 2303 0 \nL 628 0 \nL 628 4666 \nz\n\" id=\"DejaVuSans-42\" transform=\"scale(0.015625)\"/>\n      <path d=\"M 2834 3397 \nL 2834 2853 \nQ 2591 2978 2328 3040 \nQ 2066 3103 1784 3103 \nQ 1356 3103 1142 2972 \nQ 928 2841 928 2578 \nQ 928 2378 1081 2264 \nQ 1234 2150 1697 2047 \nL 1894 2003 \nQ 2506 1872 2764 1633 \nQ 3022 1394 3022 966 \nQ 3022 478 2636 193 \nQ 2250 -91 1575 -91 \nQ 1294 -91 989 -36 \nQ 684 19 347 128 \nL 347 722 \nQ 666 556 975 473 \nQ 1284 391 1588 391 \nQ 1994 391 2212 530 \nQ 2431 669 2431 922 \nQ 2431 1156 2273 1281 \nQ 2116 1406 1581 1522 \nL 1381 1569 \nQ 847 1681 609 1914 \nQ 372 2147 372 2553 \nQ 372 3047 722 3315 \nQ 1072 3584 1716 3584 \nQ 2034 3584 2315 3537 \nQ 2597 3491 2834 3397 \nz\n\" id=\"DejaVuSans-73\" transform=\"scale(0.015625)\"/>\n     </defs>\n     <use xlink:href=\"#DejaVuSans-56\"/>\n     <use x=\"60.658203\" xlink:href=\"#DejaVuSans-61\"/>\n     <use x=\"121.9375\" xlink:href=\"#DejaVuSans-6c\"/>\n     <use x=\"149.720703\" xlink:href=\"#DejaVuSans-69\"/>\n     <use x=\"177.503906\" xlink:href=\"#DejaVuSans-64\"/>\n     <use x=\"240.980469\" xlink:href=\"#DejaVuSans-61\"/>\n     <use x=\"302.259766\" xlink:href=\"#DejaVuSans-74\"/>\n     <use x=\"341.46875\" xlink:href=\"#DejaVuSans-69\"/>\n     <use x=\"369.251953\" xlink:href=\"#DejaVuSans-6f\"/>\n     <use x=\"430.433594\" xlink:href=\"#DejaVuSans-6e\"/>\n     <use x=\"493.8125\" xlink:href=\"#DejaVuSans-20\"/>\n     <use x=\"525.599609\" xlink:href=\"#DejaVuSans-43\"/>\n     <use x=\"595.423828\" xlink:href=\"#DejaVuSans-75\"/>\n     <use x=\"658.802734\" xlink:href=\"#DejaVuSans-72\"/>\n     <use x=\"699.916016\" xlink:href=\"#DejaVuSans-76\"/>\n     <use x=\"759.095703\" xlink:href=\"#DejaVuSans-65\"/>\n     <use x=\"820.619141\" xlink:href=\"#DejaVuSans-20\"/>\n     <use x=\"852.40625\" xlink:href=\"#DejaVuSans-66\"/>\n     <use x=\"887.611328\" xlink:href=\"#DejaVuSans-6f\"/>\n     <use x=\"948.792969\" xlink:href=\"#DejaVuSans-72\"/>\n     <use x=\"989.90625\" xlink:href=\"#DejaVuSans-20\"/>\n     <use x=\"1021.693359\" xlink:href=\"#DejaVuSans-42\"/>\n     <use x=\"1090.296875\" xlink:href=\"#DejaVuSans-65\"/>\n     <use x=\"1151.820312\" xlink:href=\"#DejaVuSans-73\"/>\n     <use x=\"1203.919922\" xlink:href=\"#DejaVuSans-74\"/>\n     <use x=\"1243.128906\" xlink:href=\"#DejaVuSans-20\"/>\n     <use x=\"1274.916016\" xlink:href=\"#DejaVuSans-4d\"/>\n     <use x=\"1361.195312\" xlink:href=\"#DejaVuSans-6f\"/>\n     <use x=\"1422.376953\" xlink:href=\"#DejaVuSans-64\"/>\n     <use x=\"1485.853516\" xlink:href=\"#DejaVuSans-65\"/>\n     <use x=\"1547.376953\" xlink:href=\"#DejaVuSans-6c\"/>\n    </g>\n   </g>\n   <g id=\"legend_1\">\n    <g id=\"patch_7\">\n     <path d=\"M 50.78125 234.758125 \nL 192.810938 234.758125 \nQ 194.810938 234.758125 194.810938 232.758125 \nL 194.810938 204.401875 \nQ 194.810938 202.401875 192.810938 202.401875 \nL 50.78125 202.401875 \nQ 48.78125 202.401875 48.78125 204.401875 \nL 48.78125 232.758125 \nQ 48.78125 234.758125 50.78125 234.758125 \nz\n\" style=\"fill:#ffffff;opacity:0.8;stroke:#cccccc;stroke-linejoin:miter;\"/>\n    </g>\n    <g id=\"line2d_17\">\n     <path d=\"M 52.78125 210.500312 \nL 72.78125 210.500312 \n\" style=\"fill:none;stroke:#ff8c00;stroke-linecap:square;stroke-width:0.75;\"/>\n    </g>\n    <g id=\"line2d_18\"/>\n    <g id=\"text_18\">\n     <!-- Training score -->\n     <g transform=\"translate(80.78125 214.000312)scale(0.1 -0.1)\">\n      <defs>\n       <path d=\"M -19 4666 \nL 3928 4666 \nL 3928 4134 \nL 2272 4134 \nL 2272 0 \nL 1638 0 \nL 1638 4134 \nL -19 4134 \nL -19 4666 \nz\n\" id=\"DejaVuSans-54\" transform=\"scale(0.015625)\"/>\n       <path d=\"M 2906 1791 \nQ 2906 2416 2648 2759 \nQ 2391 3103 1925 3103 \nQ 1463 3103 1205 2759 \nQ 947 2416 947 1791 \nQ 947 1169 1205 825 \nQ 1463 481 1925 481 \nQ 2391 481 2648 825 \nQ 2906 1169 2906 1791 \nz\nM 3481 434 \nQ 3481 -459 3084 -895 \nQ 2688 -1331 1869 -1331 \nQ 1566 -1331 1297 -1286 \nQ 1028 -1241 775 -1147 \nL 775 -588 \nQ 1028 -725 1275 -790 \nQ 1522 -856 1778 -856 \nQ 2344 -856 2625 -561 \nQ 2906 -266 2906 331 \nL 2906 616 \nQ 2728 306 2450 153 \nQ 2172 0 1784 0 \nQ 1141 0 747 490 \nQ 353 981 353 1791 \nQ 353 2603 747 3093 \nQ 1141 3584 1784 3584 \nQ 2172 3584 2450 3431 \nQ 2728 3278 2906 2969 \nL 2906 3500 \nL 3481 3500 \nL 3481 434 \nz\n\" id=\"DejaVuSans-67\" transform=\"scale(0.015625)\"/>\n      </defs>\n      <use xlink:href=\"#DejaVuSans-54\"/>\n      <use x=\"46.333984\" xlink:href=\"#DejaVuSans-72\"/>\n      <use x=\"87.447266\" xlink:href=\"#DejaVuSans-61\"/>\n      <use x=\"148.726562\" xlink:href=\"#DejaVuSans-69\"/>\n      <use x=\"176.509766\" xlink:href=\"#DejaVuSans-6e\"/>\n      <use x=\"239.888672\" xlink:href=\"#DejaVuSans-69\"/>\n      <use x=\"267.671875\" xlink:href=\"#DejaVuSans-6e\"/>\n      <use x=\"331.050781\" xlink:href=\"#DejaVuSans-67\"/>\n      <use x=\"394.527344\" xlink:href=\"#DejaVuSans-20\"/>\n      <use x=\"426.314453\" xlink:href=\"#DejaVuSans-73\"/>\n      <use x=\"478.414062\" xlink:href=\"#DejaVuSans-63\"/>\n      <use x=\"533.394531\" xlink:href=\"#DejaVuSans-6f\"/>\n      <use x=\"594.576172\" xlink:href=\"#DejaVuSans-72\"/>\n      <use x=\"633.439453\" xlink:href=\"#DejaVuSans-65\"/>\n     </g>\n    </g>\n    <g id=\"line2d_19\">\n     <path d=\"M 52.78125 225.178437 \nL 72.78125 225.178437 \n\" style=\"fill:none;stroke:#000080;stroke-linecap:square;stroke-width:0.75;\"/>\n    </g>\n    <g id=\"line2d_20\"/>\n    <g id=\"text_19\">\n     <!-- Cross-validation score -->\n     <g transform=\"translate(80.78125 228.678437)scale(0.1 -0.1)\">\n      <defs>\n       <path d=\"M 313 2009 \nL 1997 2009 \nL 1997 1497 \nL 313 1497 \nL 313 2009 \nz\n\" id=\"DejaVuSans-2d\" transform=\"scale(0.015625)\"/>\n      </defs>\n      <use xlink:href=\"#DejaVuSans-43\"/>\n      <use x=\"69.824219\" xlink:href=\"#DejaVuSans-72\"/>\n      <use x=\"108.6875\" xlink:href=\"#DejaVuSans-6f\"/>\n      <use x=\"169.869141\" xlink:href=\"#DejaVuSans-73\"/>\n      <use x=\"221.96875\" xlink:href=\"#DejaVuSans-73\"/>\n      <use x=\"274.068359\" xlink:href=\"#DejaVuSans-2d\"/>\n      <use x=\"307.527344\" xlink:href=\"#DejaVuSans-76\"/>\n      <use x=\"366.707031\" xlink:href=\"#DejaVuSans-61\"/>\n      <use x=\"427.986328\" xlink:href=\"#DejaVuSans-6c\"/>\n      <use x=\"455.769531\" xlink:href=\"#DejaVuSans-69\"/>\n      <use x=\"483.552734\" xlink:href=\"#DejaVuSans-64\"/>\n      <use x=\"547.029297\" xlink:href=\"#DejaVuSans-61\"/>\n      <use x=\"608.308594\" xlink:href=\"#DejaVuSans-74\"/>\n      <use x=\"647.517578\" xlink:href=\"#DejaVuSans-69\"/>\n      <use x=\"675.300781\" xlink:href=\"#DejaVuSans-6f\"/>\n      <use x=\"736.482422\" xlink:href=\"#DejaVuSans-6e\"/>\n      <use x=\"799.861328\" xlink:href=\"#DejaVuSans-20\"/>\n      <use x=\"831.648438\" xlink:href=\"#DejaVuSans-73\"/>\n      <use x=\"883.748047\" xlink:href=\"#DejaVuSans-63\"/>\n      <use x=\"938.728516\" xlink:href=\"#DejaVuSans-6f\"/>\n      <use x=\"999.910156\" xlink:href=\"#DejaVuSans-72\"/>\n      <use x=\"1038.773438\" xlink:href=\"#DejaVuSans-65\"/>\n     </g>\n    </g>\n   </g>\n  </g>\n </g>\n <defs>\n  <clipPath id=\"pff05fe0c6b\">\n   <rect height=\"217.44\" width=\"334.8\" x=\"43.78125\" y=\"22.318125\"/>\n  </clipPath>\n </defs>\n</svg>\n",
      "image/png": "[encoded data removed]"
     },
     "metadata": {
      "needs_background": "light"
     }
    }
   ],
   "metadata": {}
  },
  {
   "cell_type": "markdown",
   "source": [
    "# Model 2: Logistic Regression"
   ],
   "metadata": {}
  },
  {
   "cell_type": "code",
   "execution_count": 457,
   "source": [
    "param_grid = {\n",
    "        'C': [0.1, 0.5, 1, 2, 3, 4, 5],\n",
    "    }\n",
    "lr=LogisticRegression(random_state=42, max_iter=10000, solver='saga')\n"
   ],
   "outputs": [],
   "metadata": {}
  },
  {
   "cell_type": "code",
   "execution_count": 407,
   "source": [
    "clf_lr=RandomizedSearchCV(estimator=lr,param_distributions=param_grid,cv=5,verbose=2,random_state=0,n_jobs=-1)\n",
    "clf_lr.fit(training.drop(['income>50K'],axis=1),training['income>50K'])"
   ],
   "outputs": [
    {
     "output_type": "stream",
     "name": "stderr",
     "text": [
      "/home/sci/nawazish.khan/miniconda3/envs/assignment/lib/python3.7/site-packages/sklearn/model_selection/_search.py:296: UserWarning: The total space of parameters 7 is smaller than n_iter=10. Running 7 iterations. For exhaustive searches, use GridSearchCV.\n",
      "  UserWarning,\n"
     ]
    },
    {
     "output_type": "stream",
     "name": "stdout",
     "text": [
      "Fitting 5 folds for each of 7 candidates, totalling 35 fits\n",
      "[CV] END ..............................................C=0.1; total time=  32.5s\n",
      "[CV] END ..............................................C=0.1; total time=  32.5s\n",
      "[CV] END ..............................................C=0.1; total time=  32.5s\n",
      "[CV] END ..............................................C=0.5; total time=  32.7s\n",
      "[CV] END ..............................................C=0.5; total time=  32.8s\n",
      "[CV] END ..............................................C=0.1; total time=  33.4s\n",
      "[CV] END ..............................................C=0.1; total time=  33.4s\n",
      "[CV] END ..............................................C=0.5; total time=  33.9s\n",
      "[CV] END ..............................................C=0.5; total time=  32.5s\n",
      "[CV] END ................................................C=1; total time=  32.6s\n",
      "[CV] END ................................................C=1; total time=  33.0s\n",
      "[CV] END ..............................................C=0.5; total time=  33.2s\n",
      "[CV] END ................................................C=1; total time=  32.4s\n",
      "[CV] END ................................................C=1; total time=  32.7s\n",
      "[CV] END ................................................C=1; total time=  33.4s\n",
      "[CV] END ................................................C=2; total time=  32.8s\n",
      "[CV] END ................................................C=3; total time=  31.8s\n",
      "[CV] END ................................................C=2; total time=  33.2s\n",
      "[CV] END ................................................C=2; total time=  33.7s\n",
      "[CV] END ................................................C=2; total time=  33.2s\n",
      "[CV] END ................................................C=2; total time=  33.1s\n",
      "[CV] END ................................................C=3; total time=  33.3s\n",
      "[CV] END ................................................C=3; total time=  33.8s\n",
      "[CV] END ................................................C=3; total time=  35.3s\n",
      "[CV] END ................................................C=4; total time=  31.3s\n",
      "[CV] END ................................................C=4; total time=  31.7s\n",
      "[CV] END ................................................C=3; total time=  33.1s\n",
      "[CV] END ................................................C=4; total time=  32.5s\n",
      "[CV] END ................................................C=4; total time=  32.7s\n",
      "[CV] END ................................................C=5; total time=  31.8s\n",
      "[CV] END ................................................C=4; total time=  32.8s\n",
      "[CV] END ................................................C=5; total time=  32.1s\n",
      "[CV] END ................................................C=5; total time=  16.8s\n",
      "[CV] END ................................................C=5; total time=  17.5s\n",
      "[CV] END ................................................C=5; total time=  16.9s\n"
     ]
    },
    {
     "output_type": "execute_result",
     "data": {
      "text/plain": [
       "RandomizedSearchCV(cv=5,\n",
       "                   estimator=LogisticRegression(max_iter=10000, random_state=42,\n",
       "                                                solver='saga'),\n",
       "                   n_jobs=-1,\n",
       "                   param_distributions={'C': [0.1, 0.5, 1, 2, 3, 4, 5]},\n",
       "                   random_state=0, verbose=2)"
      ]
     },
     "metadata": {},
     "execution_count": 407
    }
   ],
   "metadata": {}
  },
  {
   "cell_type": "code",
   "execution_count": 458,
   "source": [
    "clf_lr.best_estimator_"
   ],
   "outputs": [
    {
     "output_type": "execute_result",
     "data": {
      "text/plain": [
       "LogisticRegression(C=0.1, max_iter=10000, random_state=42, solver='saga')"
      ]
     },
     "metadata": {},
     "execution_count": 458
    }
   ],
   "metadata": {}
  },
  {
   "cell_type": "code",
   "execution_count": 437,
   "source": [
    "clf_lr.cv_results_['mean_test_score']"
   ],
   "outputs": [
    {
     "output_type": "execute_result",
     "data": {
      "text/plain": [
       "array([0.79576, 0.79576, 0.79576, 0.79576, 0.79576, 0.79576, 0.79576])"
      ]
     },
     "metadata": {},
     "execution_count": 437
    }
   ],
   "metadata": {}
  },
  {
   "cell_type": "code",
   "execution_count": 459,
   "source": [
    "# Get Validation Curves for the Best Model\n",
    "best_model = clf_lr\n",
    "fig_name = 'output-gnb.png'\n",
    "varying_param = 'C'\n",
    "train_scores, test_scores = validation_curve(best_model.best_estimator_, training.drop(['income>50K'],axis=1),training['income>50K'],cv=5, \n",
    "                                            param_name=varying_param, param_range=param_grid[varying_param], scoring='accuracy', n_jobs=-1)\n",
    "train_scores_mean = np.mean(train_scores, axis=1)\n",
    "train_scores_std = np.std(train_scores, axis=1)\n",
    "test_scores_mean = np.mean(test_scores, axis=1)\n",
    "test_scores_std = np.std(test_scores, axis=1)\n"
   ],
   "outputs": [],
   "metadata": {}
  },
  {
   "cell_type": "code",
   "execution_count": 460,
   "source": [
    "\n",
    "plt.title(\"Validation Curve for Best Model\")\n",
    "plt.xlabel('C')\n",
    "plt.ylabel(\"Score\")\n",
    "plt.ylim(0.0, 1.1)\n",
    "lw = 0.75\n",
    "plt.plot(\n",
    "    param_grid[varying_param], train_scores_mean, label=\"Training score\", color=\"darkorange\", lw=lw\n",
    ")\n",
    "plt.fill_between(\n",
    "    param_grid[varying_param],\n",
    "    train_scores_mean - train_scores_std,\n",
    "    train_scores_mean + train_scores_std,\n",
    "    alpha=0.2,\n",
    "    color=\"darkorange\",\n",
    "    lw=lw,\n",
    ")\n",
    "plt.plot(\n",
    "    param_grid[varying_param], test_scores_mean, label=\"Cross-validation score\", color=\"navy\", lw=lw\n",
    ")\n",
    "plt.fill_between(\n",
    "    param_grid[varying_param],\n",
    "    test_scores_mean - test_scores_std,\n",
    "    test_scores_mean + test_scores_std,\n",
    "    alpha=0.2,\n",
    "    color=\"navy\",\n",
    "    lw=lw,\n",
    ")\n",
    "plt.legend(loc=\"best\")\n",
    "plt.savefig(f'Figures/{fig_name}', dpi=200)\n",
    "plt.show()"
   ],
   "outputs": [
    {
     "output_type": "display_data",
     "data": {
      "text/plain": [
       "<Figure size 432x288 with 1 Axes>"
      ],
      "image/svg+xml": "<?xml version=\"1.0\" encoding=\"utf-8\" standalone=\"no\"?>\n<!DOCTYPE svg PUBLIC \"-//W3C//DTD SVG 1.1//EN\"\n  \"http://www.w3.org/Graphics/SVG/1.1/DTD/svg11.dtd\">\n<svg height=\"277.314375pt\" version=\"1.1\" viewBox=\"0 0 385.78125 277.314375\" width=\"385.78125pt\" xmlns=\"http://www.w3.org/2000/svg\" xmlns:xlink=\"http://www.w3.org/1999/xlink\">\n <metadata>\n  <rdf:RDF xmlns:cc=\"http://creativecommons.org/ns#\" xmlns:dc=\"http://purl.org/dc/elements/1.1/\" xmlns:rdf=\"http://www.w3.org/1999/02/22-rdf-syntax-ns#\">\n   <cc:Work>\n    <dc:type rdf:resource=\"http://purl.org/dc/dcmitype/StillImage\"/>\n    <dc:date>2021-12-19T16:11:53.970374</dc:date>\n    <dc:format>image/svg+xml</dc:format>\n    <dc:creator>\n     <cc:Agent>\n      <dc:title>Matplotlib v3.4.3, https://matplotlib.org/</dc:title>\n     </cc:Agent>\n    </dc:creator>\n   </cc:Work>\n  </rdf:RDF>\n </metadata>\n <defs>\n  <style type=\"text/css\">*{stroke-linecap:butt;stroke-linejoin:round;}</style>\n </defs>\n <g id=\"figure_1\">\n  <g id=\"patch_1\">\n   <path d=\"M 0 277.314375 \nL 385.78125 277.314375 \nL 385.78125 0 \nL 0 0 \nz\n\" style=\"fill:none;\"/>\n  </g>\n  <g id=\"axes_1\">\n   <g id=\"patch_2\">\n    <path d=\"M 43.78125 239.758125 \nL 378.58125 239.758125 \nL 378.58125 22.318125 \nL 43.78125 22.318125 \nz\n\" style=\"fill:#ffffff;\"/>\n   </g>\n   <g id=\"PolyCollection_1\">\n    <defs>\n     <path d=\"M 58.999432 -195.13662 \nL 58.999432 -194.730163 \nL 83.845443 -194.730163 \nL 114.902957 -194.730163 \nL 177.017985 -194.730163 \nL 239.133013 -194.730163 \nL 301.24804 -194.730163 \nL 363.363068 -194.730163 \nL 363.363068 -195.13662 \nL 363.363068 -195.13662 \nL 301.24804 -195.13662 \nL 239.133013 -195.13662 \nL 177.017985 -195.13662 \nL 114.902957 -195.13662 \nL 83.845443 -195.13662 \nL 58.999432 -195.13662 \nz\n\" id=\"mc3e6c06e0e\" style=\"stroke:#ff8c00;stroke-opacity:0.2;stroke-width:0.75;\"/>\n    </defs>\n    <g clip-path=\"url(#p53e1a5bdf6)\">\n     <use style=\"fill:#ff8c00;fill-opacity:0.2;stroke:#ff8c00;stroke-opacity:0.2;stroke-width:0.75;\" x=\"0\" xlink:href=\"#mc3e6c06e0e\" y=\"277.314375\"/>\n    </g>\n   </g>\n   <g id=\"PolyCollection_2\">\n    <defs>\n     <path d=\"M 58.999432 -195.523204 \nL 58.999432 -194.189395 \nL 83.845443 -194.189395 \nL 114.902957 -194.189395 \nL 177.017985 -194.189395 \nL 239.133013 -194.189395 \nL 301.24804 -194.189395 \nL 363.363068 -194.189395 \nL 363.363068 -195.523204 \nL 363.363068 -195.523204 \nL 301.24804 -195.523204 \nL 239.133013 -195.523204 \nL 177.017985 -195.523204 \nL 114.902957 -195.523204 \nL 83.845443 -195.523204 \nL 58.999432 -195.523204 \nz\n\" id=\"m620d6fcd1e\" style=\"stroke:#000080;stroke-opacity:0.2;stroke-width:0.75;\"/>\n    </defs>\n    <g clip-path=\"url(#p53e1a5bdf6)\">\n     <use style=\"fill:#000080;fill-opacity:0.2;stroke:#000080;stroke-opacity:0.2;stroke-width:0.75;\" x=\"0\" xlink:href=\"#m620d6fcd1e\" y=\"277.314375\"/>\n    </g>\n   </g>\n   <g id=\"matplotlib.axis_1\">\n    <g id=\"xtick_1\">\n     <g id=\"line2d_1\">\n      <defs>\n       <path d=\"M 0 0 \nL 0 3.5 \n\" id=\"m4a3c7c5e4b\" style=\"stroke:#000000;stroke-width:0.8;\"/>\n      </defs>\n      <g>\n       <use style=\"stroke:#000000;stroke-width:0.8;\" x=\"52.787929\" xlink:href=\"#m4a3c7c5e4b\" y=\"239.758125\"/>\n      </g>\n     </g>\n     <g id=\"text_1\">\n      <!-- 0 -->\n      <g transform=\"translate(49.606679 254.356562)scale(0.1 -0.1)\">\n       <defs>\n        <path d=\"M 2034 4250 \nQ 1547 4250 1301 3770 \nQ 1056 3291 1056 2328 \nQ 1056 1369 1301 889 \nQ 1547 409 2034 409 \nQ 2525 409 2770 889 \nQ 3016 1369 3016 2328 \nQ 3016 3291 2770 3770 \nQ 2525 4250 2034 4250 \nz\nM 2034 4750 \nQ 2819 4750 3233 4129 \nQ 3647 3509 3647 2328 \nQ 3647 1150 3233 529 \nQ 2819 -91 2034 -91 \nQ 1250 -91 836 529 \nQ 422 1150 422 2328 \nQ 422 3509 836 4129 \nQ 1250 4750 2034 4750 \nz\n\" id=\"DejaVuSans-30\" transform=\"scale(0.015625)\"/>\n       </defs>\n       <use xlink:href=\"#DejaVuSans-30\"/>\n      </g>\n     </g>\n    </g>\n    <g id=\"xtick_2\">\n     <g id=\"line2d_2\">\n      <g>\n       <use style=\"stroke:#000000;stroke-width:0.8;\" x=\"114.902957\" xlink:href=\"#m4a3c7c5e4b\" y=\"239.758125\"/>\n      </g>\n     </g>\n     <g id=\"text_2\">\n      <!-- 1 -->\n      <g transform=\"translate(111.721707 254.356562)scale(0.1 -0.1)\">\n       <defs>\n        <path d=\"M 794 531 \nL 1825 531 \nL 1825 4091 \nL 703 3866 \nL 703 4441 \nL 1819 4666 \nL 2450 4666 \nL 2450 531 \nL 3481 531 \nL 3481 0 \nL 794 0 \nL 794 531 \nz\n\" id=\"DejaVuSans-31\" transform=\"scale(0.015625)\"/>\n       </defs>\n       <use xlink:href=\"#DejaVuSans-31\"/>\n      </g>\n     </g>\n    </g>\n    <g id=\"xtick_3\">\n     <g id=\"line2d_3\">\n      <g>\n       <use style=\"stroke:#000000;stroke-width:0.8;\" x=\"177.017985\" xlink:href=\"#m4a3c7c5e4b\" y=\"239.758125\"/>\n      </g>\n     </g>\n     <g id=\"text_3\">\n      <!-- 2 -->\n      <g transform=\"translate(173.836735 254.356562)scale(0.1 -0.1)\">\n       <defs>\n        <path d=\"M 1228 531 \nL 3431 531 \nL 3431 0 \nL 469 0 \nL 469 531 \nQ 828 903 1448 1529 \nQ 2069 2156 2228 2338 \nQ 2531 2678 2651 2914 \nQ 2772 3150 2772 3378 \nQ 2772 3750 2511 3984 \nQ 2250 4219 1831 4219 \nQ 1534 4219 1204 4116 \nQ 875 4013 500 3803 \nL 500 4441 \nQ 881 4594 1212 4672 \nQ 1544 4750 1819 4750 \nQ 2544 4750 2975 4387 \nQ 3406 4025 3406 3419 \nQ 3406 3131 3298 2873 \nQ 3191 2616 2906 2266 \nQ 2828 2175 2409 1742 \nQ 1991 1309 1228 531 \nz\n\" id=\"DejaVuSans-32\" transform=\"scale(0.015625)\"/>\n       </defs>\n       <use xlink:href=\"#DejaVuSans-32\"/>\n      </g>\n     </g>\n    </g>\n    <g id=\"xtick_4\">\n     <g id=\"line2d_4\">\n      <g>\n       <use style=\"stroke:#000000;stroke-width:0.8;\" x=\"239.133013\" xlink:href=\"#m4a3c7c5e4b\" y=\"239.758125\"/>\n      </g>\n     </g>\n     <g id=\"text_4\">\n      <!-- 3 -->\n      <g transform=\"translate(235.951763 254.356562)scale(0.1 -0.1)\">\n       <defs>\n        <path d=\"M 2597 2516 \nQ 3050 2419 3304 2112 \nQ 3559 1806 3559 1356 \nQ 3559 666 3084 287 \nQ 2609 -91 1734 -91 \nQ 1441 -91 1130 -33 \nQ 819 25 488 141 \nL 488 750 \nQ 750 597 1062 519 \nQ 1375 441 1716 441 \nQ 2309 441 2620 675 \nQ 2931 909 2931 1356 \nQ 2931 1769 2642 2001 \nQ 2353 2234 1838 2234 \nL 1294 2234 \nL 1294 2753 \nL 1863 2753 \nQ 2328 2753 2575 2939 \nQ 2822 3125 2822 3475 \nQ 2822 3834 2567 4026 \nQ 2313 4219 1838 4219 \nQ 1578 4219 1281 4162 \nQ 984 4106 628 3988 \nL 628 4550 \nQ 988 4650 1302 4700 \nQ 1616 4750 1894 4750 \nQ 2613 4750 3031 4423 \nQ 3450 4097 3450 3541 \nQ 3450 3153 3228 2886 \nQ 3006 2619 2597 2516 \nz\n\" id=\"DejaVuSans-33\" transform=\"scale(0.015625)\"/>\n       </defs>\n       <use xlink:href=\"#DejaVuSans-33\"/>\n      </g>\n     </g>\n    </g>\n    <g id=\"xtick_5\">\n     <g id=\"line2d_5\">\n      <g>\n       <use style=\"stroke:#000000;stroke-width:0.8;\" x=\"301.24804\" xlink:href=\"#m4a3c7c5e4b\" y=\"239.758125\"/>\n      </g>\n     </g>\n     <g id=\"text_5\">\n      <!-- 4 -->\n      <g transform=\"translate(298.06679 254.356562)scale(0.1 -0.1)\">\n       <defs>\n        <path d=\"M 2419 4116 \nL 825 1625 \nL 2419 1625 \nL 2419 4116 \nz\nM 2253 4666 \nL 3047 4666 \nL 3047 1625 \nL 3713 1625 \nL 3713 1100 \nL 3047 1100 \nL 3047 0 \nL 2419 0 \nL 2419 1100 \nL 313 1100 \nL 313 1709 \nL 2253 4666 \nz\n\" id=\"DejaVuSans-34\" transform=\"scale(0.015625)\"/>\n       </defs>\n       <use xlink:href=\"#DejaVuSans-34\"/>\n      </g>\n     </g>\n    </g>\n    <g id=\"xtick_6\">\n     <g id=\"line2d_6\">\n      <g>\n       <use style=\"stroke:#000000;stroke-width:0.8;\" x=\"363.363068\" xlink:href=\"#m4a3c7c5e4b\" y=\"239.758125\"/>\n      </g>\n     </g>\n     <g id=\"text_6\">\n      <!-- 5 -->\n      <g transform=\"translate(360.181818 254.356562)scale(0.1 -0.1)\">\n       <defs>\n        <path d=\"M 691 4666 \nL 3169 4666 \nL 3169 4134 \nL 1269 4134 \nL 1269 2991 \nQ 1406 3038 1543 3061 \nQ 1681 3084 1819 3084 \nQ 2600 3084 3056 2656 \nQ 3513 2228 3513 1497 \nQ 3513 744 3044 326 \nQ 2575 -91 1722 -91 \nQ 1428 -91 1123 -41 \nQ 819 9 494 109 \nL 494 744 \nQ 775 591 1075 516 \nQ 1375 441 1709 441 \nQ 2250 441 2565 725 \nQ 2881 1009 2881 1497 \nQ 2881 1984 2565 2268 \nQ 2250 2553 1709 2553 \nQ 1456 2553 1204 2497 \nQ 953 2441 691 2322 \nL 691 4666 \nz\n\" id=\"DejaVuSans-35\" transform=\"scale(0.015625)\"/>\n       </defs>\n       <use xlink:href=\"#DejaVuSans-35\"/>\n      </g>\n     </g>\n    </g>\n    <g id=\"text_7\">\n     <!-- C -->\n     <g transform=\"translate(207.689844 268.034687)scale(0.1 -0.1)\">\n      <defs>\n       <path d=\"M 4122 4306 \nL 4122 3641 \nQ 3803 3938 3442 4084 \nQ 3081 4231 2675 4231 \nQ 1875 4231 1450 3742 \nQ 1025 3253 1025 2328 \nQ 1025 1406 1450 917 \nQ 1875 428 2675 428 \nQ 3081 428 3442 575 \nQ 3803 722 4122 1019 \nL 4122 359 \nQ 3791 134 3420 21 \nQ 3050 -91 2638 -91 \nQ 1578 -91 968 557 \nQ 359 1206 359 2328 \nQ 359 3453 968 4101 \nQ 1578 4750 2638 4750 \nQ 3056 4750 3426 4639 \nQ 3797 4528 4122 4306 \nz\n\" id=\"DejaVuSans-43\" transform=\"scale(0.015625)\"/>\n      </defs>\n      <use xlink:href=\"#DejaVuSans-43\"/>\n     </g>\n    </g>\n   </g>\n   <g id=\"matplotlib.axis_2\">\n    <g id=\"ytick_1\">\n     <g id=\"line2d_7\">\n      <defs>\n       <path d=\"M 0 0 \nL -3.5 0 \n\" id=\"m5f8099afc6\" style=\"stroke:#000000;stroke-width:0.8;\"/>\n      </defs>\n      <g>\n       <use style=\"stroke:#000000;stroke-width:0.8;\" x=\"43.78125\" xlink:href=\"#m5f8099afc6\" y=\"239.758125\"/>\n      </g>\n     </g>\n     <g id=\"text_8\">\n      <!-- 0.0 -->\n      <g transform=\"translate(20.878125 243.557344)scale(0.1 -0.1)\">\n       <defs>\n        <path d=\"M 684 794 \nL 1344 794 \nL 1344 0 \nL 684 0 \nL 684 794 \nz\n\" id=\"DejaVuSans-2e\" transform=\"scale(0.015625)\"/>\n       </defs>\n       <use xlink:href=\"#DejaVuSans-30\"/>\n       <use x=\"63.623047\" xlink:href=\"#DejaVuSans-2e\"/>\n       <use x=\"95.410156\" xlink:href=\"#DejaVuSans-30\"/>\n      </g>\n     </g>\n    </g>\n    <g id=\"ytick_2\">\n     <g id=\"line2d_8\">\n      <g>\n       <use style=\"stroke:#000000;stroke-width:0.8;\" x=\"43.78125\" xlink:href=\"#m5f8099afc6\" y=\"200.22358\"/>\n      </g>\n     </g>\n     <g id=\"text_9\">\n      <!-- 0.2 -->\n      <g transform=\"translate(20.878125 204.022798)scale(0.1 -0.1)\">\n       <use xlink:href=\"#DejaVuSans-30\"/>\n       <use x=\"63.623047\" xlink:href=\"#DejaVuSans-2e\"/>\n       <use x=\"95.410156\" xlink:href=\"#DejaVuSans-32\"/>\n      </g>\n     </g>\n    </g>\n    <g id=\"ytick_3\">\n     <g id=\"line2d_9\">\n      <g>\n       <use style=\"stroke:#000000;stroke-width:0.8;\" x=\"43.78125\" xlink:href=\"#m5f8099afc6\" y=\"160.689034\"/>\n      </g>\n     </g>\n     <g id=\"text_10\">\n      <!-- 0.4 -->\n      <g transform=\"translate(20.878125 164.488253)scale(0.1 -0.1)\">\n       <use xlink:href=\"#DejaVuSans-30\"/>\n       <use x=\"63.623047\" xlink:href=\"#DejaVuSans-2e\"/>\n       <use x=\"95.410156\" xlink:href=\"#DejaVuSans-34\"/>\n      </g>\n     </g>\n    </g>\n    <g id=\"ytick_4\">\n     <g id=\"line2d_10\">\n      <g>\n       <use style=\"stroke:#000000;stroke-width:0.8;\" x=\"43.78125\" xlink:href=\"#m5f8099afc6\" y=\"121.154489\"/>\n      </g>\n     </g>\n     <g id=\"text_11\">\n      <!-- 0.6 -->\n      <g transform=\"translate(20.878125 124.953707)scale(0.1 -0.1)\">\n       <defs>\n        <path d=\"M 2113 2584 \nQ 1688 2584 1439 2293 \nQ 1191 2003 1191 1497 \nQ 1191 994 1439 701 \nQ 1688 409 2113 409 \nQ 2538 409 2786 701 \nQ 3034 994 3034 1497 \nQ 3034 2003 2786 2293 \nQ 2538 2584 2113 2584 \nz\nM 3366 4563 \nL 3366 3988 \nQ 3128 4100 2886 4159 \nQ 2644 4219 2406 4219 \nQ 1781 4219 1451 3797 \nQ 1122 3375 1075 2522 \nQ 1259 2794 1537 2939 \nQ 1816 3084 2150 3084 \nQ 2853 3084 3261 2657 \nQ 3669 2231 3669 1497 \nQ 3669 778 3244 343 \nQ 2819 -91 2113 -91 \nQ 1303 -91 875 529 \nQ 447 1150 447 2328 \nQ 447 3434 972 4092 \nQ 1497 4750 2381 4750 \nQ 2619 4750 2861 4703 \nQ 3103 4656 3366 4563 \nz\n\" id=\"DejaVuSans-36\" transform=\"scale(0.015625)\"/>\n       </defs>\n       <use xlink:href=\"#DejaVuSans-30\"/>\n       <use x=\"63.623047\" xlink:href=\"#DejaVuSans-2e\"/>\n       <use x=\"95.410156\" xlink:href=\"#DejaVuSans-36\"/>\n      </g>\n     </g>\n    </g>\n    <g id=\"ytick_5\">\n     <g id=\"line2d_11\">\n      <g>\n       <use style=\"stroke:#000000;stroke-width:0.8;\" x=\"43.78125\" xlink:href=\"#m5f8099afc6\" y=\"81.619943\"/>\n      </g>\n     </g>\n     <g id=\"text_12\">\n      <!-- 0.8 -->\n      <g transform=\"translate(20.878125 85.419162)scale(0.1 -0.1)\">\n       <defs>\n        <path d=\"M 2034 2216 \nQ 1584 2216 1326 1975 \nQ 1069 1734 1069 1313 \nQ 1069 891 1326 650 \nQ 1584 409 2034 409 \nQ 2484 409 2743 651 \nQ 3003 894 3003 1313 \nQ 3003 1734 2745 1975 \nQ 2488 2216 2034 2216 \nz\nM 1403 2484 \nQ 997 2584 770 2862 \nQ 544 3141 544 3541 \nQ 544 4100 942 4425 \nQ 1341 4750 2034 4750 \nQ 2731 4750 3128 4425 \nQ 3525 4100 3525 3541 \nQ 3525 3141 3298 2862 \nQ 3072 2584 2669 2484 \nQ 3125 2378 3379 2068 \nQ 3634 1759 3634 1313 \nQ 3634 634 3220 271 \nQ 2806 -91 2034 -91 \nQ 1263 -91 848 271 \nQ 434 634 434 1313 \nQ 434 1759 690 2068 \nQ 947 2378 1403 2484 \nz\nM 1172 3481 \nQ 1172 3119 1398 2916 \nQ 1625 2713 2034 2713 \nQ 2441 2713 2670 2916 \nQ 2900 3119 2900 3481 \nQ 2900 3844 2670 4047 \nQ 2441 4250 2034 4250 \nQ 1625 4250 1398 4047 \nQ 1172 3844 1172 3481 \nz\n\" id=\"DejaVuSans-38\" transform=\"scale(0.015625)\"/>\n       </defs>\n       <use xlink:href=\"#DejaVuSans-30\"/>\n       <use x=\"63.623047\" xlink:href=\"#DejaVuSans-2e\"/>\n       <use x=\"95.410156\" xlink:href=\"#DejaVuSans-38\"/>\n      </g>\n     </g>\n    </g>\n    <g id=\"ytick_6\">\n     <g id=\"line2d_12\">\n      <g>\n       <use style=\"stroke:#000000;stroke-width:0.8;\" x=\"43.78125\" xlink:href=\"#m5f8099afc6\" y=\"42.085398\"/>\n      </g>\n     </g>\n     <g id=\"text_13\">\n      <!-- 1.0 -->\n      <g transform=\"translate(20.878125 45.884616)scale(0.1 -0.1)\">\n       <use xlink:href=\"#DejaVuSans-31\"/>\n       <use x=\"63.623047\" xlink:href=\"#DejaVuSans-2e\"/>\n       <use x=\"95.410156\" xlink:href=\"#DejaVuSans-30\"/>\n      </g>\n     </g>\n    </g>\n    <g id=\"text_14\">\n     <!-- Score -->\n     <g transform=\"translate(14.798438 145.040469)rotate(-90)scale(0.1 -0.1)\">\n      <defs>\n       <path d=\"M 3425 4513 \nL 3425 3897 \nQ 3066 4069 2747 4153 \nQ 2428 4238 2131 4238 \nQ 1616 4238 1336 4038 \nQ 1056 3838 1056 3469 \nQ 1056 3159 1242 3001 \nQ 1428 2844 1947 2747 \nL 2328 2669 \nQ 3034 2534 3370 2195 \nQ 3706 1856 3706 1288 \nQ 3706 609 3251 259 \nQ 2797 -91 1919 -91 \nQ 1588 -91 1214 -16 \nQ 841 59 441 206 \nL 441 856 \nQ 825 641 1194 531 \nQ 1563 422 1919 422 \nQ 2459 422 2753 634 \nQ 3047 847 3047 1241 \nQ 3047 1584 2836 1778 \nQ 2625 1972 2144 2069 \nL 1759 2144 \nQ 1053 2284 737 2584 \nQ 422 2884 422 3419 \nQ 422 4038 858 4394 \nQ 1294 4750 2059 4750 \nQ 2388 4750 2728 4690 \nQ 3069 4631 3425 4513 \nz\n\" id=\"DejaVuSans-53\" transform=\"scale(0.015625)\"/>\n       <path d=\"M 3122 3366 \nL 3122 2828 \nQ 2878 2963 2633 3030 \nQ 2388 3097 2138 3097 \nQ 1578 3097 1268 2742 \nQ 959 2388 959 1747 \nQ 959 1106 1268 751 \nQ 1578 397 2138 397 \nQ 2388 397 2633 464 \nQ 2878 531 3122 666 \nL 3122 134 \nQ 2881 22 2623 -34 \nQ 2366 -91 2075 -91 \nQ 1284 -91 818 406 \nQ 353 903 353 1747 \nQ 353 2603 823 3093 \nQ 1294 3584 2113 3584 \nQ 2378 3584 2631 3529 \nQ 2884 3475 3122 3366 \nz\n\" id=\"DejaVuSans-63\" transform=\"scale(0.015625)\"/>\n       <path d=\"M 1959 3097 \nQ 1497 3097 1228 2736 \nQ 959 2375 959 1747 \nQ 959 1119 1226 758 \nQ 1494 397 1959 397 \nQ 2419 397 2687 759 \nQ 2956 1122 2956 1747 \nQ 2956 2369 2687 2733 \nQ 2419 3097 1959 3097 \nz\nM 1959 3584 \nQ 2709 3584 3137 3096 \nQ 3566 2609 3566 1747 \nQ 3566 888 3137 398 \nQ 2709 -91 1959 -91 \nQ 1206 -91 779 398 \nQ 353 888 353 1747 \nQ 353 2609 779 3096 \nQ 1206 3584 1959 3584 \nz\n\" id=\"DejaVuSans-6f\" transform=\"scale(0.015625)\"/>\n       <path d=\"M 2631 2963 \nQ 2534 3019 2420 3045 \nQ 2306 3072 2169 3072 \nQ 1681 3072 1420 2755 \nQ 1159 2438 1159 1844 \nL 1159 0 \nL 581 0 \nL 581 3500 \nL 1159 3500 \nL 1159 2956 \nQ 1341 3275 1631 3429 \nQ 1922 3584 2338 3584 \nQ 2397 3584 2469 3576 \nQ 2541 3569 2628 3553 \nL 2631 2963 \nz\n\" id=\"DejaVuSans-72\" transform=\"scale(0.015625)\"/>\n       <path d=\"M 3597 1894 \nL 3597 1613 \nL 953 1613 \nQ 991 1019 1311 708 \nQ 1631 397 2203 397 \nQ 2534 397 2845 478 \nQ 3156 559 3463 722 \nL 3463 178 \nQ 3153 47 2828 -22 \nQ 2503 -91 2169 -91 \nQ 1331 -91 842 396 \nQ 353 884 353 1716 \nQ 353 2575 817 3079 \nQ 1281 3584 2069 3584 \nQ 2775 3584 3186 3129 \nQ 3597 2675 3597 1894 \nz\nM 3022 2063 \nQ 3016 2534 2758 2815 \nQ 2500 3097 2075 3097 \nQ 1594 3097 1305 2825 \nQ 1016 2553 972 2059 \nL 3022 2063 \nz\n\" id=\"DejaVuSans-65\" transform=\"scale(0.015625)\"/>\n      </defs>\n      <use xlink:href=\"#DejaVuSans-53\"/>\n      <use x=\"63.476562\" xlink:href=\"#DejaVuSans-63\"/>\n      <use x=\"118.457031\" xlink:href=\"#DejaVuSans-6f\"/>\n      <use x=\"179.638672\" xlink:href=\"#DejaVuSans-72\"/>\n      <use x=\"218.501953\" xlink:href=\"#DejaVuSans-65\"/>\n     </g>\n    </g>\n   </g>\n   <g id=\"line2d_13\">\n    <path clip-path=\"url(#p53e1a5bdf6)\" d=\"M 58.999432 82.380983 \nL 83.845443 82.380983 \nL 114.902957 82.380983 \nL 177.017985 82.380983 \nL 239.133013 82.380983 \nL 301.24804 82.380983 \nL 363.363068 82.380983 \n\" style=\"fill:none;stroke:#ff8c00;stroke-linecap:square;stroke-width:0.75;\"/>\n   </g>\n   <g id=\"line2d_14\">\n    <path clip-path=\"url(#p53e1a5bdf6)\" d=\"M 58.999432 82.458076 \nL 83.845443 82.458076 \nL 114.902957 82.458076 \nL 177.017985 82.458076 \nL 239.133013 82.458076 \nL 301.24804 82.458076 \nL 363.363068 82.458076 \n\" style=\"fill:none;stroke:#000080;stroke-linecap:square;stroke-width:0.75;\"/>\n   </g>\n   <g id=\"patch_3\">\n    <path d=\"M 43.78125 239.758125 \nL 43.78125 22.318125 \n\" style=\"fill:none;stroke:#000000;stroke-linecap:square;stroke-linejoin:miter;stroke-width:0.8;\"/>\n   </g>\n   <g id=\"patch_4\">\n    <path d=\"M 378.58125 239.758125 \nL 378.58125 22.318125 \n\" style=\"fill:none;stroke:#000000;stroke-linecap:square;stroke-linejoin:miter;stroke-width:0.8;\"/>\n   </g>\n   <g id=\"patch_5\">\n    <path d=\"M 43.78125 239.758125 \nL 378.58125 239.758125 \n\" style=\"fill:none;stroke:#000000;stroke-linecap:square;stroke-linejoin:miter;stroke-width:0.8;\"/>\n   </g>\n   <g id=\"patch_6\">\n    <path d=\"M 43.78125 22.318125 \nL 378.58125 22.318125 \n\" style=\"fill:none;stroke:#000000;stroke-linecap:square;stroke-linejoin:miter;stroke-width:0.8;\"/>\n   </g>\n   <g id=\"text_15\">\n    <!-- Validation Curve for Best Model -->\n    <g transform=\"translate(116.670938 16.318125)scale(0.12 -0.12)\">\n     <defs>\n      <path d=\"M 1831 0 \nL 50 4666 \nL 709 4666 \nL 2188 738 \nL 3669 4666 \nL 4325 4666 \nL 2547 0 \nL 1831 0 \nz\n\" id=\"DejaVuSans-56\" transform=\"scale(0.015625)\"/>\n      <path d=\"M 2194 1759 \nQ 1497 1759 1228 1600 \nQ 959 1441 959 1056 \nQ 959 750 1161 570 \nQ 1363 391 1709 391 \nQ 2188 391 2477 730 \nQ 2766 1069 2766 1631 \nL 2766 1759 \nL 2194 1759 \nz\nM 3341 1997 \nL 3341 0 \nL 2766 0 \nL 2766 531 \nQ 2569 213 2275 61 \nQ 1981 -91 1556 -91 \nQ 1019 -91 701 211 \nQ 384 513 384 1019 \nQ 384 1609 779 1909 \nQ 1175 2209 1959 2209 \nL 2766 2209 \nL 2766 2266 \nQ 2766 2663 2505 2880 \nQ 2244 3097 1772 3097 \nQ 1472 3097 1187 3025 \nQ 903 2953 641 2809 \nL 641 3341 \nQ 956 3463 1253 3523 \nQ 1550 3584 1831 3584 \nQ 2591 3584 2966 3190 \nQ 3341 2797 3341 1997 \nz\n\" id=\"DejaVuSans-61\" transform=\"scale(0.015625)\"/>\n      <path d=\"M 603 4863 \nL 1178 4863 \nL 1178 0 \nL 603 0 \nL 603 4863 \nz\n\" id=\"DejaVuSans-6c\" transform=\"scale(0.015625)\"/>\n      <path d=\"M 603 3500 \nL 1178 3500 \nL 1178 0 \nL 603 0 \nL 603 3500 \nz\nM 603 4863 \nL 1178 4863 \nL 1178 4134 \nL 603 4134 \nL 603 4863 \nz\n\" id=\"DejaVuSans-69\" transform=\"scale(0.015625)\"/>\n      <path d=\"M 2906 2969 \nL 2906 4863 \nL 3481 4863 \nL 3481 0 \nL 2906 0 \nL 2906 525 \nQ 2725 213 2448 61 \nQ 2172 -91 1784 -91 \nQ 1150 -91 751 415 \nQ 353 922 353 1747 \nQ 353 2572 751 3078 \nQ 1150 3584 1784 3584 \nQ 2172 3584 2448 3432 \nQ 2725 3281 2906 2969 \nz\nM 947 1747 \nQ 947 1113 1208 752 \nQ 1469 391 1925 391 \nQ 2381 391 2643 752 \nQ 2906 1113 2906 1747 \nQ 2906 2381 2643 2742 \nQ 2381 3103 1925 3103 \nQ 1469 3103 1208 2742 \nQ 947 2381 947 1747 \nz\n\" id=\"DejaVuSans-64\" transform=\"scale(0.015625)\"/>\n      <path d=\"M 1172 4494 \nL 1172 3500 \nL 2356 3500 \nL 2356 3053 \nL 1172 3053 \nL 1172 1153 \nQ 1172 725 1289 603 \nQ 1406 481 1766 481 \nL 2356 481 \nL 2356 0 \nL 1766 0 \nQ 1100 0 847 248 \nQ 594 497 594 1153 \nL 594 3053 \nL 172 3053 \nL 172 3500 \nL 594 3500 \nL 594 4494 \nL 1172 4494 \nz\n\" id=\"DejaVuSans-74\" transform=\"scale(0.015625)\"/>\n      <path d=\"M 3513 2113 \nL 3513 0 \nL 2938 0 \nL 2938 2094 \nQ 2938 2591 2744 2837 \nQ 2550 3084 2163 3084 \nQ 1697 3084 1428 2787 \nQ 1159 2491 1159 1978 \nL 1159 0 \nL 581 0 \nL 581 3500 \nL 1159 3500 \nL 1159 2956 \nQ 1366 3272 1645 3428 \nQ 1925 3584 2291 3584 \nQ 2894 3584 3203 3211 \nQ 3513 2838 3513 2113 \nz\n\" id=\"DejaVuSans-6e\" transform=\"scale(0.015625)\"/>\n      <path id=\"DejaVuSans-20\" transform=\"scale(0.015625)\"/>\n      <path d=\"M 544 1381 \nL 544 3500 \nL 1119 3500 \nL 1119 1403 \nQ 1119 906 1312 657 \nQ 1506 409 1894 409 \nQ 2359 409 2629 706 \nQ 2900 1003 2900 1516 \nL 2900 3500 \nL 3475 3500 \nL 3475 0 \nL 2900 0 \nL 2900 538 \nQ 2691 219 2414 64 \nQ 2138 -91 1772 -91 \nQ 1169 -91 856 284 \nQ 544 659 544 1381 \nz\nM 1991 3584 \nL 1991 3584 \nz\n\" id=\"DejaVuSans-75\" transform=\"scale(0.015625)\"/>\n      <path d=\"M 191 3500 \nL 800 3500 \nL 1894 563 \nL 2988 3500 \nL 3597 3500 \nL 2284 0 \nL 1503 0 \nL 191 3500 \nz\n\" id=\"DejaVuSans-76\" transform=\"scale(0.015625)\"/>\n      <path d=\"M 2375 4863 \nL 2375 4384 \nL 1825 4384 \nQ 1516 4384 1395 4259 \nQ 1275 4134 1275 3809 \nL 1275 3500 \nL 2222 3500 \nL 2222 3053 \nL 1275 3053 \nL 1275 0 \nL 697 0 \nL 697 3053 \nL 147 3053 \nL 147 3500 \nL 697 3500 \nL 697 3744 \nQ 697 4328 969 4595 \nQ 1241 4863 1831 4863 \nL 2375 4863 \nz\n\" id=\"DejaVuSans-66\" transform=\"scale(0.015625)\"/>\n      <path d=\"M 1259 2228 \nL 1259 519 \nL 2272 519 \nQ 2781 519 3026 730 \nQ 3272 941 3272 1375 \nQ 3272 1813 3026 2020 \nQ 2781 2228 2272 2228 \nL 1259 2228 \nz\nM 1259 4147 \nL 1259 2741 \nL 2194 2741 \nQ 2656 2741 2882 2914 \nQ 3109 3088 3109 3444 \nQ 3109 3797 2882 3972 \nQ 2656 4147 2194 4147 \nL 1259 4147 \nz\nM 628 4666 \nL 2241 4666 \nQ 2963 4666 3353 4366 \nQ 3744 4066 3744 3513 \nQ 3744 3084 3544 2831 \nQ 3344 2578 2956 2516 \nQ 3422 2416 3680 2098 \nQ 3938 1781 3938 1306 \nQ 3938 681 3513 340 \nQ 3088 0 2303 0 \nL 628 0 \nL 628 4666 \nz\n\" id=\"DejaVuSans-42\" transform=\"scale(0.015625)\"/>\n      <path d=\"M 2834 3397 \nL 2834 2853 \nQ 2591 2978 2328 3040 \nQ 2066 3103 1784 3103 \nQ 1356 3103 1142 2972 \nQ 928 2841 928 2578 \nQ 928 2378 1081 2264 \nQ 1234 2150 1697 2047 \nL 1894 2003 \nQ 2506 1872 2764 1633 \nQ 3022 1394 3022 966 \nQ 3022 478 2636 193 \nQ 2250 -91 1575 -91 \nQ 1294 -91 989 -36 \nQ 684 19 347 128 \nL 347 722 \nQ 666 556 975 473 \nQ 1284 391 1588 391 \nQ 1994 391 2212 530 \nQ 2431 669 2431 922 \nQ 2431 1156 2273 1281 \nQ 2116 1406 1581 1522 \nL 1381 1569 \nQ 847 1681 609 1914 \nQ 372 2147 372 2553 \nQ 372 3047 722 3315 \nQ 1072 3584 1716 3584 \nQ 2034 3584 2315 3537 \nQ 2597 3491 2834 3397 \nz\n\" id=\"DejaVuSans-73\" transform=\"scale(0.015625)\"/>\n      <path d=\"M 628 4666 \nL 1569 4666 \nL 2759 1491 \nL 3956 4666 \nL 4897 4666 \nL 4897 0 \nL 4281 0 \nL 4281 4097 \nL 3078 897 \nL 2444 897 \nL 1241 4097 \nL 1241 0 \nL 628 0 \nL 628 4666 \nz\n\" id=\"DejaVuSans-4d\" transform=\"scale(0.015625)\"/>\n     </defs>\n     <use xlink:href=\"#DejaVuSans-56\"/>\n     <use x=\"60.658203\" xlink:href=\"#DejaVuSans-61\"/>\n     <use x=\"121.9375\" xlink:href=\"#DejaVuSans-6c\"/>\n     <use x=\"149.720703\" xlink:href=\"#DejaVuSans-69\"/>\n     <use x=\"177.503906\" xlink:href=\"#DejaVuSans-64\"/>\n     <use x=\"240.980469\" xlink:href=\"#DejaVuSans-61\"/>\n     <use x=\"302.259766\" xlink:href=\"#DejaVuSans-74\"/>\n     <use x=\"341.46875\" xlink:href=\"#DejaVuSans-69\"/>\n     <use x=\"369.251953\" xlink:href=\"#DejaVuSans-6f\"/>\n     <use x=\"430.433594\" xlink:href=\"#DejaVuSans-6e\"/>\n     <use x=\"493.8125\" xlink:href=\"#DejaVuSans-20\"/>\n     <use x=\"525.599609\" xlink:href=\"#DejaVuSans-43\"/>\n     <use x=\"595.423828\" xlink:href=\"#DejaVuSans-75\"/>\n     <use x=\"658.802734\" xlink:href=\"#DejaVuSans-72\"/>\n     <use x=\"699.916016\" xlink:href=\"#DejaVuSans-76\"/>\n     <use x=\"759.095703\" xlink:href=\"#DejaVuSans-65\"/>\n     <use x=\"820.619141\" xlink:href=\"#DejaVuSans-20\"/>\n     <use x=\"852.40625\" xlink:href=\"#DejaVuSans-66\"/>\n     <use x=\"887.611328\" xlink:href=\"#DejaVuSans-6f\"/>\n     <use x=\"948.792969\" xlink:href=\"#DejaVuSans-72\"/>\n     <use x=\"989.90625\" xlink:href=\"#DejaVuSans-20\"/>\n     <use x=\"1021.693359\" xlink:href=\"#DejaVuSans-42\"/>\n     <use x=\"1090.296875\" xlink:href=\"#DejaVuSans-65\"/>\n     <use x=\"1151.820312\" xlink:href=\"#DejaVuSans-73\"/>\n     <use x=\"1203.919922\" xlink:href=\"#DejaVuSans-74\"/>\n     <use x=\"1243.128906\" xlink:href=\"#DejaVuSans-20\"/>\n     <use x=\"1274.916016\" xlink:href=\"#DejaVuSans-4d\"/>\n     <use x=\"1361.195312\" xlink:href=\"#DejaVuSans-6f\"/>\n     <use x=\"1422.376953\" xlink:href=\"#DejaVuSans-64\"/>\n     <use x=\"1485.853516\" xlink:href=\"#DejaVuSans-65\"/>\n     <use x=\"1547.376953\" xlink:href=\"#DejaVuSans-6c\"/>\n    </g>\n   </g>\n   <g id=\"legend_1\">\n    <g id=\"patch_7\">\n     <path d=\"M 229.551562 59.674375 \nL 371.58125 59.674375 \nQ 373.58125 59.674375 373.58125 57.674375 \nL 373.58125 29.318125 \nQ 373.58125 27.318125 371.58125 27.318125 \nL 229.551562 27.318125 \nQ 227.551562 27.318125 227.551562 29.318125 \nL 227.551562 57.674375 \nQ 227.551562 59.674375 229.551562 59.674375 \nz\n\" style=\"fill:#ffffff;opacity:0.8;stroke:#cccccc;stroke-linejoin:miter;\"/>\n    </g>\n    <g id=\"line2d_15\">\n     <path d=\"M 231.551562 35.416562 \nL 251.551562 35.416562 \n\" style=\"fill:none;stroke:#ff8c00;stroke-linecap:square;stroke-width:0.75;\"/>\n    </g>\n    <g id=\"line2d_16\"/>\n    <g id=\"text_16\">\n     <!-- Training score -->\n     <g transform=\"translate(259.551562 38.916562)scale(0.1 -0.1)\">\n      <defs>\n       <path d=\"M -19 4666 \nL 3928 4666 \nL 3928 4134 \nL 2272 4134 \nL 2272 0 \nL 1638 0 \nL 1638 4134 \nL -19 4134 \nL -19 4666 \nz\n\" id=\"DejaVuSans-54\" transform=\"scale(0.015625)\"/>\n       <path d=\"M 2906 1791 \nQ 2906 2416 2648 2759 \nQ 2391 3103 1925 3103 \nQ 1463 3103 1205 2759 \nQ 947 2416 947 1791 \nQ 947 1169 1205 825 \nQ 1463 481 1925 481 \nQ 2391 481 2648 825 \nQ 2906 1169 2906 1791 \nz\nM 3481 434 \nQ 3481 -459 3084 -895 \nQ 2688 -1331 1869 -1331 \nQ 1566 -1331 1297 -1286 \nQ 1028 -1241 775 -1147 \nL 775 -588 \nQ 1028 -725 1275 -790 \nQ 1522 -856 1778 -856 \nQ 2344 -856 2625 -561 \nQ 2906 -266 2906 331 \nL 2906 616 \nQ 2728 306 2450 153 \nQ 2172 0 1784 0 \nQ 1141 0 747 490 \nQ 353 981 353 1791 \nQ 353 2603 747 3093 \nQ 1141 3584 1784 3584 \nQ 2172 3584 2450 3431 \nQ 2728 3278 2906 2969 \nL 2906 3500 \nL 3481 3500 \nL 3481 434 \nz\n\" id=\"DejaVuSans-67\" transform=\"scale(0.015625)\"/>\n      </defs>\n      <use xlink:href=\"#DejaVuSans-54\"/>\n      <use x=\"46.333984\" xlink:href=\"#DejaVuSans-72\"/>\n      <use x=\"87.447266\" xlink:href=\"#DejaVuSans-61\"/>\n      <use x=\"148.726562\" xlink:href=\"#DejaVuSans-69\"/>\n      <use x=\"176.509766\" xlink:href=\"#DejaVuSans-6e\"/>\n      <use x=\"239.888672\" xlink:href=\"#DejaVuSans-69\"/>\n      <use x=\"267.671875\" xlink:href=\"#DejaVuSans-6e\"/>\n      <use x=\"331.050781\" xlink:href=\"#DejaVuSans-67\"/>\n      <use x=\"394.527344\" xlink:href=\"#DejaVuSans-20\"/>\n      <use x=\"426.314453\" xlink:href=\"#DejaVuSans-73\"/>\n      <use x=\"478.414062\" xlink:href=\"#DejaVuSans-63\"/>\n      <use x=\"533.394531\" xlink:href=\"#DejaVuSans-6f\"/>\n      <use x=\"594.576172\" xlink:href=\"#DejaVuSans-72\"/>\n      <use x=\"633.439453\" xlink:href=\"#DejaVuSans-65\"/>\n     </g>\n    </g>\n    <g id=\"line2d_17\">\n     <path d=\"M 231.551562 50.094687 \nL 251.551562 50.094687 \n\" style=\"fill:none;stroke:#000080;stroke-linecap:square;stroke-width:0.75;\"/>\n    </g>\n    <g id=\"line2d_18\"/>\n    <g id=\"text_17\">\n     <!-- Cross-validation score -->\n     <g transform=\"translate(259.551562 53.594687)scale(0.1 -0.1)\">\n      <defs>\n       <path d=\"M 313 2009 \nL 1997 2009 \nL 1997 1497 \nL 313 1497 \nL 313 2009 \nz\n\" id=\"DejaVuSans-2d\" transform=\"scale(0.015625)\"/>\n      </defs>\n      <use xlink:href=\"#DejaVuSans-43\"/>\n      <use x=\"69.824219\" xlink:href=\"#DejaVuSans-72\"/>\n      <use x=\"108.6875\" xlink:href=\"#DejaVuSans-6f\"/>\n      <use x=\"169.869141\" xlink:href=\"#DejaVuSans-73\"/>\n      <use x=\"221.96875\" xlink:href=\"#DejaVuSans-73\"/>\n      <use x=\"274.068359\" xlink:href=\"#DejaVuSans-2d\"/>\n      <use x=\"307.527344\" xlink:href=\"#DejaVuSans-76\"/>\n      <use x=\"366.707031\" xlink:href=\"#DejaVuSans-61\"/>\n      <use x=\"427.986328\" xlink:href=\"#DejaVuSans-6c\"/>\n      <use x=\"455.769531\" xlink:href=\"#DejaVuSans-69\"/>\n      <use x=\"483.552734\" xlink:href=\"#DejaVuSans-64\"/>\n      <use x=\"547.029297\" xlink:href=\"#DejaVuSans-61\"/>\n      <use x=\"608.308594\" xlink:href=\"#DejaVuSans-74\"/>\n      <use x=\"647.517578\" xlink:href=\"#DejaVuSans-69\"/>\n      <use x=\"675.300781\" xlink:href=\"#DejaVuSans-6f\"/>\n      <use x=\"736.482422\" xlink:href=\"#DejaVuSans-6e\"/>\n      <use x=\"799.861328\" xlink:href=\"#DejaVuSans-20\"/>\n      <use x=\"831.648438\" xlink:href=\"#DejaVuSans-73\"/>\n      <use x=\"883.748047\" xlink:href=\"#DejaVuSans-63\"/>\n      <use x=\"938.728516\" xlink:href=\"#DejaVuSans-6f\"/>\n      <use x=\"999.910156\" xlink:href=\"#DejaVuSans-72\"/>\n      <use x=\"1038.773438\" xlink:href=\"#DejaVuSans-65\"/>\n     </g>\n    </g>\n   </g>\n  </g>\n </g>\n <defs>\n  <clipPath id=\"p53e1a5bdf6\">\n   <rect height=\"217.44\" width=\"334.8\" x=\"43.78125\" y=\"22.318125\"/>\n  </clipPath>\n </defs>\n</svg>\n",
      "image/png": "[encoded data removed]"
     },
     "metadata": {
      "needs_background": "light"
     }
    }
   ],
   "metadata": {}
  },
  {
   "cell_type": "code",
   "execution_count": 417,
   "source": [
    "probs= clf_lr.predict_proba(testing.drop(['ID'],axis=1))\n",
    "ID=[]\n",
    "for i in range(23842):\n",
    "    ID.append(i+1)\n",
    "d={'ID':ID,\"Prediction\":probs[:,1]}                                                            \n",
    "df=pd.DataFrame(d)\n",
    "df.to_csv(\"Submission_lr.csv\",index=False)"
   ],
   "outputs": [],
   "metadata": {}
  },
  {
   "cell_type": "markdown",
   "source": [
    "# 3. Gaussian Naive Baye's"
   ],
   "metadata": {}
  },
  {
   "cell_type": "code",
   "execution_count": 442,
   "source": [
    "param_grid = {\n",
    "        'var_smoothing': [1e-10, 1e-9, 1e-8, 1e-7, 1e-6],\n",
    "    }\n",
    "gnb = GaussianNB()\n",
    "\n",
    "clf_gnb=RandomizedSearchCV(estimator=gnb,param_distributions=param_grid,cv=5,verbose=2,random_state=0,n_jobs=-1)\n",
    "clf_gnb.fit(training.drop(['income>50K'],axis=1),training['income>50K'])"
   ],
   "outputs": [
    {
     "output_type": "stream",
     "name": "stderr",
     "text": [
      "/home/sci/nawazish.khan/miniconda3/envs/assignment/lib/python3.7/site-packages/sklearn/model_selection/_search.py:296: UserWarning: The total space of parameters 5 is smaller than n_iter=10. Running 5 iterations. For exhaustive searches, use GridSearchCV.\n",
      "  UserWarning,\n"
     ]
    },
    {
     "output_type": "stream",
     "name": "stdout",
     "text": [
      "Fitting 5 folds for each of 5 candidates, totalling 25 fits\n",
      "[CV] END ................................var_smoothing=1e-10; total time=   0.0s\n",
      "[CV] END ................................var_smoothing=1e-10; total time=   0.0s\n",
      "[CV] END ................................var_smoothing=1e-10; total time=   0.0s\n",
      "[CV] END ................................var_smoothing=1e-10; total time=   0.0s\n",
      "[CV] END ................................var_smoothing=1e-09; total time=   0.0s\n",
      "[CV] END ................................var_smoothing=1e-10; total time=   0.0s\n",
      "[CV] END ................................var_smoothing=1e-09; total time=   0.0s\n",
      "[CV] END ................................var_smoothing=1e-09; total time=   0.0s\n",
      "[CV] END ................................var_smoothing=1e-08; total time=   0.0s\n",
      "[CV] END ................................var_smoothing=1e-09; total time=   0.0s\n",
      "[CV] END ................................var_smoothing=1e-09; total time=   0.0s\n",
      "[CV] END ................................var_smoothing=1e-08; total time=   0.0s\n",
      "[CV] END ................................var_smoothing=1e-08; total time=   0.0s\n",
      "[CV] END ................................var_smoothing=1e-08; total time=   0.0s\n",
      "[CV] END ................................var_smoothing=1e-08; total time=   0.0s\n",
      "[CV] END ................................var_smoothing=1e-07; total time=   0.0s\n",
      "[CV] END ................................var_smoothing=1e-07; total time=   0.0s\n",
      "[CV] END ................................var_smoothing=1e-07; total time=   0.0s\n",
      "[CV] END ................................var_smoothing=1e-07; total time=   0.0s\n",
      "[CV] END ................................var_smoothing=1e-07; total time=   0.0s\n",
      "[CV] END ................................var_smoothing=1e-06; total time=   0.0s\n",
      "[CV] END ................................var_smoothing=1e-06; total time=   0.0s\n",
      "[CV] END ................................var_smoothing=1e-06; total time=   0.0s\n",
      "[CV] END ................................var_smoothing=1e-06; total time=   0.0s\n",
      "[CV] END ................................var_smoothing=1e-06; total time=   0.0s\n"
     ]
    },
    {
     "output_type": "execute_result",
     "data": {
      "text/plain": [
       "RandomizedSearchCV(cv=5, estimator=GaussianNB(), n_jobs=-1,\n",
       "                   param_distributions={'var_smoothing': [1e-10, 1e-09, 1e-08,\n",
       "                                                          1e-07, 1e-06]},\n",
       "                   random_state=0, verbose=2)"
      ]
     },
     "metadata": {},
     "execution_count": 442
    }
   ],
   "metadata": {}
  },
  {
   "cell_type": "code",
   "execution_count": 443,
   "source": [
    "clf_gnb.best_estimator_"
   ],
   "outputs": [
    {
     "output_type": "execute_result",
     "data": {
      "text/plain": [
       "GaussianNB(var_smoothing=1e-10)"
      ]
     },
     "metadata": {},
     "execution_count": 443
    }
   ],
   "metadata": {}
  },
  {
   "cell_type": "code",
   "execution_count": 444,
   "source": [
    "clf_gnb.cv_results_['mean_test_score']"
   ],
   "outputs": [
    {
     "output_type": "execute_result",
     "data": {
      "text/plain": [
       "array([0.79692, 0.79592, 0.79556, 0.79532, 0.79568])"
      ]
     },
     "metadata": {},
     "execution_count": 444
    }
   ],
   "metadata": {}
  },
  {
   "cell_type": "code",
   "execution_count": 445,
   "source": [
    "probs= clf_gnb.predict_proba(testing.drop(['ID'],axis=1))\n",
    "ID=[]\n",
    "for i in range(23842):\n",
    "    ID.append(i+1)\n",
    "d={'ID':ID,\"Prediction\":probs[:,1]}                                                            \n",
    "df=pd.DataFrame(d)\n",
    "df.to_csv(\"Submission_gnb.csv\",index=False)"
   ],
   "outputs": [],
   "metadata": {}
  },
  {
   "cell_type": "code",
   "execution_count": 448,
   "source": [
    "# Get Validation Curves for the Best Model\n",
    "best_model = clf_gnb\n",
    "fig_name = 'output-gnb.png'\n",
    "varying_param = 'var_smoothing'\n",
    "train_scores, test_scores = validation_curve(best_model.best_estimator_, training.drop(['income>50K'],axis=1),training['income>50K'],cv=5, \n",
    "                                            param_name=varying_param, param_range=param_grid[varying_param], scoring='accuracy', n_jobs=-1)\n",
    "train_scores_mean = np.mean(train_scores, axis=1)\n",
    "train_scores_std = np.std(train_scores, axis=1)\n",
    "test_scores_mean = np.mean(test_scores, axis=1)\n",
    "test_scores_std = np.std(test_scores, axis=1)\n",
    "\n",
    "plt.title(\"Validation Curve for Best Model\")\n",
    "plt.xlabel('Variance Smoothing')\n",
    "plt.ylabel(\"Score\")\n",
    "plt.ylim(0.0, 1.1)\n",
    "lw = 0.75\n",
    "plt.plot(\n",
    "    param_grid[varying_param], train_scores_mean, label=\"Training score\", color=\"darkorange\", lw=lw\n",
    ")\n",
    "plt.fill_between(\n",
    "    param_grid[varying_param],\n",
    "    train_scores_mean - train_scores_std,\n",
    "    train_scores_mean + train_scores_std,\n",
    "    alpha=0.2,\n",
    "    color=\"darkorange\",\n",
    "    lw=lw,\n",
    ")\n",
    "plt.plot(\n",
    "    param_grid[varying_param], test_scores_mean, label=\"Cross-validation score\", color=\"navy\", lw=lw\n",
    ")\n",
    "plt.fill_between(\n",
    "    param_grid[varying_param],\n",
    "    test_scores_mean - test_scores_std,\n",
    "    test_scores_mean + test_scores_std,\n",
    "    alpha=0.2,\n",
    "    color=\"navy\",\n",
    "    lw=lw,\n",
    ")\n",
    "plt.legend(loc=\"best\")\n",
    "plt.savefig(f'Figures/{fig_name}', dpi=200)\n",
    "plt.show()"
   ],
   "outputs": [
    {
     "output_type": "display_data",
     "data": {
      "text/plain": [
       "<Figure size 432x288 with 1 Axes>"
      ],
      "image/svg+xml": "<?xml version=\"1.0\" encoding=\"utf-8\" standalone=\"no\"?>\n<!DOCTYPE svg PUBLIC \"-//W3C//DTD SVG 1.1//EN\"\n  \"http://www.w3.org/Graphics/SVG/1.1/DTD/svg11.dtd\">\n<svg height=\"277.314375pt\" version=\"1.1\" viewBox=\"0 0 385.78125 277.314375\" width=\"385.78125pt\" xmlns=\"http://www.w3.org/2000/svg\" xmlns:xlink=\"http://www.w3.org/1999/xlink\">\n <metadata>\n  <rdf:RDF xmlns:cc=\"http://creativecommons.org/ns#\" xmlns:dc=\"http://purl.org/dc/elements/1.1/\" xmlns:rdf=\"http://www.w3.org/1999/02/22-rdf-syntax-ns#\">\n   <cc:Work>\n    <dc:type rdf:resource=\"http://purl.org/dc/dcmitype/StillImage\"/>\n    <dc:date>2021-12-19T15:55:54.681353</dc:date>\n    <dc:format>image/svg+xml</dc:format>\n    <dc:creator>\n     <cc:Agent>\n      <dc:title>Matplotlib v3.4.3, https://matplotlib.org/</dc:title>\n     </cc:Agent>\n    </dc:creator>\n   </cc:Work>\n  </rdf:RDF>\n </metadata>\n <defs>\n  <style type=\"text/css\">*{stroke-linecap:butt;stroke-linejoin:round;}</style>\n </defs>\n <g id=\"figure_1\">\n  <g id=\"patch_1\">\n   <path d=\"M 0 277.314375 \nL 385.78125 277.314375 \nL 385.78125 0 \nL 0 0 \nz\n\" style=\"fill:none;\"/>\n  </g>\n  <g id=\"axes_1\">\n   <g id=\"patch_2\">\n    <path d=\"M 43.78125 239.758125 \nL 378.58125 239.758125 \nL 378.58125 22.318125 \nL 43.78125 22.318125 \nz\n\" style=\"fill:#ffffff;\"/>\n   </g>\n   <g id=\"PolyCollection_1\">\n    <defs>\n     <path d=\"M 58.999432 -195.290117 \nL 58.999432 -194.960152 \nL 59.273386 -194.747035 \nL 62.012933 -194.712938 \nL 89.4084 -194.605974 \nL 363.363068 -194.625982 \nL 363.363068 -195.138012 \nL 363.363068 -195.138012 \nL 89.4084 -195.094765 \nL 62.012933 -195.011522 \nL 59.273386 -195.013006 \nL 58.999432 -195.290117 \nz\n\" id=\"m64852bf30d\" style=\"stroke:#ff8c00;stroke-opacity:0.2;stroke-width:0.75;\"/>\n    </defs>\n    <g clip-path=\"url(#p63584f04e9)\">\n     <use style=\"fill:#ff8c00;fill-opacity:0.2;stroke:#ff8c00;stroke-opacity:0.2;stroke-width:0.75;\" x=\"0\" xlink:href=\"#m64852bf30d\" y=\"277.314375\"/>\n    </g>\n   </g>\n   <g id=\"PolyCollection_2\">\n    <defs>\n     <path d=\"M 58.999432 -195.571473 \nL 58.999432 -194.599727 \nL 59.273386 -194.363085 \nL 62.012933 -194.344728 \nL 89.4084 -194.350481 \nL 363.363068 -194.447838 \nL 363.363068 -195.233134 \nL 363.363068 -195.233134 \nL 89.4084 -195.188166 \nL 62.012933 -195.288801 \nL 59.273386 -195.41277 \nL 58.999432 -195.571473 \nz\n\" id=\"md8c74005dc\" style=\"stroke:#000080;stroke-opacity:0.2;stroke-width:0.75;\"/>\n    </defs>\n    <g clip-path=\"url(#p63584f04e9)\">\n     <use style=\"fill:#000080;fill-opacity:0.2;stroke:#000080;stroke-opacity:0.2;stroke-width:0.75;\" x=\"0\" xlink:href=\"#md8c74005dc\" y=\"277.314375\"/>\n    </g>\n   </g>\n   <g id=\"matplotlib.axis_1\">\n    <g id=\"xtick_1\">\n     <g id=\"line2d_1\">\n      <defs>\n       <path d=\"M 0 0 \nL 0 3.5 \n\" id=\"m09ca905e06\" style=\"stroke:#000000;stroke-width:0.8;\"/>\n      </defs>\n      <g>\n       <use style=\"stroke:#000000;stroke-width:0.8;\" x=\"58.968992\" xlink:href=\"#m09ca905e06\" y=\"239.758125\"/>\n      </g>\n     </g>\n     <g id=\"text_1\">\n      <!-- 0.0 -->\n      <g transform=\"translate(51.01743 254.356562)scale(0.1 -0.1)\">\n       <defs>\n        <path d=\"M 2034 4250 \nQ 1547 4250 1301 3770 \nQ 1056 3291 1056 2328 \nQ 1056 1369 1301 889 \nQ 1547 409 2034 409 \nQ 2525 409 2770 889 \nQ 3016 1369 3016 2328 \nQ 3016 3291 2770 3770 \nQ 2525 4250 2034 4250 \nz\nM 2034 4750 \nQ 2819 4750 3233 4129 \nQ 3647 3509 3647 2328 \nQ 3647 1150 3233 529 \nQ 2819 -91 2034 -91 \nQ 1250 -91 836 529 \nQ 422 1150 422 2328 \nQ 422 3509 836 4129 \nQ 1250 4750 2034 4750 \nz\n\" id=\"DejaVuSans-30\" transform=\"scale(0.015625)\"/>\n        <path d=\"M 684 794 \nL 1344 794 \nL 1344 0 \nL 684 0 \nL 684 794 \nz\n\" id=\"DejaVuSans-2e\" transform=\"scale(0.015625)\"/>\n       </defs>\n       <use xlink:href=\"#DejaVuSans-30\"/>\n       <use x=\"63.623047\" xlink:href=\"#DejaVuSans-2e\"/>\n       <use x=\"95.410156\" xlink:href=\"#DejaVuSans-30\"/>\n      </g>\n     </g>\n    </g>\n    <g id=\"xtick_2\">\n     <g id=\"line2d_2\">\n      <g>\n       <use style=\"stroke:#000000;stroke-width:0.8;\" x=\"119.847808\" xlink:href=\"#m09ca905e06\" y=\"239.758125\"/>\n      </g>\n     </g>\n     <g id=\"text_2\">\n      <!-- 0.2 -->\n      <g transform=\"translate(111.896245 254.356562)scale(0.1 -0.1)\">\n       <defs>\n        <path d=\"M 1228 531 \nL 3431 531 \nL 3431 0 \nL 469 0 \nL 469 531 \nQ 828 903 1448 1529 \nQ 2069 2156 2228 2338 \nQ 2531 2678 2651 2914 \nQ 2772 3150 2772 3378 \nQ 2772 3750 2511 3984 \nQ 2250 4219 1831 4219 \nQ 1534 4219 1204 4116 \nQ 875 4013 500 3803 \nL 500 4441 \nQ 881 4594 1212 4672 \nQ 1544 4750 1819 4750 \nQ 2544 4750 2975 4387 \nQ 3406 4025 3406 3419 \nQ 3406 3131 3298 2873 \nQ 3191 2616 2906 2266 \nQ 2828 2175 2409 1742 \nQ 1991 1309 1228 531 \nz\n\" id=\"DejaVuSans-32\" transform=\"scale(0.015625)\"/>\n       </defs>\n       <use xlink:href=\"#DejaVuSans-30\"/>\n       <use x=\"63.623047\" xlink:href=\"#DejaVuSans-2e\"/>\n       <use x=\"95.410156\" xlink:href=\"#DejaVuSans-32\"/>\n      </g>\n     </g>\n    </g>\n    <g id=\"xtick_3\">\n     <g id=\"line2d_3\">\n      <g>\n       <use style=\"stroke:#000000;stroke-width:0.8;\" x=\"180.726623\" xlink:href=\"#m09ca905e06\" y=\"239.758125\"/>\n      </g>\n     </g>\n     <g id=\"text_3\">\n      <!-- 0.4 -->\n      <g transform=\"translate(172.77506 254.356562)scale(0.1 -0.1)\">\n       <defs>\n        <path d=\"M 2419 4116 \nL 825 1625 \nL 2419 1625 \nL 2419 4116 \nz\nM 2253 4666 \nL 3047 4666 \nL 3047 1625 \nL 3713 1625 \nL 3713 1100 \nL 3047 1100 \nL 3047 0 \nL 2419 0 \nL 2419 1100 \nL 313 1100 \nL 313 1709 \nL 2253 4666 \nz\n\" id=\"DejaVuSans-34\" transform=\"scale(0.015625)\"/>\n       </defs>\n       <use xlink:href=\"#DejaVuSans-30\"/>\n       <use x=\"63.623047\" xlink:href=\"#DejaVuSans-2e\"/>\n       <use x=\"95.410156\" xlink:href=\"#DejaVuSans-34\"/>\n      </g>\n     </g>\n    </g>\n    <g id=\"xtick_4\">\n     <g id=\"line2d_4\">\n      <g>\n       <use style=\"stroke:#000000;stroke-width:0.8;\" x=\"241.605438\" xlink:href=\"#m09ca905e06\" y=\"239.758125\"/>\n      </g>\n     </g>\n     <g id=\"text_4\">\n      <!-- 0.6 -->\n      <g transform=\"translate(233.653875 254.356562)scale(0.1 -0.1)\">\n       <defs>\n        <path d=\"M 2113 2584 \nQ 1688 2584 1439 2293 \nQ 1191 2003 1191 1497 \nQ 1191 994 1439 701 \nQ 1688 409 2113 409 \nQ 2538 409 2786 701 \nQ 3034 994 3034 1497 \nQ 3034 2003 2786 2293 \nQ 2538 2584 2113 2584 \nz\nM 3366 4563 \nL 3366 3988 \nQ 3128 4100 2886 4159 \nQ 2644 4219 2406 4219 \nQ 1781 4219 1451 3797 \nQ 1122 3375 1075 2522 \nQ 1259 2794 1537 2939 \nQ 1816 3084 2150 3084 \nQ 2853 3084 3261 2657 \nQ 3669 2231 3669 1497 \nQ 3669 778 3244 343 \nQ 2819 -91 2113 -91 \nQ 1303 -91 875 529 \nQ 447 1150 447 2328 \nQ 447 3434 972 4092 \nQ 1497 4750 2381 4750 \nQ 2619 4750 2861 4703 \nQ 3103 4656 3366 4563 \nz\n\" id=\"DejaVuSans-36\" transform=\"scale(0.015625)\"/>\n       </defs>\n       <use xlink:href=\"#DejaVuSans-30\"/>\n       <use x=\"63.623047\" xlink:href=\"#DejaVuSans-2e\"/>\n       <use x=\"95.410156\" xlink:href=\"#DejaVuSans-36\"/>\n      </g>\n     </g>\n    </g>\n    <g id=\"xtick_5\">\n     <g id=\"line2d_5\">\n      <g>\n       <use style=\"stroke:#000000;stroke-width:0.8;\" x=\"302.484253\" xlink:href=\"#m09ca905e06\" y=\"239.758125\"/>\n      </g>\n     </g>\n     <g id=\"text_5\">\n      <!-- 0.8 -->\n      <g transform=\"translate(294.532691 254.356562)scale(0.1 -0.1)\">\n       <defs>\n        <path d=\"M 2034 2216 \nQ 1584 2216 1326 1975 \nQ 1069 1734 1069 1313 \nQ 1069 891 1326 650 \nQ 1584 409 2034 409 \nQ 2484 409 2743 651 \nQ 3003 894 3003 1313 \nQ 3003 1734 2745 1975 \nQ 2488 2216 2034 2216 \nz\nM 1403 2484 \nQ 997 2584 770 2862 \nQ 544 3141 544 3541 \nQ 544 4100 942 4425 \nQ 1341 4750 2034 4750 \nQ 2731 4750 3128 4425 \nQ 3525 4100 3525 3541 \nQ 3525 3141 3298 2862 \nQ 3072 2584 2669 2484 \nQ 3125 2378 3379 2068 \nQ 3634 1759 3634 1313 \nQ 3634 634 3220 271 \nQ 2806 -91 2034 -91 \nQ 1263 -91 848 271 \nQ 434 634 434 1313 \nQ 434 1759 690 2068 \nQ 947 2378 1403 2484 \nz\nM 1172 3481 \nQ 1172 3119 1398 2916 \nQ 1625 2713 2034 2713 \nQ 2441 2713 2670 2916 \nQ 2900 3119 2900 3481 \nQ 2900 3844 2670 4047 \nQ 2441 4250 2034 4250 \nQ 1625 4250 1398 4047 \nQ 1172 3844 1172 3481 \nz\n\" id=\"DejaVuSans-38\" transform=\"scale(0.015625)\"/>\n       </defs>\n       <use xlink:href=\"#DejaVuSans-30\"/>\n       <use x=\"63.623047\" xlink:href=\"#DejaVuSans-2e\"/>\n       <use x=\"95.410156\" xlink:href=\"#DejaVuSans-38\"/>\n      </g>\n     </g>\n    </g>\n    <g id=\"xtick_6\">\n     <g id=\"line2d_6\">\n      <g>\n       <use style=\"stroke:#000000;stroke-width:0.8;\" x=\"363.363068\" xlink:href=\"#m09ca905e06\" y=\"239.758125\"/>\n      </g>\n     </g>\n     <g id=\"text_6\">\n      <!-- 1.0 -->\n      <g transform=\"translate(355.411506 254.356562)scale(0.1 -0.1)\">\n       <defs>\n        <path d=\"M 794 531 \nL 1825 531 \nL 1825 4091 \nL 703 3866 \nL 703 4441 \nL 1819 4666 \nL 2450 4666 \nL 2450 531 \nL 3481 531 \nL 3481 0 \nL 794 0 \nL 794 531 \nz\n\" id=\"DejaVuSans-31\" transform=\"scale(0.015625)\"/>\n       </defs>\n       <use xlink:href=\"#DejaVuSans-31\"/>\n       <use x=\"63.623047\" xlink:href=\"#DejaVuSans-2e\"/>\n       <use x=\"95.410156\" xlink:href=\"#DejaVuSans-30\"/>\n      </g>\n     </g>\n    </g>\n    <g id=\"text_7\">\n     <!-- Variance Smoothing -->\n     <g transform=\"translate(160.967969 268.034687)scale(0.1 -0.1)\">\n      <defs>\n       <path d=\"M 1831 0 \nL 50 4666 \nL 709 4666 \nL 2188 738 \nL 3669 4666 \nL 4325 4666 \nL 2547 0 \nL 1831 0 \nz\n\" id=\"DejaVuSans-56\" transform=\"scale(0.015625)\"/>\n       <path d=\"M 2194 1759 \nQ 1497 1759 1228 1600 \nQ 959 1441 959 1056 \nQ 959 750 1161 570 \nQ 1363 391 1709 391 \nQ 2188 391 2477 730 \nQ 2766 1069 2766 1631 \nL 2766 1759 \nL 2194 1759 \nz\nM 3341 1997 \nL 3341 0 \nL 2766 0 \nL 2766 531 \nQ 2569 213 2275 61 \nQ 1981 -91 1556 -91 \nQ 1019 -91 701 211 \nQ 384 513 384 1019 \nQ 384 1609 779 1909 \nQ 1175 2209 1959 2209 \nL 2766 2209 \nL 2766 2266 \nQ 2766 2663 2505 2880 \nQ 2244 3097 1772 3097 \nQ 1472 3097 1187 3025 \nQ 903 2953 641 2809 \nL 641 3341 \nQ 956 3463 1253 3523 \nQ 1550 3584 1831 3584 \nQ 2591 3584 2966 3190 \nQ 3341 2797 3341 1997 \nz\n\" id=\"DejaVuSans-61\" transform=\"scale(0.015625)\"/>\n       <path d=\"M 2631 2963 \nQ 2534 3019 2420 3045 \nQ 2306 3072 2169 3072 \nQ 1681 3072 1420 2755 \nQ 1159 2438 1159 1844 \nL 1159 0 \nL 581 0 \nL 581 3500 \nL 1159 3500 \nL 1159 2956 \nQ 1341 3275 1631 3429 \nQ 1922 3584 2338 3584 \nQ 2397 3584 2469 3576 \nQ 2541 3569 2628 3553 \nL 2631 2963 \nz\n\" id=\"DejaVuSans-72\" transform=\"scale(0.015625)\"/>\n       <path d=\"M 603 3500 \nL 1178 3500 \nL 1178 0 \nL 603 0 \nL 603 3500 \nz\nM 603 4863 \nL 1178 4863 \nL 1178 4134 \nL 603 4134 \nL 603 4863 \nz\n\" id=\"DejaVuSans-69\" transform=\"scale(0.015625)\"/>\n       <path d=\"M 3513 2113 \nL 3513 0 \nL 2938 0 \nL 2938 2094 \nQ 2938 2591 2744 2837 \nQ 2550 3084 2163 3084 \nQ 1697 3084 1428 2787 \nQ 1159 2491 1159 1978 \nL 1159 0 \nL 581 0 \nL 581 3500 \nL 1159 3500 \nL 1159 2956 \nQ 1366 3272 1645 3428 \nQ 1925 3584 2291 3584 \nQ 2894 3584 3203 3211 \nQ 3513 2838 3513 2113 \nz\n\" id=\"DejaVuSans-6e\" transform=\"scale(0.015625)\"/>\n       <path d=\"M 3122 3366 \nL 3122 2828 \nQ 2878 2963 2633 3030 \nQ 2388 3097 2138 3097 \nQ 1578 3097 1268 2742 \nQ 959 2388 959 1747 \nQ 959 1106 1268 751 \nQ 1578 397 2138 397 \nQ 2388 397 2633 464 \nQ 2878 531 3122 666 \nL 3122 134 \nQ 2881 22 2623 -34 \nQ 2366 -91 2075 -91 \nQ 1284 -91 818 406 \nQ 353 903 353 1747 \nQ 353 2603 823 3093 \nQ 1294 3584 2113 3584 \nQ 2378 3584 2631 3529 \nQ 2884 3475 3122 3366 \nz\n\" id=\"DejaVuSans-63\" transform=\"scale(0.015625)\"/>\n       <path d=\"M 3597 1894 \nL 3597 1613 \nL 953 1613 \nQ 991 1019 1311 708 \nQ 1631 397 2203 397 \nQ 2534 397 2845 478 \nQ 3156 559 3463 722 \nL 3463 178 \nQ 3153 47 2828 -22 \nQ 2503 -91 2169 -91 \nQ 1331 -91 842 396 \nQ 353 884 353 1716 \nQ 353 2575 817 3079 \nQ 1281 3584 2069 3584 \nQ 2775 3584 3186 3129 \nQ 3597 2675 3597 1894 \nz\nM 3022 2063 \nQ 3016 2534 2758 2815 \nQ 2500 3097 2075 3097 \nQ 1594 3097 1305 2825 \nQ 1016 2553 972 2059 \nL 3022 2063 \nz\n\" id=\"DejaVuSans-65\" transform=\"scale(0.015625)\"/>\n       <path id=\"DejaVuSans-20\" transform=\"scale(0.015625)\"/>\n       <path d=\"M 3425 4513 \nL 3425 3897 \nQ 3066 4069 2747 4153 \nQ 2428 4238 2131 4238 \nQ 1616 4238 1336 4038 \nQ 1056 3838 1056 3469 \nQ 1056 3159 1242 3001 \nQ 1428 2844 1947 2747 \nL 2328 2669 \nQ 3034 2534 3370 2195 \nQ 3706 1856 3706 1288 \nQ 3706 609 3251 259 \nQ 2797 -91 1919 -91 \nQ 1588 -91 1214 -16 \nQ 841 59 441 206 \nL 441 856 \nQ 825 641 1194 531 \nQ 1563 422 1919 422 \nQ 2459 422 2753 634 \nQ 3047 847 3047 1241 \nQ 3047 1584 2836 1778 \nQ 2625 1972 2144 2069 \nL 1759 2144 \nQ 1053 2284 737 2584 \nQ 422 2884 422 3419 \nQ 422 4038 858 4394 \nQ 1294 4750 2059 4750 \nQ 2388 4750 2728 4690 \nQ 3069 4631 3425 4513 \nz\n\" id=\"DejaVuSans-53\" transform=\"scale(0.015625)\"/>\n       <path d=\"M 3328 2828 \nQ 3544 3216 3844 3400 \nQ 4144 3584 4550 3584 \nQ 5097 3584 5394 3201 \nQ 5691 2819 5691 2113 \nL 5691 0 \nL 5113 0 \nL 5113 2094 \nQ 5113 2597 4934 2840 \nQ 4756 3084 4391 3084 \nQ 3944 3084 3684 2787 \nQ 3425 2491 3425 1978 \nL 3425 0 \nL 2847 0 \nL 2847 2094 \nQ 2847 2600 2669 2842 \nQ 2491 3084 2119 3084 \nQ 1678 3084 1418 2786 \nQ 1159 2488 1159 1978 \nL 1159 0 \nL 581 0 \nL 581 3500 \nL 1159 3500 \nL 1159 2956 \nQ 1356 3278 1631 3431 \nQ 1906 3584 2284 3584 \nQ 2666 3584 2933 3390 \nQ 3200 3197 3328 2828 \nz\n\" id=\"DejaVuSans-6d\" transform=\"scale(0.015625)\"/>\n       <path d=\"M 1959 3097 \nQ 1497 3097 1228 2736 \nQ 959 2375 959 1747 \nQ 959 1119 1226 758 \nQ 1494 397 1959 397 \nQ 2419 397 2687 759 \nQ 2956 1122 2956 1747 \nQ 2956 2369 2687 2733 \nQ 2419 3097 1959 3097 \nz\nM 1959 3584 \nQ 2709 3584 3137 3096 \nQ 3566 2609 3566 1747 \nQ 3566 888 3137 398 \nQ 2709 -91 1959 -91 \nQ 1206 -91 779 398 \nQ 353 888 353 1747 \nQ 353 2609 779 3096 \nQ 1206 3584 1959 3584 \nz\n\" id=\"DejaVuSans-6f\" transform=\"scale(0.015625)\"/>\n       <path d=\"M 1172 4494 \nL 1172 3500 \nL 2356 3500 \nL 2356 3053 \nL 1172 3053 \nL 1172 1153 \nQ 1172 725 1289 603 \nQ 1406 481 1766 481 \nL 2356 481 \nL 2356 0 \nL 1766 0 \nQ 1100 0 847 248 \nQ 594 497 594 1153 \nL 594 3053 \nL 172 3053 \nL 172 3500 \nL 594 3500 \nL 594 4494 \nL 1172 4494 \nz\n\" id=\"DejaVuSans-74\" transform=\"scale(0.015625)\"/>\n       <path d=\"M 3513 2113 \nL 3513 0 \nL 2938 0 \nL 2938 2094 \nQ 2938 2591 2744 2837 \nQ 2550 3084 2163 3084 \nQ 1697 3084 1428 2787 \nQ 1159 2491 1159 1978 \nL 1159 0 \nL 581 0 \nL 581 4863 \nL 1159 4863 \nL 1159 2956 \nQ 1366 3272 1645 3428 \nQ 1925 3584 2291 3584 \nQ 2894 3584 3203 3211 \nQ 3513 2838 3513 2113 \nz\n\" id=\"DejaVuSans-68\" transform=\"scale(0.015625)\"/>\n       <path d=\"M 2906 1791 \nQ 2906 2416 2648 2759 \nQ 2391 3103 1925 3103 \nQ 1463 3103 1205 2759 \nQ 947 2416 947 1791 \nQ 947 1169 1205 825 \nQ 1463 481 1925 481 \nQ 2391 481 2648 825 \nQ 2906 1169 2906 1791 \nz\nM 3481 434 \nQ 3481 -459 3084 -895 \nQ 2688 -1331 1869 -1331 \nQ 1566 -1331 1297 -1286 \nQ 1028 -1241 775 -1147 \nL 775 -588 \nQ 1028 -725 1275 -790 \nQ 1522 -856 1778 -856 \nQ 2344 -856 2625 -561 \nQ 2906 -266 2906 331 \nL 2906 616 \nQ 2728 306 2450 153 \nQ 2172 0 1784 0 \nQ 1141 0 747 490 \nQ 353 981 353 1791 \nQ 353 2603 747 3093 \nQ 1141 3584 1784 3584 \nQ 2172 3584 2450 3431 \nQ 2728 3278 2906 2969 \nL 2906 3500 \nL 3481 3500 \nL 3481 434 \nz\n\" id=\"DejaVuSans-67\" transform=\"scale(0.015625)\"/>\n      </defs>\n      <use xlink:href=\"#DejaVuSans-56\"/>\n      <use x=\"60.658203\" xlink:href=\"#DejaVuSans-61\"/>\n      <use x=\"121.9375\" xlink:href=\"#DejaVuSans-72\"/>\n      <use x=\"163.050781\" xlink:href=\"#DejaVuSans-69\"/>\n      <use x=\"190.833984\" xlink:href=\"#DejaVuSans-61\"/>\n      <use x=\"252.113281\" xlink:href=\"#DejaVuSans-6e\"/>\n      <use x=\"315.492188\" xlink:href=\"#DejaVuSans-63\"/>\n      <use x=\"370.472656\" xlink:href=\"#DejaVuSans-65\"/>\n      <use x=\"431.996094\" xlink:href=\"#DejaVuSans-20\"/>\n      <use x=\"463.783203\" xlink:href=\"#DejaVuSans-53\"/>\n      <use x=\"527.259766\" xlink:href=\"#DejaVuSans-6d\"/>\n      <use x=\"624.671875\" xlink:href=\"#DejaVuSans-6f\"/>\n      <use x=\"685.853516\" xlink:href=\"#DejaVuSans-6f\"/>\n      <use x=\"747.035156\" xlink:href=\"#DejaVuSans-74\"/>\n      <use x=\"786.244141\" xlink:href=\"#DejaVuSans-68\"/>\n      <use x=\"849.623047\" xlink:href=\"#DejaVuSans-69\"/>\n      <use x=\"877.40625\" xlink:href=\"#DejaVuSans-6e\"/>\n      <use x=\"940.785156\" xlink:href=\"#DejaVuSans-67\"/>\n     </g>\n    </g>\n    <g id=\"text_8\">\n     <!-- 1e−6 -->\n     <g transform=\"translate(351.323438 267.034687)scale(0.1 -0.1)\">\n      <defs>\n       <path d=\"M 678 2272 \nL 4684 2272 \nL 4684 1741 \nL 678 1741 \nL 678 2272 \nz\n\" id=\"DejaVuSans-2212\" transform=\"scale(0.015625)\"/>\n      </defs>\n      <use xlink:href=\"#DejaVuSans-31\"/>\n      <use x=\"63.623047\" xlink:href=\"#DejaVuSans-65\"/>\n      <use x=\"125.146484\" xlink:href=\"#DejaVuSans-2212\"/>\n      <use x=\"208.935547\" xlink:href=\"#DejaVuSans-36\"/>\n     </g>\n    </g>\n   </g>\n   <g id=\"matplotlib.axis_2\">\n    <g id=\"ytick_1\">\n     <g id=\"line2d_7\">\n      <defs>\n       <path d=\"M 0 0 \nL -3.5 0 \n\" id=\"m6a93ec259f\" style=\"stroke:#000000;stroke-width:0.8;\"/>\n      </defs>\n      <g>\n       <use style=\"stroke:#000000;stroke-width:0.8;\" x=\"43.78125\" xlink:href=\"#m6a93ec259f\" y=\"239.758125\"/>\n      </g>\n     </g>\n     <g id=\"text_9\">\n      <!-- 0.0 -->\n      <g transform=\"translate(20.878125 243.557344)scale(0.1 -0.1)\">\n       <use xlink:href=\"#DejaVuSans-30\"/>\n       <use x=\"63.623047\" xlink:href=\"#DejaVuSans-2e\"/>\n       <use x=\"95.410156\" xlink:href=\"#DejaVuSans-30\"/>\n      </g>\n     </g>\n    </g>\n    <g id=\"ytick_2\">\n     <g id=\"line2d_8\">\n      <g>\n       <use style=\"stroke:#000000;stroke-width:0.8;\" x=\"43.78125\" xlink:href=\"#m6a93ec259f\" y=\"200.22358\"/>\n      </g>\n     </g>\n     <g id=\"text_10\">\n      <!-- 0.2 -->\n      <g transform=\"translate(20.878125 204.022798)scale(0.1 -0.1)\">\n       <use xlink:href=\"#DejaVuSans-30\"/>\n       <use x=\"63.623047\" xlink:href=\"#DejaVuSans-2e\"/>\n       <use x=\"95.410156\" xlink:href=\"#DejaVuSans-32\"/>\n      </g>\n     </g>\n    </g>\n    <g id=\"ytick_3\">\n     <g id=\"line2d_9\">\n      <g>\n       <use style=\"stroke:#000000;stroke-width:0.8;\" x=\"43.78125\" xlink:href=\"#m6a93ec259f\" y=\"160.689034\"/>\n      </g>\n     </g>\n     <g id=\"text_11\">\n      <!-- 0.4 -->\n      <g transform=\"translate(20.878125 164.488253)scale(0.1 -0.1)\">\n       <use xlink:href=\"#DejaVuSans-30\"/>\n       <use x=\"63.623047\" xlink:href=\"#DejaVuSans-2e\"/>\n       <use x=\"95.410156\" xlink:href=\"#DejaVuSans-34\"/>\n      </g>\n     </g>\n    </g>\n    <g id=\"ytick_4\">\n     <g id=\"line2d_10\">\n      <g>\n       <use style=\"stroke:#000000;stroke-width:0.8;\" x=\"43.78125\" xlink:href=\"#m6a93ec259f\" y=\"121.154489\"/>\n      </g>\n     </g>\n     <g id=\"text_12\">\n      <!-- 0.6 -->\n      <g transform=\"translate(20.878125 124.953707)scale(0.1 -0.1)\">\n       <use xlink:href=\"#DejaVuSans-30\"/>\n       <use x=\"63.623047\" xlink:href=\"#DejaVuSans-2e\"/>\n       <use x=\"95.410156\" xlink:href=\"#DejaVuSans-36\"/>\n      </g>\n     </g>\n    </g>\n    <g id=\"ytick_5\">\n     <g id=\"line2d_11\">\n      <g>\n       <use style=\"stroke:#000000;stroke-width:0.8;\" x=\"43.78125\" xlink:href=\"#m6a93ec259f\" y=\"81.619943\"/>\n      </g>\n     </g>\n     <g id=\"text_13\">\n      <!-- 0.8 -->\n      <g transform=\"translate(20.878125 85.419162)scale(0.1 -0.1)\">\n       <use xlink:href=\"#DejaVuSans-30\"/>\n       <use x=\"63.623047\" xlink:href=\"#DejaVuSans-2e\"/>\n       <use x=\"95.410156\" xlink:href=\"#DejaVuSans-38\"/>\n      </g>\n     </g>\n    </g>\n    <g id=\"ytick_6\">\n     <g id=\"line2d_12\">\n      <g>\n       <use style=\"stroke:#000000;stroke-width:0.8;\" x=\"43.78125\" xlink:href=\"#m6a93ec259f\" y=\"42.085398\"/>\n      </g>\n     </g>\n     <g id=\"text_14\">\n      <!-- 1.0 -->\n      <g transform=\"translate(20.878125 45.884616)scale(0.1 -0.1)\">\n       <use xlink:href=\"#DejaVuSans-31\"/>\n       <use x=\"63.623047\" xlink:href=\"#DejaVuSans-2e\"/>\n       <use x=\"95.410156\" xlink:href=\"#DejaVuSans-30\"/>\n      </g>\n     </g>\n    </g>\n    <g id=\"text_15\">\n     <!-- Score -->\n     <g transform=\"translate(14.798438 145.040469)rotate(-90)scale(0.1 -0.1)\">\n      <use xlink:href=\"#DejaVuSans-53\"/>\n      <use x=\"63.476562\" xlink:href=\"#DejaVuSans-63\"/>\n      <use x=\"118.457031\" xlink:href=\"#DejaVuSans-6f\"/>\n      <use x=\"179.638672\" xlink:href=\"#DejaVuSans-72\"/>\n      <use x=\"218.501953\" xlink:href=\"#DejaVuSans-65\"/>\n     </g>\n    </g>\n   </g>\n   <g id=\"line2d_13\">\n    <path clip-path=\"url(#p63584f04e9)\" d=\"M 58.999432 82.189241 \nL 59.273386 82.434355 \nL 62.012933 82.452145 \nL 89.4084 82.464006 \nL 363.363068 82.432378 \n\" style=\"fill:none;stroke:#ff8c00;stroke-linecap:square;stroke-width:0.75;\"/>\n   </g>\n   <g id=\"line2d_14\">\n    <path clip-path=\"url(#p63584f04e9)\" d=\"M 58.999432 82.228775 \nL 59.273386 82.426448 \nL 62.012933 82.49761 \nL 89.4084 82.545052 \nL 363.363068 82.473889 \n\" style=\"fill:none;stroke:#000080;stroke-linecap:square;stroke-width:0.75;\"/>\n   </g>\n   <g id=\"patch_3\">\n    <path d=\"M 43.78125 239.758125 \nL 43.78125 22.318125 \n\" style=\"fill:none;stroke:#000000;stroke-linecap:square;stroke-linejoin:miter;stroke-width:0.8;\"/>\n   </g>\n   <g id=\"patch_4\">\n    <path d=\"M 378.58125 239.758125 \nL 378.58125 22.318125 \n\" style=\"fill:none;stroke:#000000;stroke-linecap:square;stroke-linejoin:miter;stroke-width:0.8;\"/>\n   </g>\n   <g id=\"patch_5\">\n    <path d=\"M 43.78125 239.758125 \nL 378.58125 239.758125 \n\" style=\"fill:none;stroke:#000000;stroke-linecap:square;stroke-linejoin:miter;stroke-width:0.8;\"/>\n   </g>\n   <g id=\"patch_6\">\n    <path d=\"M 43.78125 22.318125 \nL 378.58125 22.318125 \n\" style=\"fill:none;stroke:#000000;stroke-linecap:square;stroke-linejoin:miter;stroke-width:0.8;\"/>\n   </g>\n   <g id=\"text_16\">\n    <!-- Validation Curve for Best Model -->\n    <g transform=\"translate(116.670938 16.318125)scale(0.12 -0.12)\">\n     <defs>\n      <path d=\"M 603 4863 \nL 1178 4863 \nL 1178 0 \nL 603 0 \nL 603 4863 \nz\n\" id=\"DejaVuSans-6c\" transform=\"scale(0.015625)\"/>\n      <path d=\"M 2906 2969 \nL 2906 4863 \nL 3481 4863 \nL 3481 0 \nL 2906 0 \nL 2906 525 \nQ 2725 213 2448 61 \nQ 2172 -91 1784 -91 \nQ 1150 -91 751 415 \nQ 353 922 353 1747 \nQ 353 2572 751 3078 \nQ 1150 3584 1784 3584 \nQ 2172 3584 2448 3432 \nQ 2725 3281 2906 2969 \nz\nM 947 1747 \nQ 947 1113 1208 752 \nQ 1469 391 1925 391 \nQ 2381 391 2643 752 \nQ 2906 1113 2906 1747 \nQ 2906 2381 2643 2742 \nQ 2381 3103 1925 3103 \nQ 1469 3103 1208 2742 \nQ 947 2381 947 1747 \nz\n\" id=\"DejaVuSans-64\" transform=\"scale(0.015625)\"/>\n      <path d=\"M 4122 4306 \nL 4122 3641 \nQ 3803 3938 3442 4084 \nQ 3081 4231 2675 4231 \nQ 1875 4231 1450 3742 \nQ 1025 3253 1025 2328 \nQ 1025 1406 1450 917 \nQ 1875 428 2675 428 \nQ 3081 428 3442 575 \nQ 3803 722 4122 1019 \nL 4122 359 \nQ 3791 134 3420 21 \nQ 3050 -91 2638 -91 \nQ 1578 -91 968 557 \nQ 359 1206 359 2328 \nQ 359 3453 968 4101 \nQ 1578 4750 2638 4750 \nQ 3056 4750 3426 4639 \nQ 3797 4528 4122 4306 \nz\n\" id=\"DejaVuSans-43\" transform=\"scale(0.015625)\"/>\n      <path d=\"M 544 1381 \nL 544 3500 \nL 1119 3500 \nL 1119 1403 \nQ 1119 906 1312 657 \nQ 1506 409 1894 409 \nQ 2359 409 2629 706 \nQ 2900 1003 2900 1516 \nL 2900 3500 \nL 3475 3500 \nL 3475 0 \nL 2900 0 \nL 2900 538 \nQ 2691 219 2414 64 \nQ 2138 -91 1772 -91 \nQ 1169 -91 856 284 \nQ 544 659 544 1381 \nz\nM 1991 3584 \nL 1991 3584 \nz\n\" id=\"DejaVuSans-75\" transform=\"scale(0.015625)\"/>\n      <path d=\"M 191 3500 \nL 800 3500 \nL 1894 563 \nL 2988 3500 \nL 3597 3500 \nL 2284 0 \nL 1503 0 \nL 191 3500 \nz\n\" id=\"DejaVuSans-76\" transform=\"scale(0.015625)\"/>\n      <path d=\"M 2375 4863 \nL 2375 4384 \nL 1825 4384 \nQ 1516 4384 1395 4259 \nQ 1275 4134 1275 3809 \nL 1275 3500 \nL 2222 3500 \nL 2222 3053 \nL 1275 3053 \nL 1275 0 \nL 697 0 \nL 697 3053 \nL 147 3053 \nL 147 3500 \nL 697 3500 \nL 697 3744 \nQ 697 4328 969 4595 \nQ 1241 4863 1831 4863 \nL 2375 4863 \nz\n\" id=\"DejaVuSans-66\" transform=\"scale(0.015625)\"/>\n      <path d=\"M 1259 2228 \nL 1259 519 \nL 2272 519 \nQ 2781 519 3026 730 \nQ 3272 941 3272 1375 \nQ 3272 1813 3026 2020 \nQ 2781 2228 2272 2228 \nL 1259 2228 \nz\nM 1259 4147 \nL 1259 2741 \nL 2194 2741 \nQ 2656 2741 2882 2914 \nQ 3109 3088 3109 3444 \nQ 3109 3797 2882 3972 \nQ 2656 4147 2194 4147 \nL 1259 4147 \nz\nM 628 4666 \nL 2241 4666 \nQ 2963 4666 3353 4366 \nQ 3744 4066 3744 3513 \nQ 3744 3084 3544 2831 \nQ 3344 2578 2956 2516 \nQ 3422 2416 3680 2098 \nQ 3938 1781 3938 1306 \nQ 3938 681 3513 340 \nQ 3088 0 2303 0 \nL 628 0 \nL 628 4666 \nz\n\" id=\"DejaVuSans-42\" transform=\"scale(0.015625)\"/>\n      <path d=\"M 2834 3397 \nL 2834 2853 \nQ 2591 2978 2328 3040 \nQ 2066 3103 1784 3103 \nQ 1356 3103 1142 2972 \nQ 928 2841 928 2578 \nQ 928 2378 1081 2264 \nQ 1234 2150 1697 2047 \nL 1894 2003 \nQ 2506 1872 2764 1633 \nQ 3022 1394 3022 966 \nQ 3022 478 2636 193 \nQ 2250 -91 1575 -91 \nQ 1294 -91 989 -36 \nQ 684 19 347 128 \nL 347 722 \nQ 666 556 975 473 \nQ 1284 391 1588 391 \nQ 1994 391 2212 530 \nQ 2431 669 2431 922 \nQ 2431 1156 2273 1281 \nQ 2116 1406 1581 1522 \nL 1381 1569 \nQ 847 1681 609 1914 \nQ 372 2147 372 2553 \nQ 372 3047 722 3315 \nQ 1072 3584 1716 3584 \nQ 2034 3584 2315 3537 \nQ 2597 3491 2834 3397 \nz\n\" id=\"DejaVuSans-73\" transform=\"scale(0.015625)\"/>\n      <path d=\"M 628 4666 \nL 1569 4666 \nL 2759 1491 \nL 3956 4666 \nL 4897 4666 \nL 4897 0 \nL 4281 0 \nL 4281 4097 \nL 3078 897 \nL 2444 897 \nL 1241 4097 \nL 1241 0 \nL 628 0 \nL 628 4666 \nz\n\" id=\"DejaVuSans-4d\" transform=\"scale(0.015625)\"/>\n     </defs>\n     <use xlink:href=\"#DejaVuSans-56\"/>\n     <use x=\"60.658203\" xlink:href=\"#DejaVuSans-61\"/>\n     <use x=\"121.9375\" xlink:href=\"#DejaVuSans-6c\"/>\n     <use x=\"149.720703\" xlink:href=\"#DejaVuSans-69\"/>\n     <use x=\"177.503906\" xlink:href=\"#DejaVuSans-64\"/>\n     <use x=\"240.980469\" xlink:href=\"#DejaVuSans-61\"/>\n     <use x=\"302.259766\" xlink:href=\"#DejaVuSans-74\"/>\n     <use x=\"341.46875\" xlink:href=\"#DejaVuSans-69\"/>\n     <use x=\"369.251953\" xlink:href=\"#DejaVuSans-6f\"/>\n     <use x=\"430.433594\" xlink:href=\"#DejaVuSans-6e\"/>\n     <use x=\"493.8125\" xlink:href=\"#DejaVuSans-20\"/>\n     <use x=\"525.599609\" xlink:href=\"#DejaVuSans-43\"/>\n     <use x=\"595.423828\" xlink:href=\"#DejaVuSans-75\"/>\n     <use x=\"658.802734\" xlink:href=\"#DejaVuSans-72\"/>\n     <use x=\"699.916016\" xlink:href=\"#DejaVuSans-76\"/>\n     <use x=\"759.095703\" xlink:href=\"#DejaVuSans-65\"/>\n     <use x=\"820.619141\" xlink:href=\"#DejaVuSans-20\"/>\n     <use x=\"852.40625\" xlink:href=\"#DejaVuSans-66\"/>\n     <use x=\"887.611328\" xlink:href=\"#DejaVuSans-6f\"/>\n     <use x=\"948.792969\" xlink:href=\"#DejaVuSans-72\"/>\n     <use x=\"989.90625\" xlink:href=\"#DejaVuSans-20\"/>\n     <use x=\"1021.693359\" xlink:href=\"#DejaVuSans-42\"/>\n     <use x=\"1090.296875\" xlink:href=\"#DejaVuSans-65\"/>\n     <use x=\"1151.820312\" xlink:href=\"#DejaVuSans-73\"/>\n     <use x=\"1203.919922\" xlink:href=\"#DejaVuSans-74\"/>\n     <use x=\"1243.128906\" xlink:href=\"#DejaVuSans-20\"/>\n     <use x=\"1274.916016\" xlink:href=\"#DejaVuSans-4d\"/>\n     <use x=\"1361.195312\" xlink:href=\"#DejaVuSans-6f\"/>\n     <use x=\"1422.376953\" xlink:href=\"#DejaVuSans-64\"/>\n     <use x=\"1485.853516\" xlink:href=\"#DejaVuSans-65\"/>\n     <use x=\"1547.376953\" xlink:href=\"#DejaVuSans-6c\"/>\n    </g>\n   </g>\n   <g id=\"legend_1\">\n    <g id=\"patch_7\">\n     <path d=\"M 229.551562 59.674375 \nL 371.58125 59.674375 \nQ 373.58125 59.674375 373.58125 57.674375 \nL 373.58125 29.318125 \nQ 373.58125 27.318125 371.58125 27.318125 \nL 229.551562 27.318125 \nQ 227.551562 27.318125 227.551562 29.318125 \nL 227.551562 57.674375 \nQ 227.551562 59.674375 229.551562 59.674375 \nz\n\" style=\"fill:#ffffff;opacity:0.8;stroke:#cccccc;stroke-linejoin:miter;\"/>\n    </g>\n    <g id=\"line2d_15\">\n     <path d=\"M 231.551562 35.416562 \nL 251.551562 35.416562 \n\" style=\"fill:none;stroke:#ff8c00;stroke-linecap:square;stroke-width:0.75;\"/>\n    </g>\n    <g id=\"line2d_16\"/>\n    <g id=\"text_17\">\n     <!-- Training score -->\n     <g transform=\"translate(259.551562 38.916562)scale(0.1 -0.1)\">\n      <defs>\n       <path d=\"M -19 4666 \nL 3928 4666 \nL 3928 4134 \nL 2272 4134 \nL 2272 0 \nL 1638 0 \nL 1638 4134 \nL -19 4134 \nL -19 4666 \nz\n\" id=\"DejaVuSans-54\" transform=\"scale(0.015625)\"/>\n      </defs>\n      <use xlink:href=\"#DejaVuSans-54\"/>\n      <use x=\"46.333984\" xlink:href=\"#DejaVuSans-72\"/>\n      <use x=\"87.447266\" xlink:href=\"#DejaVuSans-61\"/>\n      <use x=\"148.726562\" xlink:href=\"#DejaVuSans-69\"/>\n      <use x=\"176.509766\" xlink:href=\"#DejaVuSans-6e\"/>\n      <use x=\"239.888672\" xlink:href=\"#DejaVuSans-69\"/>\n      <use x=\"267.671875\" xlink:href=\"#DejaVuSans-6e\"/>\n      <use x=\"331.050781\" xlink:href=\"#DejaVuSans-67\"/>\n      <use x=\"394.527344\" xlink:href=\"#DejaVuSans-20\"/>\n      <use x=\"426.314453\" xlink:href=\"#DejaVuSans-73\"/>\n      <use x=\"478.414062\" xlink:href=\"#DejaVuSans-63\"/>\n      <use x=\"533.394531\" xlink:href=\"#DejaVuSans-6f\"/>\n      <use x=\"594.576172\" xlink:href=\"#DejaVuSans-72\"/>\n      <use x=\"633.439453\" xlink:href=\"#DejaVuSans-65\"/>\n     </g>\n    </g>\n    <g id=\"line2d_17\">\n     <path d=\"M 231.551562 50.094687 \nL 251.551562 50.094687 \n\" style=\"fill:none;stroke:#000080;stroke-linecap:square;stroke-width:0.75;\"/>\n    </g>\n    <g id=\"line2d_18\"/>\n    <g id=\"text_18\">\n     <!-- Cross-validation score -->\n     <g transform=\"translate(259.551562 53.594687)scale(0.1 -0.1)\">\n      <defs>\n       <path d=\"M 313 2009 \nL 1997 2009 \nL 1997 1497 \nL 313 1497 \nL 313 2009 \nz\n\" id=\"DejaVuSans-2d\" transform=\"scale(0.015625)\"/>\n      </defs>\n      <use xlink:href=\"#DejaVuSans-43\"/>\n      <use x=\"69.824219\" xlink:href=\"#DejaVuSans-72\"/>\n      <use x=\"108.6875\" xlink:href=\"#DejaVuSans-6f\"/>\n      <use x=\"169.869141\" xlink:href=\"#DejaVuSans-73\"/>\n      <use x=\"221.96875\" xlink:href=\"#DejaVuSans-73\"/>\n      <use x=\"274.068359\" xlink:href=\"#DejaVuSans-2d\"/>\n      <use x=\"307.527344\" xlink:href=\"#DejaVuSans-76\"/>\n      <use x=\"366.707031\" xlink:href=\"#DejaVuSans-61\"/>\n      <use x=\"427.986328\" xlink:href=\"#DejaVuSans-6c\"/>\n      <use x=\"455.769531\" xlink:href=\"#DejaVuSans-69\"/>\n      <use x=\"483.552734\" xlink:href=\"#DejaVuSans-64\"/>\n      <use x=\"547.029297\" xlink:href=\"#DejaVuSans-61\"/>\n      <use x=\"608.308594\" xlink:href=\"#DejaVuSans-74\"/>\n      <use x=\"647.517578\" xlink:href=\"#DejaVuSans-69\"/>\n      <use x=\"675.300781\" xlink:href=\"#DejaVuSans-6f\"/>\n      <use x=\"736.482422\" xlink:href=\"#DejaVuSans-6e\"/>\n      <use x=\"799.861328\" xlink:href=\"#DejaVuSans-20\"/>\n      <use x=\"831.648438\" xlink:href=\"#DejaVuSans-73\"/>\n      <use x=\"883.748047\" xlink:href=\"#DejaVuSans-63\"/>\n      <use x=\"938.728516\" xlink:href=\"#DejaVuSans-6f\"/>\n      <use x=\"999.910156\" xlink:href=\"#DejaVuSans-72\"/>\n      <use x=\"1038.773438\" xlink:href=\"#DejaVuSans-65\"/>\n     </g>\n    </g>\n   </g>\n  </g>\n </g>\n <defs>\n  <clipPath id=\"p63584f04e9\">\n   <rect height=\"217.44\" width=\"334.8\" x=\"43.78125\" y=\"22.318125\"/>\n  </clipPath>\n </defs>\n</svg>\n",
      "image/png": "[encoded data removed]"
     },
     "metadata": {
      "needs_background": "light"
     }
    }
   ],
   "metadata": {}
  },
  {
   "cell_type": "markdown",
   "source": [
    "# 4. Model  : Random Forest"
   ],
   "metadata": {}
  },
  {
   "cell_type": "code",
   "execution_count": 398,
   "source": [
    "param_grid = {\n",
    "        'n_estimators': range(100, 200, 2),\n",
    "        'max_depth': range(10, 50, 2),\n",
    "    }\n",
    "rf=RandomForestClassifier(random_state=42)\n"
   ],
   "outputs": [],
   "metadata": {}
  },
  {
   "cell_type": "code",
   "execution_count": 399,
   "source": [
    "clf=RandomizedSearchCV(estimator=rf,param_distributions=param_grid,cv=5,n_iter=100,verbose=2,random_state=42,n_jobs=-1)\n",
    "clf.fit(training.drop(['income>50K'],axis=1),training['income>50K'])"
   ],
   "outputs": [
    {
     "output_type": "stream",
     "name": "stdout",
     "text": [
      "Fitting 5 folds for each of 100 candidates, totalling 500 fits\n",
      "[CV] END .....................max_depth=30, n_estimators=142; total time=   3.5s\n",
      "[CV] END .....................max_depth=30, n_estimators=142; total time=   3.7s\n",
      "[CV] END .....................max_depth=30, n_estimators=142; total time=   3.7s\n",
      "[CV] END .....................max_depth=30, n_estimators=142; total time=   3.8s\n",
      "[CV] END .....................max_depth=30, n_estimators=142; total time=   3.8s\n",
      "[CV] END .....................max_depth=38, n_estimators=174; total time=   4.3s\n",
      "[CV] END .....................max_depth=38, n_estimators=174; total time=   4.4s\n",
      "[CV] END .....................max_depth=38, n_estimators=174; total time=   5.0s\n",
      "[CV] END .....................max_depth=38, n_estimators=174; total time=   4.4s\n",
      "[CV] END .....................max_depth=38, n_estimators=174; total time=   4.4s\n",
      "[CV] END .....................max_depth=36, n_estimators=120; total time=   3.3s\n",
      "[CV] END .....................max_depth=38, n_estimators=180; total time=   4.8s\n",
      "[CV] END .....................max_depth=38, n_estimators=180; total time=   4.9s\n",
      "[CV] END .....................max_depth=38, n_estimators=180; total time=   5.0s\n",
      "[CV] END .....................max_depth=38, n_estimators=180; total time=   4.5s\n",
      "[CV] END .....................max_depth=38, n_estimators=180; total time=   4.6s\n",
      "[CV] END .....................max_depth=36, n_estimators=120; total time=   3.3s\n",
      "[CV] END .....................max_depth=36, n_estimators=120; total time=   3.1s\n",
      "[CV] END .....................max_depth=36, n_estimators=120; total time=   3.1s\n",
      "[CV] END .....................max_depth=36, n_estimators=120; total time=   3.0s\n",
      "[CV] END .....................max_depth=26, n_estimators=122; total time=   3.3s\n",
      "[CV] END .....................max_depth=26, n_estimators=122; total time=   3.0s\n",
      "[CV] END .....................max_depth=26, n_estimators=122; total time=   3.2s\n",
      "[CV] END .....................max_depth=26, n_estimators=122; total time=   3.3s\n",
      "[CV] END .....................max_depth=26, n_estimators=122; total time=   3.6s\n",
      "[CV] END .....................max_depth=36, n_estimators=156; total time=   4.3s\n",
      "[CV] END .....................max_depth=36, n_estimators=156; total time=   4.2s\n",
      "[CV] END .....................max_depth=36, n_estimators=156; total time=   4.6s\n",
      "[CV] END .....................max_depth=34, n_estimators=152; total time=   4.1s\n",
      "[CV] END .....................max_depth=36, n_estimators=156; total time=   4.6s\n",
      "[CV] END .....................max_depth=34, n_estimators=152; total time=   4.5s\n",
      "[CV] END .....................max_depth=36, n_estimators=156; total time=   4.8s\n",
      "[CV] END .....................max_depth=34, n_estimators=152; total time=   4.1s\n",
      "[CV] END .....................max_depth=34, n_estimators=152; total time=   4.1s\n",
      "[CV] END .....................max_depth=30, n_estimators=126; total time=   3.7s\n",
      "[CV] END .....................max_depth=30, n_estimators=126; total time=   3.9s\n",
      "[CV] END .....................max_depth=30, n_estimators=126; total time=   3.4s\n",
      "[CV] END .....................max_depth=34, n_estimators=152; total time=   4.6s\n",
      "[CV] END .....................max_depth=30, n_estimators=126; total time=   3.9s\n",
      "[CV] END .....................max_depth=30, n_estimators=126; total time=   4.0s\n",
      "[CV] END .....................max_depth=44, n_estimators=118; total time=   3.5s\n",
      "[CV] END .....................max_depth=44, n_estimators=118; total time=   2.9s\n",
      "[CV] END .....................max_depth=44, n_estimators=118; total time=   3.0s\n",
      "[CV] END .....................max_depth=44, n_estimators=118; total time=   3.1s\n",
      "[CV] END .....................max_depth=44, n_estimators=118; total time=   3.6s\n",
      "[CV] END .....................max_depth=14, n_estimators=172; total time=   3.7s\n",
      "[CV] END .....................max_depth=14, n_estimators=172; total time=   4.0s\n",
      "[CV] END .....................max_depth=14, n_estimators=172; total time=   3.9s\n",
      "[CV] END .....................max_depth=14, n_estimators=172; total time=   3.2s\n",
      "[CV] END .....................max_depth=42, n_estimators=122; total time=   3.0s\n",
      "[CV] END .....................max_depth=14, n_estimators=172; total time=   3.9s\n",
      "[CV] END .....................max_depth=42, n_estimators=122; total time=   3.2s\n",
      "[CV] END .....................max_depth=42, n_estimators=122; total time=   3.2s\n",
      "[CV] END .....................max_depth=42, n_estimators=122; total time=   3.1s\n",
      "[CV] END .....................max_depth=42, n_estimators=122; total time=   3.2s\n",
      "[CV] END .....................max_depth=12, n_estimators=152; total time=   2.9s\n",
      "[CV] END .....................max_depth=12, n_estimators=152; total time=   2.9s\n",
      "[CV] END .....................max_depth=12, n_estimators=152; total time=   3.1s\n",
      "[CV] END .....................max_depth=12, n_estimators=152; total time=   3.0s\n",
      "[CV] END .....................max_depth=12, n_estimators=152; total time=   3.1s\n",
      "[CV] END .....................max_depth=34, n_estimators=172; total time=   4.0s\n",
      "[CV] END .....................max_depth=34, n_estimators=172; total time=   4.4s\n",
      "[CV] END .....................max_depth=34, n_estimators=172; total time=   4.5s\n",
      "[CV] END .....................max_depth=34, n_estimators=172; total time=   4.5s\n",
      "[CV] END .....................max_depth=48, n_estimators=146; total time=   3.7s\n",
      "[CV] END .....................max_depth=48, n_estimators=146; total time=   3.6s\n",
      "[CV] END .....................max_depth=48, n_estimators=146; total time=   3.7s\n",
      "[CV] END .....................max_depth=34, n_estimators=172; total time=   4.3s\n",
      "[CV] END .....................max_depth=48, n_estimators=146; total time=   3.4s\n",
      "[CV] END .....................max_depth=48, n_estimators=146; total time=   3.4s\n",
      "[CV] END .....................max_depth=46, n_estimators=176; total time=   4.2s\n",
      "[CV] END .....................max_depth=46, n_estimators=176; total time=   4.3s\n",
      "[CV] END .....................max_depth=46, n_estimators=176; total time=   4.0s\n",
      "[CV] END .....................max_depth=46, n_estimators=176; total time=   4.2s\n",
      "[CV] END .....................max_depth=46, n_estimators=176; total time=   4.3s\n",
      "[CV] END .....................max_depth=44, n_estimators=198; total time=   4.9s\n",
      "[CV] END .....................max_depth=44, n_estimators=198; total time=   4.9s\n",
      "[CV] END .....................max_depth=44, n_estimators=198; total time=   5.2s\n",
      "[CV] END .....................max_depth=20, n_estimators=160; total time=   3.7s\n",
      "[CV] END .....................max_depth=20, n_estimators=160; total time=   4.1s\n",
      "[CV] END .....................max_depth=44, n_estimators=198; total time=   5.1s\n",
      "[CV] END .....................max_depth=20, n_estimators=160; total time=   4.1s\n",
      "[CV] END .....................max_depth=20, n_estimators=160; total time=   3.5s\n",
      "[CV] END .....................max_depth=44, n_estimators=198; total time=   5.4s\n",
      "[CV] END .....................max_depth=20, n_estimators=160; total time=   3.5s\n",
      "[CV] END .....................max_depth=44, n_estimators=166; total time=   4.2s\n",
      "[CV] END .....................max_depth=44, n_estimators=166; total time=   4.2s\n",
      "[CV] END .....................max_depth=40, n_estimators=122; total time=   2.9s\n",
      "[CV] END .....................max_depth=40, n_estimators=122; total time=   2.9s\n",
      "[CV] END .....................max_depth=44, n_estimators=166; total time=   3.8s\n",
      "[CV] END .....................max_depth=44, n_estimators=166; total time=   3.7s\n",
      "[CV] END .....................max_depth=44, n_estimators=166; total time=   4.0s\n",
      "[CV] END .....................max_depth=40, n_estimators=122; total time=   2.9s\n",
      "[CV] END .....................max_depth=40, n_estimators=122; total time=   2.8s\n",
      "[CV] END .....................max_depth=40, n_estimators=122; total time=   3.0s\n",
      "[CV] END .....................max_depth=22, n_estimators=138; total time=   3.0s\n",
      "[CV] END .....................max_depth=22, n_estimators=138; total time=   3.2s\n",
      "[CV] END .....................max_depth=22, n_estimators=138; total time=   3.1s\n",
      "[CV] END .....................max_depth=22, n_estimators=138; total time=   3.1s\n",
      "[CV] END .....................max_depth=22, n_estimators=138; total time=   3.1s\n",
      "[CV] END .....................max_depth=30, n_estimators=198; total time=   4.7s\n",
      "[CV] END .....................max_depth=16, n_estimators=148; total time=   3.0s\n",
      "[CV] END .....................max_depth=16, n_estimators=148; total time=   2.9s\n",
      "[CV] END .....................max_depth=16, n_estimators=148; total time=   3.2s\n",
      "[CV] END .....................max_depth=30, n_estimators=198; total time=   4.5s\n",
      "[CV] END .....................max_depth=30, n_estimators=198; total time=   4.9s\n",
      "[CV] END .....................max_depth=30, n_estimators=198; total time=   4.8s\n",
      "[CV] END .....................max_depth=30, n_estimators=198; total time=   4.7s\n",
      "[CV] END .....................max_depth=16, n_estimators=148; total time=   3.0s\n",
      "[CV] END .....................max_depth=16, n_estimators=148; total time=   3.4s\n",
      "[CV] END .....................max_depth=24, n_estimators=142; total time=   3.5s\n",
      "[CV] END .....................max_depth=24, n_estimators=142; total time=   3.7s\n",
      "[CV] END .....................max_depth=24, n_estimators=142; total time=   3.8s\n",
      "[CV] END .....................max_depth=24, n_estimators=142; total time=   3.8s\n",
      "[CV] END .....................max_depth=24, n_estimators=142; total time=   3.9s\n",
      "[CV] END .....................max_depth=30, n_estimators=154; total time=   4.2s\n",
      "[CV] END .....................max_depth=30, n_estimators=154; total time=   4.1s\n",
      "[CV] END .....................max_depth=18, n_estimators=120; total time=   2.9s\n",
      "[CV] END .....................max_depth=30, n_estimators=154; total time=   4.0s\n",
      "[CV] END .....................max_depth=30, n_estimators=154; total time=   4.0s\n",
      "[CV] END .....................max_depth=30, n_estimators=154; total time=   4.1s\n",
      "[CV] END .....................max_depth=18, n_estimators=120; total time=   2.8s\n",
      "[CV] END .....................max_depth=18, n_estimators=120; total time=   3.2s\n",
      "[CV] END .....................max_depth=18, n_estimators=120; total time=   3.2s\n",
      "[CV] END .....................max_depth=18, n_estimators=120; total time=   3.5s\n",
      "[CV] END .....................max_depth=14, n_estimators=102; total time=   2.3s\n",
      "[CV] END .....................max_depth=18, n_estimators=170; total time=   3.9s\n",
      "[CV] END .....................max_depth=14, n_estimators=102; total time=   2.4s\n",
      "[CV] END .....................max_depth=18, n_estimators=170; total time=   4.3s\n",
      "[CV] END .....................max_depth=14, n_estimators=102; total time=   2.3s\n",
      "[CV] END .....................max_depth=18, n_estimators=170; total time=   4.1s\n",
      "[CV] END .....................max_depth=18, n_estimators=170; total time=   4.2s\n",
      "[CV] END .....................max_depth=18, n_estimators=170; total time=   4.4s\n",
      "[CV] END .....................max_depth=14, n_estimators=102; total time=   2.1s\n",
      "[CV] END .....................max_depth=14, n_estimators=102; total time=   2.2s\n",
      "[CV] END .....................max_depth=46, n_estimators=104; total time=   2.7s\n",
      "[CV] END .....................max_depth=46, n_estimators=104; total time=   2.7s\n",
      "[CV] END .....................max_depth=48, n_estimators=172; total time=   4.4s\n",
      "[CV] END .....................max_depth=48, n_estimators=172; total time=   4.0s\n",
      "[CV] END .....................max_depth=46, n_estimators=104; total time=   2.8s\n",
      "[CV] END .....................max_depth=48, n_estimators=172; total time=   4.3s\n",
      "[CV] END .....................max_depth=48, n_estimators=172; total time=   4.5s\n",
      "[CV] END .....................max_depth=48, n_estimators=172; total time=   4.4s\n",
      "[CV] END .....................max_depth=46, n_estimators=104; total time=   2.7s\n",
      "[CV] END .....................max_depth=46, n_estimators=104; total time=   2.8s\n",
      "[CV] END .....................max_depth=46, n_estimators=194; total time=   5.3s\n",
      "[CV] END .....................max_depth=46, n_estimators=194; total time=   4.9s\n",
      "[CV] END .....................max_depth=46, n_estimators=194; total time=   5.1s\n",
      "[CV] END .....................max_depth=46, n_estimators=194; total time=   4.9s\n",
      "[CV] END .....................max_depth=22, n_estimators=192; total time=   4.9s\n",
      "[CV] END .....................max_depth=46, n_estimators=194; total time=   5.2s\n",
      "[CV] END .....................max_depth=22, n_estimators=192; total time=   5.1s\n",
      "[CV] END .....................max_depth=22, n_estimators=192; total time=   4.8s\n",
      "[CV] END .....................max_depth=14, n_estimators=178; total time=   3.7s\n",
      "[CV] END .....................max_depth=14, n_estimators=178; total time=   3.8s\n",
      "[CV] END .....................max_depth=14, n_estimators=178; total time=   3.6s\n",
      "[CV] END .....................max_depth=14, n_estimators=178; total time=   3.7s\n",
      "[CV] END .....................max_depth=22, n_estimators=192; total time=   4.6s\n",
      "[CV] END .....................max_depth=22, n_estimators=192; total time=   4.6s\n",
      "[CV] END .....................max_depth=34, n_estimators=142; total time=   3.7s\n",
      "[CV] END .....................max_depth=14, n_estimators=178; total time=   3.9s\n",
      "[CV] END .....................max_depth=34, n_estimators=142; total time=   3.6s\n",
      "[CV] END .....................max_depth=34, n_estimators=142; total time=   3.4s\n",
      "[CV] END .....................max_depth=34, n_estimators=142; total time=   3.7s\n",
      "[CV] END .....................max_depth=34, n_estimators=142; total time=   3.8s\n",
      "[CV] END .....................max_depth=28, n_estimators=198; total time=   4.9s\n",
      "[CV] END .....................max_depth=28, n_estimators=198; total time=   5.0s\n",
      "[CV] END .....................max_depth=28, n_estimators=198; total time=   5.2s\n",
      "[CV] END .....................max_depth=24, n_estimators=140; total time=   3.5s\n",
      "[CV] END .....................max_depth=28, n_estimators=198; total time=   5.6s\n",
      "[CV] END .....................max_depth=24, n_estimators=140; total time=   3.6s\n",
      "[CV] END .....................max_depth=24, n_estimators=140; total time=   3.8s\n",
      "[CV] END .....................max_depth=28, n_estimators=198; total time=   5.1s\n",
      "[CV] END .....................max_depth=24, n_estimators=140; total time=   3.2s\n",
      "[CV] END .....................max_depth=24, n_estimators=140; total time=   3.5s\n",
      "[CV] END .....................max_depth=16, n_estimators=196; total time=   4.3s\n",
      "[CV] END .....................max_depth=16, n_estimators=196; total time=   4.4s\n",
      "[CV] END .....................max_depth=16, n_estimators=196; total time=   4.7s\n",
      "[CV] END .....................max_depth=16, n_estimators=196; total time=   4.7s\n",
      "[CV] END .....................max_depth=16, n_estimators=196; total time=   4.5s\n",
      "[CV] END .....................max_depth=36, n_estimators=174; total time=   4.6s\n",
      "[CV] END .....................max_depth=36, n_estimators=174; total time=   4.5s\n",
      "[CV] END .....................max_depth=36, n_estimators=174; total time=   4.6s\n",
      "[CV] END .....................max_depth=36, n_estimators=174; total time=   4.4s\n",
      "[CV] END .....................max_depth=36, n_estimators=174; total time=   4.5s\n",
      "[CV] END .....................max_depth=46, n_estimators=102; total time=   2.7s\n",
      "[CV] END .....................max_depth=32, n_estimators=168; total time=   4.4s\n",
      "[CV] END .....................max_depth=32, n_estimators=168; total time=   4.6s\n",
      "[CV] END .....................max_depth=32, n_estimators=168; total time=   4.5s\n",
      "[CV] END .....................max_depth=32, n_estimators=168; total time=   4.3s\n",
      "[CV] END .....................max_depth=32, n_estimators=168; total time=   4.9s\n",
      "[CV] END .....................max_depth=46, n_estimators=102; total time=   3.0s\n",
      "[CV] END .....................max_depth=46, n_estimators=102; total time=   2.9s\n",
      "[CV] END .....................max_depth=46, n_estimators=102; total time=   2.6s\n",
      "[CV] END .....................max_depth=12, n_estimators=118; total time=   2.4s\n",
      "[CV] END .....................max_depth=12, n_estimators=118; total time=   2.5s\n",
      "[CV] END .....................max_depth=46, n_estimators=102; total time=   2.8s\n",
      "[CV] END .....................max_depth=12, n_estimators=118; total time=   2.2s\n",
      "[CV] END .....................max_depth=12, n_estimators=118; total time=   2.6s\n",
      "[CV] END .....................max_depth=12, n_estimators=118; total time=   2.6s\n",
      "[CV] END .....................max_depth=22, n_estimators=156; total time=   3.9s\n",
      "[CV] END .....................max_depth=22, n_estimators=156; total time=   4.0s\n",
      "[CV] END .....................max_depth=22, n_estimators=156; total time=   4.0s\n",
      "[CV] END .....................max_depth=22, n_estimators=156; total time=   4.3s\n",
      "[CV] END .....................max_depth=12, n_estimators=192; total time=   3.5s\n",
      "[CV] END .....................max_depth=22, n_estimators=156; total time=   4.1s\n",
      "[CV] END .....................max_depth=12, n_estimators=192; total time=   3.8s\n",
      "[CV] END .....................max_depth=12, n_estimators=192; total time=   3.8s\n",
      "[CV] END .....................max_depth=22, n_estimators=124; total time=   2.9s\n",
      "[CV] END .....................max_depth=22, n_estimators=124; total time=   2.8s\n",
      "[CV] END .....................max_depth=22, n_estimators=124; total time=   2.8s\n",
      "[CV] END .....................max_depth=22, n_estimators=124; total time=   2.9s\n",
      "[CV] END .....................max_depth=12, n_estimators=192; total time=   3.5s\n",
      "[CV] END .....................max_depth=12, n_estimators=192; total time=   3.6s\n",
      "[CV] END .....................max_depth=22, n_estimators=124; total time=   2.9s\n",
      "[CV] END .....................max_depth=48, n_estimators=148; total time=   4.0s\n",
      "[CV] END .....................max_depth=48, n_estimators=148; total time=   4.1s\n",
      "[CV] END .....................max_depth=48, n_estimators=148; total time=   4.5s\n",
      "[CV] END .....................max_depth=48, n_estimators=148; total time=   4.8s\n",
      "[CV] END .....................max_depth=48, n_estimators=148; total time=   4.9s\n",
      "[CV] END .....................max_depth=20, n_estimators=198; total time=   5.5s\n",
      "[CV] END .....................max_depth=20, n_estimators=198; total time=   5.6s\n",
      "[CV] END .....................max_depth=20, n_estimators=198; total time=   6.0s\n",
      "[CV] END .....................max_depth=20, n_estimators=198; total time=   4.9s\n",
      "[CV] END .....................max_depth=20, n_estimators=154; total time=   3.7s\n",
      "[CV] END .....................max_depth=20, n_estimators=154; total time=   3.6s\n",
      "[CV] END .....................max_depth=20, n_estimators=154; total time=   3.8s\n",
      "[CV] END .....................max_depth=20, n_estimators=198; total time=   4.8s\n",
      "[CV] END .....................max_depth=20, n_estimators=154; total time=   3.6s\n",
      "[CV] END .....................max_depth=20, n_estimators=154; total time=   3.8s\n",
      "[CV] END .....................max_depth=46, n_estimators=148; total time=   4.2s\n",
      "[CV] END .....................max_depth=46, n_estimators=148; total time=   3.8s\n",
      "[CV] END .....................max_depth=34, n_estimators=102; total time=   2.8s\n",
      "[CV] END .....................max_depth=34, n_estimators=102; total time=   2.6s\n",
      "[CV] END .....................max_depth=46, n_estimators=148; total time=   3.8s\n",
      "[CV] END .....................max_depth=46, n_estimators=148; total time=   3.8s\n",
      "[CV] END .....................max_depth=34, n_estimators=102; total time=   2.9s\n",
      "[CV] END .....................max_depth=46, n_estimators=148; total time=   4.3s\n",
      "[CV] END .....................max_depth=34, n_estimators=102; total time=   3.0s\n",
      "[CV] END .....................max_depth=34, n_estimators=102; total time=   2.8s\n",
      "[CV] END .....................max_depth=26, n_estimators=178; total time=   4.7s\n",
      "[CV] END .....................max_depth=26, n_estimators=178; total time=   4.6s\n",
      "[CV] END .....................max_depth=26, n_estimators=178; total time=   4.8s\n",
      "[CV] END .....................max_depth=26, n_estimators=178; total time=   4.6s\n",
      "[CV] END .....................max_depth=26, n_estimators=178; total time=   4.7s\n",
      "[CV] END .....................max_depth=42, n_estimators=174; total time=   4.9s\n",
      "[CV] END .....................max_depth=42, n_estimators=174; total time=   4.7s\n",
      "[CV] END .....................max_depth=42, n_estimators=174; total time=   4.9s\n",
      "[CV] END .....................max_depth=32, n_estimators=140; total time=   3.6s\n",
      "[CV] END .....................max_depth=42, n_estimators=174; total time=   4.5s\n",
      "[CV] END .....................max_depth=32, n_estimators=140; total time=   3.9s\n",
      "[CV] END .....................max_depth=32, n_estimators=140; total time=   3.7s\n",
      "[CV] END .....................max_depth=42, n_estimators=174; total time=   4.7s\n",
      "[CV] END .....................max_depth=32, n_estimators=140; total time=   3.8s\n",
      "[CV] END .....................max_depth=32, n_estimators=140; total time=   3.8s\n",
      "[CV] END .....................max_depth=44, n_estimators=158; total time=   4.5s\n",
      "[CV] END .....................max_depth=20, n_estimators=122; total time=   2.9s\n",
      "[CV] END .....................max_depth=20, n_estimators=122; total time=   3.1s\n",
      "[CV] END .....................max_depth=44, n_estimators=158; total time=   4.2s\n",
      "[CV] END .....................max_depth=44, n_estimators=158; total time=   4.1s\n",
      "[CV] END .....................max_depth=44, n_estimators=158; total time=   4.1s\n",
      "[CV] END .....................max_depth=44, n_estimators=158; total time=   4.3s\n",
      "[CV] END .....................max_depth=20, n_estimators=122; total time=   2.8s\n",
      "[CV] END .....................max_depth=20, n_estimators=122; total time=   3.0s\n",
      "[CV] END .....................max_depth=20, n_estimators=122; total time=   3.2s\n",
      "[CV] END .....................max_depth=10, n_estimators=146; total time=   2.6s\n",
      "[CV] END .....................max_depth=32, n_estimators=156; total time=   3.9s\n",
      "[CV] END .....................max_depth=32, n_estimators=156; total time=   4.4s\n",
      "[CV] END .....................max_depth=32, n_estimators=156; total time=   4.3s\n",
      "[CV] END .....................max_depth=32, n_estimators=156; total time=   4.2s\n",
      "[CV] END .....................max_depth=10, n_estimators=146; total time=   2.8s\n",
      "[CV] END .....................max_depth=32, n_estimators=156; total time=   4.2s\n",
      "[CV] END .....................max_depth=10, n_estimators=146; total time=   3.0s\n",
      "[CV] END .....................max_depth=10, n_estimators=146; total time=   2.4s\n",
      "[CV] END .....................max_depth=10, n_estimators=146; total time=   2.3s\n",
      "[CV] END .....................max_depth=10, n_estimators=160; total time=   2.7s\n",
      "[CV] END .....................max_depth=10, n_estimators=160; total time=   3.0s\n",
      "[CV] END .....................max_depth=10, n_estimators=160; total time=   2.9s\n",
      "[CV] END .....................max_depth=10, n_estimators=160; total time=   2.7s\n",
      "[CV] END .....................max_depth=10, n_estimators=160; total time=   3.0s\n",
      "[CV] END .....................max_depth=34, n_estimators=134; total time=   3.3s\n",
      "[CV] END .....................max_depth=34, n_estimators=134; total time=   3.6s\n",
      "[CV] END .....................max_depth=10, n_estimators=120; total time=   1.9s\n",
      "[CV] END .....................max_depth=10, n_estimators=120; total time=   1.9s\n",
      "[CV] END .....................max_depth=34, n_estimators=134; total time=   3.4s\n",
      "[CV] END .....................max_depth=10, n_estimators=120; total time=   2.2s\n",
      "[CV] END .....................max_depth=34, n_estimators=134; total time=   3.5s\n",
      "[CV] END .....................max_depth=34, n_estimators=134; total time=   3.6s\n",
      "[CV] END .....................max_depth=10, n_estimators=120; total time=   2.1s\n",
      "[CV] END .....................max_depth=10, n_estimators=120; total time=   2.2s\n",
      "[CV] END .....................max_depth=18, n_estimators=142; total time=   3.2s\n",
      "[CV] END .....................max_depth=18, n_estimators=142; total time=   3.2s\n",
      "[CV] END .....................max_depth=18, n_estimators=142; total time=   3.3s\n",
      "[CV] END .....................max_depth=18, n_estimators=142; total time=   3.4s\n",
      "[CV] END .....................max_depth=18, n_estimators=142; total time=   3.2s\n",
      "[CV] END .....................max_depth=42, n_estimators=140; total time=   3.7s\n",
      "[CV] END .....................max_depth=42, n_estimators=140; total time=   3.5s\n",
      "[CV] END .....................max_depth=42, n_estimators=140; total time=   3.5s\n",
      "[CV] END .....................max_depth=42, n_estimators=140; total time=   3.4s\n",
      "[CV] END .....................max_depth=42, n_estimators=140; total time=   3.5s\n",
      "[CV] END .....................max_depth=20, n_estimators=192; total time=   4.7s\n",
      "[CV] END .....................max_depth=12, n_estimators=108; total time=   2.5s\n",
      "[CV] END .....................max_depth=20, n_estimators=192; total time=   4.6s\n",
      "[CV] END .....................max_depth=12, n_estimators=108; total time=   2.1s\n",
      "[CV] END .....................max_depth=12, n_estimators=108; total time=   2.3s\n",
      "[CV] END .....................max_depth=20, n_estimators=192; total time=   4.6s\n",
      "[CV] END .....................max_depth=20, n_estimators=192; total time=   4.7s\n",
      "[CV] END .....................max_depth=12, n_estimators=108; total time=   2.1s\n",
      "[CV] END .....................max_depth=12, n_estimators=108; total time=   2.0s\n",
      "[CV] END .....................max_depth=20, n_estimators=192; total time=   4.9s\n",
      "[CV] END .....................max_depth=18, n_estimators=118; total time=   2.8s\n",
      "[CV] END .....................max_depth=18, n_estimators=118; total time=   3.1s\n",
      "[CV] END .....................max_depth=18, n_estimators=118; total time=   2.9s\n",
      "[CV] END .....................max_depth=30, n_estimators=184; total time=   4.7s\n",
      "[CV] END .....................max_depth=30, n_estimators=184; total time=   4.7s\n",
      "[CV] END .....................max_depth=30, n_estimators=184; total time=   4.9s\n",
      "[CV] END .....................max_depth=30, n_estimators=184; total time=   5.2s\n",
      "[CV] END .....................max_depth=30, n_estimators=184; total time=   4.5s\n",
      "[CV] END .....................max_depth=18, n_estimators=118; total time=   2.8s\n",
      "[CV] END .....................max_depth=18, n_estimators=118; total time=   2.7s\n",
      "[CV] END .....................max_depth=34, n_estimators=108; total time=   2.9s\n",
      "[CV] END .....................max_depth=34, n_estimators=108; total time=   2.7s\n",
      "[CV] END .....................max_depth=34, n_estimators=108; total time=   2.8s\n",
      "[CV] END .....................max_depth=34, n_estimators=108; total time=   2.9s\n",
      "[CV] END .....................max_depth=34, n_estimators=108; total time=   3.0s\n",
      "[CV] END .....................max_depth=36, n_estimators=184; total time=   4.8s\n",
      "[CV] END .....................max_depth=36, n_estimators=124; total time=   3.1s\n",
      "[CV] END .....................max_depth=36, n_estimators=124; total time=   3.5s\n",
      "[CV] END .....................max_depth=36, n_estimators=124; total time=   3.2s\n",
      "[CV] END .....................max_depth=36, n_estimators=184; total time=   4.6s\n",
      "[CV] END .....................max_depth=36, n_estimators=184; total time=   4.9s\n",
      "[CV] END .....................max_depth=36, n_estimators=184; total time=   4.8s\n",
      "[CV] END .....................max_depth=36, n_estimators=184; total time=   4.9s\n",
      "[CV] END .....................max_depth=36, n_estimators=124; total time=   3.3s\n",
      "[CV] END .....................max_depth=36, n_estimators=124; total time=   3.3s\n",
      "[CV] END .....................max_depth=44, n_estimators=132; total time=   3.4s\n",
      "[CV] END .....................max_depth=44, n_estimators=132; total time=   3.7s\n",
      "[CV] END .....................max_depth=12, n_estimators=140; total time=   3.0s\n",
      "[CV] END .....................max_depth=44, n_estimators=132; total time=   3.9s\n",
      "[CV] END .....................max_depth=44, n_estimators=132; total time=   3.4s\n",
      "[CV] END .....................max_depth=44, n_estimators=132; total time=   3.8s\n",
      "[CV] END .....................max_depth=12, n_estimators=140; total time=   2.7s\n",
      "[CV] END .....................max_depth=12, n_estimators=140; total time=   2.8s\n",
      "[CV] END .....................max_depth=12, n_estimators=140; total time=   2.8s\n",
      "[CV] END .....................max_depth=12, n_estimators=140; total time=   2.7s\n",
      "[CV] END .....................max_depth=14, n_estimators=114; total time=   2.5s\n",
      "[CV] END .....................max_depth=14, n_estimators=114; total time=   2.5s\n",
      "[CV] END .....................max_depth=14, n_estimators=114; total time=   2.1s\n",
      "[CV] END .....................max_depth=30, n_estimators=186; total time=   4.6s\n",
      "[CV] END .....................max_depth=30, n_estimators=186; total time=   5.1s\n",
      "[CV] END .....................max_depth=30, n_estimators=186; total time=   5.0s\n",
      "[CV] END .....................max_depth=30, n_estimators=186; total time=   5.0s\n",
      "[CV] END .....................max_depth=30, n_estimators=186; total time=   5.0s\n",
      "[CV] END .....................max_depth=14, n_estimators=114; total time=   2.4s\n",
      "[CV] END .....................max_depth=14, n_estimators=114; total time=   2.5s\n",
      "[CV] END .....................max_depth=28, n_estimators=186; total time=   4.7s\n",
      "[CV] END .....................max_depth=28, n_estimators=186; total time=   4.8s\n",
      "[CV] END .....................max_depth=28, n_estimators=186; total time=   5.1s\n",
      "[CV] END .....................max_depth=28, n_estimators=186; total time=   5.1s\n",
      "[CV] END .....................max_depth=28, n_estimators=186; total time=   4.9s\n",
      "[CV] END .....................max_depth=32, n_estimators=180; total time=   4.9s\n",
      "[CV] END .....................max_depth=32, n_estimators=180; total time=   4.9s\n",
      "[CV] END .....................max_depth=32, n_estimators=180; total time=   5.0s\n",
      "[CV] END .....................max_depth=32, n_estimators=180; total time=   5.1s\n",
      "[CV] END .....................max_depth=32, n_estimators=180; total time=   5.1s\n",
      "[CV] END .....................max_depth=38, n_estimators=182; total time=   4.6s\n",
      "[CV] END .....................max_depth=38, n_estimators=182; total time=   4.8s\n",
      "[CV] END .....................max_depth=38, n_estimators=182; total time=   5.0s\n",
      "[CV] END .....................max_depth=38, n_estimators=182; total time=   4.9s\n",
      "[CV] END .....................max_depth=20, n_estimators=184; total time=   4.1s\n",
      "[CV] END .....................max_depth=38, n_estimators=182; total time=   4.6s\n",
      "[CV] END .....................max_depth=20, n_estimators=184; total time=   4.3s\n",
      "[CV] END .....................max_depth=20, n_estimators=184; total time=   4.5s\n",
      "[CV] END .....................max_depth=20, n_estimators=184; total time=   4.4s\n",
      "[CV] END .....................max_depth=20, n_estimators=184; total time=   4.5s\n",
      "[CV] END .....................max_depth=20, n_estimators=178; total time=   4.4s\n",
      "[CV] END .....................max_depth=20, n_estimators=178; total time=   4.3s\n",
      "[CV] END .....................max_depth=20, n_estimators=178; total time=   4.2s\n",
      "[CV] END .....................max_depth=20, n_estimators=178; total time=   4.2s\n",
      "[CV] END .....................max_depth=36, n_estimators=104; total time=   2.7s\n",
      "[CV] END .....................max_depth=36, n_estimators=104; total time=   2.6s\n",
      "[CV] END .....................max_depth=36, n_estimators=104; total time=   3.1s\n",
      "[CV] END .....................max_depth=36, n_estimators=104; total time=   3.2s\n",
      "[CV] END .....................max_depth=36, n_estimators=104; total time=   3.0s\n",
      "[CV] END .....................max_depth=10, n_estimators=178; total time=   3.2s\n",
      "[CV] END .....................max_depth=20, n_estimators=178; total time=   4.7s\n",
      "[CV] END .....................max_depth=10, n_estimators=178; total time=   3.3s\n",
      "[CV] END .....................max_depth=10, n_estimators=178; total time=   3.1s\n",
      "[CV] END .....................max_depth=10, n_estimators=178; total time=   3.2s\n",
      "[CV] END .....................max_depth=10, n_estimators=178; total time=   3.3s\n",
      "[CV] END .....................max_depth=32, n_estimators=178; total time=   4.3s\n",
      "[CV] END .....................max_depth=22, n_estimators=114; total time=   2.6s\n",
      "[CV] END .....................max_depth=32, n_estimators=178; total time=   4.7s\n",
      "[CV] END .....................max_depth=22, n_estimators=114; total time=   2.7s\n",
      "[CV] END .....................max_depth=32, n_estimators=178; total time=   4.5s\n",
      "[CV] END .....................max_depth=32, n_estimators=178; total time=   4.4s\n",
      "[CV] END .....................max_depth=32, n_estimators=178; total time=   4.9s\n",
      "[CV] END .....................max_depth=22, n_estimators=114; total time=   2.9s\n",
      "[CV] END .....................max_depth=22, n_estimators=114; total time=   2.9s\n",
      "[CV] END .....................max_depth=22, n_estimators=114; total time=   3.0s\n",
      "[CV] END .....................max_depth=12, n_estimators=132; total time=   2.5s\n",
      "[CV] END .....................max_depth=36, n_estimators=158; total time=   4.0s\n",
      "[CV] END .....................max_depth=36, n_estimators=158; total time=   4.1s\n",
      "[CV] END .....................max_depth=36, n_estimators=158; total time=   4.0s\n",
      "[CV] END .....................max_depth=36, n_estimators=158; total time=   4.2s\n",
      "[CV] END .....................max_depth=36, n_estimators=158; total time=   4.4s\n",
      "[CV] END .....................max_depth=12, n_estimators=132; total time=   2.6s\n",
      "[CV] END .....................max_depth=12, n_estimators=132; total time=   2.7s\n",
      "[CV] END .....................max_depth=12, n_estimators=132; total time=   2.4s\n",
      "[CV] END .....................max_depth=12, n_estimators=132; total time=   2.6s\n",
      "[CV] END .....................max_depth=20, n_estimators=150; total time=   3.4s\n",
      "[CV] END .....................max_depth=20, n_estimators=150; total time=   3.4s\n",
      "[CV] END .....................max_depth=20, n_estimators=150; total time=   3.5s\n",
      "[CV] END .....................max_depth=12, n_estimators=134; total time=   2.6s\n",
      "[CV] END .....................max_depth=12, n_estimators=134; total time=   2.6s\n",
      "[CV] END .....................max_depth=20, n_estimators=150; total time=   3.9s\n",
      "[CV] END .....................max_depth=20, n_estimators=150; total time=   3.6s\n",
      "[CV] END .....................max_depth=12, n_estimators=134; total time=   2.4s\n",
      "[CV] END .....................max_depth=12, n_estimators=134; total time=   2.5s\n",
      "[CV] END .....................max_depth=12, n_estimators=134; total time=   2.4s\n",
      "[CV] END .....................max_depth=22, n_estimators=136; total time=   3.3s\n",
      "[CV] END .....................max_depth=22, n_estimators=136; total time=   3.3s\n",
      "[CV] END .....................max_depth=22, n_estimators=136; total time=   3.3s\n",
      "[CV] END .....................max_depth=22, n_estimators=136; total time=   3.3s\n",
      "[CV] END .....................max_depth=22, n_estimators=136; total time=   3.4s\n",
      "[CV] END .....................max_depth=30, n_estimators=196; total time=   5.1s\n",
      "[CV] END .....................max_depth=30, n_estimators=196; total time=   5.1s\n",
      "[CV] END .....................max_depth=30, n_estimators=196; total time=   5.1s\n",
      "[CV] END .....................max_depth=30, n_estimators=196; total time=   5.7s\n",
      "[CV] END .....................max_depth=30, n_estimators=196; total time=   5.5s\n",
      "[CV] END .....................max_depth=48, n_estimators=196; total time=   5.8s\n",
      "[CV] END .....................max_depth=48, n_estimators=196; total time=   5.6s\n",
      "[CV] END .....................max_depth=48, n_estimators=196; total time=   5.8s\n",
      "[CV] END .....................max_depth=38, n_estimators=128; total time=   3.9s\n",
      "[CV] END .....................max_depth=48, n_estimators=196; total time=   6.4s\n",
      "[CV] END .....................max_depth=38, n_estimators=128; total time=   3.7s\n",
      "[CV] END .....................max_depth=38, n_estimators=128; total time=   4.1s\n",
      "[CV] END .....................max_depth=48, n_estimators=196; total time=   6.1s\n",
      "[CV] END .....................max_depth=40, n_estimators=106; total time=   3.5s\n",
      "[CV] END .....................max_depth=38, n_estimators=128; total time=   4.2s\n",
      "[CV] END .....................max_depth=38, n_estimators=128; total time=   4.1s\n",
      "[CV] END .....................max_depth=40, n_estimators=106; total time=   3.2s\n",
      "[CV] END .....................max_depth=40, n_estimators=106; total time=   3.5s\n",
      "[CV] END .....................max_depth=40, n_estimators=106; total time=   3.8s\n",
      "[CV] END .....................max_depth=40, n_estimators=106; total time=   3.9s\n",
      "[CV] END .....................max_depth=22, n_estimators=154; total time=   4.9s\n",
      "[CV] END .....................max_depth=22, n_estimators=154; total time=   4.7s\n",
      "[CV] END .....................max_depth=22, n_estimators=154; total time=   5.2s\n",
      "[CV] END .....................max_depth=22, n_estimators=154; total time=   4.9s\n",
      "[CV] END .....................max_depth=22, n_estimators=154; total time=   4.8s\n",
      "[CV] END .....................max_depth=24, n_estimators=164; total time=   4.7s\n",
      "[CV] END .....................max_depth=24, n_estimators=164; total time=   5.0s\n",
      "[CV] END .....................max_depth=28, n_estimators=102; total time=   3.0s\n",
      "[CV] END .....................max_depth=28, n_estimators=102; total time=   2.9s\n",
      "[CV] END .....................max_depth=24, n_estimators=164; total time=   4.7s\n",
      "[CV] END .....................max_depth=24, n_estimators=164; total time=   4.0s\n",
      "[CV] END .....................max_depth=28, n_estimators=102; total time=   3.0s\n",
      "[CV] END .....................max_depth=24, n_estimators=164; total time=   4.5s\n",
      "[CV] END .....................max_depth=28, n_estimators=102; total time=   2.9s\n",
      "[CV] END .....................max_depth=28, n_estimators=102; total time=   2.9s\n",
      "[CV] END .....................max_depth=30, n_estimators=144; total time=   3.7s\n",
      "[CV] END .....................max_depth=30, n_estimators=144; total time=   3.8s\n",
      "[CV] END .....................max_depth=30, n_estimators=144; total time=   3.9s\n",
      "[CV] END .....................max_depth=30, n_estimators=144; total time=   3.7s\n",
      "[CV] END .....................max_depth=18, n_estimators=136; total time=   3.3s\n",
      "[CV] END .....................max_depth=30, n_estimators=144; total time=   3.7s\n",
      "[CV] END .....................max_depth=18, n_estimators=136; total time=   3.6s\n",
      "[CV] END .....................max_depth=18, n_estimators=136; total time=   3.1s\n",
      "[CV] END .....................max_depth=18, n_estimators=136; total time=   3.4s\n",
      "[CV] END .....................max_depth=18, n_estimators=136; total time=   3.3s\n",
      "[CV] END .....................max_depth=40, n_estimators=174; total time=   4.9s\n",
      "[CV] END .....................max_depth=40, n_estimators=174; total time=   4.9s\n",
      "[CV] END .....................max_depth=40, n_estimators=174; total time=   5.3s\n",
      "[CV] END .....................max_depth=40, n_estimators=174; total time=   5.3s\n",
      "[CV] END .....................max_depth=26, n_estimators=172; total time=   4.7s\n",
      "[CV] END .....................max_depth=40, n_estimators=174; total time=   4.7s\n",
      "[CV] END .....................max_depth=26, n_estimators=172; total time=   5.0s\n",
      "[CV] END .....................max_depth=26, n_estimators=172; total time=   5.1s\n",
      "[CV] END .....................max_depth=40, n_estimators=128; total time=   3.8s\n",
      "[CV] END .....................max_depth=40, n_estimators=128; total time=   3.4s\n",
      "[CV] END .....................max_depth=26, n_estimators=172; total time=   4.7s\n",
      "[CV] END .....................max_depth=26, n_estimators=172; total time=   4.7s\n",
      "[CV] END .....................max_depth=40, n_estimators=128; total time=   4.2s\n",
      "[CV] END .....................max_depth=40, n_estimators=128; total time=   4.0s\n",
      "[CV] END .....................max_depth=40, n_estimators=128; total time=   3.7s\n",
      "[CV] END .....................max_depth=12, n_estimators=176; total time=   3.7s\n",
      "[CV] END .....................max_depth=12, n_estimators=126; total time=   2.6s\n",
      "[CV] END .....................max_depth=12, n_estimators=126; total time=   2.4s\n",
      "[CV] END .....................max_depth=12, n_estimators=176; total time=   3.5s\n",
      "[CV] END .....................max_depth=12, n_estimators=176; total time=   3.5s\n",
      "[CV] END .....................max_depth=12, n_estimators=176; total time=   3.8s\n",
      "[CV] END .....................max_depth=12, n_estimators=176; total time=   3.6s\n",
      "[CV] END .....................max_depth=12, n_estimators=126; total time=   2.5s\n",
      "[CV] END .....................max_depth=12, n_estimators=126; total time=   2.4s\n",
      "[CV] END .....................max_depth=12, n_estimators=126; total time=   2.2s\n",
      "[CV] END .....................max_depth=42, n_estimators=152; total time=   3.2s\n",
      "[CV] END .....................max_depth=42, n_estimators=152; total time=   3.2s\n",
      "[CV] END .....................max_depth=42, n_estimators=152; total time=   3.0s\n",
      "[CV] END .....................max_depth=42, n_estimators=152; total time=   3.3s\n",
      "[CV] END .....................max_depth=42, n_estimators=152; total time=   3.0s\n"
     ]
    },
    {
     "output_type": "execute_result",
     "data": {
      "text/plain": [
       "RandomizedSearchCV(cv=5, estimator=RandomForestClassifier(random_state=42),\n",
       "                   n_iter=100, n_jobs=-1,\n",
       "                   param_distributions={'max_depth': range(10, 50, 2),\n",
       "                                        'n_estimators': range(100, 200, 2)},\n",
       "                   random_state=42, verbose=2)"
      ]
     },
     "metadata": {},
     "execution_count": 399
    }
   ],
   "metadata": {}
  },
  {
   "cell_type": "code",
   "execution_count": 400,
   "source": [
    "clf.best_estimator_"
   ],
   "outputs": [
    {
     "output_type": "execute_result",
     "data": {
      "text/plain": [
       "RandomForestClassifier(max_depth=16, n_estimators=196, random_state=42)"
      ]
     },
     "metadata": {},
     "execution_count": 400
    }
   ],
   "metadata": {}
  },
  {
   "cell_type": "code",
   "execution_count": 401,
   "source": [
    "clf.cv_results_['mean_test_score']"
   ],
   "outputs": [
    {
     "output_type": "execute_result",
     "data": {
      "text/plain": [
       "array([0.86068, 0.86056, 0.86104, 0.85964, 0.86164, 0.85948, 0.86024,\n",
       "       0.86016, 0.85992, 0.86552, 0.8594 , 0.86324, 0.86016, 0.85916,\n",
       "       0.85928, 0.85952, 0.86464, 0.85932, 0.85964, 0.86424, 0.86096,\n",
       "       0.8662 , 0.86284, 0.86104, 0.86488, 0.86568, 0.86544, 0.85944,\n",
       "       0.85932, 0.85932, 0.86464, 0.86568, 0.86016, 0.86088, 0.86252,\n",
       "       0.86624, 0.8598 , 0.86016, 0.85932, 0.86356, 0.8642 , 0.86368,\n",
       "       0.86392, 0.859  , 0.86492, 0.86448, 0.85856, 0.8596 , 0.862  ,\n",
       "       0.85928, 0.8594 , 0.85956, 0.86412, 0.85956, 0.86028, 0.85976,\n",
       "       0.8598 , 0.85992, 0.86536, 0.85884, 0.86488, 0.8634 , 0.8612 ,\n",
       "       0.86468, 0.85996, 0.8602 , 0.8596 , 0.85932, 0.86348, 0.86144,\n",
       "       0.8656 , 0.86152, 0.85992, 0.86068, 0.86484, 0.86472, 0.85848,\n",
       "       0.85992, 0.86008, 0.86376, 0.85968, 0.86368, 0.86508, 0.8636 ,\n",
       "       0.864  , 0.8612 , 0.85928, 0.8602 , 0.85912, 0.86416, 0.86336,\n",
       "       0.86056, 0.86116, 0.86496, 0.85924, 0.86196, 0.85852, 0.86332,\n",
       "       0.8634 , 0.85928])"
      ]
     },
     "metadata": {},
     "execution_count": 401
    }
   ],
   "metadata": {}
  },
  {
   "cell_type": "code",
   "execution_count": 402,
   "source": [
    "# Get Validation Curves for the Best Model\n",
    "best_model = clf\n",
    "fig_name = 'output-rf.png'\n",
    "train_scores, test_scores = validation_curve(best_model.best_estimator_, training.drop(['income>50K'],axis=1),training['income>50K'],cv=5, param_name='max_depth',\n",
    "                                            param_range=param_grid['max_depth'], scoring='accuracy', n_jobs=-1)\n",
    "train_scores_mean = np.mean(train_scores, axis=1)\n",
    "train_scores_std = np.std(train_scores, axis=1)\n",
    "test_scores_mean = np.mean(test_scores, axis=1)\n",
    "test_scores_std = np.std(test_scores, axis=1)\n",
    "\n",
    "plt.title(\"Validation Curve for Best Model\")\n",
    "plt.xlabel('Max Depth')\n",
    "plt.ylabel(\"Score\")\n",
    "plt.ylim(0.0, 1.1)\n",
    "lw = 0.75\n",
    "plt.plot(\n",
    "    param_grid['max_depth'], train_scores_mean, label=\"Training score\", color=\"darkorange\", lw=lw\n",
    ")\n",
    "plt.fill_between(\n",
    "    param_grid['max_depth'],\n",
    "    train_scores_mean - train_scores_std,\n",
    "    train_scores_mean + train_scores_std,\n",
    "    alpha=0.2,\n",
    "    color=\"darkorange\",\n",
    "    lw=lw,\n",
    ")\n",
    "plt.plot(\n",
    "    param_grid['max_depth'], test_scores_mean, label=\"Cross-validation score\", color=\"navy\", lw=lw\n",
    ")\n",
    "plt.fill_between(\n",
    "    param_grid['max_depth'],\n",
    "    test_scores_mean - test_scores_std,\n",
    "    test_scores_mean + test_scores_std,\n",
    "    alpha=0.2,\n",
    "    color=\"navy\",\n",
    "    lw=lw,\n",
    ")\n",
    "plt.legend(loc=\"best\")\n",
    "plt.savefig(f'Figures/{fig_name}', dpi=200)\n",
    "plt.show()"
   ],
   "outputs": [
    {
     "output_type": "display_data",
     "data": {
      "text/plain": [
       "<Figure size 432x288 with 1 Axes>"
      ],
      "image/svg+xml": "<?xml version=\"1.0\" encoding=\"utf-8\" standalone=\"no\"?>\n<!DOCTYPE svg PUBLIC \"-//W3C//DTD SVG 1.1//EN\"\n  \"http://www.w3.org/Graphics/SVG/1.1/DTD/svg11.dtd\">\n<svg height=\"277.314375pt\" version=\"1.1\" viewBox=\"0 0 385.78125 277.314375\" width=\"385.78125pt\" xmlns=\"http://www.w3.org/2000/svg\" xmlns:xlink=\"http://www.w3.org/1999/xlink\">\n <metadata>\n  <rdf:RDF xmlns:cc=\"http://creativecommons.org/ns#\" xmlns:dc=\"http://purl.org/dc/elements/1.1/\" xmlns:rdf=\"http://www.w3.org/1999/02/22-rdf-syntax-ns#\">\n   <cc:Work>\n    <dc:type rdf:resource=\"http://purl.org/dc/dcmitype/StillImage\"/>\n    <dc:date>2021-12-19T15:08:33.963775</dc:date>\n    <dc:format>image/svg+xml</dc:format>\n    <dc:creator>\n     <cc:Agent>\n      <dc:title>Matplotlib v3.4.3, https://matplotlib.org/</dc:title>\n     </cc:Agent>\n    </dc:creator>\n   </cc:Work>\n  </rdf:RDF>\n </metadata>\n <defs>\n  <style type=\"text/css\">*{stroke-linecap:butt;stroke-linejoin:round;}</style>\n </defs>\n <g id=\"figure_1\">\n  <g id=\"patch_1\">\n   <path d=\"M 0 277.314375 \nL 385.78125 277.314375 \nL 385.78125 0 \nL 0 0 \nz\n\" style=\"fill:none;\"/>\n  </g>\n  <g id=\"axes_1\">\n   <g id=\"patch_2\">\n    <path d=\"M 43.78125 239.758125 \nL 378.58125 239.758125 \nL 378.58125 22.318125 \nL 43.78125 22.318125 \nz\n\" style=\"fill:#ffffff;\"/>\n   </g>\n   <g id=\"PolyCollection_1\">\n    <defs>\n     <path d=\"M 58.999432 -210.20262 \nL 58.999432 -209.599721 \nL 75.018571 -212.574387 \nL 91.037709 -216.37302 \nL 107.056848 -220.655229 \nL 123.075987 -224.494361 \nL 139.095126 -228.230153 \nL 155.114264 -230.806873 \nL 171.133403 -232.547566 \nL 187.152542 -233.66614 \nL 203.171681 -234.517479 \nL 219.190819 -234.896844 \nL 235.209958 -235.080232 \nL 251.229097 -235.175465 \nL 267.248236 -235.210298 \nL 283.267374 -235.213163 \nL 299.286513 -235.213163 \nL 315.305652 -235.213163 \nL 331.324791 -235.213163 \nL 347.343929 -235.213163 \nL 363.363068 -235.213163 \nL 363.363068 -235.22107 \nL 363.363068 -235.22107 \nL 347.343929 -235.22107 \nL 331.324791 -235.22107 \nL 315.305652 -235.22107 \nL 299.286513 -235.22107 \nL 283.267374 -235.22107 \nL 267.248236 -235.219982 \nL 251.229097 -235.20342 \nL 235.209958 -235.144468 \nL 219.190819 -234.987859 \nL 203.171681 -234.580487 \nL 187.152542 -234.02835 \nL 171.133403 -232.992291 \nL 155.114264 -231.396269 \nL 139.095126 -228.79001 \nL 123.075987 -225.306794 \nL 107.056848 -221.179714 \nL 91.037709 -216.819672 \nL 75.018571 -213.003951 \nL 58.999432 -210.20262 \nz\n\" id=\"m8aefa23d4e\" style=\"stroke:#ff8c00;stroke-opacity:0.2;stroke-width:0.75;\"/>\n    </defs>\n    <g clip-path=\"url(#p7ee6c5bf8e)\">\n     <use style=\"fill:#ff8c00;fill-opacity:0.2;stroke:#ff8c00;stroke-opacity:0.2;stroke-width:0.75;\" x=\"0\" xlink:href=\"#m8aefa23d4e\" y=\"277.314375\"/>\n    </g>\n   </g>\n   <g id=\"PolyCollection_2\">\n    <defs>\n     <path d=\"M 58.999432 -208.124343 \nL 58.999432 -206.874551 \nL 75.018571 -207.752352 \nL 91.037709 -208.003537 \nL 107.056848 -208.070789 \nL 123.075987 -208.230543 \nL 139.095126 -207.951088 \nL 155.114264 -207.747623 \nL 171.133403 -207.533027 \nL 187.152542 -207.062933 \nL 203.171681 -206.765753 \nL 219.190819 -207.109531 \nL 235.209958 -206.927907 \nL 251.229097 -206.753026 \nL 267.248236 -207.068762 \nL 283.267374 -206.960313 \nL 299.286513 -206.6358 \nL 315.305652 -206.818534 \nL 331.324791 -206.790968 \nL 347.343929 -206.735241 \nL 363.363068 -206.764008 \nL 363.363068 -208.060934 \nL 363.363068 -208.060934 \nL 347.343929 -208.089701 \nL 331.324791 -208.160485 \nL 315.305652 -208.18036 \nL 299.286513 -207.857052 \nL 283.267374 -208.370671 \nL 267.248236 -208.167339 \nL 251.229097 -208.530516 \nL 235.209958 -208.324008 \nL 219.190819 -208.474475 \nL 203.171681 -208.660114 \nL 187.152542 -208.900604 \nL 171.133403 -208.651904 \nL 155.114264 -209.133116 \nL 139.095126 -209.071975 \nL 123.075987 -209.029727 \nL 107.056848 -209.505757 \nL 91.037709 -209.446499 \nL 75.018571 -208.827924 \nL 58.999432 -208.124343 \nz\n\" id=\"m318418cc4e\" style=\"stroke:#000080;stroke-opacity:0.2;stroke-width:0.75;\"/>\n    </defs>\n    <g clip-path=\"url(#p7ee6c5bf8e)\">\n     <use style=\"fill:#000080;fill-opacity:0.2;stroke:#000080;stroke-opacity:0.2;stroke-width:0.75;\" x=\"0\" xlink:href=\"#m318418cc4e\" y=\"277.314375\"/>\n    </g>\n   </g>\n   <g id=\"matplotlib.axis_1\">\n    <g id=\"xtick_1\">\n     <g id=\"line2d_1\">\n      <defs>\n       <path d=\"M 0 0 \nL 0 3.5 \n\" id=\"mafb8c8e292\" style=\"stroke:#000000;stroke-width:0.8;\"/>\n      </defs>\n      <g>\n       <use style=\"stroke:#000000;stroke-width:0.8;\" x=\"58.999432\" xlink:href=\"#mafb8c8e292\" y=\"239.758125\"/>\n      </g>\n     </g>\n     <g id=\"text_1\">\n      <!-- 10 -->\n      <g transform=\"translate(52.636932 254.356562)scale(0.1 -0.1)\">\n       <defs>\n        <path d=\"M 794 531 \nL 1825 531 \nL 1825 4091 \nL 703 3866 \nL 703 4441 \nL 1819 4666 \nL 2450 4666 \nL 2450 531 \nL 3481 531 \nL 3481 0 \nL 794 0 \nL 794 531 \nz\n\" id=\"DejaVuSans-31\" transform=\"scale(0.015625)\"/>\n        <path d=\"M 2034 4250 \nQ 1547 4250 1301 3770 \nQ 1056 3291 1056 2328 \nQ 1056 1369 1301 889 \nQ 1547 409 2034 409 \nQ 2525 409 2770 889 \nQ 3016 1369 3016 2328 \nQ 3016 3291 2770 3770 \nQ 2525 4250 2034 4250 \nz\nM 2034 4750 \nQ 2819 4750 3233 4129 \nQ 3647 3509 3647 2328 \nQ 3647 1150 3233 529 \nQ 2819 -91 2034 -91 \nQ 1250 -91 836 529 \nQ 422 1150 422 2328 \nQ 422 3509 836 4129 \nQ 1250 4750 2034 4750 \nz\n\" id=\"DejaVuSans-30\" transform=\"scale(0.015625)\"/>\n       </defs>\n       <use xlink:href=\"#DejaVuSans-31\"/>\n       <use x=\"63.623047\" xlink:href=\"#DejaVuSans-30\"/>\n      </g>\n     </g>\n    </g>\n    <g id=\"xtick_2\">\n     <g id=\"line2d_2\">\n      <g>\n       <use style=\"stroke:#000000;stroke-width:0.8;\" x=\"99.047279\" xlink:href=\"#mafb8c8e292\" y=\"239.758125\"/>\n      </g>\n     </g>\n     <g id=\"text_2\">\n      <!-- 15 -->\n      <g transform=\"translate(92.684779 254.356562)scale(0.1 -0.1)\">\n       <defs>\n        <path d=\"M 691 4666 \nL 3169 4666 \nL 3169 4134 \nL 1269 4134 \nL 1269 2991 \nQ 1406 3038 1543 3061 \nQ 1681 3084 1819 3084 \nQ 2600 3084 3056 2656 \nQ 3513 2228 3513 1497 \nQ 3513 744 3044 326 \nQ 2575 -91 1722 -91 \nQ 1428 -91 1123 -41 \nQ 819 9 494 109 \nL 494 744 \nQ 775 591 1075 516 \nQ 1375 441 1709 441 \nQ 2250 441 2565 725 \nQ 2881 1009 2881 1497 \nQ 2881 1984 2565 2268 \nQ 2250 2553 1709 2553 \nQ 1456 2553 1204 2497 \nQ 953 2441 691 2322 \nL 691 4666 \nz\n\" id=\"DejaVuSans-35\" transform=\"scale(0.015625)\"/>\n       </defs>\n       <use xlink:href=\"#DejaVuSans-31\"/>\n       <use x=\"63.623047\" xlink:href=\"#DejaVuSans-35\"/>\n      </g>\n     </g>\n    </g>\n    <g id=\"xtick_3\">\n     <g id=\"line2d_3\">\n      <g>\n       <use style=\"stroke:#000000;stroke-width:0.8;\" x=\"139.095126\" xlink:href=\"#mafb8c8e292\" y=\"239.758125\"/>\n      </g>\n     </g>\n     <g id=\"text_3\">\n      <!-- 20 -->\n      <g transform=\"translate(132.732626 254.356562)scale(0.1 -0.1)\">\n       <defs>\n        <path d=\"M 1228 531 \nL 3431 531 \nL 3431 0 \nL 469 0 \nL 469 531 \nQ 828 903 1448 1529 \nQ 2069 2156 2228 2338 \nQ 2531 2678 2651 2914 \nQ 2772 3150 2772 3378 \nQ 2772 3750 2511 3984 \nQ 2250 4219 1831 4219 \nQ 1534 4219 1204 4116 \nQ 875 4013 500 3803 \nL 500 4441 \nQ 881 4594 1212 4672 \nQ 1544 4750 1819 4750 \nQ 2544 4750 2975 4387 \nQ 3406 4025 3406 3419 \nQ 3406 3131 3298 2873 \nQ 3191 2616 2906 2266 \nQ 2828 2175 2409 1742 \nQ 1991 1309 1228 531 \nz\n\" id=\"DejaVuSans-32\" transform=\"scale(0.015625)\"/>\n       </defs>\n       <use xlink:href=\"#DejaVuSans-32\"/>\n       <use x=\"63.623047\" xlink:href=\"#DejaVuSans-30\"/>\n      </g>\n     </g>\n    </g>\n    <g id=\"xtick_4\">\n     <g id=\"line2d_4\">\n      <g>\n       <use style=\"stroke:#000000;stroke-width:0.8;\" x=\"179.142972\" xlink:href=\"#mafb8c8e292\" y=\"239.758125\"/>\n      </g>\n     </g>\n     <g id=\"text_4\">\n      <!-- 25 -->\n      <g transform=\"translate(172.780472 254.356562)scale(0.1 -0.1)\">\n       <use xlink:href=\"#DejaVuSans-32\"/>\n       <use x=\"63.623047\" xlink:href=\"#DejaVuSans-35\"/>\n      </g>\n     </g>\n    </g>\n    <g id=\"xtick_5\">\n     <g id=\"line2d_5\">\n      <g>\n       <use style=\"stroke:#000000;stroke-width:0.8;\" x=\"219.190819\" xlink:href=\"#mafb8c8e292\" y=\"239.758125\"/>\n      </g>\n     </g>\n     <g id=\"text_5\">\n      <!-- 30 -->\n      <g transform=\"translate(212.828319 254.356562)scale(0.1 -0.1)\">\n       <defs>\n        <path d=\"M 2597 2516 \nQ 3050 2419 3304 2112 \nQ 3559 1806 3559 1356 \nQ 3559 666 3084 287 \nQ 2609 -91 1734 -91 \nQ 1441 -91 1130 -33 \nQ 819 25 488 141 \nL 488 750 \nQ 750 597 1062 519 \nQ 1375 441 1716 441 \nQ 2309 441 2620 675 \nQ 2931 909 2931 1356 \nQ 2931 1769 2642 2001 \nQ 2353 2234 1838 2234 \nL 1294 2234 \nL 1294 2753 \nL 1863 2753 \nQ 2328 2753 2575 2939 \nQ 2822 3125 2822 3475 \nQ 2822 3834 2567 4026 \nQ 2313 4219 1838 4219 \nQ 1578 4219 1281 4162 \nQ 984 4106 628 3988 \nL 628 4550 \nQ 988 4650 1302 4700 \nQ 1616 4750 1894 4750 \nQ 2613 4750 3031 4423 \nQ 3450 4097 3450 3541 \nQ 3450 3153 3228 2886 \nQ 3006 2619 2597 2516 \nz\n\" id=\"DejaVuSans-33\" transform=\"scale(0.015625)\"/>\n       </defs>\n       <use xlink:href=\"#DejaVuSans-33\"/>\n       <use x=\"63.623047\" xlink:href=\"#DejaVuSans-30\"/>\n      </g>\n     </g>\n    </g>\n    <g id=\"xtick_6\">\n     <g id=\"line2d_6\">\n      <g>\n       <use style=\"stroke:#000000;stroke-width:0.8;\" x=\"259.238666\" xlink:href=\"#mafb8c8e292\" y=\"239.758125\"/>\n      </g>\n     </g>\n     <g id=\"text_6\">\n      <!-- 35 -->\n      <g transform=\"translate(252.876166 254.356562)scale(0.1 -0.1)\">\n       <use xlink:href=\"#DejaVuSans-33\"/>\n       <use x=\"63.623047\" xlink:href=\"#DejaVuSans-35\"/>\n      </g>\n     </g>\n    </g>\n    <g id=\"xtick_7\">\n     <g id=\"line2d_7\">\n      <g>\n       <use style=\"stroke:#000000;stroke-width:0.8;\" x=\"299.286513\" xlink:href=\"#mafb8c8e292\" y=\"239.758125\"/>\n      </g>\n     </g>\n     <g id=\"text_7\">\n      <!-- 40 -->\n      <g transform=\"translate(292.924013 254.356562)scale(0.1 -0.1)\">\n       <defs>\n        <path d=\"M 2419 4116 \nL 825 1625 \nL 2419 1625 \nL 2419 4116 \nz\nM 2253 4666 \nL 3047 4666 \nL 3047 1625 \nL 3713 1625 \nL 3713 1100 \nL 3047 1100 \nL 3047 0 \nL 2419 0 \nL 2419 1100 \nL 313 1100 \nL 313 1709 \nL 2253 4666 \nz\n\" id=\"DejaVuSans-34\" transform=\"scale(0.015625)\"/>\n       </defs>\n       <use xlink:href=\"#DejaVuSans-34\"/>\n       <use x=\"63.623047\" xlink:href=\"#DejaVuSans-30\"/>\n      </g>\n     </g>\n    </g>\n    <g id=\"xtick_8\">\n     <g id=\"line2d_8\">\n      <g>\n       <use style=\"stroke:#000000;stroke-width:0.8;\" x=\"339.33436\" xlink:href=\"#mafb8c8e292\" y=\"239.758125\"/>\n      </g>\n     </g>\n     <g id=\"text_8\">\n      <!-- 45 -->\n      <g transform=\"translate(332.97186 254.356562)scale(0.1 -0.1)\">\n       <use xlink:href=\"#DejaVuSans-34\"/>\n       <use x=\"63.623047\" xlink:href=\"#DejaVuSans-35\"/>\n      </g>\n     </g>\n    </g>\n    <g id=\"text_9\">\n     <!-- Max Depth -->\n     <g transform=\"translate(184.025 268.034687)scale(0.1 -0.1)\">\n      <defs>\n       <path d=\"M 628 4666 \nL 1569 4666 \nL 2759 1491 \nL 3956 4666 \nL 4897 4666 \nL 4897 0 \nL 4281 0 \nL 4281 4097 \nL 3078 897 \nL 2444 897 \nL 1241 4097 \nL 1241 0 \nL 628 0 \nL 628 4666 \nz\n\" id=\"DejaVuSans-4d\" transform=\"scale(0.015625)\"/>\n       <path d=\"M 2194 1759 \nQ 1497 1759 1228 1600 \nQ 959 1441 959 1056 \nQ 959 750 1161 570 \nQ 1363 391 1709 391 \nQ 2188 391 2477 730 \nQ 2766 1069 2766 1631 \nL 2766 1759 \nL 2194 1759 \nz\nM 3341 1997 \nL 3341 0 \nL 2766 0 \nL 2766 531 \nQ 2569 213 2275 61 \nQ 1981 -91 1556 -91 \nQ 1019 -91 701 211 \nQ 384 513 384 1019 \nQ 384 1609 779 1909 \nQ 1175 2209 1959 2209 \nL 2766 2209 \nL 2766 2266 \nQ 2766 2663 2505 2880 \nQ 2244 3097 1772 3097 \nQ 1472 3097 1187 3025 \nQ 903 2953 641 2809 \nL 641 3341 \nQ 956 3463 1253 3523 \nQ 1550 3584 1831 3584 \nQ 2591 3584 2966 3190 \nQ 3341 2797 3341 1997 \nz\n\" id=\"DejaVuSans-61\" transform=\"scale(0.015625)\"/>\n       <path d=\"M 3513 3500 \nL 2247 1797 \nL 3578 0 \nL 2900 0 \nL 1881 1375 \nL 863 0 \nL 184 0 \nL 1544 1831 \nL 300 3500 \nL 978 3500 \nL 1906 2253 \nL 2834 3500 \nL 3513 3500 \nz\n\" id=\"DejaVuSans-78\" transform=\"scale(0.015625)\"/>\n       <path id=\"DejaVuSans-20\" transform=\"scale(0.015625)\"/>\n       <path d=\"M 1259 4147 \nL 1259 519 \nL 2022 519 \nQ 2988 519 3436 956 \nQ 3884 1394 3884 2338 \nQ 3884 3275 3436 3711 \nQ 2988 4147 2022 4147 \nL 1259 4147 \nz\nM 628 4666 \nL 1925 4666 \nQ 3281 4666 3915 4102 \nQ 4550 3538 4550 2338 \nQ 4550 1131 3912 565 \nQ 3275 0 1925 0 \nL 628 0 \nL 628 4666 \nz\n\" id=\"DejaVuSans-44\" transform=\"scale(0.015625)\"/>\n       <path d=\"M 3597 1894 \nL 3597 1613 \nL 953 1613 \nQ 991 1019 1311 708 \nQ 1631 397 2203 397 \nQ 2534 397 2845 478 \nQ 3156 559 3463 722 \nL 3463 178 \nQ 3153 47 2828 -22 \nQ 2503 -91 2169 -91 \nQ 1331 -91 842 396 \nQ 353 884 353 1716 \nQ 353 2575 817 3079 \nQ 1281 3584 2069 3584 \nQ 2775 3584 3186 3129 \nQ 3597 2675 3597 1894 \nz\nM 3022 2063 \nQ 3016 2534 2758 2815 \nQ 2500 3097 2075 3097 \nQ 1594 3097 1305 2825 \nQ 1016 2553 972 2059 \nL 3022 2063 \nz\n\" id=\"DejaVuSans-65\" transform=\"scale(0.015625)\"/>\n       <path d=\"M 1159 525 \nL 1159 -1331 \nL 581 -1331 \nL 581 3500 \nL 1159 3500 \nL 1159 2969 \nQ 1341 3281 1617 3432 \nQ 1894 3584 2278 3584 \nQ 2916 3584 3314 3078 \nQ 3713 2572 3713 1747 \nQ 3713 922 3314 415 \nQ 2916 -91 2278 -91 \nQ 1894 -91 1617 61 \nQ 1341 213 1159 525 \nz\nM 3116 1747 \nQ 3116 2381 2855 2742 \nQ 2594 3103 2138 3103 \nQ 1681 3103 1420 2742 \nQ 1159 2381 1159 1747 \nQ 1159 1113 1420 752 \nQ 1681 391 2138 391 \nQ 2594 391 2855 752 \nQ 3116 1113 3116 1747 \nz\n\" id=\"DejaVuSans-70\" transform=\"scale(0.015625)\"/>\n       <path d=\"M 1172 4494 \nL 1172 3500 \nL 2356 3500 \nL 2356 3053 \nL 1172 3053 \nL 1172 1153 \nQ 1172 725 1289 603 \nQ 1406 481 1766 481 \nL 2356 481 \nL 2356 0 \nL 1766 0 \nQ 1100 0 847 248 \nQ 594 497 594 1153 \nL 594 3053 \nL 172 3053 \nL 172 3500 \nL 594 3500 \nL 594 4494 \nL 1172 4494 \nz\n\" id=\"DejaVuSans-74\" transform=\"scale(0.015625)\"/>\n       <path d=\"M 3513 2113 \nL 3513 0 \nL 2938 0 \nL 2938 2094 \nQ 2938 2591 2744 2837 \nQ 2550 3084 2163 3084 \nQ 1697 3084 1428 2787 \nQ 1159 2491 1159 1978 \nL 1159 0 \nL 581 0 \nL 581 4863 \nL 1159 4863 \nL 1159 2956 \nQ 1366 3272 1645 3428 \nQ 1925 3584 2291 3584 \nQ 2894 3584 3203 3211 \nQ 3513 2838 3513 2113 \nz\n\" id=\"DejaVuSans-68\" transform=\"scale(0.015625)\"/>\n      </defs>\n      <use xlink:href=\"#DejaVuSans-4d\"/>\n      <use x=\"86.279297\" xlink:href=\"#DejaVuSans-61\"/>\n      <use x=\"147.558594\" xlink:href=\"#DejaVuSans-78\"/>\n      <use x=\"206.738281\" xlink:href=\"#DejaVuSans-20\"/>\n      <use x=\"238.525391\" xlink:href=\"#DejaVuSans-44\"/>\n      <use x=\"315.527344\" xlink:href=\"#DejaVuSans-65\"/>\n      <use x=\"377.050781\" xlink:href=\"#DejaVuSans-70\"/>\n      <use x=\"440.527344\" xlink:href=\"#DejaVuSans-74\"/>\n      <use x=\"479.736328\" xlink:href=\"#DejaVuSans-68\"/>\n     </g>\n    </g>\n   </g>\n   <g id=\"matplotlib.axis_2\">\n    <g id=\"ytick_1\">\n     <g id=\"line2d_9\">\n      <defs>\n       <path d=\"M 0 0 \nL -3.5 0 \n\" id=\"me5ff606f2a\" style=\"stroke:#000000;stroke-width:0.8;\"/>\n      </defs>\n      <g>\n       <use style=\"stroke:#000000;stroke-width:0.8;\" x=\"43.78125\" xlink:href=\"#me5ff606f2a\" y=\"239.758125\"/>\n      </g>\n     </g>\n     <g id=\"text_10\">\n      <!-- 0.0 -->\n      <g transform=\"translate(20.878125 243.557344)scale(0.1 -0.1)\">\n       <defs>\n        <path d=\"M 684 794 \nL 1344 794 \nL 1344 0 \nL 684 0 \nL 684 794 \nz\n\" id=\"DejaVuSans-2e\" transform=\"scale(0.015625)\"/>\n       </defs>\n       <use xlink:href=\"#DejaVuSans-30\"/>\n       <use x=\"63.623047\" xlink:href=\"#DejaVuSans-2e\"/>\n       <use x=\"95.410156\" xlink:href=\"#DejaVuSans-30\"/>\n      </g>\n     </g>\n    </g>\n    <g id=\"ytick_2\">\n     <g id=\"line2d_10\">\n      <g>\n       <use style=\"stroke:#000000;stroke-width:0.8;\" x=\"43.78125\" xlink:href=\"#me5ff606f2a\" y=\"200.22358\"/>\n      </g>\n     </g>\n     <g id=\"text_11\">\n      <!-- 0.2 -->\n      <g transform=\"translate(20.878125 204.022798)scale(0.1 -0.1)\">\n       <use xlink:href=\"#DejaVuSans-30\"/>\n       <use x=\"63.623047\" xlink:href=\"#DejaVuSans-2e\"/>\n       <use x=\"95.410156\" xlink:href=\"#DejaVuSans-32\"/>\n      </g>\n     </g>\n    </g>\n    <g id=\"ytick_3\">\n     <g id=\"line2d_11\">\n      <g>\n       <use style=\"stroke:#000000;stroke-width:0.8;\" x=\"43.78125\" xlink:href=\"#me5ff606f2a\" y=\"160.689034\"/>\n      </g>\n     </g>\n     <g id=\"text_12\">\n      <!-- 0.4 -->\n      <g transform=\"translate(20.878125 164.488253)scale(0.1 -0.1)\">\n       <use xlink:href=\"#DejaVuSans-30\"/>\n       <use x=\"63.623047\" xlink:href=\"#DejaVuSans-2e\"/>\n       <use x=\"95.410156\" xlink:href=\"#DejaVuSans-34\"/>\n      </g>\n     </g>\n    </g>\n    <g id=\"ytick_4\">\n     <g id=\"line2d_12\">\n      <g>\n       <use style=\"stroke:#000000;stroke-width:0.8;\" x=\"43.78125\" xlink:href=\"#me5ff606f2a\" y=\"121.154489\"/>\n      </g>\n     </g>\n     <g id=\"text_13\">\n      <!-- 0.6 -->\n      <g transform=\"translate(20.878125 124.953707)scale(0.1 -0.1)\">\n       <defs>\n        <path d=\"M 2113 2584 \nQ 1688 2584 1439 2293 \nQ 1191 2003 1191 1497 \nQ 1191 994 1439 701 \nQ 1688 409 2113 409 \nQ 2538 409 2786 701 \nQ 3034 994 3034 1497 \nQ 3034 2003 2786 2293 \nQ 2538 2584 2113 2584 \nz\nM 3366 4563 \nL 3366 3988 \nQ 3128 4100 2886 4159 \nQ 2644 4219 2406 4219 \nQ 1781 4219 1451 3797 \nQ 1122 3375 1075 2522 \nQ 1259 2794 1537 2939 \nQ 1816 3084 2150 3084 \nQ 2853 3084 3261 2657 \nQ 3669 2231 3669 1497 \nQ 3669 778 3244 343 \nQ 2819 -91 2113 -91 \nQ 1303 -91 875 529 \nQ 447 1150 447 2328 \nQ 447 3434 972 4092 \nQ 1497 4750 2381 4750 \nQ 2619 4750 2861 4703 \nQ 3103 4656 3366 4563 \nz\n\" id=\"DejaVuSans-36\" transform=\"scale(0.015625)\"/>\n       </defs>\n       <use xlink:href=\"#DejaVuSans-30\"/>\n       <use x=\"63.623047\" xlink:href=\"#DejaVuSans-2e\"/>\n       <use x=\"95.410156\" xlink:href=\"#DejaVuSans-36\"/>\n      </g>\n     </g>\n    </g>\n    <g id=\"ytick_5\">\n     <g id=\"line2d_13\">\n      <g>\n       <use style=\"stroke:#000000;stroke-width:0.8;\" x=\"43.78125\" xlink:href=\"#me5ff606f2a\" y=\"81.619943\"/>\n      </g>\n     </g>\n     <g id=\"text_14\">\n      <!-- 0.8 -->\n      <g transform=\"translate(20.878125 85.419162)scale(0.1 -0.1)\">\n       <defs>\n        <path d=\"M 2034 2216 \nQ 1584 2216 1326 1975 \nQ 1069 1734 1069 1313 \nQ 1069 891 1326 650 \nQ 1584 409 2034 409 \nQ 2484 409 2743 651 \nQ 3003 894 3003 1313 \nQ 3003 1734 2745 1975 \nQ 2488 2216 2034 2216 \nz\nM 1403 2484 \nQ 997 2584 770 2862 \nQ 544 3141 544 3541 \nQ 544 4100 942 4425 \nQ 1341 4750 2034 4750 \nQ 2731 4750 3128 4425 \nQ 3525 4100 3525 3541 \nQ 3525 3141 3298 2862 \nQ 3072 2584 2669 2484 \nQ 3125 2378 3379 2068 \nQ 3634 1759 3634 1313 \nQ 3634 634 3220 271 \nQ 2806 -91 2034 -91 \nQ 1263 -91 848 271 \nQ 434 634 434 1313 \nQ 434 1759 690 2068 \nQ 947 2378 1403 2484 \nz\nM 1172 3481 \nQ 1172 3119 1398 2916 \nQ 1625 2713 2034 2713 \nQ 2441 2713 2670 2916 \nQ 2900 3119 2900 3481 \nQ 2900 3844 2670 4047 \nQ 2441 4250 2034 4250 \nQ 1625 4250 1398 4047 \nQ 1172 3844 1172 3481 \nz\n\" id=\"DejaVuSans-38\" transform=\"scale(0.015625)\"/>\n       </defs>\n       <use xlink:href=\"#DejaVuSans-30\"/>\n       <use x=\"63.623047\" xlink:href=\"#DejaVuSans-2e\"/>\n       <use x=\"95.410156\" xlink:href=\"#DejaVuSans-38\"/>\n      </g>\n     </g>\n    </g>\n    <g id=\"ytick_6\">\n     <g id=\"line2d_14\">\n      <g>\n       <use style=\"stroke:#000000;stroke-width:0.8;\" x=\"43.78125\" xlink:href=\"#me5ff606f2a\" y=\"42.085398\"/>\n      </g>\n     </g>\n     <g id=\"text_15\">\n      <!-- 1.0 -->\n      <g transform=\"translate(20.878125 45.884616)scale(0.1 -0.1)\">\n       <use xlink:href=\"#DejaVuSans-31\"/>\n       <use x=\"63.623047\" xlink:href=\"#DejaVuSans-2e\"/>\n       <use x=\"95.410156\" xlink:href=\"#DejaVuSans-30\"/>\n      </g>\n     </g>\n    </g>\n    <g id=\"text_16\">\n     <!-- Score -->\n     <g transform=\"translate(14.798438 145.040469)rotate(-90)scale(0.1 -0.1)\">\n      <defs>\n       <path d=\"M 3425 4513 \nL 3425 3897 \nQ 3066 4069 2747 4153 \nQ 2428 4238 2131 4238 \nQ 1616 4238 1336 4038 \nQ 1056 3838 1056 3469 \nQ 1056 3159 1242 3001 \nQ 1428 2844 1947 2747 \nL 2328 2669 \nQ 3034 2534 3370 2195 \nQ 3706 1856 3706 1288 \nQ 3706 609 3251 259 \nQ 2797 -91 1919 -91 \nQ 1588 -91 1214 -16 \nQ 841 59 441 206 \nL 441 856 \nQ 825 641 1194 531 \nQ 1563 422 1919 422 \nQ 2459 422 2753 634 \nQ 3047 847 3047 1241 \nQ 3047 1584 2836 1778 \nQ 2625 1972 2144 2069 \nL 1759 2144 \nQ 1053 2284 737 2584 \nQ 422 2884 422 3419 \nQ 422 4038 858 4394 \nQ 1294 4750 2059 4750 \nQ 2388 4750 2728 4690 \nQ 3069 4631 3425 4513 \nz\n\" id=\"DejaVuSans-53\" transform=\"scale(0.015625)\"/>\n       <path d=\"M 3122 3366 \nL 3122 2828 \nQ 2878 2963 2633 3030 \nQ 2388 3097 2138 3097 \nQ 1578 3097 1268 2742 \nQ 959 2388 959 1747 \nQ 959 1106 1268 751 \nQ 1578 397 2138 397 \nQ 2388 397 2633 464 \nQ 2878 531 3122 666 \nL 3122 134 \nQ 2881 22 2623 -34 \nQ 2366 -91 2075 -91 \nQ 1284 -91 818 406 \nQ 353 903 353 1747 \nQ 353 2603 823 3093 \nQ 1294 3584 2113 3584 \nQ 2378 3584 2631 3529 \nQ 2884 3475 3122 3366 \nz\n\" id=\"DejaVuSans-63\" transform=\"scale(0.015625)\"/>\n       <path d=\"M 1959 3097 \nQ 1497 3097 1228 2736 \nQ 959 2375 959 1747 \nQ 959 1119 1226 758 \nQ 1494 397 1959 397 \nQ 2419 397 2687 759 \nQ 2956 1122 2956 1747 \nQ 2956 2369 2687 2733 \nQ 2419 3097 1959 3097 \nz\nM 1959 3584 \nQ 2709 3584 3137 3096 \nQ 3566 2609 3566 1747 \nQ 3566 888 3137 398 \nQ 2709 -91 1959 -91 \nQ 1206 -91 779 398 \nQ 353 888 353 1747 \nQ 353 2609 779 3096 \nQ 1206 3584 1959 3584 \nz\n\" id=\"DejaVuSans-6f\" transform=\"scale(0.015625)\"/>\n       <path d=\"M 2631 2963 \nQ 2534 3019 2420 3045 \nQ 2306 3072 2169 3072 \nQ 1681 3072 1420 2755 \nQ 1159 2438 1159 1844 \nL 1159 0 \nL 581 0 \nL 581 3500 \nL 1159 3500 \nL 1159 2956 \nQ 1341 3275 1631 3429 \nQ 1922 3584 2338 3584 \nQ 2397 3584 2469 3576 \nQ 2541 3569 2628 3553 \nL 2631 2963 \nz\n\" id=\"DejaVuSans-72\" transform=\"scale(0.015625)\"/>\n      </defs>\n      <use xlink:href=\"#DejaVuSans-53\"/>\n      <use x=\"63.476562\" xlink:href=\"#DejaVuSans-63\"/>\n      <use x=\"118.457031\" xlink:href=\"#DejaVuSans-6f\"/>\n      <use x=\"179.638672\" xlink:href=\"#DejaVuSans-72\"/>\n      <use x=\"218.501953\" xlink:href=\"#DejaVuSans-65\"/>\n     </g>\n    </g>\n   </g>\n   <g id=\"line2d_15\">\n    <path clip-path=\"url(#p7ee6c5bf8e)\" d=\"M 58.999432 67.413204 \nL 75.018571 64.525206 \nL 91.037709 60.718029 \nL 107.056848 56.396903 \nL 123.075987 52.413798 \nL 139.095126 48.804294 \nL 155.114264 46.212804 \nL 171.133403 44.544446 \nL 187.152542 43.46713 \nL 203.171681 42.765392 \nL 219.190819 42.372023 \nL 235.209958 42.202025 \nL 251.229097 42.124932 \nL 267.248236 42.099235 \nL 283.267374 42.097258 \nL 299.286513 42.097258 \nL 315.305652 42.097258 \nL 331.324791 42.097258 \nL 347.343929 42.097258 \nL 363.363068 42.097258 \n\" style=\"fill:none;stroke:#ff8c00;stroke-linecap:square;stroke-width:0.75;\"/>\n   </g>\n   <g id=\"line2d_16\">\n    <path clip-path=\"url(#p7ee6c5bf8e)\" d=\"M 58.999432 69.814928 \nL 75.018571 69.024237 \nL 91.037709 68.589357 \nL 107.056848 68.526102 \nL 123.075987 68.68424 \nL 139.095126 68.802844 \nL 155.114264 68.874006 \nL 171.133403 69.22191 \nL 187.152542 69.332606 \nL 203.171681 69.601441 \nL 219.190819 69.522372 \nL 235.209958 69.688417 \nL 251.229097 69.672604 \nL 267.248236 69.696324 \nL 283.267374 69.648883 \nL 299.286513 70.067949 \nL 315.305652 69.814928 \nL 331.324791 69.838649 \nL 347.343929 69.901904 \nL 363.363068 69.901904 \n\" style=\"fill:none;stroke:#000080;stroke-linecap:square;stroke-width:0.75;\"/>\n   </g>\n   <g id=\"patch_3\">\n    <path d=\"M 43.78125 239.758125 \nL 43.78125 22.318125 \n\" style=\"fill:none;stroke:#000000;stroke-linecap:square;stroke-linejoin:miter;stroke-width:0.8;\"/>\n   </g>\n   <g id=\"patch_4\">\n    <path d=\"M 378.58125 239.758125 \nL 378.58125 22.318125 \n\" style=\"fill:none;stroke:#000000;stroke-linecap:square;stroke-linejoin:miter;stroke-width:0.8;\"/>\n   </g>\n   <g id=\"patch_5\">\n    <path d=\"M 43.78125 239.758125 \nL 378.58125 239.758125 \n\" style=\"fill:none;stroke:#000000;stroke-linecap:square;stroke-linejoin:miter;stroke-width:0.8;\"/>\n   </g>\n   <g id=\"patch_6\">\n    <path d=\"M 43.78125 22.318125 \nL 378.58125 22.318125 \n\" style=\"fill:none;stroke:#000000;stroke-linecap:square;stroke-linejoin:miter;stroke-width:0.8;\"/>\n   </g>\n   <g id=\"text_17\">\n    <!-- Validation Curve for Best Model -->\n    <g transform=\"translate(116.670938 16.318125)scale(0.12 -0.12)\">\n     <defs>\n      <path d=\"M 1831 0 \nL 50 4666 \nL 709 4666 \nL 2188 738 \nL 3669 4666 \nL 4325 4666 \nL 2547 0 \nL 1831 0 \nz\n\" id=\"DejaVuSans-56\" transform=\"scale(0.015625)\"/>\n      <path d=\"M 603 4863 \nL 1178 4863 \nL 1178 0 \nL 603 0 \nL 603 4863 \nz\n\" id=\"DejaVuSans-6c\" transform=\"scale(0.015625)\"/>\n      <path d=\"M 603 3500 \nL 1178 3500 \nL 1178 0 \nL 603 0 \nL 603 3500 \nz\nM 603 4863 \nL 1178 4863 \nL 1178 4134 \nL 603 4134 \nL 603 4863 \nz\n\" id=\"DejaVuSans-69\" transform=\"scale(0.015625)\"/>\n      <path d=\"M 2906 2969 \nL 2906 4863 \nL 3481 4863 \nL 3481 0 \nL 2906 0 \nL 2906 525 \nQ 2725 213 2448 61 \nQ 2172 -91 1784 -91 \nQ 1150 -91 751 415 \nQ 353 922 353 1747 \nQ 353 2572 751 3078 \nQ 1150 3584 1784 3584 \nQ 2172 3584 2448 3432 \nQ 2725 3281 2906 2969 \nz\nM 947 1747 \nQ 947 1113 1208 752 \nQ 1469 391 1925 391 \nQ 2381 391 2643 752 \nQ 2906 1113 2906 1747 \nQ 2906 2381 2643 2742 \nQ 2381 3103 1925 3103 \nQ 1469 3103 1208 2742 \nQ 947 2381 947 1747 \nz\n\" id=\"DejaVuSans-64\" transform=\"scale(0.015625)\"/>\n      <path d=\"M 3513 2113 \nL 3513 0 \nL 2938 0 \nL 2938 2094 \nQ 2938 2591 2744 2837 \nQ 2550 3084 2163 3084 \nQ 1697 3084 1428 2787 \nQ 1159 2491 1159 1978 \nL 1159 0 \nL 581 0 \nL 581 3500 \nL 1159 3500 \nL 1159 2956 \nQ 1366 3272 1645 3428 \nQ 1925 3584 2291 3584 \nQ 2894 3584 3203 3211 \nQ 3513 2838 3513 2113 \nz\n\" id=\"DejaVuSans-6e\" transform=\"scale(0.015625)\"/>\n      <path d=\"M 4122 4306 \nL 4122 3641 \nQ 3803 3938 3442 4084 \nQ 3081 4231 2675 4231 \nQ 1875 4231 1450 3742 \nQ 1025 3253 1025 2328 \nQ 1025 1406 1450 917 \nQ 1875 428 2675 428 \nQ 3081 428 3442 575 \nQ 3803 722 4122 1019 \nL 4122 359 \nQ 3791 134 3420 21 \nQ 3050 -91 2638 -91 \nQ 1578 -91 968 557 \nQ 359 1206 359 2328 \nQ 359 3453 968 4101 \nQ 1578 4750 2638 4750 \nQ 3056 4750 3426 4639 \nQ 3797 4528 4122 4306 \nz\n\" id=\"DejaVuSans-43\" transform=\"scale(0.015625)\"/>\n      <path d=\"M 544 1381 \nL 544 3500 \nL 1119 3500 \nL 1119 1403 \nQ 1119 906 1312 657 \nQ 1506 409 1894 409 \nQ 2359 409 2629 706 \nQ 2900 1003 2900 1516 \nL 2900 3500 \nL 3475 3500 \nL 3475 0 \nL 2900 0 \nL 2900 538 \nQ 2691 219 2414 64 \nQ 2138 -91 1772 -91 \nQ 1169 -91 856 284 \nQ 544 659 544 1381 \nz\nM 1991 3584 \nL 1991 3584 \nz\n\" id=\"DejaVuSans-75\" transform=\"scale(0.015625)\"/>\n      <path d=\"M 191 3500 \nL 800 3500 \nL 1894 563 \nL 2988 3500 \nL 3597 3500 \nL 2284 0 \nL 1503 0 \nL 191 3500 \nz\n\" id=\"DejaVuSans-76\" transform=\"scale(0.015625)\"/>\n      <path d=\"M 2375 4863 \nL 2375 4384 \nL 1825 4384 \nQ 1516 4384 1395 4259 \nQ 1275 4134 1275 3809 \nL 1275 3500 \nL 2222 3500 \nL 2222 3053 \nL 1275 3053 \nL 1275 0 \nL 697 0 \nL 697 3053 \nL 147 3053 \nL 147 3500 \nL 697 3500 \nL 697 3744 \nQ 697 4328 969 4595 \nQ 1241 4863 1831 4863 \nL 2375 4863 \nz\n\" id=\"DejaVuSans-66\" transform=\"scale(0.015625)\"/>\n      <path d=\"M 1259 2228 \nL 1259 519 \nL 2272 519 \nQ 2781 519 3026 730 \nQ 3272 941 3272 1375 \nQ 3272 1813 3026 2020 \nQ 2781 2228 2272 2228 \nL 1259 2228 \nz\nM 1259 4147 \nL 1259 2741 \nL 2194 2741 \nQ 2656 2741 2882 2914 \nQ 3109 3088 3109 3444 \nQ 3109 3797 2882 3972 \nQ 2656 4147 2194 4147 \nL 1259 4147 \nz\nM 628 4666 \nL 2241 4666 \nQ 2963 4666 3353 4366 \nQ 3744 4066 3744 3513 \nQ 3744 3084 3544 2831 \nQ 3344 2578 2956 2516 \nQ 3422 2416 3680 2098 \nQ 3938 1781 3938 1306 \nQ 3938 681 3513 340 \nQ 3088 0 2303 0 \nL 628 0 \nL 628 4666 \nz\n\" id=\"DejaVuSans-42\" transform=\"scale(0.015625)\"/>\n      <path d=\"M 2834 3397 \nL 2834 2853 \nQ 2591 2978 2328 3040 \nQ 2066 3103 1784 3103 \nQ 1356 3103 1142 2972 \nQ 928 2841 928 2578 \nQ 928 2378 1081 2264 \nQ 1234 2150 1697 2047 \nL 1894 2003 \nQ 2506 1872 2764 1633 \nQ 3022 1394 3022 966 \nQ 3022 478 2636 193 \nQ 2250 -91 1575 -91 \nQ 1294 -91 989 -36 \nQ 684 19 347 128 \nL 347 722 \nQ 666 556 975 473 \nQ 1284 391 1588 391 \nQ 1994 391 2212 530 \nQ 2431 669 2431 922 \nQ 2431 1156 2273 1281 \nQ 2116 1406 1581 1522 \nL 1381 1569 \nQ 847 1681 609 1914 \nQ 372 2147 372 2553 \nQ 372 3047 722 3315 \nQ 1072 3584 1716 3584 \nQ 2034 3584 2315 3537 \nQ 2597 3491 2834 3397 \nz\n\" id=\"DejaVuSans-73\" transform=\"scale(0.015625)\"/>\n     </defs>\n     <use xlink:href=\"#DejaVuSans-56\"/>\n     <use x=\"60.658203\" xlink:href=\"#DejaVuSans-61\"/>\n     <use x=\"121.9375\" xlink:href=\"#DejaVuSans-6c\"/>\n     <use x=\"149.720703\" xlink:href=\"#DejaVuSans-69\"/>\n     <use x=\"177.503906\" xlink:href=\"#DejaVuSans-64\"/>\n     <use x=\"240.980469\" xlink:href=\"#DejaVuSans-61\"/>\n     <use x=\"302.259766\" xlink:href=\"#DejaVuSans-74\"/>\n     <use x=\"341.46875\" xlink:href=\"#DejaVuSans-69\"/>\n     <use x=\"369.251953\" xlink:href=\"#DejaVuSans-6f\"/>\n     <use x=\"430.433594\" xlink:href=\"#DejaVuSans-6e\"/>\n     <use x=\"493.8125\" xlink:href=\"#DejaVuSans-20\"/>\n     <use x=\"525.599609\" xlink:href=\"#DejaVuSans-43\"/>\n     <use x=\"595.423828\" xlink:href=\"#DejaVuSans-75\"/>\n     <use x=\"658.802734\" xlink:href=\"#DejaVuSans-72\"/>\n     <use x=\"699.916016\" xlink:href=\"#DejaVuSans-76\"/>\n     <use x=\"759.095703\" xlink:href=\"#DejaVuSans-65\"/>\n     <use x=\"820.619141\" xlink:href=\"#DejaVuSans-20\"/>\n     <use x=\"852.40625\" xlink:href=\"#DejaVuSans-66\"/>\n     <use x=\"887.611328\" xlink:href=\"#DejaVuSans-6f\"/>\n     <use x=\"948.792969\" xlink:href=\"#DejaVuSans-72\"/>\n     <use x=\"989.90625\" xlink:href=\"#DejaVuSans-20\"/>\n     <use x=\"1021.693359\" xlink:href=\"#DejaVuSans-42\"/>\n     <use x=\"1090.296875\" xlink:href=\"#DejaVuSans-65\"/>\n     <use x=\"1151.820312\" xlink:href=\"#DejaVuSans-73\"/>\n     <use x=\"1203.919922\" xlink:href=\"#DejaVuSans-74\"/>\n     <use x=\"1243.128906\" xlink:href=\"#DejaVuSans-20\"/>\n     <use x=\"1274.916016\" xlink:href=\"#DejaVuSans-4d\"/>\n     <use x=\"1361.195312\" xlink:href=\"#DejaVuSans-6f\"/>\n     <use x=\"1422.376953\" xlink:href=\"#DejaVuSans-64\"/>\n     <use x=\"1485.853516\" xlink:href=\"#DejaVuSans-65\"/>\n     <use x=\"1547.376953\" xlink:href=\"#DejaVuSans-6c\"/>\n    </g>\n   </g>\n   <g id=\"legend_1\">\n    <g id=\"patch_7\">\n     <path d=\"M 50.78125 234.758125 \nL 192.810938 234.758125 \nQ 194.810938 234.758125 194.810938 232.758125 \nL 194.810938 204.401875 \nQ 194.810938 202.401875 192.810938 202.401875 \nL 50.78125 202.401875 \nQ 48.78125 202.401875 48.78125 204.401875 \nL 48.78125 232.758125 \nQ 48.78125 234.758125 50.78125 234.758125 \nz\n\" style=\"fill:#ffffff;opacity:0.8;stroke:#cccccc;stroke-linejoin:miter;\"/>\n    </g>\n    <g id=\"line2d_17\">\n     <path d=\"M 52.78125 210.500312 \nL 72.78125 210.500312 \n\" style=\"fill:none;stroke:#ff8c00;stroke-linecap:square;stroke-width:0.75;\"/>\n    </g>\n    <g id=\"line2d_18\"/>\n    <g id=\"text_18\">\n     <!-- Training score -->\n     <g transform=\"translate(80.78125 214.000312)scale(0.1 -0.1)\">\n      <defs>\n       <path d=\"M -19 4666 \nL 3928 4666 \nL 3928 4134 \nL 2272 4134 \nL 2272 0 \nL 1638 0 \nL 1638 4134 \nL -19 4134 \nL -19 4666 \nz\n\" id=\"DejaVuSans-54\" transform=\"scale(0.015625)\"/>\n       <path d=\"M 2906 1791 \nQ 2906 2416 2648 2759 \nQ 2391 3103 1925 3103 \nQ 1463 3103 1205 2759 \nQ 947 2416 947 1791 \nQ 947 1169 1205 825 \nQ 1463 481 1925 481 \nQ 2391 481 2648 825 \nQ 2906 1169 2906 1791 \nz\nM 3481 434 \nQ 3481 -459 3084 -895 \nQ 2688 -1331 1869 -1331 \nQ 1566 -1331 1297 -1286 \nQ 1028 -1241 775 -1147 \nL 775 -588 \nQ 1028 -725 1275 -790 \nQ 1522 -856 1778 -856 \nQ 2344 -856 2625 -561 \nQ 2906 -266 2906 331 \nL 2906 616 \nQ 2728 306 2450 153 \nQ 2172 0 1784 0 \nQ 1141 0 747 490 \nQ 353 981 353 1791 \nQ 353 2603 747 3093 \nQ 1141 3584 1784 3584 \nQ 2172 3584 2450 3431 \nQ 2728 3278 2906 2969 \nL 2906 3500 \nL 3481 3500 \nL 3481 434 \nz\n\" id=\"DejaVuSans-67\" transform=\"scale(0.015625)\"/>\n      </defs>\n      <use xlink:href=\"#DejaVuSans-54\"/>\n      <use x=\"46.333984\" xlink:href=\"#DejaVuSans-72\"/>\n      <use x=\"87.447266\" xlink:href=\"#DejaVuSans-61\"/>\n      <use x=\"148.726562\" xlink:href=\"#DejaVuSans-69\"/>\n      <use x=\"176.509766\" xlink:href=\"#DejaVuSans-6e\"/>\n      <use x=\"239.888672\" xlink:href=\"#DejaVuSans-69\"/>\n      <use x=\"267.671875\" xlink:href=\"#DejaVuSans-6e\"/>\n      <use x=\"331.050781\" xlink:href=\"#DejaVuSans-67\"/>\n      <use x=\"394.527344\" xlink:href=\"#DejaVuSans-20\"/>\n      <use x=\"426.314453\" xlink:href=\"#DejaVuSans-73\"/>\n      <use x=\"478.414062\" xlink:href=\"#DejaVuSans-63\"/>\n      <use x=\"533.394531\" xlink:href=\"#DejaVuSans-6f\"/>\n      <use x=\"594.576172\" xlink:href=\"#DejaVuSans-72\"/>\n      <use x=\"633.439453\" xlink:href=\"#DejaVuSans-65\"/>\n     </g>\n    </g>\n    <g id=\"line2d_19\">\n     <path d=\"M 52.78125 225.178437 \nL 72.78125 225.178437 \n\" style=\"fill:none;stroke:#000080;stroke-linecap:square;stroke-width:0.75;\"/>\n    </g>\n    <g id=\"line2d_20\"/>\n    <g id=\"text_19\">\n     <!-- Cross-validation score -->\n     <g transform=\"translate(80.78125 228.678437)scale(0.1 -0.1)\">\n      <defs>\n       <path d=\"M 313 2009 \nL 1997 2009 \nL 1997 1497 \nL 313 1497 \nL 313 2009 \nz\n\" id=\"DejaVuSans-2d\" transform=\"scale(0.015625)\"/>\n      </defs>\n      <use xlink:href=\"#DejaVuSans-43\"/>\n      <use x=\"69.824219\" xlink:href=\"#DejaVuSans-72\"/>\n      <use x=\"108.6875\" xlink:href=\"#DejaVuSans-6f\"/>\n      <use x=\"169.869141\" xlink:href=\"#DejaVuSans-73\"/>\n      <use x=\"221.96875\" xlink:href=\"#DejaVuSans-73\"/>\n      <use x=\"274.068359\" xlink:href=\"#DejaVuSans-2d\"/>\n      <use x=\"307.527344\" xlink:href=\"#DejaVuSans-76\"/>\n      <use x=\"366.707031\" xlink:href=\"#DejaVuSans-61\"/>\n      <use x=\"427.986328\" xlink:href=\"#DejaVuSans-6c\"/>\n      <use x=\"455.769531\" xlink:href=\"#DejaVuSans-69\"/>\n      <use x=\"483.552734\" xlink:href=\"#DejaVuSans-64\"/>\n      <use x=\"547.029297\" xlink:href=\"#DejaVuSans-61\"/>\n      <use x=\"608.308594\" xlink:href=\"#DejaVuSans-74\"/>\n      <use x=\"647.517578\" xlink:href=\"#DejaVuSans-69\"/>\n      <use x=\"675.300781\" xlink:href=\"#DejaVuSans-6f\"/>\n      <use x=\"736.482422\" xlink:href=\"#DejaVuSans-6e\"/>\n      <use x=\"799.861328\" xlink:href=\"#DejaVuSans-20\"/>\n      <use x=\"831.648438\" xlink:href=\"#DejaVuSans-73\"/>\n      <use x=\"883.748047\" xlink:href=\"#DejaVuSans-63\"/>\n      <use x=\"938.728516\" xlink:href=\"#DejaVuSans-6f\"/>\n      <use x=\"999.910156\" xlink:href=\"#DejaVuSans-72\"/>\n      <use x=\"1038.773438\" xlink:href=\"#DejaVuSans-65\"/>\n     </g>\n    </g>\n   </g>\n  </g>\n </g>\n <defs>\n  <clipPath id=\"p7ee6c5bf8e\">\n   <rect height=\"217.44\" width=\"334.8\" x=\"43.78125\" y=\"22.318125\"/>\n  </clipPath>\n </defs>\n</svg>\n",
      "image/png": "[encoded data removed]"
     },
     "metadata": {
      "needs_background": "light"
     }
    }
   ],
   "metadata": {}
  },
  {
   "cell_type": "code",
   "execution_count": 405,
   "source": [
    "probs= clf.predict_proba(testing.drop(['ID'],axis=1))\n",
    "ID=[]\n",
    "for i in range(23842):\n",
    "    ID.append(i+1)\n",
    "d={'ID':ID,\"Prediction\":probs[:,1]}                                                            \n",
    "df=pd.DataFrame(d)\n",
    "df.to_csv(\"Submission_rf.csv\",index=False)"
   ],
   "outputs": [],
   "metadata": {}
  },
  {
   "cell_type": "markdown",
   "source": [
    "# 5. AdaBoost"
   ],
   "metadata": {}
  },
  {
   "cell_type": "code",
   "execution_count": 461,
   "source": [
    "aboost = AdaBoostClassifier(base_estimator = tree.DecisionTreeClassifier(max_depth=2), random_state=42)\n",
    "param_grid = {\n",
    "        'n_estimators': range(100, 300, 2),\n",
    "        'learning_rate': [0.01, 0.1, 0.5, 1, 3]\n",
    "    }"
   ],
   "outputs": [],
   "metadata": {}
  },
  {
   "cell_type": "code",
   "execution_count": 450,
   "source": [
    "clf_aboost=RandomizedSearchCV(estimator=aboost,param_distributions=param_grid,cv=5,verbose=2,random_state=42,n_jobs=-1)\n",
    "clf_aboost.fit(training.drop(['income>50K'],axis=1),training['income>50K'])"
   ],
   "outputs": [
    {
     "output_type": "stream",
     "name": "stdout",
     "text": [
      "Fitting 5 folds for each of 10 candidates, totalling 50 fits\n",
      "[CV] END ..................learning_rate=1, n_estimators=222; total time=   5.6s\n",
      "[CV] END ..................learning_rate=1, n_estimators=222; total time=   5.7s\n",
      "[CV] END ..................learning_rate=1, n_estimators=222; total time=   5.9s\n",
      "[CV] END ...............learning_rate=0.01, n_estimators=246; total time=   6.4s\n",
      "[CV] END ..................learning_rate=1, n_estimators=222; total time=   6.4s\n",
      "[CV] END ...............learning_rate=0.01, n_estimators=246; total time=   6.6s\n",
      "[CV] END ..................learning_rate=1, n_estimators=222; total time=   6.6s\n",
      "[CV] END ...............learning_rate=0.01, n_estimators=246; total time=   7.3s\n",
      "[CV] END ...............learning_rate=0.01, n_estimators=246; total time=   6.3s\n",
      "[CV] END ...............learning_rate=0.01, n_estimators=246; total time=   6.6s\n",
      "[CV] END ..................learning_rate=1, n_estimators=248; total time=   5.9s\n",
      "[CV] END ..................learning_rate=1, n_estimators=248; total time=   6.8s\n",
      "[CV] END ..................learning_rate=1, n_estimators=248; total time=   6.1s\n",
      "[CV] END ................learning_rate=0.1, n_estimators=210; total time=   5.8s\n",
      "[CV] END ..................learning_rate=1, n_estimators=248; total time=   6.5s\n",
      "[CV] END ..................learning_rate=1, n_estimators=248; total time=   7.2s\n",
      "[CV] END ................learning_rate=0.1, n_estimators=108; total time=   2.5s\n",
      "[CV] END ................learning_rate=0.1, n_estimators=108; total time=   2.6s\n",
      "[CV] END ................learning_rate=0.1, n_estimators=108; total time=   2.7s\n",
      "[CV] END ................learning_rate=0.1, n_estimators=108; total time=   2.7s\n",
      "[CV] END ................learning_rate=0.1, n_estimators=210; total time=   5.3s\n",
      "[CV] END ................learning_rate=0.1, n_estimators=210; total time=   5.7s\n",
      "[CV] END ................learning_rate=0.1, n_estimators=210; total time=   5.3s\n",
      "[CV] END ................learning_rate=0.1, n_estimators=210; total time=   5.8s\n",
      "[CV] END ................learning_rate=0.1, n_estimators=108; total time=   2.8s\n",
      "[CV] END ..................learning_rate=1, n_estimators=288; total time=   7.2s\n",
      "[CV] END ..................learning_rate=1, n_estimators=288; total time=   7.7s\n",
      "[CV] END ..................learning_rate=1, n_estimators=288; total time=   7.7s\n",
      "[CV] END ..................learning_rate=1, n_estimators=254; total time=   6.6s\n",
      "[CV] END ..................learning_rate=1, n_estimators=288; total time=   7.4s\n",
      "[CV] END ..................learning_rate=1, n_estimators=254; total time=   6.9s\n",
      "[CV] END ..................learning_rate=1, n_estimators=254; total time=   7.1s\n",
      "[CV] END ..................learning_rate=1, n_estimators=288; total time=   7.9s\n",
      "[CV] END ................learning_rate=0.1, n_estimators=148; total time=   3.9s\n",
      "[CV] END ................learning_rate=0.1, n_estimators=148; total time=   3.8s\n",
      "[CV] END ................learning_rate=0.1, n_estimators=148; total time=   3.8s\n",
      "[CV] END ................learning_rate=0.1, n_estimators=148; total time=   3.9s\n",
      "[CV] END ................learning_rate=0.1, n_estimators=148; total time=   3.9s\n",
      "[CV] END ..................learning_rate=1, n_estimators=254; total time=   6.5s\n",
      "[CV] END ..................learning_rate=1, n_estimators=254; total time=   6.3s\n",
      "[CV] END ..................learning_rate=3, n_estimators=200; total time=   1.6s\n",
      "[CV] END ..................learning_rate=3, n_estimators=200; total time=   1.6s\n",
      "[CV] END ...............learning_rate=0.01, n_estimators=236; total time=   5.8s\n",
      "[CV] END ..................learning_rate=3, n_estimators=200; total time=   1.7s\n",
      "[CV] END ..................learning_rate=3, n_estimators=200; total time=   3.3s\n",
      "[CV] END ..................learning_rate=3, n_estimators=200; total time=   1.6s\n",
      "[CV] END ...............learning_rate=0.01, n_estimators=236; total time=   5.3s\n",
      "[CV] END ...............learning_rate=0.01, n_estimators=236; total time=   5.0s\n",
      "[CV] END ...............learning_rate=0.01, n_estimators=236; total time=   5.2s\n",
      "[CV] END ...............learning_rate=0.01, n_estimators=236; total time=   5.0s\n"
     ]
    },
    {
     "output_type": "execute_result",
     "data": {
      "text/plain": [
       "RandomizedSearchCV(cv=5,\n",
       "                   estimator=AdaBoostClassifier(base_estimator=DecisionTreeClassifier(max_depth=2),\n",
       "                                                random_state=42),\n",
       "                   n_jobs=-1,\n",
       "                   param_distributions={'learning_rate': [0.01, 0.1, 0.5, 1, 3],\n",
       "                                        'n_estimators': range(100, 300, 2)},\n",
       "                   random_state=42, verbose=2)"
      ]
     },
     "metadata": {},
     "execution_count": 450
    }
   ],
   "metadata": {}
  },
  {
   "cell_type": "code",
   "execution_count": 451,
   "source": [
    "clf_aboost.best_estimator_"
   ],
   "outputs": [
    {
     "output_type": "execute_result",
     "data": {
      "text/plain": [
       "AdaBoostClassifier(base_estimator=DecisionTreeClassifier(max_depth=2),\n",
       "                   learning_rate=0.1, n_estimators=210, random_state=42)"
      ]
     },
     "metadata": {},
     "execution_count": 451
    }
   ],
   "metadata": {}
  },
  {
   "cell_type": "code",
   "execution_count": 452,
   "source": [
    "clf_aboost.cv_results_['mean_test_score']"
   ],
   "outputs": [
    {
     "output_type": "execute_result",
     "data": {
      "text/plain": [
       "array([0.86688, 0.84512, 0.86696, 0.87084, 0.86152, 0.86508, 0.86672,\n",
       "       0.86656, 0.84368, 0.34784])"
      ]
     },
     "metadata": {},
     "execution_count": 452
    }
   ],
   "metadata": {}
  },
  {
   "cell_type": "code",
   "execution_count": 453,
   "source": [
    "clf_aboost.cv_results_['std_test_score']"
   ],
   "outputs": [
    {
     "output_type": "execute_result",
     "data": {
      "text/plain": [
       "array([0.00437557, 0.00460712, 0.00458764, 0.0033476 , 0.00321148,\n",
       "       0.00531654, 0.00497128, 0.003102  , 0.00434622, 0.21312109])"
      ]
     },
     "metadata": {},
     "execution_count": 453
    }
   ],
   "metadata": {}
  },
  {
   "cell_type": "code",
   "execution_count": 454,
   "source": [
    "probs= clf_aboost.predict_proba(testing.drop(['ID'],axis=1))\n",
    "ID=[]\n",
    "for i in range(23842):\n",
    "    ID.append(i+1)\n",
    "d={'ID':ID,\"Prediction\":probs[:,1]}                                                            \n",
    "df=pd.DataFrame(d)\n",
    "df.to_csv(\"Submission_aboost.csv\",index=False)"
   ],
   "outputs": [],
   "metadata": {}
  },
  {
   "cell_type": "code",
   "execution_count": 462,
   "source": [
    "# Get Validation Curves for the Best Model\n",
    "best_model = clf_aboost\n",
    "fig_name = 'output-aboost.png'\n",
    "varying_param = 'n_estimators'\n",
    "train_scores, test_scores = validation_curve(best_model.best_estimator_, training.drop(['income>50K'],axis=1),training['income>50K'],cv=5, \n",
    "                                            param_name=varying_param, param_range=param_grid[varying_param], scoring='accuracy', n_jobs=-1)\n",
    "train_scores_mean = np.mean(train_scores, axis=1)\n",
    "train_scores_std = np.std(train_scores, axis=1)\n",
    "test_scores_mean = np.mean(test_scores, axis=1)\n",
    "test_scores_std = np.std(test_scores, axis=1)\n",
    "\n",
    "plt.title(\"Validation Curve for Best Model\")\n",
    "plt.xlabel('Number of Estimators')\n",
    "plt.ylabel(\"Score\")\n",
    "plt.ylim(0.0, 1.1)\n",
    "lw = 0.75\n",
    "plt.plot(\n",
    "    param_grid[varying_param], train_scores_mean, label=\"Training score\", color=\"darkorange\", lw=lw\n",
    ")\n",
    "plt.fill_between(\n",
    "    param_grid[varying_param],\n",
    "    train_scores_mean - train_scores_std,\n",
    "    train_scores_mean + train_scores_std,\n",
    "    alpha=0.2,\n",
    "    color=\"darkorange\",\n",
    "    lw=lw,\n",
    ")\n",
    "plt.plot(\n",
    "    param_grid[varying_param], test_scores_mean, label=\"Cross-validation score\", color=\"navy\", lw=lw\n",
    ")\n",
    "plt.fill_between(\n",
    "    param_grid[varying_param],\n",
    "    test_scores_mean - test_scores_std,\n",
    "    test_scores_mean + test_scores_std,\n",
    "    alpha=0.2,\n",
    "    color=\"navy\",\n",
    "    lw=lw,\n",
    ")\n",
    "plt.legend(loc=\"best\")\n",
    "plt.savefig(f'Figures/{fig_name}', dpi=200)\n",
    "plt.show()"
   ],
   "outputs": [
    {
     "output_type": "display_data",
     "data": {
      "text/plain": [
       "<Figure size 432x288 with 1 Axes>"
      ],
      "image/svg+xml": "<?xml version=\"1.0\" encoding=\"utf-8\" standalone=\"no\"?>\n<!DOCTYPE svg PUBLIC \"-//W3C//DTD SVG 1.1//EN\"\n  \"http://www.w3.org/Graphics/SVG/1.1/DTD/svg11.dtd\">\n<svg height=\"277.314375pt\" version=\"1.1\" viewBox=\"0 0 385.78125 277.314375\" width=\"385.78125pt\" xmlns=\"http://www.w3.org/2000/svg\" xmlns:xlink=\"http://www.w3.org/1999/xlink\">\n <metadata>\n  <rdf:RDF xmlns:cc=\"http://creativecommons.org/ns#\" xmlns:dc=\"http://purl.org/dc/elements/1.1/\" xmlns:rdf=\"http://www.w3.org/1999/02/22-rdf-syntax-ns#\">\n   <cc:Work>\n    <dc:type rdf:resource=\"http://purl.org/dc/dcmitype/StillImage\"/>\n    <dc:date>2021-12-19T16:19:34.340569</dc:date>\n    <dc:format>image/svg+xml</dc:format>\n    <dc:creator>\n     <cc:Agent>\n      <dc:title>Matplotlib v3.4.3, https://matplotlib.org/</dc:title>\n     </cc:Agent>\n    </dc:creator>\n   </cc:Work>\n  </rdf:RDF>\n </metadata>\n <defs>\n  <style type=\"text/css\">*{stroke-linecap:butt;stroke-linejoin:round;}</style>\n </defs>\n <g id=\"figure_1\">\n  <g id=\"patch_1\">\n   <path d=\"M 0 277.314375 \nL 385.78125 277.314375 \nL 385.78125 0 \nL 0 0 \nz\n\" style=\"fill:none;\"/>\n  </g>\n  <g id=\"axes_1\">\n   <g id=\"patch_2\">\n    <path d=\"M 43.78125 239.758125 \nL 378.58125 239.758125 \nL 378.58125 22.318125 \nL 43.78125 22.318125 \nz\n\" style=\"fill:#ffffff;\"/>\n   </g>\n   <g id=\"PolyCollection_1\">\n    <defs>\n     <path d=\"M 58.999432 -208.377109 \nL 58.999432 -207.622009 \nL 62.073812 -207.715979 \nL 65.148192 -207.77191 \nL 68.222572 -207.822965 \nL 71.296952 -207.910479 \nL 74.371333 -207.920854 \nL 77.445713 -207.927772 \nL 80.520093 -207.964328 \nL 83.594473 -207.961338 \nL 86.668853 -208.0174 \nL 89.743233 -208.109842 \nL 92.817614 -208.238769 \nL 95.891994 -208.327315 \nL 98.966374 -208.374469 \nL 102.040754 -208.3955 \nL 105.115134 -208.414662 \nL 108.189514 -208.560447 \nL 111.263895 -208.661958 \nL 114.338275 -208.768946 \nL 117.412655 -208.891592 \nL 120.487035 -208.899394 \nL 123.561415 -208.979343 \nL 126.635795 -209.001296 \nL 129.710176 -209.051856 \nL 132.784556 -209.119221 \nL 135.858936 -209.20424 \nL 138.933316 -209.263838 \nL 142.007696 -209.318143 \nL 145.082076 -209.340317 \nL 148.156457 -209.347517 \nL 151.230837 -209.388645 \nL 154.305217 -209.419635 \nL 157.379597 -209.419987 \nL 160.453977 -209.453726 \nL 163.528357 -209.479815 \nL 166.602738 -209.536055 \nL 169.677118 -209.571294 \nL 172.751498 -209.611553 \nL 175.825878 -209.629497 \nL 178.900258 -209.674896 \nL 181.974638 -209.678584 \nL 185.049019 -209.69621 \nL 188.123399 -209.784225 \nL 191.197779 -209.807006 \nL 194.272159 -209.831656 \nL 197.346539 -209.863379 \nL 200.420919 -209.851529 \nL 203.4953 -209.84891 \nL 206.56968 -209.880599 \nL 209.64406 -209.899752 \nL 212.71844 -209.965464 \nL 215.79282 -209.988867 \nL 218.8672 -210.010199 \nL 221.941581 -210.046152 \nL 225.015961 -210.078752 \nL 228.090341 -210.090937 \nL 231.164721 -210.085697 \nL 234.239101 -210.123523 \nL 237.313481 -210.152936 \nL 240.387862 -210.17476 \nL 243.462242 -210.181003 \nL 246.536622 -210.17659 \nL 249.611002 -210.184256 \nL 252.685382 -210.204651 \nL 255.759762 -210.197966 \nL 258.834143 -210.252302 \nL 261.908523 -210.213266 \nL 264.982903 -210.243062 \nL 268.057283 -210.257757 \nL 271.131663 -210.259036 \nL 274.206043 -210.297228 \nL 277.280424 -210.29503 \nL 280.354804 -210.352834 \nL 283.429184 -210.37784 \nL 286.503564 -210.364093 \nL 289.577944 -210.377246 \nL 292.652324 -210.382286 \nL 295.726705 -210.409689 \nL 298.801085 -210.417769 \nL 301.875465 -210.41822 \nL 304.949845 -210.383982 \nL 308.024225 -210.372668 \nL 311.098605 -210.380815 \nL 314.172986 -210.415733 \nL 317.247366 -210.416141 \nL 320.321746 -210.425904 \nL 323.396126 -210.43898 \nL 326.470506 -210.456986 \nL 329.544886 -210.448126 \nL 332.619267 -210.467308 \nL 335.693647 -210.50742 \nL 338.768027 -210.505548 \nL 341.842407 -210.506778 \nL 344.916787 -210.51774 \nL 347.991167 -210.547612 \nL 351.065548 -210.547806 \nL 354.139928 -210.5715 \nL 357.214308 -210.559277 \nL 360.288688 -210.607646 \nL 363.363068 -210.634276 \nL 363.363068 -211.053864 \nL 363.363068 -211.053864 \nL 360.288688 -211.060726 \nL 357.214308 -211.049793 \nL 354.139928 -211.017803 \nL 351.065548 -211.041497 \nL 347.991167 -211.00611 \nL 344.916787 -211.024122 \nL 341.842407 -211.015316 \nL 338.768027 -211.0205 \nL 335.693647 -210.959326 \nL 332.619267 -210.944089 \nL 329.544886 -210.971179 \nL 326.470506 -210.974179 \nL 323.396126 -210.944744 \nL 320.321746 -210.945959 \nL 317.247366 -210.928048 \nL 314.172986 -210.892874 \nL 311.098605 -210.900119 \nL 308.024225 -210.888499 \nL 304.949845 -210.821835 \nL 301.875465 -210.831086 \nL 298.801085 -210.83549 \nL 295.726705 -210.807989 \nL 292.652324 -210.772137 \nL 289.577944 -210.761363 \nL 286.503564 -210.766609 \nL 283.429184 -210.729142 \nL 280.354804 -210.722519 \nL 277.280424 -210.732883 \nL 274.206043 -210.746498 \nL 271.131663 -210.713528 \nL 268.057283 -210.730621 \nL 264.982903 -210.717641 \nL 261.908523 -210.727671 \nL 258.834143 -210.67282 \nL 255.759762 -210.675762 \nL 252.685382 -210.665123 \nL 249.611002 -210.685519 \nL 246.536622 -210.68923 \nL 243.462242 -210.688772 \nL 240.387862 -210.671293 \nL 237.313481 -210.645676 \nL 234.239101 -210.611834 \nL 231.164721 -210.633846 \nL 228.090341 -210.620699 \nL 225.015961 -210.573582 \nL 221.941581 -210.550834 \nL 218.8672 -210.503764 \nL 215.79282 -210.481608 \nL 212.71844 -210.45757 \nL 209.64406 -210.424446 \nL 206.56968 -210.396157 \nL 203.4953 -210.368545 \nL 200.420919 -210.342204 \nL 197.346539 -210.298726 \nL 194.272159 -210.318589 \nL 191.197779 -210.295798 \nL 188.123399 -210.286951 \nL 185.049019 -210.201015 \nL 181.974638 -210.131664 \nL 178.900258 -210.080004 \nL 175.825878 -209.947498 \nL 172.751498 -209.862652 \nL 169.677118 -209.851516 \nL 166.602738 -209.839313 \nL 163.528357 -209.792763 \nL 160.453977 -209.814899 \nL 157.379597 -209.79329 \nL 154.305217 -209.762014 \nL 151.230837 -209.713935 \nL 148.156457 -209.691808 \nL 145.082076 -209.66738 \nL 142.007696 -209.646066 \nL 138.933316 -209.656883 \nL 135.858936 -209.546482 \nL 132.784556 -209.568247 \nL 129.710176 -209.477473 \nL 126.635795 -209.389662 \nL 123.561415 -209.328592 \nL 120.487035 -209.341333 \nL 117.412655 -209.29774 \nL 114.338275 -209.266202 \nL 111.263895 -209.222958 \nL 108.189514 -209.221679 \nL 105.115134 -209.213279 \nL 102.040754 -209.129651 \nL 98.966374 -209.059753 \nL 95.891994 -209.035745 \nL 92.817614 -209.001734 \nL 89.743233 -208.913221 \nL 86.668853 -208.867292 \nL 83.594473 -208.757309 \nL 80.520093 -208.734552 \nL 77.445713 -208.703899 \nL 74.371333 -208.671282 \nL 71.296952 -208.618402 \nL 68.222572 -208.551731 \nL 65.148192 -208.456509 \nL 62.073812 -208.40965 \nL 58.999432 -208.377109 \nz\n\" id=\"m6394d5df4c\" style=\"stroke:#ff8c00;stroke-opacity:0.2;stroke-width:0.75;\"/>\n    </defs>\n    <g clip-path=\"url(#pbea038f14f)\">\n     <use style=\"fill:#ff8c00;fill-opacity:0.2;stroke:#ff8c00;stroke-opacity:0.2;stroke-width:0.75;\" x=\"0\" xlink:href=\"#m6394d5df4c\" y=\"277.314375\"/>\n    </g>\n   </g>\n   <g id=\"PolyCollection_2\">\n    <defs>\n     <path d=\"M 58.999432 -208.298495 \nL 58.999432 -207.048303 \nL 62.073812 -207.160769 \nL 65.148192 -207.1588 \nL 68.222572 -207.264299 \nL 71.296952 -207.220436 \nL 74.371333 -207.299617 \nL 77.445713 -207.287002 \nL 80.520093 -207.309431 \nL 83.594473 -207.414034 \nL 86.668853 -207.347966 \nL 89.743233 -207.430039 \nL 92.817614 -207.418517 \nL 95.891994 -207.486794 \nL 98.966374 -207.591211 \nL 102.040754 -207.634007 \nL 105.115134 -207.71244 \nL 108.189514 -207.814534 \nL 111.263895 -207.822521 \nL 114.338275 -207.934776 \nL 117.412655 -207.855 \nL 120.487035 -207.945184 \nL 123.561415 -207.850823 \nL 126.635795 -207.93804 \nL 129.710176 -208.037575 \nL 132.784556 -208.238348 \nL 135.858936 -208.303305 \nL 138.933316 -208.374839 \nL 142.007696 -208.375525 \nL 145.082076 -208.496014 \nL 148.156457 -208.470183 \nL 151.230837 -208.435236 \nL 154.305217 -208.433906 \nL 157.379597 -208.50401 \nL 160.453977 -208.505097 \nL 163.528357 -208.549719 \nL 166.602738 -208.594656 \nL 169.677118 -208.500994 \nL 172.751498 -208.547383 \nL 175.825878 -208.59287 \nL 178.900258 -208.738122 \nL 181.974638 -208.798358 \nL 185.049019 -208.91173 \nL 188.123399 -208.980303 \nL 191.197779 -209.000018 \nL 194.272159 -208.992537 \nL 197.346539 -208.987746 \nL 200.420919 -209.004816 \nL 203.4953 -209.012865 \nL 206.56968 -208.987582 \nL 209.64406 -209.045584 \nL 212.71844 -209.111496 \nL 215.79282 -209.031943 \nL 218.8672 -209.144137 \nL 221.941581 -209.119857 \nL 225.015961 -209.077175 \nL 228.090341 -209.035839 \nL 231.164721 -209.072075 \nL 234.239101 -209.043111 \nL 237.313481 -209.16142 \nL 240.387862 -209.201972 \nL 243.462242 -209.112885 \nL 246.536622 -209.088736 \nL 249.611002 -209.080683 \nL 252.685382 -209.068597 \nL 255.759762 -209.100513 \nL 258.834143 -209.103891 \nL 261.908523 -209.081841 \nL 264.982903 -209.094061 \nL 268.057283 -209.004515 \nL 271.131663 -209.00795 \nL 274.206043 -209.053166 \nL 277.280424 -209.012195 \nL 280.354804 -209.001302 \nL 283.429184 -209.00909 \nL 286.503564 -209.024275 \nL 289.577944 -209.045093 \nL 292.652324 -208.989215 \nL 295.726705 -209.044295 \nL 298.801085 -209.02038 \nL 301.875465 -208.942759 \nL 304.949845 -208.910982 \nL 308.024225 -208.956752 \nL 311.098605 -208.930633 \nL 314.172986 -208.921421 \nL 317.247366 -208.9951 \nL 320.321746 -208.995658 \nL 323.396126 -209.026416 \nL 326.470506 -209.074628 \nL 329.544886 -209.047209 \nL 332.619267 -209.057725 \nL 335.693647 -209.081922 \nL 338.768027 -209.138156 \nL 341.842407 -209.083445 \nL 344.916787 -209.063093 \nL 347.991167 -209.121752 \nL 351.065548 -209.120329 \nL 354.139928 -209.139281 \nL 357.214308 -209.126882 \nL 360.288688 -209.124832 \nL 363.363068 -209.177653 \nL 363.363068 -210.850035 \nL 363.363068 -210.850035 \nL 360.288688 -210.855415 \nL 357.214308 -210.884992 \nL 354.139928 -210.888407 \nL 351.065548 -210.938987 \nL 347.991167 -210.92175 \nL 344.916787 -210.853899 \nL 341.842407 -210.849361 \nL 338.768027 -210.778835 \nL 335.693647 -210.740187 \nL 332.619267 -210.780198 \nL 329.544886 -210.838155 \nL 326.470506 -210.794922 \nL 323.396126 -210.764066 \nL 320.321746 -210.794823 \nL 317.247366 -210.747939 \nL 314.172986 -210.695108 \nL 311.098605 -210.685896 \nL 308.024225 -210.675591 \nL 304.949845 -210.658105 \nL 301.875465 -210.657957 \nL 298.801085 -210.64359 \nL 295.726705 -210.603862 \nL 292.652324 -210.6115 \nL 289.577944 -210.555623 \nL 286.503564 -210.528999 \nL 283.429184 -210.52837 \nL 280.354804 -210.50453 \nL 277.280424 -210.493638 \nL 274.206043 -210.484294 \nL 271.131663 -210.466255 \nL 268.057283 -210.453876 \nL 264.982903 -210.380144 \nL 261.908523 -210.439805 \nL 258.834143 -210.433569 \nL 255.759762 -210.421133 \nL 252.685382 -210.37398 \nL 249.611002 -210.361895 \nL 246.536622 -210.385469 \nL 243.462242 -210.424575 \nL 240.387862 -210.430371 \nL 237.313481 -210.391853 \nL 234.239101 -210.383653 \nL 231.164721 -210.402129 \nL 228.090341 -210.359296 \nL 225.015961 -210.381216 \nL 221.941581 -210.354348 \nL 218.8672 -210.330068 \nL 215.79282 -210.331565 \nL 212.71844 -210.28364 \nL 209.64406 -210.207227 \nL 206.56968 -210.170346 \nL 203.4953 -209.986925 \nL 200.420919 -209.963347 \nL 197.346539 -210.027858 \nL 194.272159 -209.99144 \nL 191.197779 -210.078841 \nL 188.123399 -210.082743 \nL 185.049019 -210.040619 \nL 181.974638 -210.059107 \nL 178.900258 -210.056088 \nL 175.825878 -209.995761 \nL 172.751498 -209.993807 \nL 169.677118 -209.929499 \nL 166.602738 -209.978161 \nL 163.528357 -209.896588 \nL 160.453977 -209.86214 \nL 157.379597 -209.799972 \nL 154.305217 -209.775194 \nL 151.230837 -209.694794 \nL 148.156457 -209.644033 \nL 145.082076 -209.760527 \nL 142.007696 -209.754505 \nL 138.933316 -209.723564 \nL 135.858936 -209.55789 \nL 132.784556 -209.464709 \nL 129.710176 -209.538972 \nL 126.635795 -209.432927 \nL 123.561415 -209.377819 \nL 120.487035 -209.425783 \nL 117.412655 -209.310387 \nL 114.338275 -209.325494 \nL 111.263895 -209.23217 \nL 108.189514 -209.12946 \nL 105.115134 -208.978533 \nL 102.040754 -208.946269 \nL 98.966374 -208.957437 \nL 95.891994 -208.887902 \nL 92.817614 -208.798041 \nL 89.743233 -208.675823 \nL 86.668853 -208.599757 \nL 83.594473 -208.612759 \nL 80.520093 -208.559223 \nL 77.445713 -208.486769 \nL 74.371333 -208.489968 \nL 71.296952 -208.49008 \nL 68.222572 -208.446217 \nL 65.148192 -208.409392 \nL 62.073812 -208.344167 \nL 58.999432 -208.298495 \nz\n\" id=\"m0cef8f4c94\" style=\"stroke:#000080;stroke-opacity:0.2;stroke-width:0.75;\"/>\n    </defs>\n    <g clip-path=\"url(#pbea038f14f)\">\n     <use style=\"fill:#000080;fill-opacity:0.2;stroke:#000080;stroke-opacity:0.2;stroke-width:0.75;\" x=\"0\" xlink:href=\"#m0cef8f4c94\" y=\"277.314375\"/>\n    </g>\n   </g>\n   <g id=\"matplotlib.axis_1\">\n    <g id=\"xtick_1\">\n     <g id=\"line2d_1\">\n      <defs>\n       <path d=\"M 0 0 \nL 0 3.5 \n\" id=\"mda1a642bc2\" style=\"stroke:#000000;stroke-width:0.8;\"/>\n      </defs>\n      <g>\n       <use style=\"stroke:#000000;stroke-width:0.8;\" x=\"58.999432\" xlink:href=\"#mda1a642bc2\" y=\"239.758125\"/>\n      </g>\n     </g>\n     <g id=\"text_1\">\n      <!-- 100 -->\n      <g transform=\"translate(49.455682 254.356562)scale(0.1 -0.1)\">\n       <defs>\n        <path d=\"M 794 531 \nL 1825 531 \nL 1825 4091 \nL 703 3866 \nL 703 4441 \nL 1819 4666 \nL 2450 4666 \nL 2450 531 \nL 3481 531 \nL 3481 0 \nL 794 0 \nL 794 531 \nz\n\" id=\"DejaVuSans-31\" transform=\"scale(0.015625)\"/>\n        <path d=\"M 2034 4250 \nQ 1547 4250 1301 3770 \nQ 1056 3291 1056 2328 \nQ 1056 1369 1301 889 \nQ 1547 409 2034 409 \nQ 2525 409 2770 889 \nQ 3016 1369 3016 2328 \nQ 3016 3291 2770 3770 \nQ 2525 4250 2034 4250 \nz\nM 2034 4750 \nQ 2819 4750 3233 4129 \nQ 3647 3509 3647 2328 \nQ 3647 1150 3233 529 \nQ 2819 -91 2034 -91 \nQ 1250 -91 836 529 \nQ 422 1150 422 2328 \nQ 422 3509 836 4129 \nQ 1250 4750 2034 4750 \nz\n\" id=\"DejaVuSans-30\" transform=\"scale(0.015625)\"/>\n       </defs>\n       <use xlink:href=\"#DejaVuSans-31\"/>\n       <use x=\"63.623047\" xlink:href=\"#DejaVuSans-30\"/>\n       <use x=\"127.246094\" xlink:href=\"#DejaVuSans-30\"/>\n      </g>\n     </g>\n    </g>\n    <g id=\"xtick_2\">\n     <g id=\"line2d_2\">\n      <g>\n       <use style=\"stroke:#000000;stroke-width:0.8;\" x=\"97.429184\" xlink:href=\"#mda1a642bc2\" y=\"239.758125\"/>\n      </g>\n     </g>\n     <g id=\"text_2\">\n      <!-- 125 -->\n      <g transform=\"translate(87.885434 254.356562)scale(0.1 -0.1)\">\n       <defs>\n        <path d=\"M 1228 531 \nL 3431 531 \nL 3431 0 \nL 469 0 \nL 469 531 \nQ 828 903 1448 1529 \nQ 2069 2156 2228 2338 \nQ 2531 2678 2651 2914 \nQ 2772 3150 2772 3378 \nQ 2772 3750 2511 3984 \nQ 2250 4219 1831 4219 \nQ 1534 4219 1204 4116 \nQ 875 4013 500 3803 \nL 500 4441 \nQ 881 4594 1212 4672 \nQ 1544 4750 1819 4750 \nQ 2544 4750 2975 4387 \nQ 3406 4025 3406 3419 \nQ 3406 3131 3298 2873 \nQ 3191 2616 2906 2266 \nQ 2828 2175 2409 1742 \nQ 1991 1309 1228 531 \nz\n\" id=\"DejaVuSans-32\" transform=\"scale(0.015625)\"/>\n        <path d=\"M 691 4666 \nL 3169 4666 \nL 3169 4134 \nL 1269 4134 \nL 1269 2991 \nQ 1406 3038 1543 3061 \nQ 1681 3084 1819 3084 \nQ 2600 3084 3056 2656 \nQ 3513 2228 3513 1497 \nQ 3513 744 3044 326 \nQ 2575 -91 1722 -91 \nQ 1428 -91 1123 -41 \nQ 819 9 494 109 \nL 494 744 \nQ 775 591 1075 516 \nQ 1375 441 1709 441 \nQ 2250 441 2565 725 \nQ 2881 1009 2881 1497 \nQ 2881 1984 2565 2268 \nQ 2250 2553 1709 2553 \nQ 1456 2553 1204 2497 \nQ 953 2441 691 2322 \nL 691 4666 \nz\n\" id=\"DejaVuSans-35\" transform=\"scale(0.015625)\"/>\n       </defs>\n       <use xlink:href=\"#DejaVuSans-31\"/>\n       <use x=\"63.623047\" xlink:href=\"#DejaVuSans-32\"/>\n       <use x=\"127.246094\" xlink:href=\"#DejaVuSans-35\"/>\n      </g>\n     </g>\n    </g>\n    <g id=\"xtick_3\">\n     <g id=\"line2d_3\">\n      <g>\n       <use style=\"stroke:#000000;stroke-width:0.8;\" x=\"135.858936\" xlink:href=\"#mda1a642bc2\" y=\"239.758125\"/>\n      </g>\n     </g>\n     <g id=\"text_3\">\n      <!-- 150 -->\n      <g transform=\"translate(126.315186 254.356562)scale(0.1 -0.1)\">\n       <use xlink:href=\"#DejaVuSans-31\"/>\n       <use x=\"63.623047\" xlink:href=\"#DejaVuSans-35\"/>\n       <use x=\"127.246094\" xlink:href=\"#DejaVuSans-30\"/>\n      </g>\n     </g>\n    </g>\n    <g id=\"xtick_4\">\n     <g id=\"line2d_4\">\n      <g>\n       <use style=\"stroke:#000000;stroke-width:0.8;\" x=\"174.288688\" xlink:href=\"#mda1a642bc2\" y=\"239.758125\"/>\n      </g>\n     </g>\n     <g id=\"text_4\">\n      <!-- 175 -->\n      <g transform=\"translate(164.744938 254.356562)scale(0.1 -0.1)\">\n       <defs>\n        <path d=\"M 525 4666 \nL 3525 4666 \nL 3525 4397 \nL 1831 0 \nL 1172 0 \nL 2766 4134 \nL 525 4134 \nL 525 4666 \nz\n\" id=\"DejaVuSans-37\" transform=\"scale(0.015625)\"/>\n       </defs>\n       <use xlink:href=\"#DejaVuSans-31\"/>\n       <use x=\"63.623047\" xlink:href=\"#DejaVuSans-37\"/>\n       <use x=\"127.246094\" xlink:href=\"#DejaVuSans-35\"/>\n      </g>\n     </g>\n    </g>\n    <g id=\"xtick_5\">\n     <g id=\"line2d_5\">\n      <g>\n       <use style=\"stroke:#000000;stroke-width:0.8;\" x=\"212.71844\" xlink:href=\"#mda1a642bc2\" y=\"239.758125\"/>\n      </g>\n     </g>\n     <g id=\"text_5\">\n      <!-- 200 -->\n      <g transform=\"translate(203.17469 254.356562)scale(0.1 -0.1)\">\n       <use xlink:href=\"#DejaVuSans-32\"/>\n       <use x=\"63.623047\" xlink:href=\"#DejaVuSans-30\"/>\n       <use x=\"127.246094\" xlink:href=\"#DejaVuSans-30\"/>\n      </g>\n     </g>\n    </g>\n    <g id=\"xtick_6\">\n     <g id=\"line2d_6\">\n      <g>\n       <use style=\"stroke:#000000;stroke-width:0.8;\" x=\"251.148192\" xlink:href=\"#mda1a642bc2\" y=\"239.758125\"/>\n      </g>\n     </g>\n     <g id=\"text_6\">\n      <!-- 225 -->\n      <g transform=\"translate(241.604442 254.356562)scale(0.1 -0.1)\">\n       <use xlink:href=\"#DejaVuSans-32\"/>\n       <use x=\"63.623047\" xlink:href=\"#DejaVuSans-32\"/>\n       <use x=\"127.246094\" xlink:href=\"#DejaVuSans-35\"/>\n      </g>\n     </g>\n    </g>\n    <g id=\"xtick_7\">\n     <g id=\"line2d_7\">\n      <g>\n       <use style=\"stroke:#000000;stroke-width:0.8;\" x=\"289.577944\" xlink:href=\"#mda1a642bc2\" y=\"239.758125\"/>\n      </g>\n     </g>\n     <g id=\"text_7\">\n      <!-- 250 -->\n      <g transform=\"translate(280.034194 254.356562)scale(0.1 -0.1)\">\n       <use xlink:href=\"#DejaVuSans-32\"/>\n       <use x=\"63.623047\" xlink:href=\"#DejaVuSans-35\"/>\n       <use x=\"127.246094\" xlink:href=\"#DejaVuSans-30\"/>\n      </g>\n     </g>\n    </g>\n    <g id=\"xtick_8\">\n     <g id=\"line2d_8\">\n      <g>\n       <use style=\"stroke:#000000;stroke-width:0.8;\" x=\"328.007696\" xlink:href=\"#mda1a642bc2\" y=\"239.758125\"/>\n      </g>\n     </g>\n     <g id=\"text_8\">\n      <!-- 275 -->\n      <g transform=\"translate(318.463946 254.356562)scale(0.1 -0.1)\">\n       <use xlink:href=\"#DejaVuSans-32\"/>\n       <use x=\"63.623047\" xlink:href=\"#DejaVuSans-37\"/>\n       <use x=\"127.246094\" xlink:href=\"#DejaVuSans-35\"/>\n      </g>\n     </g>\n    </g>\n    <g id=\"xtick_9\">\n     <g id=\"line2d_9\">\n      <g>\n       <use style=\"stroke:#000000;stroke-width:0.8;\" x=\"366.437448\" xlink:href=\"#mda1a642bc2\" y=\"239.758125\"/>\n      </g>\n     </g>\n     <g id=\"text_9\">\n      <!-- 300 -->\n      <g transform=\"translate(356.893698 254.356562)scale(0.1 -0.1)\">\n       <defs>\n        <path d=\"M 2597 2516 \nQ 3050 2419 3304 2112 \nQ 3559 1806 3559 1356 \nQ 3559 666 3084 287 \nQ 2609 -91 1734 -91 \nQ 1441 -91 1130 -33 \nQ 819 25 488 141 \nL 488 750 \nQ 750 597 1062 519 \nQ 1375 441 1716 441 \nQ 2309 441 2620 675 \nQ 2931 909 2931 1356 \nQ 2931 1769 2642 2001 \nQ 2353 2234 1838 2234 \nL 1294 2234 \nL 1294 2753 \nL 1863 2753 \nQ 2328 2753 2575 2939 \nQ 2822 3125 2822 3475 \nQ 2822 3834 2567 4026 \nQ 2313 4219 1838 4219 \nQ 1578 4219 1281 4162 \nQ 984 4106 628 3988 \nL 628 4550 \nQ 988 4650 1302 4700 \nQ 1616 4750 1894 4750 \nQ 2613 4750 3031 4423 \nQ 3450 4097 3450 3541 \nQ 3450 3153 3228 2886 \nQ 3006 2619 2597 2516 \nz\n\" id=\"DejaVuSans-33\" transform=\"scale(0.015625)\"/>\n       </defs>\n       <use xlink:href=\"#DejaVuSans-33\"/>\n       <use x=\"63.623047\" xlink:href=\"#DejaVuSans-30\"/>\n       <use x=\"127.246094\" xlink:href=\"#DejaVuSans-30\"/>\n      </g>\n     </g>\n    </g>\n    <g id=\"text_10\">\n     <!-- Number of Estimators -->\n     <g transform=\"translate(156.370313 268.034687)scale(0.1 -0.1)\">\n      <defs>\n       <path d=\"M 628 4666 \nL 1478 4666 \nL 3547 763 \nL 3547 4666 \nL 4159 4666 \nL 4159 0 \nL 3309 0 \nL 1241 3903 \nL 1241 0 \nL 628 0 \nL 628 4666 \nz\n\" id=\"DejaVuSans-4e\" transform=\"scale(0.015625)\"/>\n       <path d=\"M 544 1381 \nL 544 3500 \nL 1119 3500 \nL 1119 1403 \nQ 1119 906 1312 657 \nQ 1506 409 1894 409 \nQ 2359 409 2629 706 \nQ 2900 1003 2900 1516 \nL 2900 3500 \nL 3475 3500 \nL 3475 0 \nL 2900 0 \nL 2900 538 \nQ 2691 219 2414 64 \nQ 2138 -91 1772 -91 \nQ 1169 -91 856 284 \nQ 544 659 544 1381 \nz\nM 1991 3584 \nL 1991 3584 \nz\n\" id=\"DejaVuSans-75\" transform=\"scale(0.015625)\"/>\n       <path d=\"M 3328 2828 \nQ 3544 3216 3844 3400 \nQ 4144 3584 4550 3584 \nQ 5097 3584 5394 3201 \nQ 5691 2819 5691 2113 \nL 5691 0 \nL 5113 0 \nL 5113 2094 \nQ 5113 2597 4934 2840 \nQ 4756 3084 4391 3084 \nQ 3944 3084 3684 2787 \nQ 3425 2491 3425 1978 \nL 3425 0 \nL 2847 0 \nL 2847 2094 \nQ 2847 2600 2669 2842 \nQ 2491 3084 2119 3084 \nQ 1678 3084 1418 2786 \nQ 1159 2488 1159 1978 \nL 1159 0 \nL 581 0 \nL 581 3500 \nL 1159 3500 \nL 1159 2956 \nQ 1356 3278 1631 3431 \nQ 1906 3584 2284 3584 \nQ 2666 3584 2933 3390 \nQ 3200 3197 3328 2828 \nz\n\" id=\"DejaVuSans-6d\" transform=\"scale(0.015625)\"/>\n       <path d=\"M 3116 1747 \nQ 3116 2381 2855 2742 \nQ 2594 3103 2138 3103 \nQ 1681 3103 1420 2742 \nQ 1159 2381 1159 1747 \nQ 1159 1113 1420 752 \nQ 1681 391 2138 391 \nQ 2594 391 2855 752 \nQ 3116 1113 3116 1747 \nz\nM 1159 2969 \nQ 1341 3281 1617 3432 \nQ 1894 3584 2278 3584 \nQ 2916 3584 3314 3078 \nQ 3713 2572 3713 1747 \nQ 3713 922 3314 415 \nQ 2916 -91 2278 -91 \nQ 1894 -91 1617 61 \nQ 1341 213 1159 525 \nL 1159 0 \nL 581 0 \nL 581 4863 \nL 1159 4863 \nL 1159 2969 \nz\n\" id=\"DejaVuSans-62\" transform=\"scale(0.015625)\"/>\n       <path d=\"M 3597 1894 \nL 3597 1613 \nL 953 1613 \nQ 991 1019 1311 708 \nQ 1631 397 2203 397 \nQ 2534 397 2845 478 \nQ 3156 559 3463 722 \nL 3463 178 \nQ 3153 47 2828 -22 \nQ 2503 -91 2169 -91 \nQ 1331 -91 842 396 \nQ 353 884 353 1716 \nQ 353 2575 817 3079 \nQ 1281 3584 2069 3584 \nQ 2775 3584 3186 3129 \nQ 3597 2675 3597 1894 \nz\nM 3022 2063 \nQ 3016 2534 2758 2815 \nQ 2500 3097 2075 3097 \nQ 1594 3097 1305 2825 \nQ 1016 2553 972 2059 \nL 3022 2063 \nz\n\" id=\"DejaVuSans-65\" transform=\"scale(0.015625)\"/>\n       <path d=\"M 2631 2963 \nQ 2534 3019 2420 3045 \nQ 2306 3072 2169 3072 \nQ 1681 3072 1420 2755 \nQ 1159 2438 1159 1844 \nL 1159 0 \nL 581 0 \nL 581 3500 \nL 1159 3500 \nL 1159 2956 \nQ 1341 3275 1631 3429 \nQ 1922 3584 2338 3584 \nQ 2397 3584 2469 3576 \nQ 2541 3569 2628 3553 \nL 2631 2963 \nz\n\" id=\"DejaVuSans-72\" transform=\"scale(0.015625)\"/>\n       <path id=\"DejaVuSans-20\" transform=\"scale(0.015625)\"/>\n       <path d=\"M 1959 3097 \nQ 1497 3097 1228 2736 \nQ 959 2375 959 1747 \nQ 959 1119 1226 758 \nQ 1494 397 1959 397 \nQ 2419 397 2687 759 \nQ 2956 1122 2956 1747 \nQ 2956 2369 2687 2733 \nQ 2419 3097 1959 3097 \nz\nM 1959 3584 \nQ 2709 3584 3137 3096 \nQ 3566 2609 3566 1747 \nQ 3566 888 3137 398 \nQ 2709 -91 1959 -91 \nQ 1206 -91 779 398 \nQ 353 888 353 1747 \nQ 353 2609 779 3096 \nQ 1206 3584 1959 3584 \nz\n\" id=\"DejaVuSans-6f\" transform=\"scale(0.015625)\"/>\n       <path d=\"M 2375 4863 \nL 2375 4384 \nL 1825 4384 \nQ 1516 4384 1395 4259 \nQ 1275 4134 1275 3809 \nL 1275 3500 \nL 2222 3500 \nL 2222 3053 \nL 1275 3053 \nL 1275 0 \nL 697 0 \nL 697 3053 \nL 147 3053 \nL 147 3500 \nL 697 3500 \nL 697 3744 \nQ 697 4328 969 4595 \nQ 1241 4863 1831 4863 \nL 2375 4863 \nz\n\" id=\"DejaVuSans-66\" transform=\"scale(0.015625)\"/>\n       <path d=\"M 628 4666 \nL 3578 4666 \nL 3578 4134 \nL 1259 4134 \nL 1259 2753 \nL 3481 2753 \nL 3481 2222 \nL 1259 2222 \nL 1259 531 \nL 3634 531 \nL 3634 0 \nL 628 0 \nL 628 4666 \nz\n\" id=\"DejaVuSans-45\" transform=\"scale(0.015625)\"/>\n       <path d=\"M 2834 3397 \nL 2834 2853 \nQ 2591 2978 2328 3040 \nQ 2066 3103 1784 3103 \nQ 1356 3103 1142 2972 \nQ 928 2841 928 2578 \nQ 928 2378 1081 2264 \nQ 1234 2150 1697 2047 \nL 1894 2003 \nQ 2506 1872 2764 1633 \nQ 3022 1394 3022 966 \nQ 3022 478 2636 193 \nQ 2250 -91 1575 -91 \nQ 1294 -91 989 -36 \nQ 684 19 347 128 \nL 347 722 \nQ 666 556 975 473 \nQ 1284 391 1588 391 \nQ 1994 391 2212 530 \nQ 2431 669 2431 922 \nQ 2431 1156 2273 1281 \nQ 2116 1406 1581 1522 \nL 1381 1569 \nQ 847 1681 609 1914 \nQ 372 2147 372 2553 \nQ 372 3047 722 3315 \nQ 1072 3584 1716 3584 \nQ 2034 3584 2315 3537 \nQ 2597 3491 2834 3397 \nz\n\" id=\"DejaVuSans-73\" transform=\"scale(0.015625)\"/>\n       <path d=\"M 1172 4494 \nL 1172 3500 \nL 2356 3500 \nL 2356 3053 \nL 1172 3053 \nL 1172 1153 \nQ 1172 725 1289 603 \nQ 1406 481 1766 481 \nL 2356 481 \nL 2356 0 \nL 1766 0 \nQ 1100 0 847 248 \nQ 594 497 594 1153 \nL 594 3053 \nL 172 3053 \nL 172 3500 \nL 594 3500 \nL 594 4494 \nL 1172 4494 \nz\n\" id=\"DejaVuSans-74\" transform=\"scale(0.015625)\"/>\n       <path d=\"M 603 3500 \nL 1178 3500 \nL 1178 0 \nL 603 0 \nL 603 3500 \nz\nM 603 4863 \nL 1178 4863 \nL 1178 4134 \nL 603 4134 \nL 603 4863 \nz\n\" id=\"DejaVuSans-69\" transform=\"scale(0.015625)\"/>\n       <path d=\"M 2194 1759 \nQ 1497 1759 1228 1600 \nQ 959 1441 959 1056 \nQ 959 750 1161 570 \nQ 1363 391 1709 391 \nQ 2188 391 2477 730 \nQ 2766 1069 2766 1631 \nL 2766 1759 \nL 2194 1759 \nz\nM 3341 1997 \nL 3341 0 \nL 2766 0 \nL 2766 531 \nQ 2569 213 2275 61 \nQ 1981 -91 1556 -91 \nQ 1019 -91 701 211 \nQ 384 513 384 1019 \nQ 384 1609 779 1909 \nQ 1175 2209 1959 2209 \nL 2766 2209 \nL 2766 2266 \nQ 2766 2663 2505 2880 \nQ 2244 3097 1772 3097 \nQ 1472 3097 1187 3025 \nQ 903 2953 641 2809 \nL 641 3341 \nQ 956 3463 1253 3523 \nQ 1550 3584 1831 3584 \nQ 2591 3584 2966 3190 \nQ 3341 2797 3341 1997 \nz\n\" id=\"DejaVuSans-61\" transform=\"scale(0.015625)\"/>\n      </defs>\n      <use xlink:href=\"#DejaVuSans-4e\"/>\n      <use x=\"74.804688\" xlink:href=\"#DejaVuSans-75\"/>\n      <use x=\"138.183594\" xlink:href=\"#DejaVuSans-6d\"/>\n      <use x=\"235.595703\" xlink:href=\"#DejaVuSans-62\"/>\n      <use x=\"299.072266\" xlink:href=\"#DejaVuSans-65\"/>\n      <use x=\"360.595703\" xlink:href=\"#DejaVuSans-72\"/>\n      <use x=\"401.708984\" xlink:href=\"#DejaVuSans-20\"/>\n      <use x=\"433.496094\" xlink:href=\"#DejaVuSans-6f\"/>\n      <use x=\"494.677734\" xlink:href=\"#DejaVuSans-66\"/>\n      <use x=\"529.882812\" xlink:href=\"#DejaVuSans-20\"/>\n      <use x=\"561.669922\" xlink:href=\"#DejaVuSans-45\"/>\n      <use x=\"624.853516\" xlink:href=\"#DejaVuSans-73\"/>\n      <use x=\"676.953125\" xlink:href=\"#DejaVuSans-74\"/>\n      <use x=\"716.162109\" xlink:href=\"#DejaVuSans-69\"/>\n      <use x=\"743.945312\" xlink:href=\"#DejaVuSans-6d\"/>\n      <use x=\"841.357422\" xlink:href=\"#DejaVuSans-61\"/>\n      <use x=\"902.636719\" xlink:href=\"#DejaVuSans-74\"/>\n      <use x=\"941.845703\" xlink:href=\"#DejaVuSans-6f\"/>\n      <use x=\"1003.027344\" xlink:href=\"#DejaVuSans-72\"/>\n      <use x=\"1044.140625\" xlink:href=\"#DejaVuSans-73\"/>\n     </g>\n    </g>\n   </g>\n   <g id=\"matplotlib.axis_2\">\n    <g id=\"ytick_1\">\n     <g id=\"line2d_10\">\n      <defs>\n       <path d=\"M 0 0 \nL -3.5 0 \n\" id=\"m2d069fb8ac\" style=\"stroke:#000000;stroke-width:0.8;\"/>\n      </defs>\n      <g>\n       <use style=\"stroke:#000000;stroke-width:0.8;\" x=\"43.78125\" xlink:href=\"#m2d069fb8ac\" y=\"239.758125\"/>\n      </g>\n     </g>\n     <g id=\"text_11\">\n      <!-- 0.0 -->\n      <g transform=\"translate(20.878125 243.557344)scale(0.1 -0.1)\">\n       <defs>\n        <path d=\"M 684 794 \nL 1344 794 \nL 1344 0 \nL 684 0 \nL 684 794 \nz\n\" id=\"DejaVuSans-2e\" transform=\"scale(0.015625)\"/>\n       </defs>\n       <use xlink:href=\"#DejaVuSans-30\"/>\n       <use x=\"63.623047\" xlink:href=\"#DejaVuSans-2e\"/>\n       <use x=\"95.410156\" xlink:href=\"#DejaVuSans-30\"/>\n      </g>\n     </g>\n    </g>\n    <g id=\"ytick_2\">\n     <g id=\"line2d_11\">\n      <g>\n       <use style=\"stroke:#000000;stroke-width:0.8;\" x=\"43.78125\" xlink:href=\"#m2d069fb8ac\" y=\"200.22358\"/>\n      </g>\n     </g>\n     <g id=\"text_12\">\n      <!-- 0.2 -->\n      <g transform=\"translate(20.878125 204.022798)scale(0.1 -0.1)\">\n       <use xlink:href=\"#DejaVuSans-30\"/>\n       <use x=\"63.623047\" xlink:href=\"#DejaVuSans-2e\"/>\n       <use x=\"95.410156\" xlink:href=\"#DejaVuSans-32\"/>\n      </g>\n     </g>\n    </g>\n    <g id=\"ytick_3\">\n     <g id=\"line2d_12\">\n      <g>\n       <use style=\"stroke:#000000;stroke-width:0.8;\" x=\"43.78125\" xlink:href=\"#m2d069fb8ac\" y=\"160.689034\"/>\n      </g>\n     </g>\n     <g id=\"text_13\">\n      <!-- 0.4 -->\n      <g transform=\"translate(20.878125 164.488253)scale(0.1 -0.1)\">\n       <defs>\n        <path d=\"M 2419 4116 \nL 825 1625 \nL 2419 1625 \nL 2419 4116 \nz\nM 2253 4666 \nL 3047 4666 \nL 3047 1625 \nL 3713 1625 \nL 3713 1100 \nL 3047 1100 \nL 3047 0 \nL 2419 0 \nL 2419 1100 \nL 313 1100 \nL 313 1709 \nL 2253 4666 \nz\n\" id=\"DejaVuSans-34\" transform=\"scale(0.015625)\"/>\n       </defs>\n       <use xlink:href=\"#DejaVuSans-30\"/>\n       <use x=\"63.623047\" xlink:href=\"#DejaVuSans-2e\"/>\n       <use x=\"95.410156\" xlink:href=\"#DejaVuSans-34\"/>\n      </g>\n     </g>\n    </g>\n    <g id=\"ytick_4\">\n     <g id=\"line2d_13\">\n      <g>\n       <use style=\"stroke:#000000;stroke-width:0.8;\" x=\"43.78125\" xlink:href=\"#m2d069fb8ac\" y=\"121.154489\"/>\n      </g>\n     </g>\n     <g id=\"text_14\">\n      <!-- 0.6 -->\n      <g transform=\"translate(20.878125 124.953707)scale(0.1 -0.1)\">\n       <defs>\n        <path d=\"M 2113 2584 \nQ 1688 2584 1439 2293 \nQ 1191 2003 1191 1497 \nQ 1191 994 1439 701 \nQ 1688 409 2113 409 \nQ 2538 409 2786 701 \nQ 3034 994 3034 1497 \nQ 3034 2003 2786 2293 \nQ 2538 2584 2113 2584 \nz\nM 3366 4563 \nL 3366 3988 \nQ 3128 4100 2886 4159 \nQ 2644 4219 2406 4219 \nQ 1781 4219 1451 3797 \nQ 1122 3375 1075 2522 \nQ 1259 2794 1537 2939 \nQ 1816 3084 2150 3084 \nQ 2853 3084 3261 2657 \nQ 3669 2231 3669 1497 \nQ 3669 778 3244 343 \nQ 2819 -91 2113 -91 \nQ 1303 -91 875 529 \nQ 447 1150 447 2328 \nQ 447 3434 972 4092 \nQ 1497 4750 2381 4750 \nQ 2619 4750 2861 4703 \nQ 3103 4656 3366 4563 \nz\n\" id=\"DejaVuSans-36\" transform=\"scale(0.015625)\"/>\n       </defs>\n       <use xlink:href=\"#DejaVuSans-30\"/>\n       <use x=\"63.623047\" xlink:href=\"#DejaVuSans-2e\"/>\n       <use x=\"95.410156\" xlink:href=\"#DejaVuSans-36\"/>\n      </g>\n     </g>\n    </g>\n    <g id=\"ytick_5\">\n     <g id=\"line2d_14\">\n      <g>\n       <use style=\"stroke:#000000;stroke-width:0.8;\" x=\"43.78125\" xlink:href=\"#m2d069fb8ac\" y=\"81.619943\"/>\n      </g>\n     </g>\n     <g id=\"text_15\">\n      <!-- 0.8 -->\n      <g transform=\"translate(20.878125 85.419162)scale(0.1 -0.1)\">\n       <defs>\n        <path d=\"M 2034 2216 \nQ 1584 2216 1326 1975 \nQ 1069 1734 1069 1313 \nQ 1069 891 1326 650 \nQ 1584 409 2034 409 \nQ 2484 409 2743 651 \nQ 3003 894 3003 1313 \nQ 3003 1734 2745 1975 \nQ 2488 2216 2034 2216 \nz\nM 1403 2484 \nQ 997 2584 770 2862 \nQ 544 3141 544 3541 \nQ 544 4100 942 4425 \nQ 1341 4750 2034 4750 \nQ 2731 4750 3128 4425 \nQ 3525 4100 3525 3541 \nQ 3525 3141 3298 2862 \nQ 3072 2584 2669 2484 \nQ 3125 2378 3379 2068 \nQ 3634 1759 3634 1313 \nQ 3634 634 3220 271 \nQ 2806 -91 2034 -91 \nQ 1263 -91 848 271 \nQ 434 634 434 1313 \nQ 434 1759 690 2068 \nQ 947 2378 1403 2484 \nz\nM 1172 3481 \nQ 1172 3119 1398 2916 \nQ 1625 2713 2034 2713 \nQ 2441 2713 2670 2916 \nQ 2900 3119 2900 3481 \nQ 2900 3844 2670 4047 \nQ 2441 4250 2034 4250 \nQ 1625 4250 1398 4047 \nQ 1172 3844 1172 3481 \nz\n\" id=\"DejaVuSans-38\" transform=\"scale(0.015625)\"/>\n       </defs>\n       <use xlink:href=\"#DejaVuSans-30\"/>\n       <use x=\"63.623047\" xlink:href=\"#DejaVuSans-2e\"/>\n       <use x=\"95.410156\" xlink:href=\"#DejaVuSans-38\"/>\n      </g>\n     </g>\n    </g>\n    <g id=\"ytick_6\">\n     <g id=\"line2d_15\">\n      <g>\n       <use style=\"stroke:#000000;stroke-width:0.8;\" x=\"43.78125\" xlink:href=\"#m2d069fb8ac\" y=\"42.085398\"/>\n      </g>\n     </g>\n     <g id=\"text_16\">\n      <!-- 1.0 -->\n      <g transform=\"translate(20.878125 45.884616)scale(0.1 -0.1)\">\n       <use xlink:href=\"#DejaVuSans-31\"/>\n       <use x=\"63.623047\" xlink:href=\"#DejaVuSans-2e\"/>\n       <use x=\"95.410156\" xlink:href=\"#DejaVuSans-30\"/>\n      </g>\n     </g>\n    </g>\n    <g id=\"text_17\">\n     <!-- Score -->\n     <g transform=\"translate(14.798438 145.040469)rotate(-90)scale(0.1 -0.1)\">\n      <defs>\n       <path d=\"M 3425 4513 \nL 3425 3897 \nQ 3066 4069 2747 4153 \nQ 2428 4238 2131 4238 \nQ 1616 4238 1336 4038 \nQ 1056 3838 1056 3469 \nQ 1056 3159 1242 3001 \nQ 1428 2844 1947 2747 \nL 2328 2669 \nQ 3034 2534 3370 2195 \nQ 3706 1856 3706 1288 \nQ 3706 609 3251 259 \nQ 2797 -91 1919 -91 \nQ 1588 -91 1214 -16 \nQ 841 59 441 206 \nL 441 856 \nQ 825 641 1194 531 \nQ 1563 422 1919 422 \nQ 2459 422 2753 634 \nQ 3047 847 3047 1241 \nQ 3047 1584 2836 1778 \nQ 2625 1972 2144 2069 \nL 1759 2144 \nQ 1053 2284 737 2584 \nQ 422 2884 422 3419 \nQ 422 4038 858 4394 \nQ 1294 4750 2059 4750 \nQ 2388 4750 2728 4690 \nQ 3069 4631 3425 4513 \nz\n\" id=\"DejaVuSans-53\" transform=\"scale(0.015625)\"/>\n       <path d=\"M 3122 3366 \nL 3122 2828 \nQ 2878 2963 2633 3030 \nQ 2388 3097 2138 3097 \nQ 1578 3097 1268 2742 \nQ 959 2388 959 1747 \nQ 959 1106 1268 751 \nQ 1578 397 2138 397 \nQ 2388 397 2633 464 \nQ 2878 531 3122 666 \nL 3122 134 \nQ 2881 22 2623 -34 \nQ 2366 -91 2075 -91 \nQ 1284 -91 818 406 \nQ 353 903 353 1747 \nQ 353 2603 823 3093 \nQ 1294 3584 2113 3584 \nQ 2378 3584 2631 3529 \nQ 2884 3475 3122 3366 \nz\n\" id=\"DejaVuSans-63\" transform=\"scale(0.015625)\"/>\n      </defs>\n      <use xlink:href=\"#DejaVuSans-53\"/>\n      <use x=\"63.476562\" xlink:href=\"#DejaVuSans-63\"/>\n      <use x=\"118.457031\" xlink:href=\"#DejaVuSans-6f\"/>\n      <use x=\"179.638672\" xlink:href=\"#DejaVuSans-72\"/>\n      <use x=\"218.501953\" xlink:href=\"#DejaVuSans-65\"/>\n     </g>\n    </g>\n   </g>\n   <g id=\"line2d_16\">\n    <path clip-path=\"url(#pbea038f14f)\" d=\"M 58.999432 69.314816 \nL 62.073812 69.251561 \nL 65.148192 69.200166 \nL 68.222572 69.127027 \nL 71.296952 69.049934 \nL 74.371333 69.018307 \nL 77.445713 68.99854 \nL 80.520093 68.964935 \nL 83.594473 68.955052 \nL 86.668853 68.872029 \nL 89.743233 68.802844 \nL 92.817614 68.694124 \nL 95.891994 68.632845 \nL 98.966374 68.597264 \nL 102.040754 68.551799 \nL 105.115134 68.500404 \nL 108.189514 68.423312 \nL 111.263895 68.371917 \nL 114.338275 68.296801 \nL 117.412655 68.219709 \nL 120.487035 68.194012 \nL 123.561415 68.160407 \nL 126.635795 68.118896 \nL 129.710176 68.04971 \nL 132.784556 67.970641 \nL 135.858936 67.939014 \nL 138.933316 67.854014 \nL 142.007696 67.83227 \nL 145.082076 67.810526 \nL 148.156457 67.794713 \nL 151.230837 67.763085 \nL 154.305217 67.72355 \nL 157.379597 67.707737 \nL 160.453977 67.680062 \nL 163.528357 67.678086 \nL 166.602738 67.626691 \nL 169.677118 67.60297 \nL 172.751498 67.577273 \nL 175.825878 67.525878 \nL 178.900258 67.436925 \nL 181.974638 67.409251 \nL 185.049019 67.365763 \nL 188.123399 67.278787 \nL 191.197779 67.262973 \nL 194.272159 67.239252 \nL 197.346539 67.233322 \nL 200.420919 67.217508 \nL 203.4953 67.205648 \nL 206.56968 67.175997 \nL 209.64406 67.152276 \nL 212.71844 67.102858 \nL 215.79282 67.079137 \nL 218.8672 67.057393 \nL 221.941581 67.015882 \nL 225.015961 66.988208 \nL 228.090341 66.958557 \nL 231.164721 66.954604 \nL 234.239101 66.946697 \nL 237.313481 66.915069 \nL 240.387862 66.891348 \nL 243.462242 66.879488 \nL 246.536622 66.881465 \nL 249.611002 66.879488 \nL 252.685382 66.879488 \nL 255.759762 66.877511 \nL 258.834143 66.851814 \nL 261.908523 66.843907 \nL 264.982903 66.834023 \nL 268.057283 66.820186 \nL 271.131663 66.828093 \nL 274.206043 66.792512 \nL 277.280424 66.800419 \nL 280.354804 66.776698 \nL 283.429184 66.760884 \nL 286.503564 66.749024 \nL 289.577944 66.74507 \nL 292.652324 66.737164 \nL 295.726705 66.705536 \nL 298.801085 66.687745 \nL 301.875465 66.689722 \nL 304.949845 66.711466 \nL 308.024225 66.683792 \nL 311.098605 66.673908 \nL 314.172986 66.660071 \nL 317.247366 66.642281 \nL 320.321746 66.628444 \nL 323.396126 66.622513 \nL 326.470506 66.598793 \nL 329.544886 66.604723 \nL 332.619267 66.608676 \nL 335.693647 66.581002 \nL 338.768027 66.551351 \nL 341.842407 66.553328 \nL 344.916787 66.543444 \nL 347.991167 66.537514 \nL 351.065548 66.519724 \nL 354.139928 66.519724 \nL 357.214308 66.50984 \nL 360.288688 66.480189 \nL 363.363068 66.470305 \n\" style=\"fill:none;stroke:#ff8c00;stroke-linecap:square;stroke-width:0.75;\"/>\n   </g>\n   <g id=\"line2d_17\">\n    <path clip-path=\"url(#pbea038f14f)\" d=\"M 58.999432 69.640976 \nL 62.073812 69.561907 \nL 65.148192 69.530279 \nL 68.222572 69.459117 \nL 71.296952 69.459117 \nL 74.371333 69.419582 \nL 77.445713 69.427489 \nL 80.520093 69.380048 \nL 83.594473 69.300979 \nL 86.668853 69.340513 \nL 89.743233 69.261444 \nL 92.817614 69.206096 \nL 95.891994 69.127027 \nL 98.966374 69.040051 \nL 102.040754 69.024237 \nL 105.115134 68.968889 \nL 108.189514 68.842378 \nL 111.263895 68.78703 \nL 114.338275 68.68424 \nL 117.412655 68.731681 \nL 120.487035 68.628892 \nL 123.561415 68.700054 \nL 126.635795 68.628892 \nL 129.710176 68.526102 \nL 132.784556 68.462846 \nL 135.858936 68.383777 \nL 138.933316 68.265174 \nL 142.007696 68.24936 \nL 145.082076 68.186105 \nL 148.156457 68.257267 \nL 151.230837 68.24936 \nL 154.305217 68.209825 \nL 157.379597 68.162384 \nL 160.453977 68.130756 \nL 163.528357 68.091222 \nL 166.602738 68.027966 \nL 169.677118 68.099129 \nL 172.751498 68.04378 \nL 175.825878 68.02006 \nL 178.900258 67.91727 \nL 181.974638 67.885642 \nL 185.049019 67.838201 \nL 188.123399 67.782852 \nL 191.197779 67.774945 \nL 194.272159 67.822387 \nL 197.346539 67.806573 \nL 200.420919 67.830294 \nL 203.4953 67.81448 \nL 206.56968 67.735411 \nL 209.64406 67.687969 \nL 212.71844 67.616807 \nL 215.79282 67.632621 \nL 218.8672 67.577273 \nL 221.941581 67.577273 \nL 225.015961 67.58518 \nL 228.090341 67.616807 \nL 231.164721 67.577273 \nL 234.239101 67.600993 \nL 237.313481 67.537738 \nL 240.387862 67.498204 \nL 243.462242 67.545645 \nL 246.536622 67.577273 \nL 249.611002 67.593086 \nL 252.685382 67.593086 \nL 255.759762 67.553552 \nL 258.834143 67.545645 \nL 261.908523 67.553552 \nL 264.982903 67.577273 \nL 268.057283 67.58518 \nL 271.131663 67.577273 \nL 274.206043 67.545645 \nL 277.280424 67.561459 \nL 280.354804 67.561459 \nL 283.429184 67.545645 \nL 286.503564 67.537738 \nL 289.577944 67.514017 \nL 292.652324 67.514017 \nL 295.726705 67.490297 \nL 298.801085 67.48239 \nL 301.875465 67.514017 \nL 304.949845 67.529831 \nL 308.024225 67.498204 \nL 311.098605 67.50611 \nL 314.172986 67.50611 \nL 317.247366 67.442855 \nL 320.321746 67.419134 \nL 323.396126 67.419134 \nL 326.470506 67.3796 \nL 329.544886 67.371693 \nL 332.619267 67.395414 \nL 335.693647 67.403321 \nL 338.768027 67.355879 \nL 341.842407 67.347972 \nL 344.916787 67.355879 \nL 347.991167 67.292624 \nL 351.065548 67.284717 \nL 354.139928 67.300531 \nL 357.214308 67.308438 \nL 360.288688 67.324252 \nL 363.363068 67.300531 \n\" style=\"fill:none;stroke:#000080;stroke-linecap:square;stroke-width:0.75;\"/>\n   </g>\n   <g id=\"patch_3\">\n    <path d=\"M 43.78125 239.758125 \nL 43.78125 22.318125 \n\" style=\"fill:none;stroke:#000000;stroke-linecap:square;stroke-linejoin:miter;stroke-width:0.8;\"/>\n   </g>\n   <g id=\"patch_4\">\n    <path d=\"M 378.58125 239.758125 \nL 378.58125 22.318125 \n\" style=\"fill:none;stroke:#000000;stroke-linecap:square;stroke-linejoin:miter;stroke-width:0.8;\"/>\n   </g>\n   <g id=\"patch_5\">\n    <path d=\"M 43.78125 239.758125 \nL 378.58125 239.758125 \n\" style=\"fill:none;stroke:#000000;stroke-linecap:square;stroke-linejoin:miter;stroke-width:0.8;\"/>\n   </g>\n   <g id=\"patch_6\">\n    <path d=\"M 43.78125 22.318125 \nL 378.58125 22.318125 \n\" style=\"fill:none;stroke:#000000;stroke-linecap:square;stroke-linejoin:miter;stroke-width:0.8;\"/>\n   </g>\n   <g id=\"text_18\">\n    <!-- Validation Curve for Best Model -->\n    <g transform=\"translate(116.670938 16.318125)scale(0.12 -0.12)\">\n     <defs>\n      <path d=\"M 1831 0 \nL 50 4666 \nL 709 4666 \nL 2188 738 \nL 3669 4666 \nL 4325 4666 \nL 2547 0 \nL 1831 0 \nz\n\" id=\"DejaVuSans-56\" transform=\"scale(0.015625)\"/>\n      <path d=\"M 603 4863 \nL 1178 4863 \nL 1178 0 \nL 603 0 \nL 603 4863 \nz\n\" id=\"DejaVuSans-6c\" transform=\"scale(0.015625)\"/>\n      <path d=\"M 2906 2969 \nL 2906 4863 \nL 3481 4863 \nL 3481 0 \nL 2906 0 \nL 2906 525 \nQ 2725 213 2448 61 \nQ 2172 -91 1784 -91 \nQ 1150 -91 751 415 \nQ 353 922 353 1747 \nQ 353 2572 751 3078 \nQ 1150 3584 1784 3584 \nQ 2172 3584 2448 3432 \nQ 2725 3281 2906 2969 \nz\nM 947 1747 \nQ 947 1113 1208 752 \nQ 1469 391 1925 391 \nQ 2381 391 2643 752 \nQ 2906 1113 2906 1747 \nQ 2906 2381 2643 2742 \nQ 2381 3103 1925 3103 \nQ 1469 3103 1208 2742 \nQ 947 2381 947 1747 \nz\n\" id=\"DejaVuSans-64\" transform=\"scale(0.015625)\"/>\n      <path d=\"M 3513 2113 \nL 3513 0 \nL 2938 0 \nL 2938 2094 \nQ 2938 2591 2744 2837 \nQ 2550 3084 2163 3084 \nQ 1697 3084 1428 2787 \nQ 1159 2491 1159 1978 \nL 1159 0 \nL 581 0 \nL 581 3500 \nL 1159 3500 \nL 1159 2956 \nQ 1366 3272 1645 3428 \nQ 1925 3584 2291 3584 \nQ 2894 3584 3203 3211 \nQ 3513 2838 3513 2113 \nz\n\" id=\"DejaVuSans-6e\" transform=\"scale(0.015625)\"/>\n      <path d=\"M 4122 4306 \nL 4122 3641 \nQ 3803 3938 3442 4084 \nQ 3081 4231 2675 4231 \nQ 1875 4231 1450 3742 \nQ 1025 3253 1025 2328 \nQ 1025 1406 1450 917 \nQ 1875 428 2675 428 \nQ 3081 428 3442 575 \nQ 3803 722 4122 1019 \nL 4122 359 \nQ 3791 134 3420 21 \nQ 3050 -91 2638 -91 \nQ 1578 -91 968 557 \nQ 359 1206 359 2328 \nQ 359 3453 968 4101 \nQ 1578 4750 2638 4750 \nQ 3056 4750 3426 4639 \nQ 3797 4528 4122 4306 \nz\n\" id=\"DejaVuSans-43\" transform=\"scale(0.015625)\"/>\n      <path d=\"M 191 3500 \nL 800 3500 \nL 1894 563 \nL 2988 3500 \nL 3597 3500 \nL 2284 0 \nL 1503 0 \nL 191 3500 \nz\n\" id=\"DejaVuSans-76\" transform=\"scale(0.015625)\"/>\n      <path d=\"M 1259 2228 \nL 1259 519 \nL 2272 519 \nQ 2781 519 3026 730 \nQ 3272 941 3272 1375 \nQ 3272 1813 3026 2020 \nQ 2781 2228 2272 2228 \nL 1259 2228 \nz\nM 1259 4147 \nL 1259 2741 \nL 2194 2741 \nQ 2656 2741 2882 2914 \nQ 3109 3088 3109 3444 \nQ 3109 3797 2882 3972 \nQ 2656 4147 2194 4147 \nL 1259 4147 \nz\nM 628 4666 \nL 2241 4666 \nQ 2963 4666 3353 4366 \nQ 3744 4066 3744 3513 \nQ 3744 3084 3544 2831 \nQ 3344 2578 2956 2516 \nQ 3422 2416 3680 2098 \nQ 3938 1781 3938 1306 \nQ 3938 681 3513 340 \nQ 3088 0 2303 0 \nL 628 0 \nL 628 4666 \nz\n\" id=\"DejaVuSans-42\" transform=\"scale(0.015625)\"/>\n      <path d=\"M 628 4666 \nL 1569 4666 \nL 2759 1491 \nL 3956 4666 \nL 4897 4666 \nL 4897 0 \nL 4281 0 \nL 4281 4097 \nL 3078 897 \nL 2444 897 \nL 1241 4097 \nL 1241 0 \nL 628 0 \nL 628 4666 \nz\n\" id=\"DejaVuSans-4d\" transform=\"scale(0.015625)\"/>\n     </defs>\n     <use xlink:href=\"#DejaVuSans-56\"/>\n     <use x=\"60.658203\" xlink:href=\"#DejaVuSans-61\"/>\n     <use x=\"121.9375\" xlink:href=\"#DejaVuSans-6c\"/>\n     <use x=\"149.720703\" xlink:href=\"#DejaVuSans-69\"/>\n     <use x=\"177.503906\" xlink:href=\"#DejaVuSans-64\"/>\n     <use x=\"240.980469\" xlink:href=\"#DejaVuSans-61\"/>\n     <use x=\"302.259766\" xlink:href=\"#DejaVuSans-74\"/>\n     <use x=\"341.46875\" xlink:href=\"#DejaVuSans-69\"/>\n     <use x=\"369.251953\" xlink:href=\"#DejaVuSans-6f\"/>\n     <use x=\"430.433594\" xlink:href=\"#DejaVuSans-6e\"/>\n     <use x=\"493.8125\" xlink:href=\"#DejaVuSans-20\"/>\n     <use x=\"525.599609\" xlink:href=\"#DejaVuSans-43\"/>\n     <use x=\"595.423828\" xlink:href=\"#DejaVuSans-75\"/>\n     <use x=\"658.802734\" xlink:href=\"#DejaVuSans-72\"/>\n     <use x=\"699.916016\" xlink:href=\"#DejaVuSans-76\"/>\n     <use x=\"759.095703\" xlink:href=\"#DejaVuSans-65\"/>\n     <use x=\"820.619141\" xlink:href=\"#DejaVuSans-20\"/>\n     <use x=\"852.40625\" xlink:href=\"#DejaVuSans-66\"/>\n     <use x=\"887.611328\" xlink:href=\"#DejaVuSans-6f\"/>\n     <use x=\"948.792969\" xlink:href=\"#DejaVuSans-72\"/>\n     <use x=\"989.90625\" xlink:href=\"#DejaVuSans-20\"/>\n     <use x=\"1021.693359\" xlink:href=\"#DejaVuSans-42\"/>\n     <use x=\"1090.296875\" xlink:href=\"#DejaVuSans-65\"/>\n     <use x=\"1151.820312\" xlink:href=\"#DejaVuSans-73\"/>\n     <use x=\"1203.919922\" xlink:href=\"#DejaVuSans-74\"/>\n     <use x=\"1243.128906\" xlink:href=\"#DejaVuSans-20\"/>\n     <use x=\"1274.916016\" xlink:href=\"#DejaVuSans-4d\"/>\n     <use x=\"1361.195312\" xlink:href=\"#DejaVuSans-6f\"/>\n     <use x=\"1422.376953\" xlink:href=\"#DejaVuSans-64\"/>\n     <use x=\"1485.853516\" xlink:href=\"#DejaVuSans-65\"/>\n     <use x=\"1547.376953\" xlink:href=\"#DejaVuSans-6c\"/>\n    </g>\n   </g>\n   <g id=\"legend_1\">\n    <g id=\"patch_7\">\n     <path d=\"M 229.551562 59.674375 \nL 371.58125 59.674375 \nQ 373.58125 59.674375 373.58125 57.674375 \nL 373.58125 29.318125 \nQ 373.58125 27.318125 371.58125 27.318125 \nL 229.551562 27.318125 \nQ 227.551562 27.318125 227.551562 29.318125 \nL 227.551562 57.674375 \nQ 227.551562 59.674375 229.551562 59.674375 \nz\n\" style=\"fill:#ffffff;opacity:0.8;stroke:#cccccc;stroke-linejoin:miter;\"/>\n    </g>\n    <g id=\"line2d_18\">\n     <path d=\"M 231.551562 35.416562 \nL 251.551562 35.416562 \n\" style=\"fill:none;stroke:#ff8c00;stroke-linecap:square;stroke-width:0.75;\"/>\n    </g>\n    <g id=\"line2d_19\"/>\n    <g id=\"text_19\">\n     <!-- Training score -->\n     <g transform=\"translate(259.551562 38.916562)scale(0.1 -0.1)\">\n      <defs>\n       <path d=\"M -19 4666 \nL 3928 4666 \nL 3928 4134 \nL 2272 4134 \nL 2272 0 \nL 1638 0 \nL 1638 4134 \nL -19 4134 \nL -19 4666 \nz\n\" id=\"DejaVuSans-54\" transform=\"scale(0.015625)\"/>\n       <path d=\"M 2906 1791 \nQ 2906 2416 2648 2759 \nQ 2391 3103 1925 3103 \nQ 1463 3103 1205 2759 \nQ 947 2416 947 1791 \nQ 947 1169 1205 825 \nQ 1463 481 1925 481 \nQ 2391 481 2648 825 \nQ 2906 1169 2906 1791 \nz\nM 3481 434 \nQ 3481 -459 3084 -895 \nQ 2688 -1331 1869 -1331 \nQ 1566 -1331 1297 -1286 \nQ 1028 -1241 775 -1147 \nL 775 -588 \nQ 1028 -725 1275 -790 \nQ 1522 -856 1778 -856 \nQ 2344 -856 2625 -561 \nQ 2906 -266 2906 331 \nL 2906 616 \nQ 2728 306 2450 153 \nQ 2172 0 1784 0 \nQ 1141 0 747 490 \nQ 353 981 353 1791 \nQ 353 2603 747 3093 \nQ 1141 3584 1784 3584 \nQ 2172 3584 2450 3431 \nQ 2728 3278 2906 2969 \nL 2906 3500 \nL 3481 3500 \nL 3481 434 \nz\n\" id=\"DejaVuSans-67\" transform=\"scale(0.015625)\"/>\n      </defs>\n      <use xlink:href=\"#DejaVuSans-54\"/>\n      <use x=\"46.333984\" xlink:href=\"#DejaVuSans-72\"/>\n      <use x=\"87.447266\" xlink:href=\"#DejaVuSans-61\"/>\n      <use x=\"148.726562\" xlink:href=\"#DejaVuSans-69\"/>\n      <use x=\"176.509766\" xlink:href=\"#DejaVuSans-6e\"/>\n      <use x=\"239.888672\" xlink:href=\"#DejaVuSans-69\"/>\n      <use x=\"267.671875\" xlink:href=\"#DejaVuSans-6e\"/>\n      <use x=\"331.050781\" xlink:href=\"#DejaVuSans-67\"/>\n      <use x=\"394.527344\" xlink:href=\"#DejaVuSans-20\"/>\n      <use x=\"426.314453\" xlink:href=\"#DejaVuSans-73\"/>\n      <use x=\"478.414062\" xlink:href=\"#DejaVuSans-63\"/>\n      <use x=\"533.394531\" xlink:href=\"#DejaVuSans-6f\"/>\n      <use x=\"594.576172\" xlink:href=\"#DejaVuSans-72\"/>\n      <use x=\"633.439453\" xlink:href=\"#DejaVuSans-65\"/>\n     </g>\n    </g>\n    <g id=\"line2d_20\">\n     <path d=\"M 231.551562 50.094687 \nL 251.551562 50.094687 \n\" style=\"fill:none;stroke:#000080;stroke-linecap:square;stroke-width:0.75;\"/>\n    </g>\n    <g id=\"line2d_21\"/>\n    <g id=\"text_20\">\n     <!-- Cross-validation score -->\n     <g transform=\"translate(259.551562 53.594687)scale(0.1 -0.1)\">\n      <defs>\n       <path d=\"M 313 2009 \nL 1997 2009 \nL 1997 1497 \nL 313 1497 \nL 313 2009 \nz\n\" id=\"DejaVuSans-2d\" transform=\"scale(0.015625)\"/>\n      </defs>\n      <use xlink:href=\"#DejaVuSans-43\"/>\n      <use x=\"69.824219\" xlink:href=\"#DejaVuSans-72\"/>\n      <use x=\"108.6875\" xlink:href=\"#DejaVuSans-6f\"/>\n      <use x=\"169.869141\" xlink:href=\"#DejaVuSans-73\"/>\n      <use x=\"221.96875\" xlink:href=\"#DejaVuSans-73\"/>\n      <use x=\"274.068359\" xlink:href=\"#DejaVuSans-2d\"/>\n      <use x=\"307.527344\" xlink:href=\"#DejaVuSans-76\"/>\n      <use x=\"366.707031\" xlink:href=\"#DejaVuSans-61\"/>\n      <use x=\"427.986328\" xlink:href=\"#DejaVuSans-6c\"/>\n      <use x=\"455.769531\" xlink:href=\"#DejaVuSans-69\"/>\n      <use x=\"483.552734\" xlink:href=\"#DejaVuSans-64\"/>\n      <use x=\"547.029297\" xlink:href=\"#DejaVuSans-61\"/>\n      <use x=\"608.308594\" xlink:href=\"#DejaVuSans-74\"/>\n      <use x=\"647.517578\" xlink:href=\"#DejaVuSans-69\"/>\n      <use x=\"675.300781\" xlink:href=\"#DejaVuSans-6f\"/>\n      <use x=\"736.482422\" xlink:href=\"#DejaVuSans-6e\"/>\n      <use x=\"799.861328\" xlink:href=\"#DejaVuSans-20\"/>\n      <use x=\"831.648438\" xlink:href=\"#DejaVuSans-73\"/>\n      <use x=\"883.748047\" xlink:href=\"#DejaVuSans-63\"/>\n      <use x=\"938.728516\" xlink:href=\"#DejaVuSans-6f\"/>\n      <use x=\"999.910156\" xlink:href=\"#DejaVuSans-72\"/>\n      <use x=\"1038.773438\" xlink:href=\"#DejaVuSans-65\"/>\n     </g>\n    </g>\n   </g>\n  </g>\n </g>\n <defs>\n  <clipPath id=\"pbea038f14f\">\n   <rect height=\"217.44\" width=\"334.8\" x=\"43.78125\" y=\"22.318125\"/>\n  </clipPath>\n </defs>\n</svg>\n",
      "image/png": "[encoded data removed]"
     },
     "metadata": {
      "needs_background": "light"
     }
    }
   ],
   "metadata": {}
  },
  {
   "cell_type": "markdown",
   "source": [
    "# 6. Bagging Classifiers"
   ],
   "metadata": {}
  },
  {
   "cell_type": "code",
   "execution_count": 481,
   "source": [
    "bagged = BaggingClassifier(base_estimator = tree.DecisionTreeClassifier(max_depth=10), random_state=42)\n",
    "param_grid = {\n",
    "        'n_estimators': range(100, 300, 2),\n",
    "        'max_features': [2,3,4,5,6,7,8,9,10,11,12,13,14],\n",
    "        'max_samples': [1.0, 0.5, 0.25, 0.75],\n",
    "\n",
    "    }"
   ],
   "outputs": [],
   "metadata": {}
  },
  {
   "cell_type": "code",
   "execution_count": 482,
   "source": [
    "clf_bagged=RandomizedSearchCV(estimator=bagged,param_distributions=param_grid,cv=5,verbose=2,random_state=42,n_jobs=-1)\n",
    "clf_bagged.fit(training.drop(['income>50K'],axis=1),training['income>50K'])"
   ],
   "outputs": [
    {
     "output_type": "stream",
     "name": "stdout",
     "text": [
      "Fitting 5 folds for each of 10 candidates, totalling 50 fits\n",
      "[CV] END ..max_features=4, max_samples=1.0, n_estimators=220; total time=   4.0s\n",
      "[CV] END ..max_features=4, max_samples=1.0, n_estimators=220; total time=   4.2s\n",
      "[CV] END ..max_features=4, max_samples=1.0, n_estimators=220; total time=   4.4s\n",
      "[CV] END ..max_features=4, max_samples=1.0, n_estimators=220; total time=   4.4s\n",
      "[CV] END ..max_features=4, max_samples=1.0, n_estimators=220; total time=   4.6s\n",
      "[CV] END .max_features=11, max_samples=0.5, n_estimators=244; total time=   6.9s\n",
      "[CV] END .max_features=11, max_samples=0.5, n_estimators=244; total time=   7.5s\n",
      "[CV] END .max_features=11, max_samples=0.5, n_estimators=244; total time=   7.5s\n",
      "[CV] END max_features=14, max_samples=0.75, n_estimators=282; total time=  13.6s\n",
      "[CV] END max_features=14, max_samples=0.75, n_estimators=282; total time=  13.6s\n",
      "[CV] END max_features=14, max_samples=0.75, n_estimators=282; total time=  14.0s\n",
      "[CV] END .max_features=9, max_samples=0.25, n_estimators=284; total time=   4.2s\n",
      "[CV] END max_features=14, max_samples=0.75, n_estimators=282; total time=  12.9s\n",
      "[CV] END max_features=14, max_samples=0.75, n_estimators=282; total time=  13.3s\n",
      "[CV] END .max_features=9, max_samples=0.25, n_estimators=284; total time=   4.4s\n",
      "[CV] END .max_features=11, max_samples=0.5, n_estimators=244; total time=   7.0s\n",
      "[CV] END .max_features=9, max_samples=0.25, n_estimators=284; total time=   4.6s\n",
      "[CV] END .max_features=9, max_samples=0.25, n_estimators=284; total time=   4.5s\n",
      "[CV] END .max_features=11, max_samples=0.5, n_estimators=244; total time=   7.2s\n",
      "[CV] END ..max_features=3, max_samples=1.0, n_estimators=232; total time=   3.3s\n",
      "[CV] END ..max_features=3, max_samples=1.0, n_estimators=232; total time=   3.0s\n",
      "[CV] END .max_features=9, max_samples=0.25, n_estimators=284; total time=   4.3s\n",
      "[CV] END ..max_features=3, max_samples=1.0, n_estimators=232; total time=   2.9s\n",
      "[CV] END ..max_features=3, max_samples=1.0, n_estimators=232; total time=   3.2s\n",
      "[CV] END ..max_features=3, max_samples=1.0, n_estimators=232; total time=   3.0s\n",
      "[CV] END max_features=10, max_samples=0.25, n_estimators=188; total time=   3.0s\n",
      "[CV] END max_features=10, max_samples=0.25, n_estimators=188; total time=   3.0s\n",
      "[CV] END max_features=10, max_samples=0.25, n_estimators=188; total time=   3.2s\n",
      "[CV] END .max_features=13, max_samples=1.0, n_estimators=152; total time=   7.4s\n",
      "[CV] END .max_features=13, max_samples=1.0, n_estimators=152; total time=   7.6s\n",
      "[CV] END max_features=10, max_samples=0.25, n_estimators=188; total time=   3.1s\n",
      "[CV] END max_features=10, max_samples=0.25, n_estimators=188; total time=   3.1s\n",
      "[CV] END .max_features=13, max_samples=1.0, n_estimators=152; total time=   7.9s\n",
      "[CV] END .max_features=13, max_samples=1.0, n_estimators=152; total time=   7.7s\n",
      "[CV] END .max_features=13, max_samples=1.0, n_estimators=152; total time=   8.1s\n",
      "[CV] END ..max_features=9, max_samples=0.5, n_estimators=138; total time=   3.2s\n",
      "[CV] END ..max_features=9, max_samples=0.5, n_estimators=138; total time=   3.4s\n",
      "[CV] END ..max_features=9, max_samples=0.5, n_estimators=138; total time=   3.6s\n",
      "[CV] END .max_features=9, max_samples=0.75, n_estimators=242; total time=   8.1s\n",
      "[CV] END .max_features=9, max_samples=0.75, n_estimators=242; total time=   8.0s\n",
      "[CV] END ..max_features=2, max_samples=0.5, n_estimators=160; total time=   1.8s\n",
      "[CV] END ..max_features=2, max_samples=0.5, n_estimators=160; total time=   1.7s\n",
      "[CV] END ..max_features=9, max_samples=0.5, n_estimators=138; total time=   3.8s\n",
      "[CV] END .max_features=9, max_samples=0.75, n_estimators=242; total time=   8.5s\n",
      "[CV] END ..max_features=9, max_samples=0.5, n_estimators=138; total time=   3.7s\n",
      "[CV] END ..max_features=2, max_samples=0.5, n_estimators=160; total time=   1.4s\n",
      "[CV] END ..max_features=2, max_samples=0.5, n_estimators=160; total time=   1.3s\n",
      "[CV] END ..max_features=2, max_samples=0.5, n_estimators=160; total time=   1.2s\n",
      "[CV] END .max_features=9, max_samples=0.75, n_estimators=242; total time=   8.2s\n",
      "[CV] END .max_features=9, max_samples=0.75, n_estimators=242; total time=   8.3s\n"
     ]
    },
    {
     "output_type": "execute_result",
     "data": {
      "text/plain": [
       "RandomizedSearchCV(cv=5,\n",
       "                   estimator=BaggingClassifier(base_estimator=DecisionTreeClassifier(max_depth=10),\n",
       "                                               random_state=42),\n",
       "                   n_jobs=-1,\n",
       "                   param_distributions={'max_features': [2, 3, 4, 5, 6, 7, 8, 9,\n",
       "                                                         10, 11, 12, 13, 14],\n",
       "                                        'max_samples': [1.0, 0.5, 0.25, 0.75],\n",
       "                                        'n_estimators': range(100, 300, 2)},\n",
       "                   random_state=42, verbose=2)"
      ]
     },
     "metadata": {},
     "execution_count": 482
    }
   ],
   "metadata": {}
  },
  {
   "cell_type": "code",
   "execution_count": 483,
   "source": [
    "clf_bagged.best_estimator_"
   ],
   "outputs": [
    {
     "output_type": "execute_result",
     "data": {
      "text/plain": [
       "BaggingClassifier(base_estimator=DecisionTreeClassifier(max_depth=10),\n",
       "                  max_features=13, n_estimators=152, random_state=42)"
      ]
     },
     "metadata": {},
     "execution_count": 483
    }
   ],
   "metadata": {}
  },
  {
   "cell_type": "code",
   "execution_count": 484,
   "source": [
    "clf_bagged.cv_results_['mean_test_score']"
   ],
   "outputs": [
    {
     "output_type": "execute_result",
     "data": {
      "text/plain": [
       "array([0.84208, 0.86376, 0.86364, 0.86276, 0.8198 , 0.86432, 0.86304,\n",
       "       0.8634 , 0.86336, 0.79096])"
      ]
     },
     "metadata": {},
     "execution_count": 484
    }
   ],
   "metadata": {}
  },
  {
   "cell_type": "code",
   "execution_count": 467,
   "source": [
    "probs= clf_bagged.predict_proba(testing.drop(['ID'],axis=1))\n",
    "ID=[]\n",
    "for i in range(23842):\n",
    "    ID.append(i+1)\n",
    "d={'ID':ID,\"Prediction\":probs[:,1]}                                                            \n",
    "df=pd.DataFrame(d)\n",
    "df.to_csv(\"Submission_bagged.csv\",index=False)"
   ],
   "outputs": [],
   "metadata": {}
  },
  {
   "cell_type": "code",
   "execution_count": 470,
   "source": [
    "# Get Validation Curves for the Best Model\n",
    "best_model = clf_bagged\n",
    "fig_name = 'output-bagged.png'\n",
    "varying_param = 'max_features'\n",
    "train_scores, test_scores = validation_curve(best_model.best_estimator_, training.drop(['income>50K'],axis=1),training['income>50K'],cv=5, \n",
    "                                            param_name=varying_param, param_range=param_grid[varying_param], scoring='accuracy', n_jobs=-1)\n",
    "train_scores_mean = np.mean(train_scores, axis=1)\n",
    "train_scores_std = np.std(train_scores, axis=1)\n",
    "test_scores_mean = np.mean(test_scores, axis=1)\n",
    "test_scores_std = np.std(test_scores, axis=1)\n",
    "\n",
    "plt.title(\"Validation Curve for Best Model\")\n",
    "plt.xlabel('Max Features')\n",
    "plt.ylabel(\"Score\")\n",
    "plt.ylim(0.0, 1.1)\n",
    "lw = 0.75\n",
    "plt.plot(\n",
    "    param_grid[varying_param], train_scores_mean, label=\"Training score\", color=\"darkorange\", lw=lw\n",
    ")\n",
    "plt.fill_between(\n",
    "    param_grid[varying_param],\n",
    "    train_scores_mean - train_scores_std,\n",
    "    train_scores_mean + train_scores_std,\n",
    "    alpha=0.2,\n",
    "    color=\"darkorange\",\n",
    "    lw=lw,\n",
    ")\n",
    "plt.plot(\n",
    "    param_grid[varying_param], test_scores_mean, label=\"Cross-validation score\", color=\"navy\", lw=lw\n",
    ")\n",
    "plt.fill_between(\n",
    "    param_grid[varying_param],\n",
    "    test_scores_mean - test_scores_std,\n",
    "    test_scores_mean + test_scores_std,\n",
    "    alpha=0.2,\n",
    "    color=\"navy\",\n",
    "    lw=lw,\n",
    ")\n",
    "plt.legend(loc=\"best\")\n",
    "plt.savefig(f'Figures/{fig_name}', dpi=200)\n",
    "plt.show()"
   ],
   "outputs": [
    {
     "output_type": "display_data",
     "data": {
      "text/plain": [
       "<Figure size 432x288 with 1 Axes>"
      ],
      "image/svg+xml": "<?xml version=\"1.0\" encoding=\"utf-8\" standalone=\"no\"?>\n<!DOCTYPE svg PUBLIC \"-//W3C//DTD SVG 1.1//EN\"\n  \"http://www.w3.org/Graphics/SVG/1.1/DTD/svg11.dtd\">\n<svg height=\"277.314375pt\" version=\"1.1\" viewBox=\"0 0 385.78125 277.314375\" width=\"385.78125pt\" xmlns=\"http://www.w3.org/2000/svg\" xmlns:xlink=\"http://www.w3.org/1999/xlink\">\n <metadata>\n  <rdf:RDF xmlns:cc=\"http://creativecommons.org/ns#\" xmlns:dc=\"http://purl.org/dc/elements/1.1/\" xmlns:rdf=\"http://www.w3.org/1999/02/22-rdf-syntax-ns#\">\n   <cc:Work>\n    <dc:type rdf:resource=\"http://purl.org/dc/dcmitype/StillImage\"/>\n    <dc:date>2021-12-19T16:24:36.303586</dc:date>\n    <dc:format>image/svg+xml</dc:format>\n    <dc:creator>\n     <cc:Agent>\n      <dc:title>Matplotlib v3.4.3, https://matplotlib.org/</dc:title>\n     </cc:Agent>\n    </dc:creator>\n   </cc:Work>\n  </rdf:RDF>\n </metadata>\n <defs>\n  <style type=\"text/css\">*{stroke-linecap:butt;stroke-linejoin:round;}</style>\n </defs>\n <g id=\"figure_1\">\n  <g id=\"patch_1\">\n   <path d=\"M 0 277.314375 \nL 385.78125 277.314375 \nL 385.78125 0 \nL 0 0 \nz\n\" style=\"fill:none;\"/>\n  </g>\n  <g id=\"axes_1\">\n   <g id=\"patch_2\">\n    <path d=\"M 43.78125 239.758125 \nL 378.58125 239.758125 \nL 378.58125 22.318125 \nL 43.78125 22.318125 \nz\n\" style=\"fill:#ffffff;\"/>\n   </g>\n   <g id=\"PolyCollection_1\">\n    <defs>\n     <path d=\"M 58.999432 -195.086852 \nL 58.999432 -194.764118 \nL 84.363068 -202.315361 \nL 109.726705 -207.303411 \nL 135.090341 -209.783819 \nL 160.453977 -210.731765 \nL 185.817614 -211.054425 \nL 211.18125 -211.204708 \nL 236.544886 -211.612575 \nL 261.908523 -211.880102 \nL 287.272159 -211.977109 \nL 312.635795 -211.813252 \nL 337.999432 -211.895366 \nL 363.363068 -211.670012 \nL 363.363068 -212.216248 \nL 363.363068 -212.216248 \nL 337.999432 -212.307171 \nL 312.635795 -212.413005 \nL 287.272159 -212.498216 \nL 261.908523 -212.516154 \nL 236.544886 -212.285545 \nL 211.18125 -211.811792 \nL 185.817614 -211.519288 \nL 160.453977 -210.995908 \nL 135.090341 -210.054104 \nL 109.726705 -207.533392 \nL 84.363068 -202.768269 \nL 58.999432 -195.086852 \nz\n\" id=\"mc4b3ba1e0b\" style=\"stroke:#ff8c00;stroke-opacity:0.2;stroke-width:0.75;\"/>\n    </defs>\n    <g clip-path=\"url(#p162781fe40)\">\n     <use style=\"fill:#ff8c00;fill-opacity:0.2;stroke:#ff8c00;stroke-opacity:0.2;stroke-width:0.75;\" x=\"0\" xlink:href=\"#mc4b3ba1e0b\" y=\"277.314375\"/>\n    </g>\n   </g>\n   <g id=\"PolyCollection_2\">\n    <defs>\n     <path d=\"M 58.999432 -194.428005 \nL 58.999432 -193.86135 \nL 84.363068 -199.752199 \nL 109.726705 -203.766326 \nL 135.090341 -206.164663 \nL 160.453977 -207.077154 \nL 185.817614 -207.293867 \nL 211.18125 -207.147676 \nL 236.544886 -207.759694 \nL 261.908523 -207.919923 \nL 287.272159 -207.834138 \nL 312.635795 -207.900306 \nL 337.999432 -207.976674 \nL 363.363068 -207.79797 \nL 363.363068 -208.734864 \nL 363.363068 -208.734864 \nL 337.999432 -208.840809 \nL 312.635795 -208.790667 \nL 287.272159 -208.84102 \nL 261.908523 -208.850119 \nL 236.544886 -208.678258 \nL 211.18125 -208.768419 \nL 185.817614 -208.811994 \nL 160.453977 -208.475224 \nL 135.090341 -207.679822 \nL 109.726705 -205.065179 \nL 84.363068 -200.982632 \nL 58.999432 -194.428005 \nz\n\" id=\"m0c36208803\" style=\"stroke:#000080;stroke-opacity:0.2;stroke-width:0.75;\"/>\n    </defs>\n    <g clip-path=\"url(#p162781fe40)\">\n     <use style=\"fill:#000080;fill-opacity:0.2;stroke:#000080;stroke-opacity:0.2;stroke-width:0.75;\" x=\"0\" xlink:href=\"#m0c36208803\" y=\"277.314375\"/>\n    </g>\n   </g>\n   <g id=\"matplotlib.axis_1\">\n    <g id=\"xtick_1\">\n     <g id=\"line2d_1\">\n      <defs>\n       <path d=\"M 0 0 \nL 0 3.5 \n\" id=\"mcf11789c71\" style=\"stroke:#000000;stroke-width:0.8;\"/>\n      </defs>\n      <g>\n       <use style=\"stroke:#000000;stroke-width:0.8;\" x=\"58.999432\" xlink:href=\"#mcf11789c71\" y=\"239.758125\"/>\n      </g>\n     </g>\n     <g id=\"text_1\">\n      <!-- 2 -->\n      <g transform=\"translate(55.818182 254.356562)scale(0.1 -0.1)\">\n       <defs>\n        <path d=\"M 1228 531 \nL 3431 531 \nL 3431 0 \nL 469 0 \nL 469 531 \nQ 828 903 1448 1529 \nQ 2069 2156 2228 2338 \nQ 2531 2678 2651 2914 \nQ 2772 3150 2772 3378 \nQ 2772 3750 2511 3984 \nQ 2250 4219 1831 4219 \nQ 1534 4219 1204 4116 \nQ 875 4013 500 3803 \nL 500 4441 \nQ 881 4594 1212 4672 \nQ 1544 4750 1819 4750 \nQ 2544 4750 2975 4387 \nQ 3406 4025 3406 3419 \nQ 3406 3131 3298 2873 \nQ 3191 2616 2906 2266 \nQ 2828 2175 2409 1742 \nQ 1991 1309 1228 531 \nz\n\" id=\"DejaVuSans-32\" transform=\"scale(0.015625)\"/>\n       </defs>\n       <use xlink:href=\"#DejaVuSans-32\"/>\n      </g>\n     </g>\n    </g>\n    <g id=\"xtick_2\">\n     <g id=\"line2d_2\">\n      <g>\n       <use style=\"stroke:#000000;stroke-width:0.8;\" x=\"109.726705\" xlink:href=\"#mcf11789c71\" y=\"239.758125\"/>\n      </g>\n     </g>\n     <g id=\"text_2\">\n      <!-- 4 -->\n      <g transform=\"translate(106.545455 254.356562)scale(0.1 -0.1)\">\n       <defs>\n        <path d=\"M 2419 4116 \nL 825 1625 \nL 2419 1625 \nL 2419 4116 \nz\nM 2253 4666 \nL 3047 4666 \nL 3047 1625 \nL 3713 1625 \nL 3713 1100 \nL 3047 1100 \nL 3047 0 \nL 2419 0 \nL 2419 1100 \nL 313 1100 \nL 313 1709 \nL 2253 4666 \nz\n\" id=\"DejaVuSans-34\" transform=\"scale(0.015625)\"/>\n       </defs>\n       <use xlink:href=\"#DejaVuSans-34\"/>\n      </g>\n     </g>\n    </g>\n    <g id=\"xtick_3\">\n     <g id=\"line2d_3\">\n      <g>\n       <use style=\"stroke:#000000;stroke-width:0.8;\" x=\"160.453977\" xlink:href=\"#mcf11789c71\" y=\"239.758125\"/>\n      </g>\n     </g>\n     <g id=\"text_3\">\n      <!-- 6 -->\n      <g transform=\"translate(157.272727 254.356562)scale(0.1 -0.1)\">\n       <defs>\n        <path d=\"M 2113 2584 \nQ 1688 2584 1439 2293 \nQ 1191 2003 1191 1497 \nQ 1191 994 1439 701 \nQ 1688 409 2113 409 \nQ 2538 409 2786 701 \nQ 3034 994 3034 1497 \nQ 3034 2003 2786 2293 \nQ 2538 2584 2113 2584 \nz\nM 3366 4563 \nL 3366 3988 \nQ 3128 4100 2886 4159 \nQ 2644 4219 2406 4219 \nQ 1781 4219 1451 3797 \nQ 1122 3375 1075 2522 \nQ 1259 2794 1537 2939 \nQ 1816 3084 2150 3084 \nQ 2853 3084 3261 2657 \nQ 3669 2231 3669 1497 \nQ 3669 778 3244 343 \nQ 2819 -91 2113 -91 \nQ 1303 -91 875 529 \nQ 447 1150 447 2328 \nQ 447 3434 972 4092 \nQ 1497 4750 2381 4750 \nQ 2619 4750 2861 4703 \nQ 3103 4656 3366 4563 \nz\n\" id=\"DejaVuSans-36\" transform=\"scale(0.015625)\"/>\n       </defs>\n       <use xlink:href=\"#DejaVuSans-36\"/>\n      </g>\n     </g>\n    </g>\n    <g id=\"xtick_4\">\n     <g id=\"line2d_4\">\n      <g>\n       <use style=\"stroke:#000000;stroke-width:0.8;\" x=\"211.18125\" xlink:href=\"#mcf11789c71\" y=\"239.758125\"/>\n      </g>\n     </g>\n     <g id=\"text_4\">\n      <!-- 8 -->\n      <g transform=\"translate(208 254.356562)scale(0.1 -0.1)\">\n       <defs>\n        <path d=\"M 2034 2216 \nQ 1584 2216 1326 1975 \nQ 1069 1734 1069 1313 \nQ 1069 891 1326 650 \nQ 1584 409 2034 409 \nQ 2484 409 2743 651 \nQ 3003 894 3003 1313 \nQ 3003 1734 2745 1975 \nQ 2488 2216 2034 2216 \nz\nM 1403 2484 \nQ 997 2584 770 2862 \nQ 544 3141 544 3541 \nQ 544 4100 942 4425 \nQ 1341 4750 2034 4750 \nQ 2731 4750 3128 4425 \nQ 3525 4100 3525 3541 \nQ 3525 3141 3298 2862 \nQ 3072 2584 2669 2484 \nQ 3125 2378 3379 2068 \nQ 3634 1759 3634 1313 \nQ 3634 634 3220 271 \nQ 2806 -91 2034 -91 \nQ 1263 -91 848 271 \nQ 434 634 434 1313 \nQ 434 1759 690 2068 \nQ 947 2378 1403 2484 \nz\nM 1172 3481 \nQ 1172 3119 1398 2916 \nQ 1625 2713 2034 2713 \nQ 2441 2713 2670 2916 \nQ 2900 3119 2900 3481 \nQ 2900 3844 2670 4047 \nQ 2441 4250 2034 4250 \nQ 1625 4250 1398 4047 \nQ 1172 3844 1172 3481 \nz\n\" id=\"DejaVuSans-38\" transform=\"scale(0.015625)\"/>\n       </defs>\n       <use xlink:href=\"#DejaVuSans-38\"/>\n      </g>\n     </g>\n    </g>\n    <g id=\"xtick_5\">\n     <g id=\"line2d_5\">\n      <g>\n       <use style=\"stroke:#000000;stroke-width:0.8;\" x=\"261.908523\" xlink:href=\"#mcf11789c71\" y=\"239.758125\"/>\n      </g>\n     </g>\n     <g id=\"text_5\">\n      <!-- 10 -->\n      <g transform=\"translate(255.546023 254.356562)scale(0.1 -0.1)\">\n       <defs>\n        <path d=\"M 794 531 \nL 1825 531 \nL 1825 4091 \nL 703 3866 \nL 703 4441 \nL 1819 4666 \nL 2450 4666 \nL 2450 531 \nL 3481 531 \nL 3481 0 \nL 794 0 \nL 794 531 \nz\n\" id=\"DejaVuSans-31\" transform=\"scale(0.015625)\"/>\n        <path d=\"M 2034 4250 \nQ 1547 4250 1301 3770 \nQ 1056 3291 1056 2328 \nQ 1056 1369 1301 889 \nQ 1547 409 2034 409 \nQ 2525 409 2770 889 \nQ 3016 1369 3016 2328 \nQ 3016 3291 2770 3770 \nQ 2525 4250 2034 4250 \nz\nM 2034 4750 \nQ 2819 4750 3233 4129 \nQ 3647 3509 3647 2328 \nQ 3647 1150 3233 529 \nQ 2819 -91 2034 -91 \nQ 1250 -91 836 529 \nQ 422 1150 422 2328 \nQ 422 3509 836 4129 \nQ 1250 4750 2034 4750 \nz\n\" id=\"DejaVuSans-30\" transform=\"scale(0.015625)\"/>\n       </defs>\n       <use xlink:href=\"#DejaVuSans-31\"/>\n       <use x=\"63.623047\" xlink:href=\"#DejaVuSans-30\"/>\n      </g>\n     </g>\n    </g>\n    <g id=\"xtick_6\">\n     <g id=\"line2d_6\">\n      <g>\n       <use style=\"stroke:#000000;stroke-width:0.8;\" x=\"312.635795\" xlink:href=\"#mcf11789c71\" y=\"239.758125\"/>\n      </g>\n     </g>\n     <g id=\"text_6\">\n      <!-- 12 -->\n      <g transform=\"translate(306.273295 254.356562)scale(0.1 -0.1)\">\n       <use xlink:href=\"#DejaVuSans-31\"/>\n       <use x=\"63.623047\" xlink:href=\"#DejaVuSans-32\"/>\n      </g>\n     </g>\n    </g>\n    <g id=\"xtick_7\">\n     <g id=\"line2d_7\">\n      <g>\n       <use style=\"stroke:#000000;stroke-width:0.8;\" x=\"363.363068\" xlink:href=\"#mcf11789c71\" y=\"239.758125\"/>\n      </g>\n     </g>\n     <g id=\"text_7\">\n      <!-- 14 -->\n      <g transform=\"translate(357.000568 254.356562)scale(0.1 -0.1)\">\n       <use xlink:href=\"#DejaVuSans-31\"/>\n       <use x=\"63.623047\" xlink:href=\"#DejaVuSans-34\"/>\n      </g>\n     </g>\n    </g>\n    <g id=\"text_8\">\n     <!-- Max Features -->\n     <g transform=\"translate(177.760156 268.034687)scale(0.1 -0.1)\">\n      <defs>\n       <path d=\"M 628 4666 \nL 1569 4666 \nL 2759 1491 \nL 3956 4666 \nL 4897 4666 \nL 4897 0 \nL 4281 0 \nL 4281 4097 \nL 3078 897 \nL 2444 897 \nL 1241 4097 \nL 1241 0 \nL 628 0 \nL 628 4666 \nz\n\" id=\"DejaVuSans-4d\" transform=\"scale(0.015625)\"/>\n       <path d=\"M 2194 1759 \nQ 1497 1759 1228 1600 \nQ 959 1441 959 1056 \nQ 959 750 1161 570 \nQ 1363 391 1709 391 \nQ 2188 391 2477 730 \nQ 2766 1069 2766 1631 \nL 2766 1759 \nL 2194 1759 \nz\nM 3341 1997 \nL 3341 0 \nL 2766 0 \nL 2766 531 \nQ 2569 213 2275 61 \nQ 1981 -91 1556 -91 \nQ 1019 -91 701 211 \nQ 384 513 384 1019 \nQ 384 1609 779 1909 \nQ 1175 2209 1959 2209 \nL 2766 2209 \nL 2766 2266 \nQ 2766 2663 2505 2880 \nQ 2244 3097 1772 3097 \nQ 1472 3097 1187 3025 \nQ 903 2953 641 2809 \nL 641 3341 \nQ 956 3463 1253 3523 \nQ 1550 3584 1831 3584 \nQ 2591 3584 2966 3190 \nQ 3341 2797 3341 1997 \nz\n\" id=\"DejaVuSans-61\" transform=\"scale(0.015625)\"/>\n       <path d=\"M 3513 3500 \nL 2247 1797 \nL 3578 0 \nL 2900 0 \nL 1881 1375 \nL 863 0 \nL 184 0 \nL 1544 1831 \nL 300 3500 \nL 978 3500 \nL 1906 2253 \nL 2834 3500 \nL 3513 3500 \nz\n\" id=\"DejaVuSans-78\" transform=\"scale(0.015625)\"/>\n       <path id=\"DejaVuSans-20\" transform=\"scale(0.015625)\"/>\n       <path d=\"M 628 4666 \nL 3309 4666 \nL 3309 4134 \nL 1259 4134 \nL 1259 2759 \nL 3109 2759 \nL 3109 2228 \nL 1259 2228 \nL 1259 0 \nL 628 0 \nL 628 4666 \nz\n\" id=\"DejaVuSans-46\" transform=\"scale(0.015625)\"/>\n       <path d=\"M 3597 1894 \nL 3597 1613 \nL 953 1613 \nQ 991 1019 1311 708 \nQ 1631 397 2203 397 \nQ 2534 397 2845 478 \nQ 3156 559 3463 722 \nL 3463 178 \nQ 3153 47 2828 -22 \nQ 2503 -91 2169 -91 \nQ 1331 -91 842 396 \nQ 353 884 353 1716 \nQ 353 2575 817 3079 \nQ 1281 3584 2069 3584 \nQ 2775 3584 3186 3129 \nQ 3597 2675 3597 1894 \nz\nM 3022 2063 \nQ 3016 2534 2758 2815 \nQ 2500 3097 2075 3097 \nQ 1594 3097 1305 2825 \nQ 1016 2553 972 2059 \nL 3022 2063 \nz\n\" id=\"DejaVuSans-65\" transform=\"scale(0.015625)\"/>\n       <path d=\"M 1172 4494 \nL 1172 3500 \nL 2356 3500 \nL 2356 3053 \nL 1172 3053 \nL 1172 1153 \nQ 1172 725 1289 603 \nQ 1406 481 1766 481 \nL 2356 481 \nL 2356 0 \nL 1766 0 \nQ 1100 0 847 248 \nQ 594 497 594 1153 \nL 594 3053 \nL 172 3053 \nL 172 3500 \nL 594 3500 \nL 594 4494 \nL 1172 4494 \nz\n\" id=\"DejaVuSans-74\" transform=\"scale(0.015625)\"/>\n       <path d=\"M 544 1381 \nL 544 3500 \nL 1119 3500 \nL 1119 1403 \nQ 1119 906 1312 657 \nQ 1506 409 1894 409 \nQ 2359 409 2629 706 \nQ 2900 1003 2900 1516 \nL 2900 3500 \nL 3475 3500 \nL 3475 0 \nL 2900 0 \nL 2900 538 \nQ 2691 219 2414 64 \nQ 2138 -91 1772 -91 \nQ 1169 -91 856 284 \nQ 544 659 544 1381 \nz\nM 1991 3584 \nL 1991 3584 \nz\n\" id=\"DejaVuSans-75\" transform=\"scale(0.015625)\"/>\n       <path d=\"M 2631 2963 \nQ 2534 3019 2420 3045 \nQ 2306 3072 2169 3072 \nQ 1681 3072 1420 2755 \nQ 1159 2438 1159 1844 \nL 1159 0 \nL 581 0 \nL 581 3500 \nL 1159 3500 \nL 1159 2956 \nQ 1341 3275 1631 3429 \nQ 1922 3584 2338 3584 \nQ 2397 3584 2469 3576 \nQ 2541 3569 2628 3553 \nL 2631 2963 \nz\n\" id=\"DejaVuSans-72\" transform=\"scale(0.015625)\"/>\n       <path d=\"M 2834 3397 \nL 2834 2853 \nQ 2591 2978 2328 3040 \nQ 2066 3103 1784 3103 \nQ 1356 3103 1142 2972 \nQ 928 2841 928 2578 \nQ 928 2378 1081 2264 \nQ 1234 2150 1697 2047 \nL 1894 2003 \nQ 2506 1872 2764 1633 \nQ 3022 1394 3022 966 \nQ 3022 478 2636 193 \nQ 2250 -91 1575 -91 \nQ 1294 -91 989 -36 \nQ 684 19 347 128 \nL 347 722 \nQ 666 556 975 473 \nQ 1284 391 1588 391 \nQ 1994 391 2212 530 \nQ 2431 669 2431 922 \nQ 2431 1156 2273 1281 \nQ 2116 1406 1581 1522 \nL 1381 1569 \nQ 847 1681 609 1914 \nQ 372 2147 372 2553 \nQ 372 3047 722 3315 \nQ 1072 3584 1716 3584 \nQ 2034 3584 2315 3537 \nQ 2597 3491 2834 3397 \nz\n\" id=\"DejaVuSans-73\" transform=\"scale(0.015625)\"/>\n      </defs>\n      <use xlink:href=\"#DejaVuSans-4d\"/>\n      <use x=\"86.279297\" xlink:href=\"#DejaVuSans-61\"/>\n      <use x=\"147.558594\" xlink:href=\"#DejaVuSans-78\"/>\n      <use x=\"206.738281\" xlink:href=\"#DejaVuSans-20\"/>\n      <use x=\"238.525391\" xlink:href=\"#DejaVuSans-46\"/>\n      <use x=\"290.544922\" xlink:href=\"#DejaVuSans-65\"/>\n      <use x=\"352.068359\" xlink:href=\"#DejaVuSans-61\"/>\n      <use x=\"413.347656\" xlink:href=\"#DejaVuSans-74\"/>\n      <use x=\"452.556641\" xlink:href=\"#DejaVuSans-75\"/>\n      <use x=\"515.935547\" xlink:href=\"#DejaVuSans-72\"/>\n      <use x=\"554.798828\" xlink:href=\"#DejaVuSans-65\"/>\n      <use x=\"616.322266\" xlink:href=\"#DejaVuSans-73\"/>\n     </g>\n    </g>\n   </g>\n   <g id=\"matplotlib.axis_2\">\n    <g id=\"ytick_1\">\n     <g id=\"line2d_8\">\n      <defs>\n       <path d=\"M 0 0 \nL -3.5 0 \n\" id=\"me1f8526194\" style=\"stroke:#000000;stroke-width:0.8;\"/>\n      </defs>\n      <g>\n       <use style=\"stroke:#000000;stroke-width:0.8;\" x=\"43.78125\" xlink:href=\"#me1f8526194\" y=\"239.758125\"/>\n      </g>\n     </g>\n     <g id=\"text_9\">\n      <!-- 0.0 -->\n      <g transform=\"translate(20.878125 243.557344)scale(0.1 -0.1)\">\n       <defs>\n        <path d=\"M 684 794 \nL 1344 794 \nL 1344 0 \nL 684 0 \nL 684 794 \nz\n\" id=\"DejaVuSans-2e\" transform=\"scale(0.015625)\"/>\n       </defs>\n       <use xlink:href=\"#DejaVuSans-30\"/>\n       <use x=\"63.623047\" xlink:href=\"#DejaVuSans-2e\"/>\n       <use x=\"95.410156\" xlink:href=\"#DejaVuSans-30\"/>\n      </g>\n     </g>\n    </g>\n    <g id=\"ytick_2\">\n     <g id=\"line2d_9\">\n      <g>\n       <use style=\"stroke:#000000;stroke-width:0.8;\" x=\"43.78125\" xlink:href=\"#me1f8526194\" y=\"200.22358\"/>\n      </g>\n     </g>\n     <g id=\"text_10\">\n      <!-- 0.2 -->\n      <g transform=\"translate(20.878125 204.022798)scale(0.1 -0.1)\">\n       <use xlink:href=\"#DejaVuSans-30\"/>\n       <use x=\"63.623047\" xlink:href=\"#DejaVuSans-2e\"/>\n       <use x=\"95.410156\" xlink:href=\"#DejaVuSans-32\"/>\n      </g>\n     </g>\n    </g>\n    <g id=\"ytick_3\">\n     <g id=\"line2d_10\">\n      <g>\n       <use style=\"stroke:#000000;stroke-width:0.8;\" x=\"43.78125\" xlink:href=\"#me1f8526194\" y=\"160.689034\"/>\n      </g>\n     </g>\n     <g id=\"text_11\">\n      <!-- 0.4 -->\n      <g transform=\"translate(20.878125 164.488253)scale(0.1 -0.1)\">\n       <use xlink:href=\"#DejaVuSans-30\"/>\n       <use x=\"63.623047\" xlink:href=\"#DejaVuSans-2e\"/>\n       <use x=\"95.410156\" xlink:href=\"#DejaVuSans-34\"/>\n      </g>\n     </g>\n    </g>\n    <g id=\"ytick_4\">\n     <g id=\"line2d_11\">\n      <g>\n       <use style=\"stroke:#000000;stroke-width:0.8;\" x=\"43.78125\" xlink:href=\"#me1f8526194\" y=\"121.154489\"/>\n      </g>\n     </g>\n     <g id=\"text_12\">\n      <!-- 0.6 -->\n      <g transform=\"translate(20.878125 124.953707)scale(0.1 -0.1)\">\n       <use xlink:href=\"#DejaVuSans-30\"/>\n       <use x=\"63.623047\" xlink:href=\"#DejaVuSans-2e\"/>\n       <use x=\"95.410156\" xlink:href=\"#DejaVuSans-36\"/>\n      </g>\n     </g>\n    </g>\n    <g id=\"ytick_5\">\n     <g id=\"line2d_12\">\n      <g>\n       <use style=\"stroke:#000000;stroke-width:0.8;\" x=\"43.78125\" xlink:href=\"#me1f8526194\" y=\"81.619943\"/>\n      </g>\n     </g>\n     <g id=\"text_13\">\n      <!-- 0.8 -->\n      <g transform=\"translate(20.878125 85.419162)scale(0.1 -0.1)\">\n       <use xlink:href=\"#DejaVuSans-30\"/>\n       <use x=\"63.623047\" xlink:href=\"#DejaVuSans-2e\"/>\n       <use x=\"95.410156\" xlink:href=\"#DejaVuSans-38\"/>\n      </g>\n     </g>\n    </g>\n    <g id=\"ytick_6\">\n     <g id=\"line2d_13\">\n      <g>\n       <use style=\"stroke:#000000;stroke-width:0.8;\" x=\"43.78125\" xlink:href=\"#me1f8526194\" y=\"42.085398\"/>\n      </g>\n     </g>\n     <g id=\"text_14\">\n      <!-- 1.0 -->\n      <g transform=\"translate(20.878125 45.884616)scale(0.1 -0.1)\">\n       <use xlink:href=\"#DejaVuSans-31\"/>\n       <use x=\"63.623047\" xlink:href=\"#DejaVuSans-2e\"/>\n       <use x=\"95.410156\" xlink:href=\"#DejaVuSans-30\"/>\n      </g>\n     </g>\n    </g>\n    <g id=\"text_15\">\n     <!-- Score -->\n     <g transform=\"translate(14.798438 145.040469)rotate(-90)scale(0.1 -0.1)\">\n      <defs>\n       <path d=\"M 3425 4513 \nL 3425 3897 \nQ 3066 4069 2747 4153 \nQ 2428 4238 2131 4238 \nQ 1616 4238 1336 4038 \nQ 1056 3838 1056 3469 \nQ 1056 3159 1242 3001 \nQ 1428 2844 1947 2747 \nL 2328 2669 \nQ 3034 2534 3370 2195 \nQ 3706 1856 3706 1288 \nQ 3706 609 3251 259 \nQ 2797 -91 1919 -91 \nQ 1588 -91 1214 -16 \nQ 841 59 441 206 \nL 441 856 \nQ 825 641 1194 531 \nQ 1563 422 1919 422 \nQ 2459 422 2753 634 \nQ 3047 847 3047 1241 \nQ 3047 1584 2836 1778 \nQ 2625 1972 2144 2069 \nL 1759 2144 \nQ 1053 2284 737 2584 \nQ 422 2884 422 3419 \nQ 422 4038 858 4394 \nQ 1294 4750 2059 4750 \nQ 2388 4750 2728 4690 \nQ 3069 4631 3425 4513 \nz\n\" id=\"DejaVuSans-53\" transform=\"scale(0.015625)\"/>\n       <path d=\"M 3122 3366 \nL 3122 2828 \nQ 2878 2963 2633 3030 \nQ 2388 3097 2138 3097 \nQ 1578 3097 1268 2742 \nQ 959 2388 959 1747 \nQ 959 1106 1268 751 \nQ 1578 397 2138 397 \nQ 2388 397 2633 464 \nQ 2878 531 3122 666 \nL 3122 134 \nQ 2881 22 2623 -34 \nQ 2366 -91 2075 -91 \nQ 1284 -91 818 406 \nQ 353 903 353 1747 \nQ 353 2603 823 3093 \nQ 1294 3584 2113 3584 \nQ 2378 3584 2631 3529 \nQ 2884 3475 3122 3366 \nz\n\" id=\"DejaVuSans-63\" transform=\"scale(0.015625)\"/>\n       <path d=\"M 1959 3097 \nQ 1497 3097 1228 2736 \nQ 959 2375 959 1747 \nQ 959 1119 1226 758 \nQ 1494 397 1959 397 \nQ 2419 397 2687 759 \nQ 2956 1122 2956 1747 \nQ 2956 2369 2687 2733 \nQ 2419 3097 1959 3097 \nz\nM 1959 3584 \nQ 2709 3584 3137 3096 \nQ 3566 2609 3566 1747 \nQ 3566 888 3137 398 \nQ 2709 -91 1959 -91 \nQ 1206 -91 779 398 \nQ 353 888 353 1747 \nQ 353 2609 779 3096 \nQ 1206 3584 1959 3584 \nz\n\" id=\"DejaVuSans-6f\" transform=\"scale(0.015625)\"/>\n      </defs>\n      <use xlink:href=\"#DejaVuSans-53\"/>\n      <use x=\"63.476562\" xlink:href=\"#DejaVuSans-63\"/>\n      <use x=\"118.457031\" xlink:href=\"#DejaVuSans-6f\"/>\n      <use x=\"179.638672\" xlink:href=\"#DejaVuSans-72\"/>\n      <use x=\"218.501953\" xlink:href=\"#DejaVuSans-65\"/>\n     </g>\n    </g>\n   </g>\n   <g id=\"line2d_14\">\n    <path clip-path=\"url(#p162781fe40)\" d=\"M 58.999432 82.38889 \nL 84.363068 74.77256 \nL 109.726705 69.895974 \nL 135.090341 67.395414 \nL 160.453977 66.450538 \nL 185.817614 66.027518 \nL 211.18125 65.806125 \nL 236.544886 65.365315 \nL 261.908523 65.116247 \nL 287.272159 65.076713 \nL 312.635795 65.201246 \nL 337.999432 65.213107 \nL 363.363068 65.371245 \n\" style=\"fill:none;stroke:#ff8c00;stroke-linecap:square;stroke-width:0.75;\"/>\n   </g>\n   <g id=\"line2d_15\">\n    <path clip-path=\"url(#p162781fe40)\" d=\"M 58.999432 83.169697 \nL 84.363068 76.94696 \nL 109.726705 72.898622 \nL 135.090341 70.392132 \nL 160.453977 69.538186 \nL 185.817614 69.261444 \nL 211.18125 69.356327 \nL 236.544886 69.095399 \nL 261.908523 68.929354 \nL 287.272159 68.976796 \nL 312.635795 68.968889 \nL 337.999432 68.905633 \nL 363.363068 69.047958 \n\" style=\"fill:none;stroke:#000080;stroke-linecap:square;stroke-width:0.75;\"/>\n   </g>\n   <g id=\"patch_3\">\n    <path d=\"M 43.78125 239.758125 \nL 43.78125 22.318125 \n\" style=\"fill:none;stroke:#000000;stroke-linecap:square;stroke-linejoin:miter;stroke-width:0.8;\"/>\n   </g>\n   <g id=\"patch_4\">\n    <path d=\"M 378.58125 239.758125 \nL 378.58125 22.318125 \n\" style=\"fill:none;stroke:#000000;stroke-linecap:square;stroke-linejoin:miter;stroke-width:0.8;\"/>\n   </g>\n   <g id=\"patch_5\">\n    <path d=\"M 43.78125 239.758125 \nL 378.58125 239.758125 \n\" style=\"fill:none;stroke:#000000;stroke-linecap:square;stroke-linejoin:miter;stroke-width:0.8;\"/>\n   </g>\n   <g id=\"patch_6\">\n    <path d=\"M 43.78125 22.318125 \nL 378.58125 22.318125 \n\" style=\"fill:none;stroke:#000000;stroke-linecap:square;stroke-linejoin:miter;stroke-width:0.8;\"/>\n   </g>\n   <g id=\"text_16\">\n    <!-- Validation Curve for Best Model -->\n    <g transform=\"translate(116.670938 16.318125)scale(0.12 -0.12)\">\n     <defs>\n      <path d=\"M 1831 0 \nL 50 4666 \nL 709 4666 \nL 2188 738 \nL 3669 4666 \nL 4325 4666 \nL 2547 0 \nL 1831 0 \nz\n\" id=\"DejaVuSans-56\" transform=\"scale(0.015625)\"/>\n      <path d=\"M 603 4863 \nL 1178 4863 \nL 1178 0 \nL 603 0 \nL 603 4863 \nz\n\" id=\"DejaVuSans-6c\" transform=\"scale(0.015625)\"/>\n      <path d=\"M 603 3500 \nL 1178 3500 \nL 1178 0 \nL 603 0 \nL 603 3500 \nz\nM 603 4863 \nL 1178 4863 \nL 1178 4134 \nL 603 4134 \nL 603 4863 \nz\n\" id=\"DejaVuSans-69\" transform=\"scale(0.015625)\"/>\n      <path d=\"M 2906 2969 \nL 2906 4863 \nL 3481 4863 \nL 3481 0 \nL 2906 0 \nL 2906 525 \nQ 2725 213 2448 61 \nQ 2172 -91 1784 -91 \nQ 1150 -91 751 415 \nQ 353 922 353 1747 \nQ 353 2572 751 3078 \nQ 1150 3584 1784 3584 \nQ 2172 3584 2448 3432 \nQ 2725 3281 2906 2969 \nz\nM 947 1747 \nQ 947 1113 1208 752 \nQ 1469 391 1925 391 \nQ 2381 391 2643 752 \nQ 2906 1113 2906 1747 \nQ 2906 2381 2643 2742 \nQ 2381 3103 1925 3103 \nQ 1469 3103 1208 2742 \nQ 947 2381 947 1747 \nz\n\" id=\"DejaVuSans-64\" transform=\"scale(0.015625)\"/>\n      <path d=\"M 3513 2113 \nL 3513 0 \nL 2938 0 \nL 2938 2094 \nQ 2938 2591 2744 2837 \nQ 2550 3084 2163 3084 \nQ 1697 3084 1428 2787 \nQ 1159 2491 1159 1978 \nL 1159 0 \nL 581 0 \nL 581 3500 \nL 1159 3500 \nL 1159 2956 \nQ 1366 3272 1645 3428 \nQ 1925 3584 2291 3584 \nQ 2894 3584 3203 3211 \nQ 3513 2838 3513 2113 \nz\n\" id=\"DejaVuSans-6e\" transform=\"scale(0.015625)\"/>\n      <path d=\"M 4122 4306 \nL 4122 3641 \nQ 3803 3938 3442 4084 \nQ 3081 4231 2675 4231 \nQ 1875 4231 1450 3742 \nQ 1025 3253 1025 2328 \nQ 1025 1406 1450 917 \nQ 1875 428 2675 428 \nQ 3081 428 3442 575 \nQ 3803 722 4122 1019 \nL 4122 359 \nQ 3791 134 3420 21 \nQ 3050 -91 2638 -91 \nQ 1578 -91 968 557 \nQ 359 1206 359 2328 \nQ 359 3453 968 4101 \nQ 1578 4750 2638 4750 \nQ 3056 4750 3426 4639 \nQ 3797 4528 4122 4306 \nz\n\" id=\"DejaVuSans-43\" transform=\"scale(0.015625)\"/>\n      <path d=\"M 191 3500 \nL 800 3500 \nL 1894 563 \nL 2988 3500 \nL 3597 3500 \nL 2284 0 \nL 1503 0 \nL 191 3500 \nz\n\" id=\"DejaVuSans-76\" transform=\"scale(0.015625)\"/>\n      <path d=\"M 2375 4863 \nL 2375 4384 \nL 1825 4384 \nQ 1516 4384 1395 4259 \nQ 1275 4134 1275 3809 \nL 1275 3500 \nL 2222 3500 \nL 2222 3053 \nL 1275 3053 \nL 1275 0 \nL 697 0 \nL 697 3053 \nL 147 3053 \nL 147 3500 \nL 697 3500 \nL 697 3744 \nQ 697 4328 969 4595 \nQ 1241 4863 1831 4863 \nL 2375 4863 \nz\n\" id=\"DejaVuSans-66\" transform=\"scale(0.015625)\"/>\n      <path d=\"M 1259 2228 \nL 1259 519 \nL 2272 519 \nQ 2781 519 3026 730 \nQ 3272 941 3272 1375 \nQ 3272 1813 3026 2020 \nQ 2781 2228 2272 2228 \nL 1259 2228 \nz\nM 1259 4147 \nL 1259 2741 \nL 2194 2741 \nQ 2656 2741 2882 2914 \nQ 3109 3088 3109 3444 \nQ 3109 3797 2882 3972 \nQ 2656 4147 2194 4147 \nL 1259 4147 \nz\nM 628 4666 \nL 2241 4666 \nQ 2963 4666 3353 4366 \nQ 3744 4066 3744 3513 \nQ 3744 3084 3544 2831 \nQ 3344 2578 2956 2516 \nQ 3422 2416 3680 2098 \nQ 3938 1781 3938 1306 \nQ 3938 681 3513 340 \nQ 3088 0 2303 0 \nL 628 0 \nL 628 4666 \nz\n\" id=\"DejaVuSans-42\" transform=\"scale(0.015625)\"/>\n     </defs>\n     <use xlink:href=\"#DejaVuSans-56\"/>\n     <use x=\"60.658203\" xlink:href=\"#DejaVuSans-61\"/>\n     <use x=\"121.9375\" xlink:href=\"#DejaVuSans-6c\"/>\n     <use x=\"149.720703\" xlink:href=\"#DejaVuSans-69\"/>\n     <use x=\"177.503906\" xlink:href=\"#DejaVuSans-64\"/>\n     <use x=\"240.980469\" xlink:href=\"#DejaVuSans-61\"/>\n     <use x=\"302.259766\" xlink:href=\"#DejaVuSans-74\"/>\n     <use x=\"341.46875\" xlink:href=\"#DejaVuSans-69\"/>\n     <use x=\"369.251953\" xlink:href=\"#DejaVuSans-6f\"/>\n     <use x=\"430.433594\" xlink:href=\"#DejaVuSans-6e\"/>\n     <use x=\"493.8125\" xlink:href=\"#DejaVuSans-20\"/>\n     <use x=\"525.599609\" xlink:href=\"#DejaVuSans-43\"/>\n     <use x=\"595.423828\" xlink:href=\"#DejaVuSans-75\"/>\n     <use x=\"658.802734\" xlink:href=\"#DejaVuSans-72\"/>\n     <use x=\"699.916016\" xlink:href=\"#DejaVuSans-76\"/>\n     <use x=\"759.095703\" xlink:href=\"#DejaVuSans-65\"/>\n     <use x=\"820.619141\" xlink:href=\"#DejaVuSans-20\"/>\n     <use x=\"852.40625\" xlink:href=\"#DejaVuSans-66\"/>\n     <use x=\"887.611328\" xlink:href=\"#DejaVuSans-6f\"/>\n     <use x=\"948.792969\" xlink:href=\"#DejaVuSans-72\"/>\n     <use x=\"989.90625\" xlink:href=\"#DejaVuSans-20\"/>\n     <use x=\"1021.693359\" xlink:href=\"#DejaVuSans-42\"/>\n     <use x=\"1090.296875\" xlink:href=\"#DejaVuSans-65\"/>\n     <use x=\"1151.820312\" xlink:href=\"#DejaVuSans-73\"/>\n     <use x=\"1203.919922\" xlink:href=\"#DejaVuSans-74\"/>\n     <use x=\"1243.128906\" xlink:href=\"#DejaVuSans-20\"/>\n     <use x=\"1274.916016\" xlink:href=\"#DejaVuSans-4d\"/>\n     <use x=\"1361.195312\" xlink:href=\"#DejaVuSans-6f\"/>\n     <use x=\"1422.376953\" xlink:href=\"#DejaVuSans-64\"/>\n     <use x=\"1485.853516\" xlink:href=\"#DejaVuSans-65\"/>\n     <use x=\"1547.376953\" xlink:href=\"#DejaVuSans-6c\"/>\n    </g>\n   </g>\n   <g id=\"legend_1\">\n    <g id=\"patch_7\">\n     <path d=\"M 229.551562 59.674375 \nL 371.58125 59.674375 \nQ 373.58125 59.674375 373.58125 57.674375 \nL 373.58125 29.318125 \nQ 373.58125 27.318125 371.58125 27.318125 \nL 229.551562 27.318125 \nQ 227.551562 27.318125 227.551562 29.318125 \nL 227.551562 57.674375 \nQ 227.551562 59.674375 229.551562 59.674375 \nz\n\" style=\"fill:#ffffff;opacity:0.8;stroke:#cccccc;stroke-linejoin:miter;\"/>\n    </g>\n    <g id=\"line2d_16\">\n     <path d=\"M 231.551562 35.416562 \nL 251.551562 35.416562 \n\" style=\"fill:none;stroke:#ff8c00;stroke-linecap:square;stroke-width:0.75;\"/>\n    </g>\n    <g id=\"line2d_17\"/>\n    <g id=\"text_17\">\n     <!-- Training score -->\n     <g transform=\"translate(259.551562 38.916562)scale(0.1 -0.1)\">\n      <defs>\n       <path d=\"M -19 4666 \nL 3928 4666 \nL 3928 4134 \nL 2272 4134 \nL 2272 0 \nL 1638 0 \nL 1638 4134 \nL -19 4134 \nL -19 4666 \nz\n\" id=\"DejaVuSans-54\" transform=\"scale(0.015625)\"/>\n       <path d=\"M 2906 1791 \nQ 2906 2416 2648 2759 \nQ 2391 3103 1925 3103 \nQ 1463 3103 1205 2759 \nQ 947 2416 947 1791 \nQ 947 1169 1205 825 \nQ 1463 481 1925 481 \nQ 2391 481 2648 825 \nQ 2906 1169 2906 1791 \nz\nM 3481 434 \nQ 3481 -459 3084 -895 \nQ 2688 -1331 1869 -1331 \nQ 1566 -1331 1297 -1286 \nQ 1028 -1241 775 -1147 \nL 775 -588 \nQ 1028 -725 1275 -790 \nQ 1522 -856 1778 -856 \nQ 2344 -856 2625 -561 \nQ 2906 -266 2906 331 \nL 2906 616 \nQ 2728 306 2450 153 \nQ 2172 0 1784 0 \nQ 1141 0 747 490 \nQ 353 981 353 1791 \nQ 353 2603 747 3093 \nQ 1141 3584 1784 3584 \nQ 2172 3584 2450 3431 \nQ 2728 3278 2906 2969 \nL 2906 3500 \nL 3481 3500 \nL 3481 434 \nz\n\" id=\"DejaVuSans-67\" transform=\"scale(0.015625)\"/>\n      </defs>\n      <use xlink:href=\"#DejaVuSans-54\"/>\n      <use x=\"46.333984\" xlink:href=\"#DejaVuSans-72\"/>\n      <use x=\"87.447266\" xlink:href=\"#DejaVuSans-61\"/>\n      <use x=\"148.726562\" xlink:href=\"#DejaVuSans-69\"/>\n      <use x=\"176.509766\" xlink:href=\"#DejaVuSans-6e\"/>\n      <use x=\"239.888672\" xlink:href=\"#DejaVuSans-69\"/>\n      <use x=\"267.671875\" xlink:href=\"#DejaVuSans-6e\"/>\n      <use x=\"331.050781\" xlink:href=\"#DejaVuSans-67\"/>\n      <use x=\"394.527344\" xlink:href=\"#DejaVuSans-20\"/>\n      <use x=\"426.314453\" xlink:href=\"#DejaVuSans-73\"/>\n      <use x=\"478.414062\" xlink:href=\"#DejaVuSans-63\"/>\n      <use x=\"533.394531\" xlink:href=\"#DejaVuSans-6f\"/>\n      <use x=\"594.576172\" xlink:href=\"#DejaVuSans-72\"/>\n      <use x=\"633.439453\" xlink:href=\"#DejaVuSans-65\"/>\n     </g>\n    </g>\n    <g id=\"line2d_18\">\n     <path d=\"M 231.551562 50.094687 \nL 251.551562 50.094687 \n\" style=\"fill:none;stroke:#000080;stroke-linecap:square;stroke-width:0.75;\"/>\n    </g>\n    <g id=\"line2d_19\"/>\n    <g id=\"text_18\">\n     <!-- Cross-validation score -->\n     <g transform=\"translate(259.551562 53.594687)scale(0.1 -0.1)\">\n      <defs>\n       <path d=\"M 313 2009 \nL 1997 2009 \nL 1997 1497 \nL 313 1497 \nL 313 2009 \nz\n\" id=\"DejaVuSans-2d\" transform=\"scale(0.015625)\"/>\n      </defs>\n      <use xlink:href=\"#DejaVuSans-43\"/>\n      <use x=\"69.824219\" xlink:href=\"#DejaVuSans-72\"/>\n      <use x=\"108.6875\" xlink:href=\"#DejaVuSans-6f\"/>\n      <use x=\"169.869141\" xlink:href=\"#DejaVuSans-73\"/>\n      <use x=\"221.96875\" xlink:href=\"#DejaVuSans-73\"/>\n      <use x=\"274.068359\" xlink:href=\"#DejaVuSans-2d\"/>\n      <use x=\"307.527344\" xlink:href=\"#DejaVuSans-76\"/>\n      <use x=\"366.707031\" xlink:href=\"#DejaVuSans-61\"/>\n      <use x=\"427.986328\" xlink:href=\"#DejaVuSans-6c\"/>\n      <use x=\"455.769531\" xlink:href=\"#DejaVuSans-69\"/>\n      <use x=\"483.552734\" xlink:href=\"#DejaVuSans-64\"/>\n      <use x=\"547.029297\" xlink:href=\"#DejaVuSans-61\"/>\n      <use x=\"608.308594\" xlink:href=\"#DejaVuSans-74\"/>\n      <use x=\"647.517578\" xlink:href=\"#DejaVuSans-69\"/>\n      <use x=\"675.300781\" xlink:href=\"#DejaVuSans-6f\"/>\n      <use x=\"736.482422\" xlink:href=\"#DejaVuSans-6e\"/>\n      <use x=\"799.861328\" xlink:href=\"#DejaVuSans-20\"/>\n      <use x=\"831.648438\" xlink:href=\"#DejaVuSans-73\"/>\n      <use x=\"883.748047\" xlink:href=\"#DejaVuSans-63\"/>\n      <use x=\"938.728516\" xlink:href=\"#DejaVuSans-6f\"/>\n      <use x=\"999.910156\" xlink:href=\"#DejaVuSans-72\"/>\n      <use x=\"1038.773438\" xlink:href=\"#DejaVuSans-65\"/>\n     </g>\n    </g>\n   </g>\n  </g>\n </g>\n <defs>\n  <clipPath id=\"p162781fe40\">\n   <rect height=\"217.44\" width=\"334.8\" x=\"43.78125\" y=\"22.318125\"/>\n  </clipPath>\n </defs>\n</svg>\n",
      "image/png": "[encoded data removed]"
     },
     "metadata": {
      "needs_background": "light"
     }
    }
   ],
   "metadata": {}
  },
  {
   "cell_type": "code",
   "execution_count": 472,
   "source": [
    "# Get Validation Curves for the Best Model\n",
    "best_model = clf_bagged\n",
    "fig_name = 'output-bagged-2.png'\n",
    "varying_param = 'n_estimators'\n",
    "train_scores, test_scores = validation_curve(best_model.best_estimator_, training.drop(['income>50K'],axis=1),training['income>50K'],cv=5, \n",
    "                                            param_name=varying_param, param_range=param_grid[varying_param], scoring='accuracy', n_jobs=-1)\n",
    "train_scores_mean = np.mean(train_scores, axis=1)\n",
    "train_scores_std = np.std(train_scores, axis=1)\n",
    "test_scores_mean = np.mean(test_scores, axis=1)\n",
    "test_scores_std = np.std(test_scores, axis=1)\n",
    "\n",
    "plt.title(\"Validation Curve for Best Model\")\n",
    "plt.xlabel('Number of Estimators')\n",
    "plt.ylabel(\"Score\")\n",
    "plt.ylim(0.0, 1.1)\n",
    "lw = 0.75\n",
    "plt.plot(\n",
    "    param_grid[varying_param], train_scores_mean, label=\"Training score\", color=\"darkorange\", lw=lw\n",
    ")\n",
    "plt.fill_between(\n",
    "    param_grid[varying_param],\n",
    "    train_scores_mean - train_scores_std,\n",
    "    train_scores_mean + train_scores_std,\n",
    "    alpha=0.2,\n",
    "    color=\"darkorange\",\n",
    "    lw=lw,\n",
    ")\n",
    "plt.plot(\n",
    "    param_grid[varying_param], test_scores_mean, label=\"Cross-validation score\", color=\"navy\", lw=lw\n",
    ")\n",
    "plt.fill_between(\n",
    "    param_grid[varying_param],\n",
    "    test_scores_mean - test_scores_std,\n",
    "    test_scores_mean + test_scores_std,\n",
    "    alpha=0.2,\n",
    "    color=\"navy\",\n",
    "    lw=lw,\n",
    ")\n",
    "plt.legend(loc=\"best\")\n",
    "plt.savefig(f'Figures/{fig_name}', dpi=200)\n",
    "plt.show()"
   ],
   "outputs": [
    {
     "output_type": "display_data",
     "data": {
      "text/plain": [
       "<Figure size 432x288 with 1 Axes>"
      ],
      "image/svg+xml": "<?xml version=\"1.0\" encoding=\"utf-8\" standalone=\"no\"?>\n<!DOCTYPE svg PUBLIC \"-//W3C//DTD SVG 1.1//EN\"\n  \"http://www.w3.org/Graphics/SVG/1.1/DTD/svg11.dtd\">\n<svg height=\"277.314375pt\" version=\"1.1\" viewBox=\"0 0 385.78125 277.314375\" width=\"385.78125pt\" xmlns=\"http://www.w3.org/2000/svg\" xmlns:xlink=\"http://www.w3.org/1999/xlink\">\n <metadata>\n  <rdf:RDF xmlns:cc=\"http://creativecommons.org/ns#\" xmlns:dc=\"http://purl.org/dc/elements/1.1/\" xmlns:rdf=\"http://www.w3.org/1999/02/22-rdf-syntax-ns#\">\n   <cc:Work>\n    <dc:type rdf:resource=\"http://purl.org/dc/dcmitype/StillImage\"/>\n    <dc:date>2021-12-19T16:38:35.871169</dc:date>\n    <dc:format>image/svg+xml</dc:format>\n    <dc:creator>\n     <cc:Agent>\n      <dc:title>Matplotlib v3.4.3, https://matplotlib.org/</dc:title>\n     </cc:Agent>\n    </dc:creator>\n   </cc:Work>\n  </rdf:RDF>\n </metadata>\n <defs>\n  <style type=\"text/css\">*{stroke-linecap:butt;stroke-linejoin:round;}</style>\n </defs>\n <g id=\"figure_1\">\n  <g id=\"patch_1\">\n   <path d=\"M 0 277.314375 \nL 385.78125 277.314375 \nL 385.78125 0 \nL 0 0 \nz\n\" style=\"fill:none;\"/>\n  </g>\n  <g id=\"axes_1\">\n   <g id=\"patch_2\">\n    <path d=\"M 43.78125 239.758125 \nL 378.58125 239.758125 \nL 378.58125 22.318125 \nL 43.78125 22.318125 \nz\n\" style=\"fill:#ffffff;\"/>\n   </g>\n   <g id=\"PolyCollection_1\">\n    <defs>\n     <path d=\"M 58.999432 -212.288096 \nL 58.999432 -211.752348 \nL 62.073812 -211.80274 \nL 65.148192 -211.808414 \nL 68.222572 -211.803026 \nL 71.296952 -211.770857 \nL 74.371333 -211.75647 \nL 77.445713 -211.777834 \nL 80.520093 -211.814588 \nL 83.594473 -211.839806 \nL 86.668853 -211.794454 \nL 89.743233 -211.79307 \nL 92.817614 -211.822163 \nL 95.891994 -211.810535 \nL 98.966374 -211.806209 \nL 102.040754 -211.829761 \nL 105.115134 -211.872055 \nL 108.189514 -211.853491 \nL 111.263895 -211.826547 \nL 114.338275 -211.836347 \nL 117.412655 -211.828752 \nL 120.487035 -211.82671 \nL 123.561415 -211.843446 \nL 126.635795 -211.854692 \nL 129.710176 -211.88685 \nL 132.784556 -211.865819 \nL 135.858936 -211.879641 \nL 138.933316 -211.895366 \nL 142.007696 -211.880006 \nL 145.082076 -211.845251 \nL 148.156457 -211.858916 \nL 151.230837 -211.876532 \nL 154.305217 -211.919842 \nL 157.379597 -211.864132 \nL 160.453977 -211.844683 \nL 163.528357 -211.833501 \nL 166.602738 -211.891648 \nL 169.677118 -211.893785 \nL 172.751498 -211.898924 \nL 175.825878 -211.876655 \nL 178.900258 -211.852642 \nL 181.974638 -211.829935 \nL 185.049019 -211.878303 \nL 188.123399 -211.863485 \nL 191.197779 -211.89582 \nL 194.272159 -211.867554 \nL 197.346539 -211.814368 \nL 200.420919 -211.825076 \nL 203.4953 -211.825706 \nL 206.56968 -211.824427 \nL 209.64406 -211.817625 \nL 212.71844 -211.810667 \nL 215.79282 -211.81114 \nL 218.8672 -211.837197 \nL 221.941581 -211.841719 \nL 225.015961 -211.805608 \nL 228.090341 -211.823214 \nL 231.164721 -211.848506 \nL 234.239101 -211.836297 \nL 237.313481 -211.78554 \nL 240.387862 -211.820984 \nL 243.462242 -211.81328 \nL 246.536622 -211.823307 \nL 249.611002 -211.839807 \nL 252.685382 -211.821534 \nL 255.759762 -211.832158 \nL 258.834143 -211.81623 \nL 261.908523 -211.837315 \nL 264.982903 -211.850633 \nL 268.057283 -211.81179 \nL 271.131663 -211.835113 \nL 274.206043 -211.866923 \nL 277.280424 -211.845815 \nL 280.354804 -211.847516 \nL 283.429184 -211.849561 \nL 286.503564 -211.83726 \nL 289.577944 -211.830014 \nL 292.652324 -211.846216 \nL 295.726705 -211.838379 \nL 298.801085 -211.790987 \nL 301.875465 -211.797434 \nL 304.949845 -211.812966 \nL 308.024225 -211.825076 \nL 311.098605 -211.819794 \nL 314.172986 -211.810704 \nL 317.247366 -211.813406 \nL 320.321746 -211.803911 \nL 323.396126 -211.822255 \nL 326.470506 -211.835067 \nL 329.544886 -211.827238 \nL 332.619267 -211.85341 \nL 335.693647 -211.830843 \nL 338.768027 -211.852016 \nL 341.842407 -211.841693 \nL 344.916787 -211.859756 \nL 347.991167 -211.870429 \nL 351.065548 -211.866245 \nL 354.139928 -211.864612 \nL 357.214308 -211.876959 \nL 360.288688 -211.850301 \nL 363.363068 -211.84159 \nL 363.363068 -212.353039 \nL 363.363068 -212.353039 \nL 360.288688 -212.356189 \nL 357.214308 -212.369065 \nL 354.139928 -212.345831 \nL 351.065548 -212.356059 \nL 347.991167 -212.351875 \nL 344.916787 -212.338826 \nL 341.842407 -212.337123 \nL 338.768027 -212.318892 \nL 335.693647 -212.336112 \nL 332.619267 -212.35308 \nL 329.544886 -212.347624 \nL 326.470506 -212.351655 \nL 323.396126 -212.352607 \nL 320.321746 -212.366998 \nL 317.247366 -212.345642 \nL 314.172986 -212.348345 \nL 311.098605 -212.347161 \nL 308.024225 -212.357693 \nL 304.949845 -212.346082 \nL 301.875465 -212.33394 \nL 298.801085 -212.33248 \nL 295.726705 -212.328576 \nL 292.652324 -212.348414 \nL 289.577944 -212.360662 \nL 286.503564 -212.373183 \nL 283.429184 -212.38065 \nL 280.354804 -212.398509 \nL 277.280424 -212.404163 \nL 274.206043 -212.387009 \nL 271.131663 -212.379284 \nL 268.057283 -212.378886 \nL 264.982903 -212.375624 \nL 261.908523 -212.345454 \nL 258.834143 -212.338865 \nL 255.759762 -212.358518 \nL 252.685382 -212.349375 \nL 249.611002 -212.339008 \nL 246.536622 -212.327834 \nL 243.462242 -212.353675 \nL 240.387862 -212.334111 \nL 237.313481 -212.333974 \nL 234.239101 -212.358333 \nL 231.164721 -212.361938 \nL 228.090341 -212.351648 \nL 225.015961 -212.357394 \nL 221.941581 -212.364771 \nL 218.8672 -212.357433 \nL 215.79282 -212.347908 \nL 212.71844 -212.328614 \nL 209.64406 -212.321656 \nL 206.56968 -212.334622 \nL 203.4953 -212.361016 \nL 200.420919 -212.357693 \nL 197.346539 -212.340727 \nL 194.272159 -212.34289 \nL 191.197779 -212.369971 \nL 188.123399 -212.339051 \nL 185.049019 -212.359814 \nL 181.974638 -212.317253 \nL 178.900258 -212.294546 \nL 175.825878 -212.302161 \nL 172.751498 -212.307566 \nL 169.677118 -212.320612 \nL 166.602738 -212.342516 \nL 163.528357 -212.337408 \nL 160.453977 -212.326226 \nL 157.379597 -212.306777 \nL 154.305217 -212.326183 \nL 151.230837 -212.329958 \nL 148.156457 -212.35548 \nL 145.082076 -212.321704 \nL 142.007696 -212.326484 \nL 138.933316 -212.307171 \nL 135.858936 -212.314988 \nL 132.784556 -212.312997 \nL 129.710176 -212.31964 \nL 126.635795 -212.347845 \nL 123.561415 -212.295836 \nL 120.487035 -212.316524 \nL 117.412655 -212.330296 \nL 114.338275 -212.322702 \nL 111.263895 -212.356222 \nL 108.189514 -212.321371 \nL 105.115134 -212.322575 \nL 102.040754 -212.313474 \nL 98.966374 -212.281677 \nL 95.891994 -212.316886 \nL 92.817614 -212.317119 \nL 89.743233 -212.318537 \nL 86.668853 -212.332966 \nL 83.594473 -212.323196 \nL 80.520093 -212.316786 \nL 77.445713 -212.329819 \nL 74.371333 -212.264208 \nL 71.296952 -212.269588 \nL 68.222572 -212.284861 \nL 65.148192 -212.239938 \nL 62.073812 -212.265379 \nL 58.999432 -212.288096 \nz\n\" id=\"m0b9b3a999a\" style=\"stroke:#ff8c00;stroke-opacity:0.2;stroke-width:0.75;\"/>\n    </defs>\n    <g clip-path=\"url(#p1a1a0938c0)\">\n     <use style=\"fill:#ff8c00;fill-opacity:0.2;stroke:#ff8c00;stroke-opacity:0.2;stroke-width:0.75;\" x=\"0\" xlink:href=\"#m0b9b3a999a\" y=\"277.314375\"/>\n    </g>\n   </g>\n   <g id=\"PolyCollection_2\">\n    <defs>\n     <path d=\"M 58.999432 -208.783139 \nL 58.999432 -207.923647 \nL 62.073812 -207.966271 \nL 65.148192 -208.039626 \nL 68.222572 -207.916031 \nL 71.296952 -207.956187 \nL 74.371333 -207.969007 \nL 77.445713 -207.957755 \nL 80.520093 -207.988407 \nL 83.594473 -207.960171 \nL 86.668853 -207.857609 \nL 89.743233 -207.928769 \nL 92.817614 -207.993335 \nL 95.891994 -207.954113 \nL 98.966374 -207.932355 \nL 102.040754 -207.914576 \nL 105.115134 -207.937697 \nL 108.189514 -207.905983 \nL 111.263895 -207.99194 \nL 114.338275 -207.949989 \nL 117.412655 -207.995649 \nL 120.487035 -208.005819 \nL 123.561415 -207.921132 \nL 126.635795 -207.893431 \nL 129.710176 -208.000482 \nL 132.784556 -207.984726 \nL 135.858936 -207.957675 \nL 138.933316 -207.976674 \nL 142.007696 -207.969041 \nL 145.082076 -207.981992 \nL 148.156457 -208.03287 \nL 151.230837 -208.017073 \nL 154.305217 -208.011424 \nL 157.379597 -207.986821 \nL 160.453977 -208.004784 \nL 163.528357 -207.972593 \nL 166.602738 -208.009308 \nL 169.677118 -208.024523 \nL 172.751498 -207.980781 \nL 175.825878 -208.024985 \nL 178.900258 -208.063306 \nL 181.974638 -207.991488 \nL 185.049019 -208.021638 \nL 188.123399 -207.986145 \nL 191.197779 -208.042209 \nL 194.272159 -208.020264 \nL 197.346539 -208.057919 \nL 200.420919 -207.996877 \nL 203.4953 -207.980271 \nL 206.56968 -207.955813 \nL 209.64406 -207.95411 \nL 212.71844 -207.990221 \nL 215.79282 -207.969039 \nL 218.8672 -208.016109 \nL 221.941581 -208.005753 \nL 225.015961 -208.002468 \nL 228.090341 -208.048156 \nL 231.164721 -208.000338 \nL 234.239101 -208.035037 \nL 237.313481 -208.083295 \nL 240.387862 -208.033034 \nL 243.462242 -208.030181 \nL 246.536622 -208.043761 \nL 249.611002 -208.051924 \nL 252.685382 -208.042251 \nL 255.759762 -208.020316 \nL 258.834143 -208.065564 \nL 261.908523 -208.060078 \nL 264.982903 -208.018552 \nL 268.057283 -207.992144 \nL 271.131663 -208.02589 \nL 274.206043 -208.009914 \nL 277.280424 -208.014129 \nL 280.354804 -208.007658 \nL 283.429184 -207.994066 \nL 286.503564 -208.006445 \nL 289.577944 -208.003267 \nL 292.652324 -207.968044 \nL 295.726705 -207.978261 \nL 298.801085 -207.977433 \nL 301.875465 -207.976674 \nL 304.949845 -207.983281 \nL 308.024225 -207.999632 \nL 311.098605 -207.996877 \nL 314.172986 -208.019112 \nL 317.247366 -207.984726 \nL 320.321746 -207.978974 \nL 323.396126 -207.980405 \nL 326.470506 -207.974197 \nL 329.544886 -207.98561 \nL 332.619267 -207.957283 \nL 335.693647 -207.983782 \nL 338.768027 -207.993646 \nL 341.842407 -207.935333 \nL 344.916787 -207.92958 \nL 347.991167 -207.889487 \nL 351.065548 -207.987047 \nL 354.139928 -207.949299 \nL 357.214308 -207.939344 \nL 360.288688 -207.979375 \nL 363.363068 -207.956007 \nL 363.363068 -208.87729 \nL 363.363068 -208.87729 \nL 360.288688 -208.869736 \nL 357.214308 -208.893953 \nL 354.139928 -208.915626 \nL 351.065548 -208.941133 \nL 347.991167 -208.896369 \nL 344.916787 -208.856275 \nL 341.842407 -208.866336 \nL 338.768027 -208.902906 \nL 335.693647 -208.944398 \nL 332.619267 -208.939269 \nL 329.544886 -208.958384 \nL 326.470506 -208.906542 \nL 323.396126 -208.852892 \nL 320.321746 -208.854323 \nL 317.247366 -208.848571 \nL 314.172986 -208.87744 \nL 311.098605 -208.883862 \nL 308.024225 -208.912734 \nL 304.949845 -208.850016 \nL 301.875465 -208.840809 \nL 298.801085 -208.919119 \nL 295.726705 -208.855037 \nL 292.652324 -208.833625 \nL 289.577944 -208.877472 \nL 286.503564 -208.921735 \nL 283.429184 -208.886672 \nL 280.354804 -208.841453 \nL 277.280424 -208.86661 \nL 274.206043 -208.839197 \nL 271.131663 -208.839034 \nL 268.057283 -208.825339 \nL 264.982903 -208.862186 \nL 261.908523 -208.883916 \nL 258.834143 -208.894244 \nL 255.759762 -208.907864 \nL 252.685382 -208.901743 \nL 249.611002 -208.860442 \nL 246.536622 -208.836978 \nL 243.462242 -208.866372 \nL 240.387862 -208.879332 \nL 237.313481 -208.876512 \nL 234.239101 -208.908956 \nL 231.164721 -208.927842 \nL 228.090341 -208.943279 \nL 225.015961 -208.95734 \nL 221.941581 -208.954055 \nL 218.8672 -208.912071 \nL 215.79282 -208.959141 \nL 212.71844 -208.906331 \nL 209.64406 -208.942442 \nL 206.56968 -208.909112 \nL 203.4953 -208.900467 \nL 200.420919 -208.883862 \nL 197.346539 -208.917702 \nL 194.272159 -208.92373 \nL 191.197779 -208.933413 \nL 188.123399 -208.910408 \nL 185.049019 -208.953983 \nL 181.974638 -208.920878 \nL 178.900258 -208.896501 \nL 175.825878 -208.887382 \nL 172.751498 -208.86833 \nL 169.677118 -208.856216 \nL 166.602738 -208.823989 \nL 163.528357 -208.860704 \nL 160.453977 -208.891769 \nL 157.379597 -208.909731 \nL 154.305217 -208.837687 \nL 151.230837 -208.863666 \nL 148.156457 -208.832055 \nL 145.082076 -208.819677 \nL 142.007696 -208.816815 \nL 138.933316 -208.840809 \nL 135.858936 -208.796553 \nL 132.784556 -208.848571 \nL 129.710176 -208.817002 \nL 126.635795 -208.813355 \nL 123.561415 -208.754027 \nL 120.487035 -208.764223 \nL 117.412655 -208.80602 \nL 114.338275 -208.772611 \nL 111.263895 -208.872984 \nL 108.189514 -208.816617 \nL 105.115134 -208.769089 \nL 102.040754 -208.855465 \nL 98.966374 -208.821873 \nL 95.891994 -208.784301 \nL 92.817614 -208.79252 \nL 89.743233 -208.778017 \nL 86.668853 -208.785922 \nL 83.594473 -208.841499 \nL 80.520093 -208.876518 \nL 77.445713 -208.812287 \nL 74.371333 -208.785221 \nL 71.296952 -208.798041 \nL 68.222572 -208.774941 \nL 65.148192 -208.809485 \nL 62.073812 -208.756329 \nL 58.999432 -208.783139 \nz\n\" id=\"m40c14b0a80\" style=\"stroke:#000080;stroke-opacity:0.2;stroke-width:0.75;\"/>\n    </defs>\n    <g clip-path=\"url(#p1a1a0938c0)\">\n     <use style=\"fill:#000080;fill-opacity:0.2;stroke:#000080;stroke-opacity:0.2;stroke-width:0.75;\" x=\"0\" xlink:href=\"#m40c14b0a80\" y=\"277.314375\"/>\n    </g>\n   </g>\n   <g id=\"matplotlib.axis_1\">\n    <g id=\"xtick_1\">\n     <g id=\"line2d_1\">\n      <defs>\n       <path d=\"M 0 0 \nL 0 3.5 \n\" id=\"m77ad0d7591\" style=\"stroke:#000000;stroke-width:0.8;\"/>\n      </defs>\n      <g>\n       <use style=\"stroke:#000000;stroke-width:0.8;\" x=\"58.999432\" xlink:href=\"#m77ad0d7591\" y=\"239.758125\"/>\n      </g>\n     </g>\n     <g id=\"text_1\">\n      <!-- 100 -->\n      <g transform=\"translate(49.455682 254.356562)scale(0.1 -0.1)\">\n       <defs>\n        <path d=\"M 794 531 \nL 1825 531 \nL 1825 4091 \nL 703 3866 \nL 703 4441 \nL 1819 4666 \nL 2450 4666 \nL 2450 531 \nL 3481 531 \nL 3481 0 \nL 794 0 \nL 794 531 \nz\n\" id=\"DejaVuSans-31\" transform=\"scale(0.015625)\"/>\n        <path d=\"M 2034 4250 \nQ 1547 4250 1301 3770 \nQ 1056 3291 1056 2328 \nQ 1056 1369 1301 889 \nQ 1547 409 2034 409 \nQ 2525 409 2770 889 \nQ 3016 1369 3016 2328 \nQ 3016 3291 2770 3770 \nQ 2525 4250 2034 4250 \nz\nM 2034 4750 \nQ 2819 4750 3233 4129 \nQ 3647 3509 3647 2328 \nQ 3647 1150 3233 529 \nQ 2819 -91 2034 -91 \nQ 1250 -91 836 529 \nQ 422 1150 422 2328 \nQ 422 3509 836 4129 \nQ 1250 4750 2034 4750 \nz\n\" id=\"DejaVuSans-30\" transform=\"scale(0.015625)\"/>\n       </defs>\n       <use xlink:href=\"#DejaVuSans-31\"/>\n       <use x=\"63.623047\" xlink:href=\"#DejaVuSans-30\"/>\n       <use x=\"127.246094\" xlink:href=\"#DejaVuSans-30\"/>\n      </g>\n     </g>\n    </g>\n    <g id=\"xtick_2\">\n     <g id=\"line2d_2\">\n      <g>\n       <use style=\"stroke:#000000;stroke-width:0.8;\" x=\"97.429184\" xlink:href=\"#m77ad0d7591\" y=\"239.758125\"/>\n      </g>\n     </g>\n     <g id=\"text_2\">\n      <!-- 125 -->\n      <g transform=\"translate(87.885434 254.356562)scale(0.1 -0.1)\">\n       <defs>\n        <path d=\"M 1228 531 \nL 3431 531 \nL 3431 0 \nL 469 0 \nL 469 531 \nQ 828 903 1448 1529 \nQ 2069 2156 2228 2338 \nQ 2531 2678 2651 2914 \nQ 2772 3150 2772 3378 \nQ 2772 3750 2511 3984 \nQ 2250 4219 1831 4219 \nQ 1534 4219 1204 4116 \nQ 875 4013 500 3803 \nL 500 4441 \nQ 881 4594 1212 4672 \nQ 1544 4750 1819 4750 \nQ 2544 4750 2975 4387 \nQ 3406 4025 3406 3419 \nQ 3406 3131 3298 2873 \nQ 3191 2616 2906 2266 \nQ 2828 2175 2409 1742 \nQ 1991 1309 1228 531 \nz\n\" id=\"DejaVuSans-32\" transform=\"scale(0.015625)\"/>\n        <path d=\"M 691 4666 \nL 3169 4666 \nL 3169 4134 \nL 1269 4134 \nL 1269 2991 \nQ 1406 3038 1543 3061 \nQ 1681 3084 1819 3084 \nQ 2600 3084 3056 2656 \nQ 3513 2228 3513 1497 \nQ 3513 744 3044 326 \nQ 2575 -91 1722 -91 \nQ 1428 -91 1123 -41 \nQ 819 9 494 109 \nL 494 744 \nQ 775 591 1075 516 \nQ 1375 441 1709 441 \nQ 2250 441 2565 725 \nQ 2881 1009 2881 1497 \nQ 2881 1984 2565 2268 \nQ 2250 2553 1709 2553 \nQ 1456 2553 1204 2497 \nQ 953 2441 691 2322 \nL 691 4666 \nz\n\" id=\"DejaVuSans-35\" transform=\"scale(0.015625)\"/>\n       </defs>\n       <use xlink:href=\"#DejaVuSans-31\"/>\n       <use x=\"63.623047\" xlink:href=\"#DejaVuSans-32\"/>\n       <use x=\"127.246094\" xlink:href=\"#DejaVuSans-35\"/>\n      </g>\n     </g>\n    </g>\n    <g id=\"xtick_3\">\n     <g id=\"line2d_3\">\n      <g>\n       <use style=\"stroke:#000000;stroke-width:0.8;\" x=\"135.858936\" xlink:href=\"#m77ad0d7591\" y=\"239.758125\"/>\n      </g>\n     </g>\n     <g id=\"text_3\">\n      <!-- 150 -->\n      <g transform=\"translate(126.315186 254.356562)scale(0.1 -0.1)\">\n       <use xlink:href=\"#DejaVuSans-31\"/>\n       <use x=\"63.623047\" xlink:href=\"#DejaVuSans-35\"/>\n       <use x=\"127.246094\" xlink:href=\"#DejaVuSans-30\"/>\n      </g>\n     </g>\n    </g>\n    <g id=\"xtick_4\">\n     <g id=\"line2d_4\">\n      <g>\n       <use style=\"stroke:#000000;stroke-width:0.8;\" x=\"174.288688\" xlink:href=\"#m77ad0d7591\" y=\"239.758125\"/>\n      </g>\n     </g>\n     <g id=\"text_4\">\n      <!-- 175 -->\n      <g transform=\"translate(164.744938 254.356562)scale(0.1 -0.1)\">\n       <defs>\n        <path d=\"M 525 4666 \nL 3525 4666 \nL 3525 4397 \nL 1831 0 \nL 1172 0 \nL 2766 4134 \nL 525 4134 \nL 525 4666 \nz\n\" id=\"DejaVuSans-37\" transform=\"scale(0.015625)\"/>\n       </defs>\n       <use xlink:href=\"#DejaVuSans-31\"/>\n       <use x=\"63.623047\" xlink:href=\"#DejaVuSans-37\"/>\n       <use x=\"127.246094\" xlink:href=\"#DejaVuSans-35\"/>\n      </g>\n     </g>\n    </g>\n    <g id=\"xtick_5\">\n     <g id=\"line2d_5\">\n      <g>\n       <use style=\"stroke:#000000;stroke-width:0.8;\" x=\"212.71844\" xlink:href=\"#m77ad0d7591\" y=\"239.758125\"/>\n      </g>\n     </g>\n     <g id=\"text_5\">\n      <!-- 200 -->\n      <g transform=\"translate(203.17469 254.356562)scale(0.1 -0.1)\">\n       <use xlink:href=\"#DejaVuSans-32\"/>\n       <use x=\"63.623047\" xlink:href=\"#DejaVuSans-30\"/>\n       <use x=\"127.246094\" xlink:href=\"#DejaVuSans-30\"/>\n      </g>\n     </g>\n    </g>\n    <g id=\"xtick_6\">\n     <g id=\"line2d_6\">\n      <g>\n       <use style=\"stroke:#000000;stroke-width:0.8;\" x=\"251.148192\" xlink:href=\"#m77ad0d7591\" y=\"239.758125\"/>\n      </g>\n     </g>\n     <g id=\"text_6\">\n      <!-- 225 -->\n      <g transform=\"translate(241.604442 254.356562)scale(0.1 -0.1)\">\n       <use xlink:href=\"#DejaVuSans-32\"/>\n       <use x=\"63.623047\" xlink:href=\"#DejaVuSans-32\"/>\n       <use x=\"127.246094\" xlink:href=\"#DejaVuSans-35\"/>\n      </g>\n     </g>\n    </g>\n    <g id=\"xtick_7\">\n     <g id=\"line2d_7\">\n      <g>\n       <use style=\"stroke:#000000;stroke-width:0.8;\" x=\"289.577944\" xlink:href=\"#m77ad0d7591\" y=\"239.758125\"/>\n      </g>\n     </g>\n     <g id=\"text_7\">\n      <!-- 250 -->\n      <g transform=\"translate(280.034194 254.356562)scale(0.1 -0.1)\">\n       <use xlink:href=\"#DejaVuSans-32\"/>\n       <use x=\"63.623047\" xlink:href=\"#DejaVuSans-35\"/>\n       <use x=\"127.246094\" xlink:href=\"#DejaVuSans-30\"/>\n      </g>\n     </g>\n    </g>\n    <g id=\"xtick_8\">\n     <g id=\"line2d_8\">\n      <g>\n       <use style=\"stroke:#000000;stroke-width:0.8;\" x=\"328.007696\" xlink:href=\"#m77ad0d7591\" y=\"239.758125\"/>\n      </g>\n     </g>\n     <g id=\"text_8\">\n      <!-- 275 -->\n      <g transform=\"translate(318.463946 254.356562)scale(0.1 -0.1)\">\n       <use xlink:href=\"#DejaVuSans-32\"/>\n       <use x=\"63.623047\" xlink:href=\"#DejaVuSans-37\"/>\n       <use x=\"127.246094\" xlink:href=\"#DejaVuSans-35\"/>\n      </g>\n     </g>\n    </g>\n    <g id=\"xtick_9\">\n     <g id=\"line2d_9\">\n      <g>\n       <use style=\"stroke:#000000;stroke-width:0.8;\" x=\"366.437448\" xlink:href=\"#m77ad0d7591\" y=\"239.758125\"/>\n      </g>\n     </g>\n     <g id=\"text_9\">\n      <!-- 300 -->\n      <g transform=\"translate(356.893698 254.356562)scale(0.1 -0.1)\">\n       <defs>\n        <path d=\"M 2597 2516 \nQ 3050 2419 3304 2112 \nQ 3559 1806 3559 1356 \nQ 3559 666 3084 287 \nQ 2609 -91 1734 -91 \nQ 1441 -91 1130 -33 \nQ 819 25 488 141 \nL 488 750 \nQ 750 597 1062 519 \nQ 1375 441 1716 441 \nQ 2309 441 2620 675 \nQ 2931 909 2931 1356 \nQ 2931 1769 2642 2001 \nQ 2353 2234 1838 2234 \nL 1294 2234 \nL 1294 2753 \nL 1863 2753 \nQ 2328 2753 2575 2939 \nQ 2822 3125 2822 3475 \nQ 2822 3834 2567 4026 \nQ 2313 4219 1838 4219 \nQ 1578 4219 1281 4162 \nQ 984 4106 628 3988 \nL 628 4550 \nQ 988 4650 1302 4700 \nQ 1616 4750 1894 4750 \nQ 2613 4750 3031 4423 \nQ 3450 4097 3450 3541 \nQ 3450 3153 3228 2886 \nQ 3006 2619 2597 2516 \nz\n\" id=\"DejaVuSans-33\" transform=\"scale(0.015625)\"/>\n       </defs>\n       <use xlink:href=\"#DejaVuSans-33\"/>\n       <use x=\"63.623047\" xlink:href=\"#DejaVuSans-30\"/>\n       <use x=\"127.246094\" xlink:href=\"#DejaVuSans-30\"/>\n      </g>\n     </g>\n    </g>\n    <g id=\"text_10\">\n     <!-- Number of Estimators -->\n     <g transform=\"translate(156.370313 268.034687)scale(0.1 -0.1)\">\n      <defs>\n       <path d=\"M 628 4666 \nL 1478 4666 \nL 3547 763 \nL 3547 4666 \nL 4159 4666 \nL 4159 0 \nL 3309 0 \nL 1241 3903 \nL 1241 0 \nL 628 0 \nL 628 4666 \nz\n\" id=\"DejaVuSans-4e\" transform=\"scale(0.015625)\"/>\n       <path d=\"M 544 1381 \nL 544 3500 \nL 1119 3500 \nL 1119 1403 \nQ 1119 906 1312 657 \nQ 1506 409 1894 409 \nQ 2359 409 2629 706 \nQ 2900 1003 2900 1516 \nL 2900 3500 \nL 3475 3500 \nL 3475 0 \nL 2900 0 \nL 2900 538 \nQ 2691 219 2414 64 \nQ 2138 -91 1772 -91 \nQ 1169 -91 856 284 \nQ 544 659 544 1381 \nz\nM 1991 3584 \nL 1991 3584 \nz\n\" id=\"DejaVuSans-75\" transform=\"scale(0.015625)\"/>\n       <path d=\"M 3328 2828 \nQ 3544 3216 3844 3400 \nQ 4144 3584 4550 3584 \nQ 5097 3584 5394 3201 \nQ 5691 2819 5691 2113 \nL 5691 0 \nL 5113 0 \nL 5113 2094 \nQ 5113 2597 4934 2840 \nQ 4756 3084 4391 3084 \nQ 3944 3084 3684 2787 \nQ 3425 2491 3425 1978 \nL 3425 0 \nL 2847 0 \nL 2847 2094 \nQ 2847 2600 2669 2842 \nQ 2491 3084 2119 3084 \nQ 1678 3084 1418 2786 \nQ 1159 2488 1159 1978 \nL 1159 0 \nL 581 0 \nL 581 3500 \nL 1159 3500 \nL 1159 2956 \nQ 1356 3278 1631 3431 \nQ 1906 3584 2284 3584 \nQ 2666 3584 2933 3390 \nQ 3200 3197 3328 2828 \nz\n\" id=\"DejaVuSans-6d\" transform=\"scale(0.015625)\"/>\n       <path d=\"M 3116 1747 \nQ 3116 2381 2855 2742 \nQ 2594 3103 2138 3103 \nQ 1681 3103 1420 2742 \nQ 1159 2381 1159 1747 \nQ 1159 1113 1420 752 \nQ 1681 391 2138 391 \nQ 2594 391 2855 752 \nQ 3116 1113 3116 1747 \nz\nM 1159 2969 \nQ 1341 3281 1617 3432 \nQ 1894 3584 2278 3584 \nQ 2916 3584 3314 3078 \nQ 3713 2572 3713 1747 \nQ 3713 922 3314 415 \nQ 2916 -91 2278 -91 \nQ 1894 -91 1617 61 \nQ 1341 213 1159 525 \nL 1159 0 \nL 581 0 \nL 581 4863 \nL 1159 4863 \nL 1159 2969 \nz\n\" id=\"DejaVuSans-62\" transform=\"scale(0.015625)\"/>\n       <path d=\"M 3597 1894 \nL 3597 1613 \nL 953 1613 \nQ 991 1019 1311 708 \nQ 1631 397 2203 397 \nQ 2534 397 2845 478 \nQ 3156 559 3463 722 \nL 3463 178 \nQ 3153 47 2828 -22 \nQ 2503 -91 2169 -91 \nQ 1331 -91 842 396 \nQ 353 884 353 1716 \nQ 353 2575 817 3079 \nQ 1281 3584 2069 3584 \nQ 2775 3584 3186 3129 \nQ 3597 2675 3597 1894 \nz\nM 3022 2063 \nQ 3016 2534 2758 2815 \nQ 2500 3097 2075 3097 \nQ 1594 3097 1305 2825 \nQ 1016 2553 972 2059 \nL 3022 2063 \nz\n\" id=\"DejaVuSans-65\" transform=\"scale(0.015625)\"/>\n       <path d=\"M 2631 2963 \nQ 2534 3019 2420 3045 \nQ 2306 3072 2169 3072 \nQ 1681 3072 1420 2755 \nQ 1159 2438 1159 1844 \nL 1159 0 \nL 581 0 \nL 581 3500 \nL 1159 3500 \nL 1159 2956 \nQ 1341 3275 1631 3429 \nQ 1922 3584 2338 3584 \nQ 2397 3584 2469 3576 \nQ 2541 3569 2628 3553 \nL 2631 2963 \nz\n\" id=\"DejaVuSans-72\" transform=\"scale(0.015625)\"/>\n       <path id=\"DejaVuSans-20\" transform=\"scale(0.015625)\"/>\n       <path d=\"M 1959 3097 \nQ 1497 3097 1228 2736 \nQ 959 2375 959 1747 \nQ 959 1119 1226 758 \nQ 1494 397 1959 397 \nQ 2419 397 2687 759 \nQ 2956 1122 2956 1747 \nQ 2956 2369 2687 2733 \nQ 2419 3097 1959 3097 \nz\nM 1959 3584 \nQ 2709 3584 3137 3096 \nQ 3566 2609 3566 1747 \nQ 3566 888 3137 398 \nQ 2709 -91 1959 -91 \nQ 1206 -91 779 398 \nQ 353 888 353 1747 \nQ 353 2609 779 3096 \nQ 1206 3584 1959 3584 \nz\n\" id=\"DejaVuSans-6f\" transform=\"scale(0.015625)\"/>\n       <path d=\"M 2375 4863 \nL 2375 4384 \nL 1825 4384 \nQ 1516 4384 1395 4259 \nQ 1275 4134 1275 3809 \nL 1275 3500 \nL 2222 3500 \nL 2222 3053 \nL 1275 3053 \nL 1275 0 \nL 697 0 \nL 697 3053 \nL 147 3053 \nL 147 3500 \nL 697 3500 \nL 697 3744 \nQ 697 4328 969 4595 \nQ 1241 4863 1831 4863 \nL 2375 4863 \nz\n\" id=\"DejaVuSans-66\" transform=\"scale(0.015625)\"/>\n       <path d=\"M 628 4666 \nL 3578 4666 \nL 3578 4134 \nL 1259 4134 \nL 1259 2753 \nL 3481 2753 \nL 3481 2222 \nL 1259 2222 \nL 1259 531 \nL 3634 531 \nL 3634 0 \nL 628 0 \nL 628 4666 \nz\n\" id=\"DejaVuSans-45\" transform=\"scale(0.015625)\"/>\n       <path d=\"M 2834 3397 \nL 2834 2853 \nQ 2591 2978 2328 3040 \nQ 2066 3103 1784 3103 \nQ 1356 3103 1142 2972 \nQ 928 2841 928 2578 \nQ 928 2378 1081 2264 \nQ 1234 2150 1697 2047 \nL 1894 2003 \nQ 2506 1872 2764 1633 \nQ 3022 1394 3022 966 \nQ 3022 478 2636 193 \nQ 2250 -91 1575 -91 \nQ 1294 -91 989 -36 \nQ 684 19 347 128 \nL 347 722 \nQ 666 556 975 473 \nQ 1284 391 1588 391 \nQ 1994 391 2212 530 \nQ 2431 669 2431 922 \nQ 2431 1156 2273 1281 \nQ 2116 1406 1581 1522 \nL 1381 1569 \nQ 847 1681 609 1914 \nQ 372 2147 372 2553 \nQ 372 3047 722 3315 \nQ 1072 3584 1716 3584 \nQ 2034 3584 2315 3537 \nQ 2597 3491 2834 3397 \nz\n\" id=\"DejaVuSans-73\" transform=\"scale(0.015625)\"/>\n       <path d=\"M 1172 4494 \nL 1172 3500 \nL 2356 3500 \nL 2356 3053 \nL 1172 3053 \nL 1172 1153 \nQ 1172 725 1289 603 \nQ 1406 481 1766 481 \nL 2356 481 \nL 2356 0 \nL 1766 0 \nQ 1100 0 847 248 \nQ 594 497 594 1153 \nL 594 3053 \nL 172 3053 \nL 172 3500 \nL 594 3500 \nL 594 4494 \nL 1172 4494 \nz\n\" id=\"DejaVuSans-74\" transform=\"scale(0.015625)\"/>\n       <path d=\"M 603 3500 \nL 1178 3500 \nL 1178 0 \nL 603 0 \nL 603 3500 \nz\nM 603 4863 \nL 1178 4863 \nL 1178 4134 \nL 603 4134 \nL 603 4863 \nz\n\" id=\"DejaVuSans-69\" transform=\"scale(0.015625)\"/>\n       <path d=\"M 2194 1759 \nQ 1497 1759 1228 1600 \nQ 959 1441 959 1056 \nQ 959 750 1161 570 \nQ 1363 391 1709 391 \nQ 2188 391 2477 730 \nQ 2766 1069 2766 1631 \nL 2766 1759 \nL 2194 1759 \nz\nM 3341 1997 \nL 3341 0 \nL 2766 0 \nL 2766 531 \nQ 2569 213 2275 61 \nQ 1981 -91 1556 -91 \nQ 1019 -91 701 211 \nQ 384 513 384 1019 \nQ 384 1609 779 1909 \nQ 1175 2209 1959 2209 \nL 2766 2209 \nL 2766 2266 \nQ 2766 2663 2505 2880 \nQ 2244 3097 1772 3097 \nQ 1472 3097 1187 3025 \nQ 903 2953 641 2809 \nL 641 3341 \nQ 956 3463 1253 3523 \nQ 1550 3584 1831 3584 \nQ 2591 3584 2966 3190 \nQ 3341 2797 3341 1997 \nz\n\" id=\"DejaVuSans-61\" transform=\"scale(0.015625)\"/>\n      </defs>\n      <use xlink:href=\"#DejaVuSans-4e\"/>\n      <use x=\"74.804688\" xlink:href=\"#DejaVuSans-75\"/>\n      <use x=\"138.183594\" xlink:href=\"#DejaVuSans-6d\"/>\n      <use x=\"235.595703\" xlink:href=\"#DejaVuSans-62\"/>\n      <use x=\"299.072266\" xlink:href=\"#DejaVuSans-65\"/>\n      <use x=\"360.595703\" xlink:href=\"#DejaVuSans-72\"/>\n      <use x=\"401.708984\" xlink:href=\"#DejaVuSans-20\"/>\n      <use x=\"433.496094\" xlink:href=\"#DejaVuSans-6f\"/>\n      <use x=\"494.677734\" xlink:href=\"#DejaVuSans-66\"/>\n      <use x=\"529.882812\" xlink:href=\"#DejaVuSans-20\"/>\n      <use x=\"561.669922\" xlink:href=\"#DejaVuSans-45\"/>\n      <use x=\"624.853516\" xlink:href=\"#DejaVuSans-73\"/>\n      <use x=\"676.953125\" xlink:href=\"#DejaVuSans-74\"/>\n      <use x=\"716.162109\" xlink:href=\"#DejaVuSans-69\"/>\n      <use x=\"743.945312\" xlink:href=\"#DejaVuSans-6d\"/>\n      <use x=\"841.357422\" xlink:href=\"#DejaVuSans-61\"/>\n      <use x=\"902.636719\" xlink:href=\"#DejaVuSans-74\"/>\n      <use x=\"941.845703\" xlink:href=\"#DejaVuSans-6f\"/>\n      <use x=\"1003.027344\" xlink:href=\"#DejaVuSans-72\"/>\n      <use x=\"1044.140625\" xlink:href=\"#DejaVuSans-73\"/>\n     </g>\n    </g>\n   </g>\n   <g id=\"matplotlib.axis_2\">\n    <g id=\"ytick_1\">\n     <g id=\"line2d_10\">\n      <defs>\n       <path d=\"M 0 0 \nL -3.5 0 \n\" id=\"md6631f6b6e\" style=\"stroke:#000000;stroke-width:0.8;\"/>\n      </defs>\n      <g>\n       <use style=\"stroke:#000000;stroke-width:0.8;\" x=\"43.78125\" xlink:href=\"#md6631f6b6e\" y=\"239.758125\"/>\n      </g>\n     </g>\n     <g id=\"text_11\">\n      <!-- 0.0 -->\n      <g transform=\"translate(20.878125 243.557344)scale(0.1 -0.1)\">\n       <defs>\n        <path d=\"M 684 794 \nL 1344 794 \nL 1344 0 \nL 684 0 \nL 684 794 \nz\n\" id=\"DejaVuSans-2e\" transform=\"scale(0.015625)\"/>\n       </defs>\n       <use xlink:href=\"#DejaVuSans-30\"/>\n       <use x=\"63.623047\" xlink:href=\"#DejaVuSans-2e\"/>\n       <use x=\"95.410156\" xlink:href=\"#DejaVuSans-30\"/>\n      </g>\n     </g>\n    </g>\n    <g id=\"ytick_2\">\n     <g id=\"line2d_11\">\n      <g>\n       <use style=\"stroke:#000000;stroke-width:0.8;\" x=\"43.78125\" xlink:href=\"#md6631f6b6e\" y=\"200.22358\"/>\n      </g>\n     </g>\n     <g id=\"text_12\">\n      <!-- 0.2 -->\n      <g transform=\"translate(20.878125 204.022798)scale(0.1 -0.1)\">\n       <use xlink:href=\"#DejaVuSans-30\"/>\n       <use x=\"63.623047\" xlink:href=\"#DejaVuSans-2e\"/>\n       <use x=\"95.410156\" xlink:href=\"#DejaVuSans-32\"/>\n      </g>\n     </g>\n    </g>\n    <g id=\"ytick_3\">\n     <g id=\"line2d_12\">\n      <g>\n       <use style=\"stroke:#000000;stroke-width:0.8;\" x=\"43.78125\" xlink:href=\"#md6631f6b6e\" y=\"160.689034\"/>\n      </g>\n     </g>\n     <g id=\"text_13\">\n      <!-- 0.4 -->\n      <g transform=\"translate(20.878125 164.488253)scale(0.1 -0.1)\">\n       <defs>\n        <path d=\"M 2419 4116 \nL 825 1625 \nL 2419 1625 \nL 2419 4116 \nz\nM 2253 4666 \nL 3047 4666 \nL 3047 1625 \nL 3713 1625 \nL 3713 1100 \nL 3047 1100 \nL 3047 0 \nL 2419 0 \nL 2419 1100 \nL 313 1100 \nL 313 1709 \nL 2253 4666 \nz\n\" id=\"DejaVuSans-34\" transform=\"scale(0.015625)\"/>\n       </defs>\n       <use xlink:href=\"#DejaVuSans-30\"/>\n       <use x=\"63.623047\" xlink:href=\"#DejaVuSans-2e\"/>\n       <use x=\"95.410156\" xlink:href=\"#DejaVuSans-34\"/>\n      </g>\n     </g>\n    </g>\n    <g id=\"ytick_4\">\n     <g id=\"line2d_13\">\n      <g>\n       <use style=\"stroke:#000000;stroke-width:0.8;\" x=\"43.78125\" xlink:href=\"#md6631f6b6e\" y=\"121.154489\"/>\n      </g>\n     </g>\n     <g id=\"text_14\">\n      <!-- 0.6 -->\n      <g transform=\"translate(20.878125 124.953707)scale(0.1 -0.1)\">\n       <defs>\n        <path d=\"M 2113 2584 \nQ 1688 2584 1439 2293 \nQ 1191 2003 1191 1497 \nQ 1191 994 1439 701 \nQ 1688 409 2113 409 \nQ 2538 409 2786 701 \nQ 3034 994 3034 1497 \nQ 3034 2003 2786 2293 \nQ 2538 2584 2113 2584 \nz\nM 3366 4563 \nL 3366 3988 \nQ 3128 4100 2886 4159 \nQ 2644 4219 2406 4219 \nQ 1781 4219 1451 3797 \nQ 1122 3375 1075 2522 \nQ 1259 2794 1537 2939 \nQ 1816 3084 2150 3084 \nQ 2853 3084 3261 2657 \nQ 3669 2231 3669 1497 \nQ 3669 778 3244 343 \nQ 2819 -91 2113 -91 \nQ 1303 -91 875 529 \nQ 447 1150 447 2328 \nQ 447 3434 972 4092 \nQ 1497 4750 2381 4750 \nQ 2619 4750 2861 4703 \nQ 3103 4656 3366 4563 \nz\n\" id=\"DejaVuSans-36\" transform=\"scale(0.015625)\"/>\n       </defs>\n       <use xlink:href=\"#DejaVuSans-30\"/>\n       <use x=\"63.623047\" xlink:href=\"#DejaVuSans-2e\"/>\n       <use x=\"95.410156\" xlink:href=\"#DejaVuSans-36\"/>\n      </g>\n     </g>\n    </g>\n    <g id=\"ytick_5\">\n     <g id=\"line2d_14\">\n      <g>\n       <use style=\"stroke:#000000;stroke-width:0.8;\" x=\"43.78125\" xlink:href=\"#md6631f6b6e\" y=\"81.619943\"/>\n      </g>\n     </g>\n     <g id=\"text_15\">\n      <!-- 0.8 -->\n      <g transform=\"translate(20.878125 85.419162)scale(0.1 -0.1)\">\n       <defs>\n        <path d=\"M 2034 2216 \nQ 1584 2216 1326 1975 \nQ 1069 1734 1069 1313 \nQ 1069 891 1326 650 \nQ 1584 409 2034 409 \nQ 2484 409 2743 651 \nQ 3003 894 3003 1313 \nQ 3003 1734 2745 1975 \nQ 2488 2216 2034 2216 \nz\nM 1403 2484 \nQ 997 2584 770 2862 \nQ 544 3141 544 3541 \nQ 544 4100 942 4425 \nQ 1341 4750 2034 4750 \nQ 2731 4750 3128 4425 \nQ 3525 4100 3525 3541 \nQ 3525 3141 3298 2862 \nQ 3072 2584 2669 2484 \nQ 3125 2378 3379 2068 \nQ 3634 1759 3634 1313 \nQ 3634 634 3220 271 \nQ 2806 -91 2034 -91 \nQ 1263 -91 848 271 \nQ 434 634 434 1313 \nQ 434 1759 690 2068 \nQ 947 2378 1403 2484 \nz\nM 1172 3481 \nQ 1172 3119 1398 2916 \nQ 1625 2713 2034 2713 \nQ 2441 2713 2670 2916 \nQ 2900 3119 2900 3481 \nQ 2900 3844 2670 4047 \nQ 2441 4250 2034 4250 \nQ 1625 4250 1398 4047 \nQ 1172 3844 1172 3481 \nz\n\" id=\"DejaVuSans-38\" transform=\"scale(0.015625)\"/>\n       </defs>\n       <use xlink:href=\"#DejaVuSans-30\"/>\n       <use x=\"63.623047\" xlink:href=\"#DejaVuSans-2e\"/>\n       <use x=\"95.410156\" xlink:href=\"#DejaVuSans-38\"/>\n      </g>\n     </g>\n    </g>\n    <g id=\"ytick_6\">\n     <g id=\"line2d_15\">\n      <g>\n       <use style=\"stroke:#000000;stroke-width:0.8;\" x=\"43.78125\" xlink:href=\"#md6631f6b6e\" y=\"42.085398\"/>\n      </g>\n     </g>\n     <g id=\"text_16\">\n      <!-- 1.0 -->\n      <g transform=\"translate(20.878125 45.884616)scale(0.1 -0.1)\">\n       <use xlink:href=\"#DejaVuSans-31\"/>\n       <use x=\"63.623047\" xlink:href=\"#DejaVuSans-2e\"/>\n       <use x=\"95.410156\" xlink:href=\"#DejaVuSans-30\"/>\n      </g>\n     </g>\n    </g>\n    <g id=\"text_17\">\n     <!-- Score -->\n     <g transform=\"translate(14.798438 145.040469)rotate(-90)scale(0.1 -0.1)\">\n      <defs>\n       <path d=\"M 3425 4513 \nL 3425 3897 \nQ 3066 4069 2747 4153 \nQ 2428 4238 2131 4238 \nQ 1616 4238 1336 4038 \nQ 1056 3838 1056 3469 \nQ 1056 3159 1242 3001 \nQ 1428 2844 1947 2747 \nL 2328 2669 \nQ 3034 2534 3370 2195 \nQ 3706 1856 3706 1288 \nQ 3706 609 3251 259 \nQ 2797 -91 1919 -91 \nQ 1588 -91 1214 -16 \nQ 841 59 441 206 \nL 441 856 \nQ 825 641 1194 531 \nQ 1563 422 1919 422 \nQ 2459 422 2753 634 \nQ 3047 847 3047 1241 \nQ 3047 1584 2836 1778 \nQ 2625 1972 2144 2069 \nL 1759 2144 \nQ 1053 2284 737 2584 \nQ 422 2884 422 3419 \nQ 422 4038 858 4394 \nQ 1294 4750 2059 4750 \nQ 2388 4750 2728 4690 \nQ 3069 4631 3425 4513 \nz\n\" id=\"DejaVuSans-53\" transform=\"scale(0.015625)\"/>\n       <path d=\"M 3122 3366 \nL 3122 2828 \nQ 2878 2963 2633 3030 \nQ 2388 3097 2138 3097 \nQ 1578 3097 1268 2742 \nQ 959 2388 959 1747 \nQ 959 1106 1268 751 \nQ 1578 397 2138 397 \nQ 2388 397 2633 464 \nQ 2878 531 3122 666 \nL 3122 134 \nQ 2881 22 2623 -34 \nQ 2366 -91 2075 -91 \nQ 1284 -91 818 406 \nQ 353 903 353 1747 \nQ 353 2603 823 3093 \nQ 1294 3584 2113 3584 \nQ 2378 3584 2631 3529 \nQ 2884 3475 3122 3366 \nz\n\" id=\"DejaVuSans-63\" transform=\"scale(0.015625)\"/>\n      </defs>\n      <use xlink:href=\"#DejaVuSans-53\"/>\n      <use x=\"63.476562\" xlink:href=\"#DejaVuSans-63\"/>\n      <use x=\"118.457031\" xlink:href=\"#DejaVuSans-6f\"/>\n      <use x=\"179.638672\" xlink:href=\"#DejaVuSans-72\"/>\n      <use x=\"218.501953\" xlink:href=\"#DejaVuSans-65\"/>\n     </g>\n    </g>\n   </g>\n   <g id=\"line2d_16\">\n    <path clip-path=\"url(#p1a1a0938c0)\" d=\"M 58.999432 65.294153 \nL 62.073812 65.280316 \nL 65.148192 65.290199 \nL 68.222572 65.270432 \nL 71.296952 65.294153 \nL 74.371333 65.304036 \nL 77.445713 65.260548 \nL 80.520093 65.248688 \nL 83.594473 65.232874 \nL 86.668853 65.250665 \nL 89.743233 65.258572 \nL 92.817614 65.244734 \nL 95.891994 65.250665 \nL 98.966374 65.270432 \nL 102.040754 65.242758 \nL 105.115134 65.21706 \nL 108.189514 65.226944 \nL 111.263895 65.22299 \nL 114.338275 65.234851 \nL 117.412655 65.234851 \nL 120.487035 65.242758 \nL 123.561415 65.244734 \nL 126.635795 65.213107 \nL 129.710176 65.21113 \nL 132.784556 65.224967 \nL 135.858936 65.21706 \nL 138.933316 65.213107 \nL 142.007696 65.21113 \nL 145.082076 65.230897 \nL 148.156457 65.207177 \nL 151.230837 65.21113 \nL 154.305217 65.191363 \nL 157.379597 65.228921 \nL 160.453977 65.228921 \nL 163.528357 65.228921 \nL 166.602738 65.197293 \nL 169.677118 65.207177 \nL 172.751498 65.21113 \nL 175.825878 65.224967 \nL 178.900258 65.240781 \nL 181.974638 65.240781 \nL 185.049019 65.195316 \nL 188.123399 65.213107 \nL 191.197779 65.181479 \nL 194.272159 65.209153 \nL 197.346539 65.236828 \nL 200.420919 65.22299 \nL 203.4953 65.221014 \nL 206.56968 65.234851 \nL 209.64406 65.244734 \nL 212.71844 65.244734 \nL 215.79282 65.234851 \nL 218.8672 65.21706 \nL 221.941581 65.21113 \nL 225.015961 65.232874 \nL 228.090341 65.226944 \nL 231.164721 65.209153 \nL 234.239101 65.21706 \nL 237.313481 65.254618 \nL 240.387862 65.236828 \nL 243.462242 65.230897 \nL 246.536622 65.238804 \nL 249.611002 65.224967 \nL 252.685382 65.228921 \nL 255.759762 65.219037 \nL 258.834143 65.236828 \nL 261.908523 65.22299 \nL 264.982903 65.201246 \nL 268.057283 65.219037 \nL 271.131663 65.207177 \nL 274.206043 65.187409 \nL 277.280424 65.189386 \nL 280.354804 65.191363 \nL 283.429184 65.19927 \nL 286.503564 65.209153 \nL 289.577944 65.219037 \nL 292.652324 65.21706 \nL 295.726705 65.230897 \nL 298.801085 65.252641 \nL 301.875465 65.248688 \nL 304.949845 65.234851 \nL 308.024225 65.22299 \nL 311.098605 65.230897 \nL 314.172986 65.234851 \nL 317.247366 65.234851 \nL 320.321746 65.228921 \nL 323.396126 65.226944 \nL 326.470506 65.221014 \nL 329.544886 65.226944 \nL 332.619267 65.21113 \nL 335.693647 65.230897 \nL 338.768027 65.228921 \nL 341.842407 65.224967 \nL 344.916787 65.215084 \nL 347.991167 65.203223 \nL 351.065548 65.203223 \nL 354.139928 65.209153 \nL 357.214308 65.191363 \nL 360.288688 65.21113 \nL 363.363068 65.21706 \n\" style=\"fill:none;stroke:#ff8c00;stroke-linecap:square;stroke-width:0.75;\"/>\n   </g>\n   <g id=\"line2d_17\">\n    <path clip-path=\"url(#p1a1a0938c0)\" d=\"M 58.999432 68.960982 \nL 62.073812 68.953075 \nL 65.148192 68.88982 \nL 68.222572 68.968889 \nL 71.296952 68.937261 \nL 74.371333 68.937261 \nL 77.445713 68.929354 \nL 80.520093 68.881913 \nL 83.594473 68.91354 \nL 86.668853 68.992609 \nL 89.743233 68.960982 \nL 92.817614 68.921447 \nL 95.891994 68.945168 \nL 98.966374 68.937261 \nL 102.040754 68.929354 \nL 105.115134 68.960982 \nL 108.189514 68.953075 \nL 111.263895 68.881913 \nL 114.338275 68.953075 \nL 117.412655 68.91354 \nL 120.487035 68.929354 \nL 123.561415 68.976796 \nL 126.635795 68.960982 \nL 129.710176 68.905633 \nL 132.784556 68.897726 \nL 135.858936 68.937261 \nL 138.933316 68.905633 \nL 142.007696 68.921447 \nL 145.082076 68.91354 \nL 148.156457 68.881913 \nL 151.230837 68.874006 \nL 154.305217 68.88982 \nL 157.379597 68.866099 \nL 160.453977 68.866099 \nL 163.528357 68.897726 \nL 166.602738 68.897726 \nL 169.677118 68.874006 \nL 172.751498 68.88982 \nL 175.825878 68.858192 \nL 178.900258 68.834471 \nL 181.974638 68.858192 \nL 185.049019 68.826564 \nL 188.123399 68.866099 \nL 191.197779 68.826564 \nL 194.272159 68.842378 \nL 197.346539 68.826564 \nL 200.420919 68.874006 \nL 203.4953 68.874006 \nL 206.56968 68.881913 \nL 209.64406 68.866099 \nL 212.71844 68.866099 \nL 215.79282 68.850285 \nL 218.8672 68.850285 \nL 221.941581 68.834471 \nL 225.015961 68.834471 \nL 228.090341 68.818657 \nL 231.164721 68.850285 \nL 234.239101 68.842378 \nL 237.313481 68.834471 \nL 240.387862 68.858192 \nL 243.462242 68.866099 \nL 246.536622 68.874006 \nL 249.611002 68.858192 \nL 252.685382 68.842378 \nL 255.759762 68.850285 \nL 258.834143 68.834471 \nL 261.908523 68.842378 \nL 264.982903 68.874006 \nL 268.057283 68.905633 \nL 271.131663 68.881913 \nL 274.206043 68.88982 \nL 277.280424 68.874006 \nL 280.354804 68.88982 \nL 283.429184 68.874006 \nL 286.503564 68.850285 \nL 289.577944 68.874006 \nL 292.652324 68.91354 \nL 295.726705 68.897726 \nL 298.801085 68.866099 \nL 301.875465 68.905633 \nL 304.949845 68.897726 \nL 308.024225 68.858192 \nL 311.098605 68.874006 \nL 314.172986 68.866099 \nL 317.247366 68.897726 \nL 320.321746 68.897726 \nL 323.396126 68.897726 \nL 326.470506 68.874006 \nL 329.544886 68.842378 \nL 332.619267 68.866099 \nL 335.693647 68.850285 \nL 338.768027 68.866099 \nL 341.842407 68.91354 \nL 344.916787 68.921447 \nL 347.991167 68.921447 \nL 351.065548 68.850285 \nL 354.139928 68.881913 \nL 357.214308 68.897726 \nL 360.288688 68.88982 \nL 363.363068 68.897726 \n\" style=\"fill:none;stroke:#000080;stroke-linecap:square;stroke-width:0.75;\"/>\n   </g>\n   <g id=\"patch_3\">\n    <path d=\"M 43.78125 239.758125 \nL 43.78125 22.318125 \n\" style=\"fill:none;stroke:#000000;stroke-linecap:square;stroke-linejoin:miter;stroke-width:0.8;\"/>\n   </g>\n   <g id=\"patch_4\">\n    <path d=\"M 378.58125 239.758125 \nL 378.58125 22.318125 \n\" style=\"fill:none;stroke:#000000;stroke-linecap:square;stroke-linejoin:miter;stroke-width:0.8;\"/>\n   </g>\n   <g id=\"patch_5\">\n    <path d=\"M 43.78125 239.758125 \nL 378.58125 239.758125 \n\" style=\"fill:none;stroke:#000000;stroke-linecap:square;stroke-linejoin:miter;stroke-width:0.8;\"/>\n   </g>\n   <g id=\"patch_6\">\n    <path d=\"M 43.78125 22.318125 \nL 378.58125 22.318125 \n\" style=\"fill:none;stroke:#000000;stroke-linecap:square;stroke-linejoin:miter;stroke-width:0.8;\"/>\n   </g>\n   <g id=\"text_18\">\n    <!-- Validation Curve for Best Model -->\n    <g transform=\"translate(116.670938 16.318125)scale(0.12 -0.12)\">\n     <defs>\n      <path d=\"M 1831 0 \nL 50 4666 \nL 709 4666 \nL 2188 738 \nL 3669 4666 \nL 4325 4666 \nL 2547 0 \nL 1831 0 \nz\n\" id=\"DejaVuSans-56\" transform=\"scale(0.015625)\"/>\n      <path d=\"M 603 4863 \nL 1178 4863 \nL 1178 0 \nL 603 0 \nL 603 4863 \nz\n\" id=\"DejaVuSans-6c\" transform=\"scale(0.015625)\"/>\n      <path d=\"M 2906 2969 \nL 2906 4863 \nL 3481 4863 \nL 3481 0 \nL 2906 0 \nL 2906 525 \nQ 2725 213 2448 61 \nQ 2172 -91 1784 -91 \nQ 1150 -91 751 415 \nQ 353 922 353 1747 \nQ 353 2572 751 3078 \nQ 1150 3584 1784 3584 \nQ 2172 3584 2448 3432 \nQ 2725 3281 2906 2969 \nz\nM 947 1747 \nQ 947 1113 1208 752 \nQ 1469 391 1925 391 \nQ 2381 391 2643 752 \nQ 2906 1113 2906 1747 \nQ 2906 2381 2643 2742 \nQ 2381 3103 1925 3103 \nQ 1469 3103 1208 2742 \nQ 947 2381 947 1747 \nz\n\" id=\"DejaVuSans-64\" transform=\"scale(0.015625)\"/>\n      <path d=\"M 3513 2113 \nL 3513 0 \nL 2938 0 \nL 2938 2094 \nQ 2938 2591 2744 2837 \nQ 2550 3084 2163 3084 \nQ 1697 3084 1428 2787 \nQ 1159 2491 1159 1978 \nL 1159 0 \nL 581 0 \nL 581 3500 \nL 1159 3500 \nL 1159 2956 \nQ 1366 3272 1645 3428 \nQ 1925 3584 2291 3584 \nQ 2894 3584 3203 3211 \nQ 3513 2838 3513 2113 \nz\n\" id=\"DejaVuSans-6e\" transform=\"scale(0.015625)\"/>\n      <path d=\"M 4122 4306 \nL 4122 3641 \nQ 3803 3938 3442 4084 \nQ 3081 4231 2675 4231 \nQ 1875 4231 1450 3742 \nQ 1025 3253 1025 2328 \nQ 1025 1406 1450 917 \nQ 1875 428 2675 428 \nQ 3081 428 3442 575 \nQ 3803 722 4122 1019 \nL 4122 359 \nQ 3791 134 3420 21 \nQ 3050 -91 2638 -91 \nQ 1578 -91 968 557 \nQ 359 1206 359 2328 \nQ 359 3453 968 4101 \nQ 1578 4750 2638 4750 \nQ 3056 4750 3426 4639 \nQ 3797 4528 4122 4306 \nz\n\" id=\"DejaVuSans-43\" transform=\"scale(0.015625)\"/>\n      <path d=\"M 191 3500 \nL 800 3500 \nL 1894 563 \nL 2988 3500 \nL 3597 3500 \nL 2284 0 \nL 1503 0 \nL 191 3500 \nz\n\" id=\"DejaVuSans-76\" transform=\"scale(0.015625)\"/>\n      <path d=\"M 1259 2228 \nL 1259 519 \nL 2272 519 \nQ 2781 519 3026 730 \nQ 3272 941 3272 1375 \nQ 3272 1813 3026 2020 \nQ 2781 2228 2272 2228 \nL 1259 2228 \nz\nM 1259 4147 \nL 1259 2741 \nL 2194 2741 \nQ 2656 2741 2882 2914 \nQ 3109 3088 3109 3444 \nQ 3109 3797 2882 3972 \nQ 2656 4147 2194 4147 \nL 1259 4147 \nz\nM 628 4666 \nL 2241 4666 \nQ 2963 4666 3353 4366 \nQ 3744 4066 3744 3513 \nQ 3744 3084 3544 2831 \nQ 3344 2578 2956 2516 \nQ 3422 2416 3680 2098 \nQ 3938 1781 3938 1306 \nQ 3938 681 3513 340 \nQ 3088 0 2303 0 \nL 628 0 \nL 628 4666 \nz\n\" id=\"DejaVuSans-42\" transform=\"scale(0.015625)\"/>\n      <path d=\"M 628 4666 \nL 1569 4666 \nL 2759 1491 \nL 3956 4666 \nL 4897 4666 \nL 4897 0 \nL 4281 0 \nL 4281 4097 \nL 3078 897 \nL 2444 897 \nL 1241 4097 \nL 1241 0 \nL 628 0 \nL 628 4666 \nz\n\" id=\"DejaVuSans-4d\" transform=\"scale(0.015625)\"/>\n     </defs>\n     <use xlink:href=\"#DejaVuSans-56\"/>\n     <use x=\"60.658203\" xlink:href=\"#DejaVuSans-61\"/>\n     <use x=\"121.9375\" xlink:href=\"#DejaVuSans-6c\"/>\n     <use x=\"149.720703\" xlink:href=\"#DejaVuSans-69\"/>\n     <use x=\"177.503906\" xlink:href=\"#DejaVuSans-64\"/>\n     <use x=\"240.980469\" xlink:href=\"#DejaVuSans-61\"/>\n     <use x=\"302.259766\" xlink:href=\"#DejaVuSans-74\"/>\n     <use x=\"341.46875\" xlink:href=\"#DejaVuSans-69\"/>\n     <use x=\"369.251953\" xlink:href=\"#DejaVuSans-6f\"/>\n     <use x=\"430.433594\" xlink:href=\"#DejaVuSans-6e\"/>\n     <use x=\"493.8125\" xlink:href=\"#DejaVuSans-20\"/>\n     <use x=\"525.599609\" xlink:href=\"#DejaVuSans-43\"/>\n     <use x=\"595.423828\" xlink:href=\"#DejaVuSans-75\"/>\n     <use x=\"658.802734\" xlink:href=\"#DejaVuSans-72\"/>\n     <use x=\"699.916016\" xlink:href=\"#DejaVuSans-76\"/>\n     <use x=\"759.095703\" xlink:href=\"#DejaVuSans-65\"/>\n     <use x=\"820.619141\" xlink:href=\"#DejaVuSans-20\"/>\n     <use x=\"852.40625\" xlink:href=\"#DejaVuSans-66\"/>\n     <use x=\"887.611328\" xlink:href=\"#DejaVuSans-6f\"/>\n     <use x=\"948.792969\" xlink:href=\"#DejaVuSans-72\"/>\n     <use x=\"989.90625\" xlink:href=\"#DejaVuSans-20\"/>\n     <use x=\"1021.693359\" xlink:href=\"#DejaVuSans-42\"/>\n     <use x=\"1090.296875\" xlink:href=\"#DejaVuSans-65\"/>\n     <use x=\"1151.820312\" xlink:href=\"#DejaVuSans-73\"/>\n     <use x=\"1203.919922\" xlink:href=\"#DejaVuSans-74\"/>\n     <use x=\"1243.128906\" xlink:href=\"#DejaVuSans-20\"/>\n     <use x=\"1274.916016\" xlink:href=\"#DejaVuSans-4d\"/>\n     <use x=\"1361.195312\" xlink:href=\"#DejaVuSans-6f\"/>\n     <use x=\"1422.376953\" xlink:href=\"#DejaVuSans-64\"/>\n     <use x=\"1485.853516\" xlink:href=\"#DejaVuSans-65\"/>\n     <use x=\"1547.376953\" xlink:href=\"#DejaVuSans-6c\"/>\n    </g>\n   </g>\n   <g id=\"legend_1\">\n    <g id=\"patch_7\">\n     <path d=\"M 229.551562 59.674375 \nL 371.58125 59.674375 \nQ 373.58125 59.674375 373.58125 57.674375 \nL 373.58125 29.318125 \nQ 373.58125 27.318125 371.58125 27.318125 \nL 229.551562 27.318125 \nQ 227.551562 27.318125 227.551562 29.318125 \nL 227.551562 57.674375 \nQ 227.551562 59.674375 229.551562 59.674375 \nz\n\" style=\"fill:#ffffff;opacity:0.8;stroke:#cccccc;stroke-linejoin:miter;\"/>\n    </g>\n    <g id=\"line2d_18\">\n     <path d=\"M 231.551562 35.416562 \nL 251.551562 35.416562 \n\" style=\"fill:none;stroke:#ff8c00;stroke-linecap:square;stroke-width:0.75;\"/>\n    </g>\n    <g id=\"line2d_19\"/>\n    <g id=\"text_19\">\n     <!-- Training score -->\n     <g transform=\"translate(259.551562 38.916562)scale(0.1 -0.1)\">\n      <defs>\n       <path d=\"M -19 4666 \nL 3928 4666 \nL 3928 4134 \nL 2272 4134 \nL 2272 0 \nL 1638 0 \nL 1638 4134 \nL -19 4134 \nL -19 4666 \nz\n\" id=\"DejaVuSans-54\" transform=\"scale(0.015625)\"/>\n       <path d=\"M 2906 1791 \nQ 2906 2416 2648 2759 \nQ 2391 3103 1925 3103 \nQ 1463 3103 1205 2759 \nQ 947 2416 947 1791 \nQ 947 1169 1205 825 \nQ 1463 481 1925 481 \nQ 2391 481 2648 825 \nQ 2906 1169 2906 1791 \nz\nM 3481 434 \nQ 3481 -459 3084 -895 \nQ 2688 -1331 1869 -1331 \nQ 1566 -1331 1297 -1286 \nQ 1028 -1241 775 -1147 \nL 775 -588 \nQ 1028 -725 1275 -790 \nQ 1522 -856 1778 -856 \nQ 2344 -856 2625 -561 \nQ 2906 -266 2906 331 \nL 2906 616 \nQ 2728 306 2450 153 \nQ 2172 0 1784 0 \nQ 1141 0 747 490 \nQ 353 981 353 1791 \nQ 353 2603 747 3093 \nQ 1141 3584 1784 3584 \nQ 2172 3584 2450 3431 \nQ 2728 3278 2906 2969 \nL 2906 3500 \nL 3481 3500 \nL 3481 434 \nz\n\" id=\"DejaVuSans-67\" transform=\"scale(0.015625)\"/>\n      </defs>\n      <use xlink:href=\"#DejaVuSans-54\"/>\n      <use x=\"46.333984\" xlink:href=\"#DejaVuSans-72\"/>\n      <use x=\"87.447266\" xlink:href=\"#DejaVuSans-61\"/>\n      <use x=\"148.726562\" xlink:href=\"#DejaVuSans-69\"/>\n      <use x=\"176.509766\" xlink:href=\"#DejaVuSans-6e\"/>\n      <use x=\"239.888672\" xlink:href=\"#DejaVuSans-69\"/>\n      <use x=\"267.671875\" xlink:href=\"#DejaVuSans-6e\"/>\n      <use x=\"331.050781\" xlink:href=\"#DejaVuSans-67\"/>\n      <use x=\"394.527344\" xlink:href=\"#DejaVuSans-20\"/>\n      <use x=\"426.314453\" xlink:href=\"#DejaVuSans-73\"/>\n      <use x=\"478.414062\" xlink:href=\"#DejaVuSans-63\"/>\n      <use x=\"533.394531\" xlink:href=\"#DejaVuSans-6f\"/>\n      <use x=\"594.576172\" xlink:href=\"#DejaVuSans-72\"/>\n      <use x=\"633.439453\" xlink:href=\"#DejaVuSans-65\"/>\n     </g>\n    </g>\n    <g id=\"line2d_20\">\n     <path d=\"M 231.551562 50.094687 \nL 251.551562 50.094687 \n\" style=\"fill:none;stroke:#000080;stroke-linecap:square;stroke-width:0.75;\"/>\n    </g>\n    <g id=\"line2d_21\"/>\n    <g id=\"text_20\">\n     <!-- Cross-validation score -->\n     <g transform=\"translate(259.551562 53.594687)scale(0.1 -0.1)\">\n      <defs>\n       <path d=\"M 313 2009 \nL 1997 2009 \nL 1997 1497 \nL 313 1497 \nL 313 2009 \nz\n\" id=\"DejaVuSans-2d\" transform=\"scale(0.015625)\"/>\n      </defs>\n      <use xlink:href=\"#DejaVuSans-43\"/>\n      <use x=\"69.824219\" xlink:href=\"#DejaVuSans-72\"/>\n      <use x=\"108.6875\" xlink:href=\"#DejaVuSans-6f\"/>\n      <use x=\"169.869141\" xlink:href=\"#DejaVuSans-73\"/>\n      <use x=\"221.96875\" xlink:href=\"#DejaVuSans-73\"/>\n      <use x=\"274.068359\" xlink:href=\"#DejaVuSans-2d\"/>\n      <use x=\"307.527344\" xlink:href=\"#DejaVuSans-76\"/>\n      <use x=\"366.707031\" xlink:href=\"#DejaVuSans-61\"/>\n      <use x=\"427.986328\" xlink:href=\"#DejaVuSans-6c\"/>\n      <use x=\"455.769531\" xlink:href=\"#DejaVuSans-69\"/>\n      <use x=\"483.552734\" xlink:href=\"#DejaVuSans-64\"/>\n      <use x=\"547.029297\" xlink:href=\"#DejaVuSans-61\"/>\n      <use x=\"608.308594\" xlink:href=\"#DejaVuSans-74\"/>\n      <use x=\"647.517578\" xlink:href=\"#DejaVuSans-69\"/>\n      <use x=\"675.300781\" xlink:href=\"#DejaVuSans-6f\"/>\n      <use x=\"736.482422\" xlink:href=\"#DejaVuSans-6e\"/>\n      <use x=\"799.861328\" xlink:href=\"#DejaVuSans-20\"/>\n      <use x=\"831.648438\" xlink:href=\"#DejaVuSans-73\"/>\n      <use x=\"883.748047\" xlink:href=\"#DejaVuSans-63\"/>\n      <use x=\"938.728516\" xlink:href=\"#DejaVuSans-6f\"/>\n      <use x=\"999.910156\" xlink:href=\"#DejaVuSans-72\"/>\n      <use x=\"1038.773438\" xlink:href=\"#DejaVuSans-65\"/>\n     </g>\n    </g>\n   </g>\n  </g>\n </g>\n <defs>\n  <clipPath id=\"p1a1a0938c0\">\n   <rect height=\"217.44\" width=\"334.8\" x=\"43.78125\" y=\"22.318125\"/>\n  </clipPath>\n </defs>\n</svg>\n",
      "image/png": "[encoded data removed]"
     },
     "metadata": {
      "needs_background": "light"
     }
    }
   ],
   "metadata": {}
  },
  {
   "cell_type": "markdown",
   "source": [
    "# 5. SVM"
   ],
   "metadata": {}
  },
  {
   "cell_type": "code",
   "execution_count": 473,
   "source": [
    "svm_classif = svm.SVC(random_state=42, gamma='scale', probability=True, max_iter=-1)\n",
    "param_grid = {\n",
    "        'C': [0.5, 1.0, 1.5, 1.25, 0.25, 0.75, 1.75, 2.0],\n",
    "        'kernel': ['rbf', 'sigmoid'],\n",
    "        'degree': [3, 5, 7],\n",
    "    }\n"
   ],
   "outputs": [],
   "metadata": {}
  },
  {
   "cell_type": "code",
   "execution_count": 382,
   "source": [
    "clf_svm=GridSearchCV(estimator=svm_classif,param_grid=param_grid,cv=5,verbose=2,n_jobs=-1)\n",
    "clf_svm.fit(training.drop(['income>50K'],axis=1),training['income>50K'])"
   ],
   "outputs": [
    {
     "output_type": "stream",
     "name": "stdout",
     "text": [
      "Fitting 5 folds for each of 48 candidates, totalling 240 fits\n",
      "[CV] END ........................C=0.5, degree=3, kernel=rbf; total time= 3.2min\n",
      "[CV] END ........................C=0.5, degree=3, kernel=rbf; total time= 3.2min\n",
      "[CV] END ........................C=0.5, degree=3, kernel=rbf; total time= 3.2min\n",
      "[CV] END ........................C=0.5, degree=3, kernel=rbf; total time= 3.2min\n",
      "[CV] END ........................C=0.5, degree=3, kernel=rbf; total time= 3.2min\n",
      "[CV] END ....................C=0.5, degree=3, kernel=sigmoid; total time= 3.2min\n",
      "[CV] END ....................C=0.5, degree=3, kernel=sigmoid; total time= 3.2min\n",
      "[CV] END ....................C=0.5, degree=3, kernel=sigmoid; total time= 3.3min\n",
      "[CV] END ........................C=0.5, degree=5, kernel=rbf; total time= 3.1min\n",
      "[CV] END ........................C=0.5, degree=5, kernel=rbf; total time= 3.2min\n",
      "[CV] END ........................C=0.5, degree=5, kernel=rbf; total time= 3.1min\n",
      "[CV] END ....................C=0.5, degree=3, kernel=sigmoid; total time= 3.2min\n",
      "[CV] END ........................C=0.5, degree=5, kernel=rbf; total time= 3.2min\n",
      "[CV] END ....................C=0.5, degree=5, kernel=sigmoid; total time= 3.2min\n",
      "[CV] END ........................C=0.5, degree=5, kernel=rbf; total time= 3.3min\n",
      "[CV] END ....................C=0.5, degree=3, kernel=sigmoid; total time= 4.1min\n",
      "[CV] END ....................C=0.5, degree=5, kernel=sigmoid; total time= 3.1min\n",
      "[CV] END ....................C=0.5, degree=5, kernel=sigmoid; total time= 3.1min\n",
      "[CV] END ........................C=0.5, degree=7, kernel=rbf; total time= 3.0min\n",
      "[CV] END ....................C=0.5, degree=5, kernel=sigmoid; total time= 3.2min\n",
      "[CV] END ........................C=0.5, degree=7, kernel=rbf; total time= 3.1min\n",
      "[CV] END ........................C=0.5, degree=7, kernel=rbf; total time= 3.1min\n",
      "[CV] END ........................C=0.5, degree=7, kernel=rbf; total time= 3.0min\n",
      "[CV] END ....................C=0.5, degree=5, kernel=sigmoid; total time= 3.9min\n",
      "[CV] END ........................C=0.5, degree=7, kernel=rbf; total time= 2.8min\n",
      "[CV] END ....................C=0.5, degree=7, kernel=sigmoid; total time= 2.9min\n",
      "[CV] END ....................C=0.5, degree=7, kernel=sigmoid; total time= 3.0min\n",
      "[CV] END ....................C=0.5, degree=7, kernel=sigmoid; total time= 3.1min\n",
      "[CV] END ....................C=0.5, degree=7, kernel=sigmoid; total time= 3.0min\n",
      "[CV] END ........................C=1.0, degree=3, kernel=rbf; total time= 2.9min\n",
      "[CV] END ........................C=1.0, degree=3, kernel=rbf; total time= 3.0min\n",
      "[CV] END ....................C=0.5, degree=7, kernel=sigmoid; total time= 3.9min\n",
      "[CV] END ........................C=1.0, degree=3, kernel=rbf; total time= 3.1min\n",
      "[CV] END ........................C=1.0, degree=3, kernel=rbf; total time= 2.9min\n",
      "[CV] END ....................C=1.0, degree=3, kernel=sigmoid; total time= 3.0min\n",
      "[CV] END ........................C=1.0, degree=3, kernel=rbf; total time= 3.1min\n",
      "[CV] END ....................C=1.0, degree=3, kernel=sigmoid; total time= 3.0min\n",
      "[CV] END ....................C=1.0, degree=3, kernel=sigmoid; total time= 3.0min\n",
      "[CV] END ....................C=1.0, degree=3, kernel=sigmoid; total time= 3.1min\n",
      "[CV] END ....................C=1.0, degree=3, kernel=sigmoid; total time= 3.8min\n",
      "[CV] END ........................C=1.0, degree=5, kernel=rbf; total time= 3.1min\n",
      "[CV] END ........................C=1.0, degree=5, kernel=rbf; total time= 3.1min\n",
      "[CV] END ........................C=1.0, degree=5, kernel=rbf; total time= 3.1min\n",
      "[CV] END ........................C=1.0, degree=5, kernel=rbf; total time= 3.1min\n",
      "[CV] END ........................C=1.0, degree=5, kernel=rbf; total time= 3.1min\n",
      "[CV] END ....................C=1.0, degree=5, kernel=sigmoid; total time= 3.1min\n",
      "[CV] END ....................C=1.0, degree=5, kernel=sigmoid; total time= 3.0min\n",
      "[CV] END ....................C=1.0, degree=5, kernel=sigmoid; total time= 2.9min\n",
      "[CV] END ....................C=1.0, degree=5, kernel=sigmoid; total time= 2.9min\n",
      "[CV] END ........................C=1.0, degree=7, kernel=rbf; total time= 2.8min\n",
      "[CV] END ........................C=1.0, degree=7, kernel=rbf; total time= 2.9min\n",
      "[CV] END ........................C=1.0, degree=7, kernel=rbf; total time= 2.9min\n",
      "[CV] END ........................C=1.0, degree=7, kernel=rbf; total time= 2.9min\n",
      "[CV] END ........................C=1.0, degree=7, kernel=rbf; total time= 2.7min\n",
      "[CV] END ....................C=1.0, degree=5, kernel=sigmoid; total time= 3.7min\n",
      "[CV] END ....................C=1.0, degree=7, kernel=sigmoid; total time= 2.8min\n",
      "[CV] END ....................C=1.0, degree=7, kernel=sigmoid; total time= 2.8min\n",
      "[CV] END ....................C=1.0, degree=7, kernel=sigmoid; total time= 2.8min\n",
      "[CV] END ....................C=1.0, degree=7, kernel=sigmoid; total time= 2.8min\n",
      "[CV] END ........................C=1.5, degree=3, kernel=rbf; total time= 2.9min\n",
      "[CV] END ........................C=1.5, degree=3, kernel=rbf; total time= 2.9min\n",
      "[CV] END ........................C=1.5, degree=3, kernel=rbf; total time= 2.9min\n",
      "[CV] END ....................C=1.0, degree=7, kernel=sigmoid; total time= 3.7min\n",
      "[CV] END ........................C=1.5, degree=3, kernel=rbf; total time= 2.8min\n",
      "[CV] END ........................C=1.5, degree=3, kernel=rbf; total time= 2.9min\n",
      "[CV] END ....................C=1.5, degree=3, kernel=sigmoid; total time= 2.9min\n",
      "[CV] END ....................C=1.5, degree=3, kernel=sigmoid; total time= 2.9min\n",
      "[CV] END ....................C=1.5, degree=3, kernel=sigmoid; total time= 2.9min\n",
      "[CV] END ....................C=1.5, degree=3, kernel=sigmoid; total time= 2.9min\n",
      "[CV] END ........................C=1.5, degree=5, kernel=rbf; total time= 3.0min\n",
      "[CV] END ....................C=1.5, degree=3, kernel=sigmoid; total time= 3.8min\n",
      "[CV] END ........................C=1.5, degree=5, kernel=rbf; total time= 3.1min\n",
      "[CV] END ........................C=1.5, degree=5, kernel=rbf; total time= 3.0min\n",
      "[CV] END ........................C=1.5, degree=5, kernel=rbf; total time= 3.1min\n",
      "[CV] END ........................C=1.5, degree=5, kernel=rbf; total time= 3.1min\n",
      "[CV] END ....................C=1.5, degree=5, kernel=sigmoid; total time= 3.1min\n",
      "[CV] END ....................C=1.5, degree=5, kernel=sigmoid; total time= 3.2min\n",
      "[CV] END ....................C=1.5, degree=5, kernel=sigmoid; total time= 3.2min\n",
      "[CV] END ....................C=1.5, degree=5, kernel=sigmoid; total time= 3.1min\n",
      "[CV] END ....................C=1.5, degree=5, kernel=sigmoid; total time= 3.9min\n",
      "[CV] END ........................C=1.5, degree=7, kernel=rbf; total time= 3.0min\n",
      "[CV] END ........................C=1.5, degree=7, kernel=rbf; total time= 3.0min\n",
      "[CV] END ........................C=1.5, degree=7, kernel=rbf; total time= 3.0min\n",
      "[CV] END ........................C=1.5, degree=7, kernel=rbf; total time= 3.0min\n",
      "[CV] END ........................C=1.5, degree=7, kernel=rbf; total time= 2.9min\n",
      "[CV] END ....................C=1.5, degree=7, kernel=sigmoid; total time= 3.0min\n",
      "[CV] END ....................C=1.5, degree=7, kernel=sigmoid; total time= 3.0min\n",
      "[CV] END ....................C=1.5, degree=7, kernel=sigmoid; total time= 2.9min\n",
      "[CV] END ....................C=1.5, degree=7, kernel=sigmoid; total time= 2.9min\n",
      "[CV] END .......................C=1.25, degree=3, kernel=rbf; total time= 3.0min\n",
      "[CV] END .......................C=1.25, degree=3, kernel=rbf; total time= 2.9min\n",
      "[CV] END .......................C=1.25, degree=3, kernel=rbf; total time= 2.9min\n",
      "[CV] END ....................C=1.5, degree=7, kernel=sigmoid; total time= 3.8min\n",
      "[CV] END .......................C=1.25, degree=3, kernel=rbf; total time= 2.9min\n",
      "[CV] END .......................C=1.25, degree=3, kernel=rbf; total time= 2.8min\n",
      "[CV] END ...................C=1.25, degree=3, kernel=sigmoid; total time= 2.9min\n",
      "[CV] END ...................C=1.25, degree=3, kernel=sigmoid; total time= 2.9min\n",
      "[CV] END ...................C=1.25, degree=3, kernel=sigmoid; total time= 2.9min\n",
      "[CV] END ...................C=1.25, degree=3, kernel=sigmoid; total time= 3.0min\n",
      "[CV] END .......................C=1.25, degree=5, kernel=rbf; total time= 2.9min\n",
      "[CV] END .......................C=1.25, degree=5, kernel=rbf; total time= 2.9min\n",
      "[CV] END ...................C=1.25, degree=3, kernel=sigmoid; total time= 3.7min\n",
      "[CV] END .......................C=1.25, degree=5, kernel=rbf; total time= 2.9min\n",
      "[CV] END .......................C=1.25, degree=5, kernel=rbf; total time= 2.9min\n",
      "[CV] END .......................C=1.25, degree=5, kernel=rbf; total time= 2.9min\n",
      "[CV] END ...................C=1.25, degree=5, kernel=sigmoid; total time= 2.9min\n",
      "[CV] END ...................C=1.25, degree=5, kernel=sigmoid; total time= 2.9min\n",
      "[CV] END ...................C=1.25, degree=5, kernel=sigmoid; total time= 2.9min\n",
      "[CV] END ...................C=1.25, degree=5, kernel=sigmoid; total time= 2.9min\n",
      "[CV] END .......................C=1.25, degree=7, kernel=rbf; total time= 2.9min\n",
      "[CV] END ...................C=1.25, degree=5, kernel=sigmoid; total time= 3.7min\n",
      "[CV] END .......................C=1.25, degree=7, kernel=rbf; total time= 2.9min\n",
      "[CV] END .......................C=1.25, degree=7, kernel=rbf; total time= 2.9min\n",
      "[CV] END .......................C=1.25, degree=7, kernel=rbf; total time= 2.9min\n",
      "[CV] END .......................C=1.25, degree=7, kernel=rbf; total time= 2.8min\n",
      "[CV] END ...................C=1.25, degree=7, kernel=sigmoid; total time= 2.8min\n",
      "[CV] END ...................C=1.25, degree=7, kernel=sigmoid; total time= 2.9min\n",
      "[CV] END ...................C=1.25, degree=7, kernel=sigmoid; total time= 2.9min\n",
      "[CV] END ...................C=1.25, degree=7, kernel=sigmoid; total time= 2.9min\n",
      "[CV] END .......................C=0.25, degree=3, kernel=rbf; total time= 2.7min\n",
      "[CV] END .......................C=0.25, degree=3, kernel=rbf; total time= 2.8min\n",
      "[CV] END ...................C=1.25, degree=7, kernel=sigmoid; total time= 3.7min\n",
      "[CV] END .......................C=0.25, degree=3, kernel=rbf; total time= 2.8min\n",
      "[CV] END .......................C=0.25, degree=3, kernel=rbf; total time= 2.8min\n",
      "[CV] END .......................C=0.25, degree=3, kernel=rbf; total time= 2.8min\n",
      "[CV] END ...................C=0.25, degree=3, kernel=sigmoid; total time= 3.0min\n",
      "[CV] END ...................C=0.25, degree=3, kernel=sigmoid; total time= 3.0min\n",
      "[CV] END ...................C=0.25, degree=3, kernel=sigmoid; total time= 2.9min\n",
      "[CV] END ...................C=0.25, degree=3, kernel=sigmoid; total time= 3.0min\n",
      "[CV] END .......................C=0.25, degree=5, kernel=rbf; total time= 2.8min\n",
      "[CV] END .......................C=0.25, degree=5, kernel=rbf; total time= 2.8min\n",
      "[CV] END .......................C=0.25, degree=5, kernel=rbf; total time= 2.8min\n",
      "[CV] END ...................C=0.25, degree=3, kernel=sigmoid; total time= 3.8min\n",
      "[CV] END .......................C=0.25, degree=5, kernel=rbf; total time= 2.7min\n",
      "[CV] END .......................C=0.25, degree=5, kernel=rbf; total time= 2.7min\n",
      "[CV] END ...................C=0.25, degree=5, kernel=sigmoid; total time= 2.9min\n",
      "[CV] END ...................C=0.25, degree=5, kernel=sigmoid; total time= 2.9min\n",
      "[CV] END ...................C=0.25, degree=5, kernel=sigmoid; total time= 2.9min\n",
      "[CV] END ...................C=0.25, degree=5, kernel=sigmoid; total time= 2.9min\n",
      "[CV] END .......................C=0.25, degree=7, kernel=rbf; total time= 2.8min\n",
      "[CV] END .......................C=0.25, degree=7, kernel=rbf; total time= 2.8min\n",
      "[CV] END ...................C=0.25, degree=5, kernel=sigmoid; total time= 3.7min\n",
      "[CV] END .......................C=0.25, degree=7, kernel=rbf; total time= 2.8min\n",
      "[CV] END .......................C=0.25, degree=7, kernel=rbf; total time= 2.8min\n",
      "[CV] END .......................C=0.25, degree=7, kernel=rbf; total time= 2.7min\n",
      "[CV] END ...................C=0.25, degree=7, kernel=sigmoid; total time= 2.9min\n",
      "[CV] END ...................C=0.25, degree=7, kernel=sigmoid; total time= 2.9min\n",
      "[CV] END ...................C=0.25, degree=7, kernel=sigmoid; total time= 2.9min\n",
      "[CV] END ...................C=0.25, degree=7, kernel=sigmoid; total time= 2.9min\n",
      "[CV] END .......................C=0.75, degree=3, kernel=rbf; total time= 2.8min\n",
      "[CV] END .......................C=0.75, degree=3, kernel=rbf; total time= 2.8min\n",
      "[CV] END ...................C=0.25, degree=7, kernel=sigmoid; total time= 3.8min\n",
      "[CV] END .......................C=0.75, degree=3, kernel=rbf; total time= 2.8min\n",
      "[CV] END .......................C=0.75, degree=3, kernel=rbf; total time= 2.8min\n",
      "[CV] END .......................C=0.75, degree=3, kernel=rbf; total time= 2.8min\n",
      "[CV] END ...................C=0.75, degree=3, kernel=sigmoid; total time= 2.9min\n",
      "[CV] END ...................C=0.75, degree=3, kernel=sigmoid; total time= 2.8min\n",
      "[CV] END ...................C=0.75, degree=3, kernel=sigmoid; total time= 2.8min\n",
      "[CV] END ...................C=0.75, degree=3, kernel=sigmoid; total time= 2.9min\n",
      "[CV] END .......................C=0.75, degree=5, kernel=rbf; total time= 2.8min\n",
      "[CV] END .......................C=0.75, degree=5, kernel=rbf; total time= 2.8min\n",
      "[CV] END ...................C=0.75, degree=3, kernel=sigmoid; total time= 3.5min\n",
      "[CV] END .......................C=0.75, degree=5, kernel=rbf; total time= 2.7min\n",
      "[CV] END .......................C=0.75, degree=5, kernel=rbf; total time= 2.8min\n",
      "[CV] END .......................C=0.75, degree=5, kernel=rbf; total time= 2.7min\n",
      "[CV] END ...................C=0.75, degree=5, kernel=sigmoid; total time= 2.8min\n",
      "[CV] END ...................C=0.75, degree=5, kernel=sigmoid; total time= 2.8min\n",
      "[CV] END ...................C=0.75, degree=5, kernel=sigmoid; total time= 2.8min\n",
      "[CV] END ...................C=0.75, degree=5, kernel=sigmoid; total time= 2.8min\n",
      "[CV] END .......................C=0.75, degree=7, kernel=rbf; total time= 2.8min\n",
      "[CV] END .......................C=0.75, degree=7, kernel=rbf; total time= 2.7min\n",
      "[CV] END ...................C=0.75, degree=5, kernel=sigmoid; total time= 3.5min\n",
      "[CV] END .......................C=0.75, degree=7, kernel=rbf; total time= 2.8min\n",
      "[CV] END .......................C=0.75, degree=7, kernel=rbf; total time= 2.8min\n",
      "[CV] END .......................C=0.75, degree=7, kernel=rbf; total time= 2.8min\n",
      "[CV] END ...................C=0.75, degree=7, kernel=sigmoid; total time= 2.9min\n",
      "[CV] END ...................C=0.75, degree=7, kernel=sigmoid; total time= 2.9min\n",
      "[CV] END ...................C=0.75, degree=7, kernel=sigmoid; total time= 3.0min\n",
      "[CV] END ...................C=0.75, degree=7, kernel=sigmoid; total time= 3.1min\n",
      "[CV] END .......................C=1.75, degree=3, kernel=rbf; total time= 3.0min\n",
      "[CV] END .......................C=1.75, degree=3, kernel=rbf; total time= 3.0min\n",
      "[CV] END ...................C=0.75, degree=7, kernel=sigmoid; total time= 3.9min\n",
      "[CV] END .......................C=1.75, degree=3, kernel=rbf; total time= 3.0min\n",
      "[CV] END .......................C=1.75, degree=3, kernel=rbf; total time= 2.9min\n",
      "[CV] END .......................C=1.75, degree=3, kernel=rbf; total time= 2.9min\n",
      "[CV] END ...................C=1.75, degree=3, kernel=sigmoid; total time= 2.9min\n",
      "[CV] END ...................C=1.75, degree=3, kernel=sigmoid; total time= 3.0min\n",
      "[CV] END ...................C=1.75, degree=3, kernel=sigmoid; total time= 2.9min\n",
      "[CV] END ...................C=1.75, degree=3, kernel=sigmoid; total time= 3.0min\n",
      "[CV] END .......................C=1.75, degree=5, kernel=rbf; total time= 2.9min\n",
      "[CV] END .......................C=1.75, degree=5, kernel=rbf; total time= 2.9min\n",
      "[CV] END ...................C=1.75, degree=3, kernel=sigmoid; total time= 3.8min\n",
      "[CV] END .......................C=1.75, degree=5, kernel=rbf; total time= 3.0min\n",
      "[CV] END .......................C=1.75, degree=5, kernel=rbf; total time= 3.0min\n",
      "[CV] END .......................C=1.75, degree=5, kernel=rbf; total time= 2.8min\n",
      "[CV] END ...................C=1.75, degree=5, kernel=sigmoid; total time= 2.9min\n",
      "[CV] END ...................C=1.75, degree=5, kernel=sigmoid; total time= 2.9min\n",
      "[CV] END ...................C=1.75, degree=5, kernel=sigmoid; total time= 2.9min\n",
      "[CV] END ...................C=1.75, degree=5, kernel=sigmoid; total time= 2.8min\n",
      "[CV] END .......................C=1.75, degree=7, kernel=rbf; total time= 2.8min\n",
      "[CV] END .......................C=1.75, degree=7, kernel=rbf; total time= 2.8min\n",
      "[CV] END ...................C=1.75, degree=5, kernel=sigmoid; total time= 3.6min\n",
      "[CV] END .......................C=1.75, degree=7, kernel=rbf; total time= 2.9min\n",
      "[CV] END .......................C=1.75, degree=7, kernel=rbf; total time= 2.9min\n",
      "[CV] END .......................C=1.75, degree=7, kernel=rbf; total time= 2.7min\n",
      "[CV] END ...................C=1.75, degree=7, kernel=sigmoid; total time= 2.8min\n",
      "[CV] END ...................C=1.75, degree=7, kernel=sigmoid; total time= 2.8min\n",
      "[CV] END ...................C=1.75, degree=7, kernel=sigmoid; total time= 2.8min\n",
      "[CV] END ...................C=1.75, degree=7, kernel=sigmoid; total time= 2.9min\n",
      "[CV] END ........................C=2.0, degree=3, kernel=rbf; total time= 2.9min\n",
      "[CV] END ........................C=2.0, degree=3, kernel=rbf; total time= 2.8min\n",
      "[CV] END ...................C=1.75, degree=7, kernel=sigmoid; total time= 3.7min\n",
      "[CV] END ........................C=2.0, degree=3, kernel=rbf; total time= 2.9min\n",
      "[CV] END ........................C=2.0, degree=3, kernel=rbf; total time= 2.8min\n",
      "[CV] END ........................C=2.0, degree=3, kernel=rbf; total time= 2.8min\n",
      "[CV] END ....................C=2.0, degree=3, kernel=sigmoid; total time= 2.8min\n",
      "[CV] END ....................C=2.0, degree=3, kernel=sigmoid; total time= 2.8min\n",
      "[CV] END ....................C=2.0, degree=3, kernel=sigmoid; total time= 2.9min\n",
      "[CV] END ....................C=2.0, degree=3, kernel=sigmoid; total time= 2.8min\n",
      "[CV] END ........................C=2.0, degree=5, kernel=rbf; total time= 2.8min\n",
      "[CV] END ........................C=2.0, degree=5, kernel=rbf; total time= 2.8min\n",
      "[CV] END ....................C=2.0, degree=3, kernel=sigmoid; total time= 3.7min\n",
      "[CV] END ........................C=2.0, degree=5, kernel=rbf; total time= 2.8min\n",
      "[CV] END ........................C=2.0, degree=5, kernel=rbf; total time= 2.9min\n",
      "[CV] END ........................C=2.0, degree=5, kernel=rbf; total time= 2.8min\n",
      "[CV] END ....................C=2.0, degree=5, kernel=sigmoid; total time= 2.8min\n",
      "[CV] END ....................C=2.0, degree=5, kernel=sigmoid; total time= 2.8min\n",
      "[CV] END ....................C=2.0, degree=5, kernel=sigmoid; total time= 2.8min\n",
      "[CV] END ....................C=2.0, degree=5, kernel=sigmoid; total time= 2.8min\n",
      "[CV] END ........................C=2.0, degree=7, kernel=rbf; total time= 2.8min\n",
      "[CV] END ........................C=2.0, degree=7, kernel=rbf; total time= 2.8min\n",
      "[CV] END ....................C=2.0, degree=5, kernel=sigmoid; total time= 3.6min\n",
      "[CV] END ........................C=2.0, degree=7, kernel=rbf; total time= 2.9min\n",
      "[CV] END ........................C=2.0, degree=7, kernel=rbf; total time= 2.8min\n",
      "[CV] END ........................C=2.0, degree=7, kernel=rbf; total time= 2.7min\n",
      "[CV] END ....................C=2.0, degree=7, kernel=sigmoid; total time= 2.5min\n",
      "[CV] END ....................C=2.0, degree=7, kernel=sigmoid; total time= 2.4min\n",
      "[CV] END ....................C=2.0, degree=7, kernel=sigmoid; total time= 2.2min\n",
      "[CV] END ....................C=2.0, degree=7, kernel=sigmoid; total time= 1.7min\n",
      "[CV] END ....................C=2.0, degree=7, kernel=sigmoid; total time= 1.9min\n"
     ]
    },
    {
     "output_type": "execute_result",
     "data": {
      "text/plain": [
       "GridSearchCV(cv=5, estimator=SVC(probability=True, random_state=42), n_jobs=-1,\n",
       "             param_grid={'C': [0.5, 1.0, 1.5, 1.25, 0.25, 0.75, 1.75, 2.0],\n",
       "                         'degree': [3, 5, 7], 'kernel': ['rbf', 'sigmoid']},\n",
       "             verbose=2)"
      ]
     },
     "metadata": {},
     "execution_count": 382
    }
   ],
   "metadata": {}
  },
  {
   "cell_type": "code",
   "execution_count": 383,
   "source": [
    "clf_svm.best_estimator_"
   ],
   "outputs": [
    {
     "output_type": "execute_result",
     "data": {
      "text/plain": [
       "SVC(C=2.0, probability=True, random_state=42)"
      ]
     },
     "metadata": {},
     "execution_count": 383
    }
   ],
   "metadata": {}
  },
  {
   "cell_type": "code",
   "execution_count": 386,
   "source": [
    "\n",
    "(clf_svm.cv_results_['mean_test_score'])"
   ],
   "outputs": [
    {
     "output_type": "execute_result",
     "data": {
      "text/plain": [
       "array([0.78176, 0.64496, 0.78176, 0.64496, 0.78176, 0.64496, 0.79364,\n",
       "       0.64344, 0.79364, 0.64344, 0.79364, 0.64344, 0.79704, 0.64272,\n",
       "       0.79704, 0.64272, 0.79704, 0.64272, 0.7958 , 0.64308, 0.7958 ,\n",
       "       0.64308, 0.7958 , 0.64308, 0.77352, 0.64852, 0.77352, 0.64852,\n",
       "       0.77352, 0.64852, 0.788  , 0.644  , 0.788  , 0.644  , 0.788  ,\n",
       "       0.644  , 0.798  , 0.64264, 0.798  , 0.64264, 0.798  , 0.64264,\n",
       "       0.7988 , 0.6426 , 0.7988 , 0.6426 , 0.7988 , 0.6426 ])"
      ]
     },
     "metadata": {},
     "execution_count": 386
    }
   ],
   "metadata": {}
  },
  {
   "cell_type": "code",
   "execution_count": 474,
   "source": [
    "# Get Validation Curves for the Best Model\n",
    "best_model = clf_svm\n",
    "fig_name = 'output-svm.png'\n",
    "varying_param = 'C'\n",
    "train_scores, test_scores = validation_curve(best_model.best_estimator_, training.drop(['income>50K'],axis=1),training['income>50K'],cv=5, \n",
    "                                            param_name=varying_param, param_range=param_grid[varying_param], scoring='accuracy', n_jobs=-1)\n",
    "train_scores_mean = np.mean(train_scores, axis=1)\n",
    "train_scores_std = np.std(train_scores, axis=1)\n",
    "test_scores_mean = np.mean(test_scores, axis=1)\n",
    "test_scores_std = np.std(test_scores, axis=1)\n",
    "\n",
    "plt.title(\"Validation Curve for Best Model\")\n",
    "plt.xlabel('C')\n",
    "plt.ylabel(\"Score\")\n",
    "plt.ylim(0.0, 1.1)\n",
    "lw = 0.75\n",
    "plt.plot(\n",
    "    param_grid[varying_param], train_scores_mean, label=\"Training score\", color=\"darkorange\", lw=lw\n",
    ")\n",
    "plt.fill_between(\n",
    "    param_grid[varying_param],\n",
    "    train_scores_mean - train_scores_std,\n",
    "    train_scores_mean + train_scores_std,\n",
    "    alpha=0.2,\n",
    "    color=\"darkorange\",\n",
    "    lw=lw,\n",
    ")\n",
    "plt.plot(\n",
    "    param_grid[varying_param], test_scores_mean, label=\"Cross-validation score\", color=\"navy\", lw=lw\n",
    ")\n",
    "plt.fill_between(\n",
    "    param_grid[varying_param],\n",
    "    test_scores_mean - test_scores_std,\n",
    "    test_scores_mean + test_scores_std,\n",
    "    alpha=0.2,\n",
    "    color=\"navy\",\n",
    "    lw=lw,\n",
    ")\n",
    "plt.legend(loc=\"best\")\n",
    "plt.savefig(f'Figures/{fig_name}', dpi=200)\n",
    "plt.show()"
   ],
   "outputs": [
    {
     "output_type": "display_data",
     "data": {
      "text/plain": [
       "<Figure size 432x288 with 1 Axes>"
      ],
      "image/svg+xml": "<?xml version=\"1.0\" encoding=\"utf-8\" standalone=\"no\"?>\n<!DOCTYPE svg PUBLIC \"-//W3C//DTD SVG 1.1//EN\"\n  \"http://www.w3.org/Graphics/SVG/1.1/DTD/svg11.dtd\">\n<svg height=\"277.314375pt\" version=\"1.1\" viewBox=\"0 0 385.78125 277.314375\" width=\"385.78125pt\" xmlns=\"http://www.w3.org/2000/svg\" xmlns:xlink=\"http://www.w3.org/1999/xlink\">\n <metadata>\n  <rdf:RDF xmlns:cc=\"http://creativecommons.org/ns#\" xmlns:dc=\"http://purl.org/dc/elements/1.1/\" xmlns:rdf=\"http://www.w3.org/1999/02/22-rdf-syntax-ns#\">\n   <cc:Work>\n    <dc:type rdf:resource=\"http://purl.org/dc/dcmitype/StillImage\"/>\n    <dc:date>2021-12-19T17:00:25.563739</dc:date>\n    <dc:format>image/svg+xml</dc:format>\n    <dc:creator>\n     <cc:Agent>\n      <dc:title>Matplotlib v3.4.3, https://matplotlib.org/</dc:title>\n     </cc:Agent>\n    </dc:creator>\n   </cc:Work>\n  </rdf:RDF>\n </metadata>\n <defs>\n  <style type=\"text/css\">*{stroke-linecap:butt;stroke-linejoin:round;}</style>\n </defs>\n <g id=\"figure_1\">\n  <g id=\"patch_1\">\n   <path d=\"M 0 277.314375 \nL 385.78125 277.314375 \nL 385.78125 0 \nL 0 0 \nz\n\" style=\"fill:none;\"/>\n  </g>\n  <g id=\"axes_1\">\n   <g id=\"patch_2\">\n    <path d=\"M 43.78125 239.758125 \nL 378.58125 239.758125 \nL 378.58125 22.318125 \nL 43.78125 22.318125 \nz\n\" style=\"fill:#ffffff;\"/>\n   </g>\n   <g id=\"PolyCollection_1\">\n    <defs>\n     <path d=\"M 102.479951 -192.154927 \nL 102.479951 -192.014928 \nL 189.44099 -194.272405 \nL 276.402029 -195.017494 \nL 232.92151 -194.734112 \nL 58.999432 -190.336324 \nL 145.960471 -193.214798 \nL 319.882549 -195.190546 \nL 363.363068 -195.321419 \nL 363.363068 -195.59303 \nL 363.363068 -195.59303 \nL 319.882549 -195.451115 \nL 145.960471 -193.449688 \nL 58.999432 -190.579839 \nL 232.92151 -194.998255 \nL 276.402029 -195.284169 \nL 189.44099 -194.550667 \nL 102.479951 -192.154927 \nz\n\" id=\"m79894b8c95\" style=\"stroke:#ff8c00;stroke-opacity:0.2;stroke-width:0.75;\"/>\n    </defs>\n    <g clip-path=\"url(#pd9e79fe32d)\">\n     <use style=\"fill:#ff8c00;fill-opacity:0.2;stroke:#ff8c00;stroke-opacity:0.2;stroke-width:0.75;\" x=\"0\" xlink:href=\"#m79894b8c95\" y=\"277.314375\"/>\n    </g>\n   </g>\n   <g id=\"PolyCollection_2\">\n    <defs>\n     <path d=\"M 102.479951 -192.317225 \nL 102.479951 -191.860537 \nL 189.44099 -194.023044 \nL 276.402029 -194.784848 \nL 232.92151 -194.495029 \nL 58.999432 -190.256005 \nL 145.960471 -192.87929 \nL 319.882549 -194.915785 \nL 363.363068 -195.012044 \nL 363.363068 -195.902405 \nL 363.363068 -195.902405 \nL 319.882549 -195.682388 \nL 145.960471 -193.765428 \nL 58.999432 -190.664111 \nL 232.92151 -195.233384 \nL 276.402029 -195.433793 \nL 189.44099 -194.851423 \nL 102.479951 -192.317225 \nz\n\" id=\"m4ae02e877b\" style=\"stroke:#000080;stroke-opacity:0.2;stroke-width:0.75;\"/>\n    </defs>\n    <g clip-path=\"url(#pd9e79fe32d)\">\n     <use style=\"fill:#000080;fill-opacity:0.2;stroke:#000080;stroke-opacity:0.2;stroke-width:0.75;\" x=\"0\" xlink:href=\"#m4ae02e877b\" y=\"277.314375\"/>\n    </g>\n   </g>\n   <g id=\"matplotlib.axis_1\">\n    <g id=\"xtick_1\">\n     <g id=\"line2d_1\">\n      <defs>\n       <path d=\"M 0 0 \nL 0 3.5 \n\" id=\"m6cc63497d1\" style=\"stroke:#000000;stroke-width:0.8;\"/>\n      </defs>\n      <g>\n       <use style=\"stroke:#000000;stroke-width:0.8;\" x=\"58.999432\" xlink:href=\"#m6cc63497d1\" y=\"239.758125\"/>\n      </g>\n     </g>\n     <g id=\"text_1\">\n      <!-- 0.25 -->\n      <g transform=\"translate(47.866619 254.356562)scale(0.1 -0.1)\">\n       <defs>\n        <path d=\"M 2034 4250 \nQ 1547 4250 1301 3770 \nQ 1056 3291 1056 2328 \nQ 1056 1369 1301 889 \nQ 1547 409 2034 409 \nQ 2525 409 2770 889 \nQ 3016 1369 3016 2328 \nQ 3016 3291 2770 3770 \nQ 2525 4250 2034 4250 \nz\nM 2034 4750 \nQ 2819 4750 3233 4129 \nQ 3647 3509 3647 2328 \nQ 3647 1150 3233 529 \nQ 2819 -91 2034 -91 \nQ 1250 -91 836 529 \nQ 422 1150 422 2328 \nQ 422 3509 836 4129 \nQ 1250 4750 2034 4750 \nz\n\" id=\"DejaVuSans-30\" transform=\"scale(0.015625)\"/>\n        <path d=\"M 684 794 \nL 1344 794 \nL 1344 0 \nL 684 0 \nL 684 794 \nz\n\" id=\"DejaVuSans-2e\" transform=\"scale(0.015625)\"/>\n        <path d=\"M 1228 531 \nL 3431 531 \nL 3431 0 \nL 469 0 \nL 469 531 \nQ 828 903 1448 1529 \nQ 2069 2156 2228 2338 \nQ 2531 2678 2651 2914 \nQ 2772 3150 2772 3378 \nQ 2772 3750 2511 3984 \nQ 2250 4219 1831 4219 \nQ 1534 4219 1204 4116 \nQ 875 4013 500 3803 \nL 500 4441 \nQ 881 4594 1212 4672 \nQ 1544 4750 1819 4750 \nQ 2544 4750 2975 4387 \nQ 3406 4025 3406 3419 \nQ 3406 3131 3298 2873 \nQ 3191 2616 2906 2266 \nQ 2828 2175 2409 1742 \nQ 1991 1309 1228 531 \nz\n\" id=\"DejaVuSans-32\" transform=\"scale(0.015625)\"/>\n        <path d=\"M 691 4666 \nL 3169 4666 \nL 3169 4134 \nL 1269 4134 \nL 1269 2991 \nQ 1406 3038 1543 3061 \nQ 1681 3084 1819 3084 \nQ 2600 3084 3056 2656 \nQ 3513 2228 3513 1497 \nQ 3513 744 3044 326 \nQ 2575 -91 1722 -91 \nQ 1428 -91 1123 -41 \nQ 819 9 494 109 \nL 494 744 \nQ 775 591 1075 516 \nQ 1375 441 1709 441 \nQ 2250 441 2565 725 \nQ 2881 1009 2881 1497 \nQ 2881 1984 2565 2268 \nQ 2250 2553 1709 2553 \nQ 1456 2553 1204 2497 \nQ 953 2441 691 2322 \nL 691 4666 \nz\n\" id=\"DejaVuSans-35\" transform=\"scale(0.015625)\"/>\n       </defs>\n       <use xlink:href=\"#DejaVuSans-30\"/>\n       <use x=\"63.623047\" xlink:href=\"#DejaVuSans-2e\"/>\n       <use x=\"95.410156\" xlink:href=\"#DejaVuSans-32\"/>\n       <use x=\"159.033203\" xlink:href=\"#DejaVuSans-35\"/>\n      </g>\n     </g>\n    </g>\n    <g id=\"xtick_2\">\n     <g id=\"line2d_2\">\n      <g>\n       <use style=\"stroke:#000000;stroke-width:0.8;\" x=\"102.479951\" xlink:href=\"#m6cc63497d1\" y=\"239.758125\"/>\n      </g>\n     </g>\n     <g id=\"text_2\">\n      <!-- 0.50 -->\n      <g transform=\"translate(91.347139 254.356562)scale(0.1 -0.1)\">\n       <use xlink:href=\"#DejaVuSans-30\"/>\n       <use x=\"63.623047\" xlink:href=\"#DejaVuSans-2e\"/>\n       <use x=\"95.410156\" xlink:href=\"#DejaVuSans-35\"/>\n       <use x=\"159.033203\" xlink:href=\"#DejaVuSans-30\"/>\n      </g>\n     </g>\n    </g>\n    <g id=\"xtick_3\">\n     <g id=\"line2d_3\">\n      <g>\n       <use style=\"stroke:#000000;stroke-width:0.8;\" x=\"145.960471\" xlink:href=\"#m6cc63497d1\" y=\"239.758125\"/>\n      </g>\n     </g>\n     <g id=\"text_3\">\n      <!-- 0.75 -->\n      <g transform=\"translate(134.827658 254.356562)scale(0.1 -0.1)\">\n       <defs>\n        <path d=\"M 525 4666 \nL 3525 4666 \nL 3525 4397 \nL 1831 0 \nL 1172 0 \nL 2766 4134 \nL 525 4134 \nL 525 4666 \nz\n\" id=\"DejaVuSans-37\" transform=\"scale(0.015625)\"/>\n       </defs>\n       <use xlink:href=\"#DejaVuSans-30\"/>\n       <use x=\"63.623047\" xlink:href=\"#DejaVuSans-2e\"/>\n       <use x=\"95.410156\" xlink:href=\"#DejaVuSans-37\"/>\n       <use x=\"159.033203\" xlink:href=\"#DejaVuSans-35\"/>\n      </g>\n     </g>\n    </g>\n    <g id=\"xtick_4\">\n     <g id=\"line2d_4\">\n      <g>\n       <use style=\"stroke:#000000;stroke-width:0.8;\" x=\"189.44099\" xlink:href=\"#m6cc63497d1\" y=\"239.758125\"/>\n      </g>\n     </g>\n     <g id=\"text_4\">\n      <!-- 1.00 -->\n      <g transform=\"translate(178.308178 254.356562)scale(0.1 -0.1)\">\n       <defs>\n        <path d=\"M 794 531 \nL 1825 531 \nL 1825 4091 \nL 703 3866 \nL 703 4441 \nL 1819 4666 \nL 2450 4666 \nL 2450 531 \nL 3481 531 \nL 3481 0 \nL 794 0 \nL 794 531 \nz\n\" id=\"DejaVuSans-31\" transform=\"scale(0.015625)\"/>\n       </defs>\n       <use xlink:href=\"#DejaVuSans-31\"/>\n       <use x=\"63.623047\" xlink:href=\"#DejaVuSans-2e\"/>\n       <use x=\"95.410156\" xlink:href=\"#DejaVuSans-30\"/>\n       <use x=\"159.033203\" xlink:href=\"#DejaVuSans-30\"/>\n      </g>\n     </g>\n    </g>\n    <g id=\"xtick_5\">\n     <g id=\"line2d_5\">\n      <g>\n       <use style=\"stroke:#000000;stroke-width:0.8;\" x=\"232.92151\" xlink:href=\"#m6cc63497d1\" y=\"239.758125\"/>\n      </g>\n     </g>\n     <g id=\"text_5\">\n      <!-- 1.25 -->\n      <g transform=\"translate(221.788697 254.356562)scale(0.1 -0.1)\">\n       <use xlink:href=\"#DejaVuSans-31\"/>\n       <use x=\"63.623047\" xlink:href=\"#DejaVuSans-2e\"/>\n       <use x=\"95.410156\" xlink:href=\"#DejaVuSans-32\"/>\n       <use x=\"159.033203\" xlink:href=\"#DejaVuSans-35\"/>\n      </g>\n     </g>\n    </g>\n    <g id=\"xtick_6\">\n     <g id=\"line2d_6\">\n      <g>\n       <use style=\"stroke:#000000;stroke-width:0.8;\" x=\"276.402029\" xlink:href=\"#m6cc63497d1\" y=\"239.758125\"/>\n      </g>\n     </g>\n     <g id=\"text_6\">\n      <!-- 1.50 -->\n      <g transform=\"translate(265.269217 254.356562)scale(0.1 -0.1)\">\n       <use xlink:href=\"#DejaVuSans-31\"/>\n       <use x=\"63.623047\" xlink:href=\"#DejaVuSans-2e\"/>\n       <use x=\"95.410156\" xlink:href=\"#DejaVuSans-35\"/>\n       <use x=\"159.033203\" xlink:href=\"#DejaVuSans-30\"/>\n      </g>\n     </g>\n    </g>\n    <g id=\"xtick_7\">\n     <g id=\"line2d_7\">\n      <g>\n       <use style=\"stroke:#000000;stroke-width:0.8;\" x=\"319.882549\" xlink:href=\"#m6cc63497d1\" y=\"239.758125\"/>\n      </g>\n     </g>\n     <g id=\"text_7\">\n      <!-- 1.75 -->\n      <g transform=\"translate(308.749736 254.356562)scale(0.1 -0.1)\">\n       <use xlink:href=\"#DejaVuSans-31\"/>\n       <use x=\"63.623047\" xlink:href=\"#DejaVuSans-2e\"/>\n       <use x=\"95.410156\" xlink:href=\"#DejaVuSans-37\"/>\n       <use x=\"159.033203\" xlink:href=\"#DejaVuSans-35\"/>\n      </g>\n     </g>\n    </g>\n    <g id=\"xtick_8\">\n     <g id=\"line2d_8\">\n      <g>\n       <use style=\"stroke:#000000;stroke-width:0.8;\" x=\"363.363068\" xlink:href=\"#m6cc63497d1\" y=\"239.758125\"/>\n      </g>\n     </g>\n     <g id=\"text_8\">\n      <!-- 2.00 -->\n      <g transform=\"translate(352.230256 254.356562)scale(0.1 -0.1)\">\n       <use xlink:href=\"#DejaVuSans-32\"/>\n       <use x=\"63.623047\" xlink:href=\"#DejaVuSans-2e\"/>\n       <use x=\"95.410156\" xlink:href=\"#DejaVuSans-30\"/>\n       <use x=\"159.033203\" xlink:href=\"#DejaVuSans-30\"/>\n      </g>\n     </g>\n    </g>\n    <g id=\"text_9\">\n     <!-- C -->\n     <g transform=\"translate(207.689844 268.034687)scale(0.1 -0.1)\">\n      <defs>\n       <path d=\"M 4122 4306 \nL 4122 3641 \nQ 3803 3938 3442 4084 \nQ 3081 4231 2675 4231 \nQ 1875 4231 1450 3742 \nQ 1025 3253 1025 2328 \nQ 1025 1406 1450 917 \nQ 1875 428 2675 428 \nQ 3081 428 3442 575 \nQ 3803 722 4122 1019 \nL 4122 359 \nQ 3791 134 3420 21 \nQ 3050 -91 2638 -91 \nQ 1578 -91 968 557 \nQ 359 1206 359 2328 \nQ 359 3453 968 4101 \nQ 1578 4750 2638 4750 \nQ 3056 4750 3426 4639 \nQ 3797 4528 4122 4306 \nz\n\" id=\"DejaVuSans-43\" transform=\"scale(0.015625)\"/>\n      </defs>\n      <use xlink:href=\"#DejaVuSans-43\"/>\n     </g>\n    </g>\n   </g>\n   <g id=\"matplotlib.axis_2\">\n    <g id=\"ytick_1\">\n     <g id=\"line2d_9\">\n      <defs>\n       <path d=\"M 0 0 \nL -3.5 0 \n\" id=\"m8e31864079\" style=\"stroke:#000000;stroke-width:0.8;\"/>\n      </defs>\n      <g>\n       <use style=\"stroke:#000000;stroke-width:0.8;\" x=\"43.78125\" xlink:href=\"#m8e31864079\" y=\"239.758125\"/>\n      </g>\n     </g>\n     <g id=\"text_10\">\n      <!-- 0.0 -->\n      <g transform=\"translate(20.878125 243.557344)scale(0.1 -0.1)\">\n       <use xlink:href=\"#DejaVuSans-30\"/>\n       <use x=\"63.623047\" xlink:href=\"#DejaVuSans-2e\"/>\n       <use x=\"95.410156\" xlink:href=\"#DejaVuSans-30\"/>\n      </g>\n     </g>\n    </g>\n    <g id=\"ytick_2\">\n     <g id=\"line2d_10\">\n      <g>\n       <use style=\"stroke:#000000;stroke-width:0.8;\" x=\"43.78125\" xlink:href=\"#m8e31864079\" y=\"200.22358\"/>\n      </g>\n     </g>\n     <g id=\"text_11\">\n      <!-- 0.2 -->\n      <g transform=\"translate(20.878125 204.022798)scale(0.1 -0.1)\">\n       <use xlink:href=\"#DejaVuSans-30\"/>\n       <use x=\"63.623047\" xlink:href=\"#DejaVuSans-2e\"/>\n       <use x=\"95.410156\" xlink:href=\"#DejaVuSans-32\"/>\n      </g>\n     </g>\n    </g>\n    <g id=\"ytick_3\">\n     <g id=\"line2d_11\">\n      <g>\n       <use style=\"stroke:#000000;stroke-width:0.8;\" x=\"43.78125\" xlink:href=\"#m8e31864079\" y=\"160.689034\"/>\n      </g>\n     </g>\n     <g id=\"text_12\">\n      <!-- 0.4 -->\n      <g transform=\"translate(20.878125 164.488253)scale(0.1 -0.1)\">\n       <defs>\n        <path d=\"M 2419 4116 \nL 825 1625 \nL 2419 1625 \nL 2419 4116 \nz\nM 2253 4666 \nL 3047 4666 \nL 3047 1625 \nL 3713 1625 \nL 3713 1100 \nL 3047 1100 \nL 3047 0 \nL 2419 0 \nL 2419 1100 \nL 313 1100 \nL 313 1709 \nL 2253 4666 \nz\n\" id=\"DejaVuSans-34\" transform=\"scale(0.015625)\"/>\n       </defs>\n       <use xlink:href=\"#DejaVuSans-30\"/>\n       <use x=\"63.623047\" xlink:href=\"#DejaVuSans-2e\"/>\n       <use x=\"95.410156\" xlink:href=\"#DejaVuSans-34\"/>\n      </g>\n     </g>\n    </g>\n    <g id=\"ytick_4\">\n     <g id=\"line2d_12\">\n      <g>\n       <use style=\"stroke:#000000;stroke-width:0.8;\" x=\"43.78125\" xlink:href=\"#m8e31864079\" y=\"121.154489\"/>\n      </g>\n     </g>\n     <g id=\"text_13\">\n      <!-- 0.6 -->\n      <g transform=\"translate(20.878125 124.953707)scale(0.1 -0.1)\">\n       <defs>\n        <path d=\"M 2113 2584 \nQ 1688 2584 1439 2293 \nQ 1191 2003 1191 1497 \nQ 1191 994 1439 701 \nQ 1688 409 2113 409 \nQ 2538 409 2786 701 \nQ 3034 994 3034 1497 \nQ 3034 2003 2786 2293 \nQ 2538 2584 2113 2584 \nz\nM 3366 4563 \nL 3366 3988 \nQ 3128 4100 2886 4159 \nQ 2644 4219 2406 4219 \nQ 1781 4219 1451 3797 \nQ 1122 3375 1075 2522 \nQ 1259 2794 1537 2939 \nQ 1816 3084 2150 3084 \nQ 2853 3084 3261 2657 \nQ 3669 2231 3669 1497 \nQ 3669 778 3244 343 \nQ 2819 -91 2113 -91 \nQ 1303 -91 875 529 \nQ 447 1150 447 2328 \nQ 447 3434 972 4092 \nQ 1497 4750 2381 4750 \nQ 2619 4750 2861 4703 \nQ 3103 4656 3366 4563 \nz\n\" id=\"DejaVuSans-36\" transform=\"scale(0.015625)\"/>\n       </defs>\n       <use xlink:href=\"#DejaVuSans-30\"/>\n       <use x=\"63.623047\" xlink:href=\"#DejaVuSans-2e\"/>\n       <use x=\"95.410156\" xlink:href=\"#DejaVuSans-36\"/>\n      </g>\n     </g>\n    </g>\n    <g id=\"ytick_5\">\n     <g id=\"line2d_13\">\n      <g>\n       <use style=\"stroke:#000000;stroke-width:0.8;\" x=\"43.78125\" xlink:href=\"#m8e31864079\" y=\"81.619943\"/>\n      </g>\n     </g>\n     <g id=\"text_14\">\n      <!-- 0.8 -->\n      <g transform=\"translate(20.878125 85.419162)scale(0.1 -0.1)\">\n       <defs>\n        <path d=\"M 2034 2216 \nQ 1584 2216 1326 1975 \nQ 1069 1734 1069 1313 \nQ 1069 891 1326 650 \nQ 1584 409 2034 409 \nQ 2484 409 2743 651 \nQ 3003 894 3003 1313 \nQ 3003 1734 2745 1975 \nQ 2488 2216 2034 2216 \nz\nM 1403 2484 \nQ 997 2584 770 2862 \nQ 544 3141 544 3541 \nQ 544 4100 942 4425 \nQ 1341 4750 2034 4750 \nQ 2731 4750 3128 4425 \nQ 3525 4100 3525 3541 \nQ 3525 3141 3298 2862 \nQ 3072 2584 2669 2484 \nQ 3125 2378 3379 2068 \nQ 3634 1759 3634 1313 \nQ 3634 634 3220 271 \nQ 2806 -91 2034 -91 \nQ 1263 -91 848 271 \nQ 434 634 434 1313 \nQ 434 1759 690 2068 \nQ 947 2378 1403 2484 \nz\nM 1172 3481 \nQ 1172 3119 1398 2916 \nQ 1625 2713 2034 2713 \nQ 2441 2713 2670 2916 \nQ 2900 3119 2900 3481 \nQ 2900 3844 2670 4047 \nQ 2441 4250 2034 4250 \nQ 1625 4250 1398 4047 \nQ 1172 3844 1172 3481 \nz\n\" id=\"DejaVuSans-38\" transform=\"scale(0.015625)\"/>\n       </defs>\n       <use xlink:href=\"#DejaVuSans-30\"/>\n       <use x=\"63.623047\" xlink:href=\"#DejaVuSans-2e\"/>\n       <use x=\"95.410156\" xlink:href=\"#DejaVuSans-38\"/>\n      </g>\n     </g>\n    </g>\n    <g id=\"ytick_6\">\n     <g id=\"line2d_14\">\n      <g>\n       <use style=\"stroke:#000000;stroke-width:0.8;\" x=\"43.78125\" xlink:href=\"#m8e31864079\" y=\"42.085398\"/>\n      </g>\n     </g>\n     <g id=\"text_15\">\n      <!-- 1.0 -->\n      <g transform=\"translate(20.878125 45.884616)scale(0.1 -0.1)\">\n       <use xlink:href=\"#DejaVuSans-31\"/>\n       <use x=\"63.623047\" xlink:href=\"#DejaVuSans-2e\"/>\n       <use x=\"95.410156\" xlink:href=\"#DejaVuSans-30\"/>\n      </g>\n     </g>\n    </g>\n    <g id=\"text_16\">\n     <!-- Score -->\n     <g transform=\"translate(14.798438 145.040469)rotate(-90)scale(0.1 -0.1)\">\n      <defs>\n       <path d=\"M 3425 4513 \nL 3425 3897 \nQ 3066 4069 2747 4153 \nQ 2428 4238 2131 4238 \nQ 1616 4238 1336 4038 \nQ 1056 3838 1056 3469 \nQ 1056 3159 1242 3001 \nQ 1428 2844 1947 2747 \nL 2328 2669 \nQ 3034 2534 3370 2195 \nQ 3706 1856 3706 1288 \nQ 3706 609 3251 259 \nQ 2797 -91 1919 -91 \nQ 1588 -91 1214 -16 \nQ 841 59 441 206 \nL 441 856 \nQ 825 641 1194 531 \nQ 1563 422 1919 422 \nQ 2459 422 2753 634 \nQ 3047 847 3047 1241 \nQ 3047 1584 2836 1778 \nQ 2625 1972 2144 2069 \nL 1759 2144 \nQ 1053 2284 737 2584 \nQ 422 2884 422 3419 \nQ 422 4038 858 4394 \nQ 1294 4750 2059 4750 \nQ 2388 4750 2728 4690 \nQ 3069 4631 3425 4513 \nz\n\" id=\"DejaVuSans-53\" transform=\"scale(0.015625)\"/>\n       <path d=\"M 3122 3366 \nL 3122 2828 \nQ 2878 2963 2633 3030 \nQ 2388 3097 2138 3097 \nQ 1578 3097 1268 2742 \nQ 959 2388 959 1747 \nQ 959 1106 1268 751 \nQ 1578 397 2138 397 \nQ 2388 397 2633 464 \nQ 2878 531 3122 666 \nL 3122 134 \nQ 2881 22 2623 -34 \nQ 2366 -91 2075 -91 \nQ 1284 -91 818 406 \nQ 353 903 353 1747 \nQ 353 2603 823 3093 \nQ 1294 3584 2113 3584 \nQ 2378 3584 2631 3529 \nQ 2884 3475 3122 3366 \nz\n\" id=\"DejaVuSans-63\" transform=\"scale(0.015625)\"/>\n       <path d=\"M 1959 3097 \nQ 1497 3097 1228 2736 \nQ 959 2375 959 1747 \nQ 959 1119 1226 758 \nQ 1494 397 1959 397 \nQ 2419 397 2687 759 \nQ 2956 1122 2956 1747 \nQ 2956 2369 2687 2733 \nQ 2419 3097 1959 3097 \nz\nM 1959 3584 \nQ 2709 3584 3137 3096 \nQ 3566 2609 3566 1747 \nQ 3566 888 3137 398 \nQ 2709 -91 1959 -91 \nQ 1206 -91 779 398 \nQ 353 888 353 1747 \nQ 353 2609 779 3096 \nQ 1206 3584 1959 3584 \nz\n\" id=\"DejaVuSans-6f\" transform=\"scale(0.015625)\"/>\n       <path d=\"M 2631 2963 \nQ 2534 3019 2420 3045 \nQ 2306 3072 2169 3072 \nQ 1681 3072 1420 2755 \nQ 1159 2438 1159 1844 \nL 1159 0 \nL 581 0 \nL 581 3500 \nL 1159 3500 \nL 1159 2956 \nQ 1341 3275 1631 3429 \nQ 1922 3584 2338 3584 \nQ 2397 3584 2469 3576 \nQ 2541 3569 2628 3553 \nL 2631 2963 \nz\n\" id=\"DejaVuSans-72\" transform=\"scale(0.015625)\"/>\n       <path d=\"M 3597 1894 \nL 3597 1613 \nL 953 1613 \nQ 991 1019 1311 708 \nQ 1631 397 2203 397 \nQ 2534 397 2845 478 \nQ 3156 559 3463 722 \nL 3463 178 \nQ 3153 47 2828 -22 \nQ 2503 -91 2169 -91 \nQ 1331 -91 842 396 \nQ 353 884 353 1716 \nQ 353 2575 817 3079 \nQ 1281 3584 2069 3584 \nQ 2775 3584 3186 3129 \nQ 3597 2675 3597 1894 \nz\nM 3022 2063 \nQ 3016 2534 2758 2815 \nQ 2500 3097 2075 3097 \nQ 1594 3097 1305 2825 \nQ 1016 2553 972 2059 \nL 3022 2063 \nz\n\" id=\"DejaVuSans-65\" transform=\"scale(0.015625)\"/>\n      </defs>\n      <use xlink:href=\"#DejaVuSans-53\"/>\n      <use x=\"63.476562\" xlink:href=\"#DejaVuSans-63\"/>\n      <use x=\"118.457031\" xlink:href=\"#DejaVuSans-6f\"/>\n      <use x=\"179.638672\" xlink:href=\"#DejaVuSans-72\"/>\n      <use x=\"218.501953\" xlink:href=\"#DejaVuSans-65\"/>\n     </g>\n    </g>\n   </g>\n   <g id=\"line2d_15\">\n    <path clip-path=\"url(#pd9e79fe32d)\" d=\"M 102.479951 85.229447 \nL 189.44099 82.902839 \nL 276.402029 82.163543 \nL 232.92151 82.448192 \nL 58.999432 86.856294 \nL 145.960471 83.982132 \nL 319.882549 81.993545 \nL 363.363068 81.85715 \n\" style=\"fill:none;stroke:#ff8c00;stroke-linecap:square;stroke-width:0.75;\"/>\n   </g>\n   <g id=\"line2d_16\">\n    <path clip-path=\"url(#pd9e79fe32d)\" d=\"M 102.479951 85.225494 \nL 189.44099 82.877142 \nL 276.402029 82.205054 \nL 232.92151 82.450169 \nL 58.999432 86.854317 \nL 145.960471 83.992016 \nL 319.882549 82.015289 \nL 363.363068 81.85715 \n\" style=\"fill:none;stroke:#000080;stroke-linecap:square;stroke-width:0.75;\"/>\n   </g>\n   <g id=\"patch_3\">\n    <path d=\"M 43.78125 239.758125 \nL 43.78125 22.318125 \n\" style=\"fill:none;stroke:#000000;stroke-linecap:square;stroke-linejoin:miter;stroke-width:0.8;\"/>\n   </g>\n   <g id=\"patch_4\">\n    <path d=\"M 378.58125 239.758125 \nL 378.58125 22.318125 \n\" style=\"fill:none;stroke:#000000;stroke-linecap:square;stroke-linejoin:miter;stroke-width:0.8;\"/>\n   </g>\n   <g id=\"patch_5\">\n    <path d=\"M 43.78125 239.758125 \nL 378.58125 239.758125 \n\" style=\"fill:none;stroke:#000000;stroke-linecap:square;stroke-linejoin:miter;stroke-width:0.8;\"/>\n   </g>\n   <g id=\"patch_6\">\n    <path d=\"M 43.78125 22.318125 \nL 378.58125 22.318125 \n\" style=\"fill:none;stroke:#000000;stroke-linecap:square;stroke-linejoin:miter;stroke-width:0.8;\"/>\n   </g>\n   <g id=\"text_17\">\n    <!-- Validation Curve for Best Model -->\n    <g transform=\"translate(116.670938 16.318125)scale(0.12 -0.12)\">\n     <defs>\n      <path d=\"M 1831 0 \nL 50 4666 \nL 709 4666 \nL 2188 738 \nL 3669 4666 \nL 4325 4666 \nL 2547 0 \nL 1831 0 \nz\n\" id=\"DejaVuSans-56\" transform=\"scale(0.015625)\"/>\n      <path d=\"M 2194 1759 \nQ 1497 1759 1228 1600 \nQ 959 1441 959 1056 \nQ 959 750 1161 570 \nQ 1363 391 1709 391 \nQ 2188 391 2477 730 \nQ 2766 1069 2766 1631 \nL 2766 1759 \nL 2194 1759 \nz\nM 3341 1997 \nL 3341 0 \nL 2766 0 \nL 2766 531 \nQ 2569 213 2275 61 \nQ 1981 -91 1556 -91 \nQ 1019 -91 701 211 \nQ 384 513 384 1019 \nQ 384 1609 779 1909 \nQ 1175 2209 1959 2209 \nL 2766 2209 \nL 2766 2266 \nQ 2766 2663 2505 2880 \nQ 2244 3097 1772 3097 \nQ 1472 3097 1187 3025 \nQ 903 2953 641 2809 \nL 641 3341 \nQ 956 3463 1253 3523 \nQ 1550 3584 1831 3584 \nQ 2591 3584 2966 3190 \nQ 3341 2797 3341 1997 \nz\n\" id=\"DejaVuSans-61\" transform=\"scale(0.015625)\"/>\n      <path d=\"M 603 4863 \nL 1178 4863 \nL 1178 0 \nL 603 0 \nL 603 4863 \nz\n\" id=\"DejaVuSans-6c\" transform=\"scale(0.015625)\"/>\n      <path d=\"M 603 3500 \nL 1178 3500 \nL 1178 0 \nL 603 0 \nL 603 3500 \nz\nM 603 4863 \nL 1178 4863 \nL 1178 4134 \nL 603 4134 \nL 603 4863 \nz\n\" id=\"DejaVuSans-69\" transform=\"scale(0.015625)\"/>\n      <path d=\"M 2906 2969 \nL 2906 4863 \nL 3481 4863 \nL 3481 0 \nL 2906 0 \nL 2906 525 \nQ 2725 213 2448 61 \nQ 2172 -91 1784 -91 \nQ 1150 -91 751 415 \nQ 353 922 353 1747 \nQ 353 2572 751 3078 \nQ 1150 3584 1784 3584 \nQ 2172 3584 2448 3432 \nQ 2725 3281 2906 2969 \nz\nM 947 1747 \nQ 947 1113 1208 752 \nQ 1469 391 1925 391 \nQ 2381 391 2643 752 \nQ 2906 1113 2906 1747 \nQ 2906 2381 2643 2742 \nQ 2381 3103 1925 3103 \nQ 1469 3103 1208 2742 \nQ 947 2381 947 1747 \nz\n\" id=\"DejaVuSans-64\" transform=\"scale(0.015625)\"/>\n      <path d=\"M 1172 4494 \nL 1172 3500 \nL 2356 3500 \nL 2356 3053 \nL 1172 3053 \nL 1172 1153 \nQ 1172 725 1289 603 \nQ 1406 481 1766 481 \nL 2356 481 \nL 2356 0 \nL 1766 0 \nQ 1100 0 847 248 \nQ 594 497 594 1153 \nL 594 3053 \nL 172 3053 \nL 172 3500 \nL 594 3500 \nL 594 4494 \nL 1172 4494 \nz\n\" id=\"DejaVuSans-74\" transform=\"scale(0.015625)\"/>\n      <path d=\"M 3513 2113 \nL 3513 0 \nL 2938 0 \nL 2938 2094 \nQ 2938 2591 2744 2837 \nQ 2550 3084 2163 3084 \nQ 1697 3084 1428 2787 \nQ 1159 2491 1159 1978 \nL 1159 0 \nL 581 0 \nL 581 3500 \nL 1159 3500 \nL 1159 2956 \nQ 1366 3272 1645 3428 \nQ 1925 3584 2291 3584 \nQ 2894 3584 3203 3211 \nQ 3513 2838 3513 2113 \nz\n\" id=\"DejaVuSans-6e\" transform=\"scale(0.015625)\"/>\n      <path id=\"DejaVuSans-20\" transform=\"scale(0.015625)\"/>\n      <path d=\"M 544 1381 \nL 544 3500 \nL 1119 3500 \nL 1119 1403 \nQ 1119 906 1312 657 \nQ 1506 409 1894 409 \nQ 2359 409 2629 706 \nQ 2900 1003 2900 1516 \nL 2900 3500 \nL 3475 3500 \nL 3475 0 \nL 2900 0 \nL 2900 538 \nQ 2691 219 2414 64 \nQ 2138 -91 1772 -91 \nQ 1169 -91 856 284 \nQ 544 659 544 1381 \nz\nM 1991 3584 \nL 1991 3584 \nz\n\" id=\"DejaVuSans-75\" transform=\"scale(0.015625)\"/>\n      <path d=\"M 191 3500 \nL 800 3500 \nL 1894 563 \nL 2988 3500 \nL 3597 3500 \nL 2284 0 \nL 1503 0 \nL 191 3500 \nz\n\" id=\"DejaVuSans-76\" transform=\"scale(0.015625)\"/>\n      <path d=\"M 2375 4863 \nL 2375 4384 \nL 1825 4384 \nQ 1516 4384 1395 4259 \nQ 1275 4134 1275 3809 \nL 1275 3500 \nL 2222 3500 \nL 2222 3053 \nL 1275 3053 \nL 1275 0 \nL 697 0 \nL 697 3053 \nL 147 3053 \nL 147 3500 \nL 697 3500 \nL 697 3744 \nQ 697 4328 969 4595 \nQ 1241 4863 1831 4863 \nL 2375 4863 \nz\n\" id=\"DejaVuSans-66\" transform=\"scale(0.015625)\"/>\n      <path d=\"M 1259 2228 \nL 1259 519 \nL 2272 519 \nQ 2781 519 3026 730 \nQ 3272 941 3272 1375 \nQ 3272 1813 3026 2020 \nQ 2781 2228 2272 2228 \nL 1259 2228 \nz\nM 1259 4147 \nL 1259 2741 \nL 2194 2741 \nQ 2656 2741 2882 2914 \nQ 3109 3088 3109 3444 \nQ 3109 3797 2882 3972 \nQ 2656 4147 2194 4147 \nL 1259 4147 \nz\nM 628 4666 \nL 2241 4666 \nQ 2963 4666 3353 4366 \nQ 3744 4066 3744 3513 \nQ 3744 3084 3544 2831 \nQ 3344 2578 2956 2516 \nQ 3422 2416 3680 2098 \nQ 3938 1781 3938 1306 \nQ 3938 681 3513 340 \nQ 3088 0 2303 0 \nL 628 0 \nL 628 4666 \nz\n\" id=\"DejaVuSans-42\" transform=\"scale(0.015625)\"/>\n      <path d=\"M 2834 3397 \nL 2834 2853 \nQ 2591 2978 2328 3040 \nQ 2066 3103 1784 3103 \nQ 1356 3103 1142 2972 \nQ 928 2841 928 2578 \nQ 928 2378 1081 2264 \nQ 1234 2150 1697 2047 \nL 1894 2003 \nQ 2506 1872 2764 1633 \nQ 3022 1394 3022 966 \nQ 3022 478 2636 193 \nQ 2250 -91 1575 -91 \nQ 1294 -91 989 -36 \nQ 684 19 347 128 \nL 347 722 \nQ 666 556 975 473 \nQ 1284 391 1588 391 \nQ 1994 391 2212 530 \nQ 2431 669 2431 922 \nQ 2431 1156 2273 1281 \nQ 2116 1406 1581 1522 \nL 1381 1569 \nQ 847 1681 609 1914 \nQ 372 2147 372 2553 \nQ 372 3047 722 3315 \nQ 1072 3584 1716 3584 \nQ 2034 3584 2315 3537 \nQ 2597 3491 2834 3397 \nz\n\" id=\"DejaVuSans-73\" transform=\"scale(0.015625)\"/>\n      <path d=\"M 628 4666 \nL 1569 4666 \nL 2759 1491 \nL 3956 4666 \nL 4897 4666 \nL 4897 0 \nL 4281 0 \nL 4281 4097 \nL 3078 897 \nL 2444 897 \nL 1241 4097 \nL 1241 0 \nL 628 0 \nL 628 4666 \nz\n\" id=\"DejaVuSans-4d\" transform=\"scale(0.015625)\"/>\n     </defs>\n     <use xlink:href=\"#DejaVuSans-56\"/>\n     <use x=\"60.658203\" xlink:href=\"#DejaVuSans-61\"/>\n     <use x=\"121.9375\" xlink:href=\"#DejaVuSans-6c\"/>\n     <use x=\"149.720703\" xlink:href=\"#DejaVuSans-69\"/>\n     <use x=\"177.503906\" xlink:href=\"#DejaVuSans-64\"/>\n     <use x=\"240.980469\" xlink:href=\"#DejaVuSans-61\"/>\n     <use x=\"302.259766\" xlink:href=\"#DejaVuSans-74\"/>\n     <use x=\"341.46875\" xlink:href=\"#DejaVuSans-69\"/>\n     <use x=\"369.251953\" xlink:href=\"#DejaVuSans-6f\"/>\n     <use x=\"430.433594\" xlink:href=\"#DejaVuSans-6e\"/>\n     <use x=\"493.8125\" xlink:href=\"#DejaVuSans-20\"/>\n     <use x=\"525.599609\" xlink:href=\"#DejaVuSans-43\"/>\n     <use x=\"595.423828\" xlink:href=\"#DejaVuSans-75\"/>\n     <use x=\"658.802734\" xlink:href=\"#DejaVuSans-72\"/>\n     <use x=\"699.916016\" xlink:href=\"#DejaVuSans-76\"/>\n     <use x=\"759.095703\" xlink:href=\"#DejaVuSans-65\"/>\n     <use x=\"820.619141\" xlink:href=\"#DejaVuSans-20\"/>\n     <use x=\"852.40625\" xlink:href=\"#DejaVuSans-66\"/>\n     <use x=\"887.611328\" xlink:href=\"#DejaVuSans-6f\"/>\n     <use x=\"948.792969\" xlink:href=\"#DejaVuSans-72\"/>\n     <use x=\"989.90625\" xlink:href=\"#DejaVuSans-20\"/>\n     <use x=\"1021.693359\" xlink:href=\"#DejaVuSans-42\"/>\n     <use x=\"1090.296875\" xlink:href=\"#DejaVuSans-65\"/>\n     <use x=\"1151.820312\" xlink:href=\"#DejaVuSans-73\"/>\n     <use x=\"1203.919922\" xlink:href=\"#DejaVuSans-74\"/>\n     <use x=\"1243.128906\" xlink:href=\"#DejaVuSans-20\"/>\n     <use x=\"1274.916016\" xlink:href=\"#DejaVuSans-4d\"/>\n     <use x=\"1361.195312\" xlink:href=\"#DejaVuSans-6f\"/>\n     <use x=\"1422.376953\" xlink:href=\"#DejaVuSans-64\"/>\n     <use x=\"1485.853516\" xlink:href=\"#DejaVuSans-65\"/>\n     <use x=\"1547.376953\" xlink:href=\"#DejaVuSans-6c\"/>\n    </g>\n   </g>\n   <g id=\"legend_1\">\n    <g id=\"patch_7\">\n     <path d=\"M 229.551562 59.674375 \nL 371.58125 59.674375 \nQ 373.58125 59.674375 373.58125 57.674375 \nL 373.58125 29.318125 \nQ 373.58125 27.318125 371.58125 27.318125 \nL 229.551562 27.318125 \nQ 227.551562 27.318125 227.551562 29.318125 \nL 227.551562 57.674375 \nQ 227.551562 59.674375 229.551562 59.674375 \nz\n\" style=\"fill:#ffffff;opacity:0.8;stroke:#cccccc;stroke-linejoin:miter;\"/>\n    </g>\n    <g id=\"line2d_17\">\n     <path d=\"M 231.551562 35.416562 \nL 251.551562 35.416562 \n\" style=\"fill:none;stroke:#ff8c00;stroke-linecap:square;stroke-width:0.75;\"/>\n    </g>\n    <g id=\"line2d_18\"/>\n    <g id=\"text_18\">\n     <!-- Training score -->\n     <g transform=\"translate(259.551562 38.916562)scale(0.1 -0.1)\">\n      <defs>\n       <path d=\"M -19 4666 \nL 3928 4666 \nL 3928 4134 \nL 2272 4134 \nL 2272 0 \nL 1638 0 \nL 1638 4134 \nL -19 4134 \nL -19 4666 \nz\n\" id=\"DejaVuSans-54\" transform=\"scale(0.015625)\"/>\n       <path d=\"M 2906 1791 \nQ 2906 2416 2648 2759 \nQ 2391 3103 1925 3103 \nQ 1463 3103 1205 2759 \nQ 947 2416 947 1791 \nQ 947 1169 1205 825 \nQ 1463 481 1925 481 \nQ 2391 481 2648 825 \nQ 2906 1169 2906 1791 \nz\nM 3481 434 \nQ 3481 -459 3084 -895 \nQ 2688 -1331 1869 -1331 \nQ 1566 -1331 1297 -1286 \nQ 1028 -1241 775 -1147 \nL 775 -588 \nQ 1028 -725 1275 -790 \nQ 1522 -856 1778 -856 \nQ 2344 -856 2625 -561 \nQ 2906 -266 2906 331 \nL 2906 616 \nQ 2728 306 2450 153 \nQ 2172 0 1784 0 \nQ 1141 0 747 490 \nQ 353 981 353 1791 \nQ 353 2603 747 3093 \nQ 1141 3584 1784 3584 \nQ 2172 3584 2450 3431 \nQ 2728 3278 2906 2969 \nL 2906 3500 \nL 3481 3500 \nL 3481 434 \nz\n\" id=\"DejaVuSans-67\" transform=\"scale(0.015625)\"/>\n      </defs>\n      <use xlink:href=\"#DejaVuSans-54\"/>\n      <use x=\"46.333984\" xlink:href=\"#DejaVuSans-72\"/>\n      <use x=\"87.447266\" xlink:href=\"#DejaVuSans-61\"/>\n      <use x=\"148.726562\" xlink:href=\"#DejaVuSans-69\"/>\n      <use x=\"176.509766\" xlink:href=\"#DejaVuSans-6e\"/>\n      <use x=\"239.888672\" xlink:href=\"#DejaVuSans-69\"/>\n      <use x=\"267.671875\" xlink:href=\"#DejaVuSans-6e\"/>\n      <use x=\"331.050781\" xlink:href=\"#DejaVuSans-67\"/>\n      <use x=\"394.527344\" xlink:href=\"#DejaVuSans-20\"/>\n      <use x=\"426.314453\" xlink:href=\"#DejaVuSans-73\"/>\n      <use x=\"478.414062\" xlink:href=\"#DejaVuSans-63\"/>\n      <use x=\"533.394531\" xlink:href=\"#DejaVuSans-6f\"/>\n      <use x=\"594.576172\" xlink:href=\"#DejaVuSans-72\"/>\n      <use x=\"633.439453\" xlink:href=\"#DejaVuSans-65\"/>\n     </g>\n    </g>\n    <g id=\"line2d_19\">\n     <path d=\"M 231.551562 50.094687 \nL 251.551562 50.094687 \n\" style=\"fill:none;stroke:#000080;stroke-linecap:square;stroke-width:0.75;\"/>\n    </g>\n    <g id=\"line2d_20\"/>\n    <g id=\"text_19\">\n     <!-- Cross-validation score -->\n     <g transform=\"translate(259.551562 53.594687)scale(0.1 -0.1)\">\n      <defs>\n       <path d=\"M 313 2009 \nL 1997 2009 \nL 1997 1497 \nL 313 1497 \nL 313 2009 \nz\n\" id=\"DejaVuSans-2d\" transform=\"scale(0.015625)\"/>\n      </defs>\n      <use xlink:href=\"#DejaVuSans-43\"/>\n      <use x=\"69.824219\" xlink:href=\"#DejaVuSans-72\"/>\n      <use x=\"108.6875\" xlink:href=\"#DejaVuSans-6f\"/>\n      <use x=\"169.869141\" xlink:href=\"#DejaVuSans-73\"/>\n      <use x=\"221.96875\" xlink:href=\"#DejaVuSans-73\"/>\n      <use x=\"274.068359\" xlink:href=\"#DejaVuSans-2d\"/>\n      <use x=\"307.527344\" xlink:href=\"#DejaVuSans-76\"/>\n      <use x=\"366.707031\" xlink:href=\"#DejaVuSans-61\"/>\n      <use x=\"427.986328\" xlink:href=\"#DejaVuSans-6c\"/>\n      <use x=\"455.769531\" xlink:href=\"#DejaVuSans-69\"/>\n      <use x=\"483.552734\" xlink:href=\"#DejaVuSans-64\"/>\n      <use x=\"547.029297\" xlink:href=\"#DejaVuSans-61\"/>\n      <use x=\"608.308594\" xlink:href=\"#DejaVuSans-74\"/>\n      <use x=\"647.517578\" xlink:href=\"#DejaVuSans-69\"/>\n      <use x=\"675.300781\" xlink:href=\"#DejaVuSans-6f\"/>\n      <use x=\"736.482422\" xlink:href=\"#DejaVuSans-6e\"/>\n      <use x=\"799.861328\" xlink:href=\"#DejaVuSans-20\"/>\n      <use x=\"831.648438\" xlink:href=\"#DejaVuSans-73\"/>\n      <use x=\"883.748047\" xlink:href=\"#DejaVuSans-63\"/>\n      <use x=\"938.728516\" xlink:href=\"#DejaVuSans-6f\"/>\n      <use x=\"999.910156\" xlink:href=\"#DejaVuSans-72\"/>\n      <use x=\"1038.773438\" xlink:href=\"#DejaVuSans-65\"/>\n     </g>\n    </g>\n   </g>\n  </g>\n </g>\n <defs>\n  <clipPath id=\"pd9e79fe32d\">\n   <rect height=\"217.44\" width=\"334.8\" x=\"43.78125\" y=\"22.318125\"/>\n  </clipPath>\n </defs>\n</svg>\n",
      "image/png": "[encoded data removed]"
     },
     "metadata": {
      "needs_background": "light"
     }
    }
   ],
   "metadata": {}
  },
  {
   "cell_type": "code",
   "execution_count": 476,
   "source": [
    "probs= clf_svm.predict_proba(testing.drop(['ID'],axis=1))\n",
    "ID=[]\n",
    "for i in range(23842):\n",
    "    ID.append(i+1)\n",
    "d={'ID':ID,\"Prediction\":probs[:,1]}                                                            \n",
    "df=pd.DataFrame(d)\n",
    "df.to_csv(\"Submission_svm.csv\",index=False)"
   ],
   "outputs": [],
   "metadata": {}
  },
  {
   "cell_type": "markdown",
   "source": [
    "# 7. Voting CLassifiers"
   ],
   "metadata": {}
  },
  {
   "cell_type": "code",
   "execution_count": 327,
   "source": [
    "param_grid = {\n",
    "        'estimators': [[('aboost', AdaBoostClassifier(base_estimator=tree.DecisionTreeClassifier(max_depth=2),n_estimators=100, random_state=42)),\n",
    "        ('rf', RandomForestClassifier(max_depth=16, n_estimators=148, random_state=42)),\n",
    "        ('bagged', BaggingClassifier(base_estimator=tree.DecisionTreeClassifier(max_depth=10),\n",
    "                  max_features=13, n_estimators=152, random_state=42),('gnb', GaussianNB()))],\n",
    "        [('aboost',AdaBoostClassifier(base_estimator=tree.DecisionTreeClassifier(max_depth=2),n_estimators=50, random_state=42)),\n",
    "        ('rf', RandomForestClassifier(max_depth=20, n_estimators=148, random_state=42)),\n",
    "        ('bagged', BaggingClassifier(base_estimator=tree.DecisionTreeClassifier(max_depth=2),\n",
    "                  max_features=13, n_estimators=152, random_state=42))]]\n",
    "    }\n"
   ],
   "outputs": [],
   "metadata": {}
  },
  {
   "cell_type": "code",
   "execution_count": 328,
   "source": [
    "vote_class = VotingClassifier(estimators=param_grid['estimators'], voting='soft')"
   ],
   "outputs": [],
   "metadata": {}
  },
  {
   "cell_type": "code",
   "execution_count": 329,
   "source": [
    "clf_vote_class=GridSearchCV(estimator=vote_class,param_grid=param_grid,cv=5,verbose=2,n_jobs=-1)\n",
    "clf_vote_class.fit(training.drop(['income>50K'],axis=1),training['income>50K'])"
   ],
   "outputs": [
    {
     "output_type": "stream",
     "name": "stdout",
     "text": [
      "Fitting 5 folds for each of 2 candidates, totalling 10 fits\n",
      "[CV] END estimators=[('aboost', AdaBoostClassifier(base_estimator=DecisionTreeClassifier(max_depth=2),\n",
      "                   random_state=42)), ('rf', RandomForestClassifier(max_depth=20, n_estimators=148, random_state=42)), ('bagged', BaggingClassifier(base_estimator=DecisionTreeClassifier(max_depth=2),\n",
      "                  max_features=13, n_estimators=152, random_state=42))]; total time=   7.1s[CV] END estimators=[('aboost', AdaBoostClassifier(base_estimator=DecisionTreeClassifier(max_depth=2),\n",
      "                   random_state=42)), ('rf', RandomForestClassifier(max_depth=20, n_estimators=148, random_state=42)), ('bagged', BaggingClassifier(base_estimator=DecisionTreeClassifier(max_depth=2),\n",
      "                  max_features=13, n_estimators=152, random_state=42))]; total time=   7.1s\n",
      "\n",
      "[CV] END estimators=[('aboost', AdaBoostClassifier(base_estimator=DecisionTreeClassifier(max_depth=2),\n",
      "                   random_state=42)), ('rf', RandomForestClassifier(max_depth=20, n_estimators=148, random_state=42)), ('bagged', BaggingClassifier(base_estimator=DecisionTreeClassifier(max_depth=2),\n",
      "                  max_features=13, n_estimators=152, random_state=42))]; total time=   7.4s\n",
      "[CV] END estimators=[('aboost', AdaBoostClassifier(base_estimator=DecisionTreeClassifier(max_depth=2),\n",
      "                   n_estimators=100, random_state=42)), ('rf', RandomForestClassifier(max_depth=16, n_estimators=148, random_state=42)), ('bagged', BaggingClassifier(base_estimator=DecisionTreeClassifier(max_depth=10),\n",
      "                  max_features=13, n_estimators=152, random_state=42), ('gnb', GaussianNB()))]; total time=  12.4s\n",
      "[CV] END estimators=[('aboost', AdaBoostClassifier(base_estimator=DecisionTreeClassifier(max_depth=2),\n",
      "                   n_estimators=100, random_state=42)), ('rf', RandomForestClassifier(max_depth=16, n_estimators=148, random_state=42)), ('bagged', BaggingClassifier(base_estimator=DecisionTreeClassifier(max_depth=10),\n",
      "                  max_features=13, n_estimators=152, random_state=42), ('gnb', GaussianNB()))]; total time=  12.5s\n",
      "[CV] END estimators=[('aboost', AdaBoostClassifier(base_estimator=DecisionTreeClassifier(max_depth=2),\n",
      "                   n_estimators=100, random_state=42)), ('rf', RandomForestClassifier(max_depth=16, n_estimators=148, random_state=42)), ('bagged', BaggingClassifier(base_estimator=DecisionTreeClassifier(max_depth=10),\n",
      "                  max_features=13, n_estimators=152, random_state=42), ('gnb', GaussianNB()))]; total time=  12.5s\n",
      "[CV] END estimators=[('aboost', AdaBoostClassifier(base_estimator=DecisionTreeClassifier(max_depth=2),\n",
      "                   n_estimators=100, random_state=42)), ('rf', RandomForestClassifier(max_depth=16, n_estimators=148, random_state=42)), ('bagged', BaggingClassifier(base_estimator=DecisionTreeClassifier(max_depth=10),\n",
      "                  max_features=13, n_estimators=152, random_state=42), ('gnb', GaussianNB()))]; total time=  12.8s\n",
      "[CV] END estimators=[('aboost', AdaBoostClassifier(base_estimator=DecisionTreeClassifier(max_depth=2),\n",
      "                   n_estimators=100, random_state=42)), ('rf', RandomForestClassifier(max_depth=16, n_estimators=148, random_state=42)), ('bagged', BaggingClassifier(base_estimator=DecisionTreeClassifier(max_depth=10),\n",
      "                  max_features=13, n_estimators=152, random_state=42), ('gnb', GaussianNB()))]; total time=  12.9s\n",
      "[CV] END estimators=[('aboost', AdaBoostClassifier(base_estimator=DecisionTreeClassifier(max_depth=2),\n",
      "                   random_state=42)), ('rf', RandomForestClassifier(max_depth=20, n_estimators=148, random_state=42)), ('bagged', BaggingClassifier(base_estimator=DecisionTreeClassifier(max_depth=2),\n",
      "                  max_features=13, n_estimators=152, random_state=42))]; total time=   6.0s\n",
      "[CV] END estimators=[('aboost', AdaBoostClassifier(base_estimator=DecisionTreeClassifier(max_depth=2),\n",
      "                   random_state=42)), ('rf', RandomForestClassifier(max_depth=20, n_estimators=148, random_state=42)), ('bagged', BaggingClassifier(base_estimator=DecisionTreeClassifier(max_depth=2),\n",
      "                  max_features=13, n_estimators=152, random_state=42))]; total time=   6.2s\n"
     ]
    },
    {
     "output_type": "stream",
     "name": "stderr",
     "text": [
      "/home/sci/nawazish.khan/miniconda3/envs/assignment/lib/python3.7/site-packages/sklearn/model_selection/_validation.py:372: FitFailedWarning: \n",
      "5 fits failed out of a total of 10.\n",
      "The score on these train-test partitions for these parameters will be set to nan.\n",
      "If these failures are not expected, you can try to debug them by setting error_score='raise'.\n",
      "\n",
      "Below are more details about the failures:\n",
      "--------------------------------------------------------------------------------\n",
      "5 fits failed with the following error:\n",
      "Traceback (most recent call last):\n",
      "  File \"/home/sci/nawazish.khan/miniconda3/envs/assignment/lib/python3.7/site-packages/sklearn/model_selection/_validation.py\", line 681, in _fit_and_score\n",
      "    estimator.fit(X_train, y_train, **fit_params)\n",
      "  File \"/home/sci/nawazish.khan/miniconda3/envs/assignment/lib/python3.7/site-packages/sklearn/ensemble/_voting.py\", line 324, in fit\n",
      "    return super().fit(X, transformed_y, sample_weight)\n",
      "  File \"/home/sci/nawazish.khan/miniconda3/envs/assignment/lib/python3.7/site-packages/sklearn/ensemble/_voting.py\", line 91, in fit\n",
      "    for name, est in self.estimators:\n",
      "ValueError: too many values to unpack (expected 2)\n",
      "\n",
      "  warnings.warn(some_fits_failed_message, FitFailedWarning)\n",
      "/home/sci/nawazish.khan/miniconda3/envs/assignment/lib/python3.7/site-packages/sklearn/model_selection/_search.py:972: UserWarning: One or more of the test scores are non-finite: [   nan 0.8532]\n",
      "  category=UserWarning,\n"
     ]
    },
    {
     "output_type": "execute_result",
     "data": {
      "text/plain": [
       "GridSearchCV(cv=5,\n",
       "             estimator=VotingClassifier(estimators=[[('aboost',\n",
       "                                                      AdaBoostClassifier(base_estimator=DecisionTreeClassifier(max_depth=2),\n",
       "                                                                         n_estimators=100,\n",
       "                                                                         random_state=42)),\n",
       "                                                     ('rf',\n",
       "                                                      RandomForestClassifier(max_depth=16,\n",
       "                                                                             n_estimators=148,\n",
       "                                                                             random_state=42)),\n",
       "                                                     ('bagged',\n",
       "                                                      BaggingClassifier(base_estimator=DecisionTreeClassifier(max_depth=10),\n",
       "                                                                        max_features=13,\n",
       "                                                                        n_es...\n",
       "                                                            random_state=42),\n",
       "                                          ('gnb', GaussianNB()))],\n",
       "                                        [('aboost',\n",
       "                                          AdaBoostClassifier(base_estimator=DecisionTreeClassifier(max_depth=2),\n",
       "                                                             random_state=42)),\n",
       "                                         ('rf',\n",
       "                                          RandomForestClassifier(max_depth=20,\n",
       "                                                                 n_estimators=148,\n",
       "                                                                 random_state=42)),\n",
       "                                         ('bagged',\n",
       "                                          BaggingClassifier(base_estimator=DecisionTreeClassifier(max_depth=2),\n",
       "                                                            max_features=13,\n",
       "                                                            n_estimators=152,\n",
       "                                                            random_state=42))]]},\n",
       "             verbose=2)"
      ]
     },
     "metadata": {},
     "execution_count": 329
    }
   ],
   "metadata": {}
  },
  {
   "cell_type": "code",
   "execution_count": 330,
   "source": [
    "clf_vote_class.best_estimator_"
   ],
   "outputs": [
    {
     "output_type": "execute_result",
     "data": {
      "text/plain": [
       "VotingClassifier(estimators=[('aboost',\n",
       "                              AdaBoostClassifier(base_estimator=DecisionTreeClassifier(max_depth=2),\n",
       "                                                 random_state=42)),\n",
       "                             ('rf',\n",
       "                              RandomForestClassifier(max_depth=20,\n",
       "                                                     n_estimators=148,\n",
       "                                                     random_state=42)),\n",
       "                             ('bagged',\n",
       "                              BaggingClassifier(base_estimator=DecisionTreeClassifier(max_depth=2),\n",
       "                                                max_features=13,\n",
       "                                                n_estimators=152,\n",
       "                                                random_state=42))],\n",
       "                 voting='soft')"
      ]
     },
     "metadata": {},
     "execution_count": 330
    }
   ],
   "metadata": {}
  },
  {
   "cell_type": "code",
   "execution_count": 331,
   "source": [
    "clf_vote_class.cv_results_['mean_test_score']"
   ],
   "outputs": [
    {
     "output_type": "execute_result",
     "data": {
      "text/plain": [
       "array([   nan, 0.8532])"
      ]
     },
     "metadata": {},
     "execution_count": 331
    }
   ],
   "metadata": {}
  },
  {
   "cell_type": "code",
   "execution_count": 333,
   "source": [
    "probs= clf_vote_class.predict_proba(testing.drop(['ID'],axis=1))\n",
    "ID=[]\n",
    "for i in range(23842):\n",
    "    ID.append(i+1)\n",
    "d={'ID':ID,\"Prediction\":probs[:,1]}                                                            \n",
    "df=pd.DataFrame(d)\n",
    "df.to_csv(\"Submission_voting.csv\",index=False)"
   ],
   "outputs": [],
   "metadata": {}
  },
  {
   "cell_type": "markdown",
   "source": [
    "# 8. Histogram Gradient Boosting Classifier"
   ],
   "metadata": {}
  },
  {
   "cell_type": "code",
   "execution_count": 485,
   "source": [
    "hist_boost = HistGradientBoostingClassifier(loss='auto', random_state=42, early_stopping=True)\n",
    "param_grid = {\n",
    "        'learning_rate': [0.1, 0.01, 0.5, 0.25, 0.75, 1.0],\n",
    "        'max_leaf_nodes': range(3, 100, 2),\n",
    "        'max_depth': range(10, 50, 2),\n",
    "        'l2_regularization': [0, 0.1, 0.01, 0.5]\n",
    "    }\n"
   ],
   "outputs": [],
   "metadata": {}
  },
  {
   "cell_type": "code",
   "execution_count": 486,
   "source": [
    "clf_hist_boost=RandomizedSearchCV(estimator=hist_boost,param_distributions=param_grid,cv=5,verbose=2,random_state=42,n_jobs=-1)\n",
    "clf_hist_boost.fit(training.drop(['income>50K'],axis=1),training['income>50K'])"
   ],
   "outputs": [
    {
     "output_type": "stream",
     "name": "stdout",
     "text": [
      "Fitting 5 folds for each of 10 candidates, totalling 50 fits\n",
      "[CV] END l2_regularization=0.01, learning_rate=0.75, max_depth=14, max_leaf_nodes=37; total time=   0.2s\n",
      "[CV] END l2_regularization=0.01, learning_rate=0.75, max_depth=14, max_leaf_nodes=37; total time=   0.2s\n",
      "[CV] END l2_regularization=0.01, learning_rate=0.75, max_depth=14, max_leaf_nodes=37; total time=   0.2s\n",
      "[CV] END l2_regularization=0.01, learning_rate=0.75, max_depth=14, max_leaf_nodes=37; total time=   0.3s\n",
      "[CV] END l2_regularization=0.01, learning_rate=0.75, max_depth=14, max_leaf_nodes=37; total time=   0.3s\n",
      "[CV] END l2_regularization=0, learning_rate=1.0, max_depth=30, max_leaf_nodes=3; total time=   0.2s\n",
      "[CV] END l2_regularization=0, learning_rate=1.0, max_depth=30, max_leaf_nodes=3; total time=   0.2s\n",
      "[CV] END l2_regularization=0, learning_rate=1.0, max_depth=30, max_leaf_nodes=3; total time=   0.2s\n",
      "[CV] END l2_regularization=0, learning_rate=1.0, max_depth=30, max_leaf_nodes=3; total time=   0.2s\n",
      "[CV] END l2_regularization=0.5, learning_rate=0.75, max_depth=10, max_leaf_nodes=33; total time=   0.2s\n",
      "[CV] END l2_regularization=0, learning_rate=1.0, max_depth=30, max_leaf_nodes=3; total time=   0.3s\n",
      "[CV] END l2_regularization=0, learning_rate=0.1, max_depth=44, max_leaf_nodes=57; total time=   0.9s\n",
      "[CV] END l2_regularization=0.5, learning_rate=0.75, max_depth=10, max_leaf_nodes=33; total time=   0.2s\n",
      "[CV] END l2_regularization=0.5, learning_rate=0.75, max_depth=10, max_leaf_nodes=33; total time=   0.2s\n",
      "[CV] END l2_regularization=0.5, learning_rate=0.75, max_depth=10, max_leaf_nodes=33; total time=   0.2s\n",
      "[CV] END l2_regularization=0, learning_rate=0.1, max_depth=44, max_leaf_nodes=57; total time=   1.2s\n",
      "[CV] END l2_regularization=0.5, learning_rate=0.75, max_depth=10, max_leaf_nodes=33; total time=   0.2s\n",
      "[CV] END l2_regularization=0, learning_rate=0.1, max_depth=44, max_leaf_nodes=57; total time=   1.2s\n",
      "[CV] END l2_regularization=0, learning_rate=0.1, max_depth=44, max_leaf_nodes=57; total time=   1.1s\n",
      "[CV] END l2_regularization=0.1, learning_rate=1.0, max_depth=30, max_leaf_nodes=31; total time=   0.2s\n",
      "[CV] END l2_regularization=0, learning_rate=0.1, max_depth=44, max_leaf_nodes=57; total time=   1.2s\n",
      "[CV] END l2_regularization=0.1, learning_rate=1.0, max_depth=30, max_leaf_nodes=31; total time=   0.2s\n",
      "[CV] END l2_regularization=0.1, learning_rate=1.0, max_depth=30, max_leaf_nodes=31; total time=   0.2s\n",
      "[CV] END l2_regularization=0.1, learning_rate=1.0, max_depth=30, max_leaf_nodes=31; total time=   0.2s\n",
      "[CV] END l2_regularization=0.1, learning_rate=1.0, max_depth=30, max_leaf_nodes=31; total time=   0.2s\n",
      "[CV] END l2_regularization=0.01, learning_rate=0.1, max_depth=18, max_leaf_nodes=19; total time=   0.7s\n",
      "[CV] END l2_regularization=0.01, learning_rate=0.1, max_depth=18, max_leaf_nodes=19; total time=   0.8s\n",
      "[CV] END l2_regularization=0.5, learning_rate=0.75, max_depth=32, max_leaf_nodes=41; total time=   0.2s\n",
      "[CV] END l2_regularization=0.01, learning_rate=0.1, max_depth=18, max_leaf_nodes=19; total time=   0.8s\n",
      "[CV] END l2_regularization=0.01, learning_rate=0.1, max_depth=18, max_leaf_nodes=19; total time=   0.7s\n",
      "[CV] END l2_regularization=0.01, learning_rate=0.1, max_depth=18, max_leaf_nodes=19; total time=   0.7s\n",
      "[CV] END l2_regularization=0.5, learning_rate=0.75, max_depth=32, max_leaf_nodes=41; total time=   0.2s\n",
      "[CV] END l2_regularization=0.5, learning_rate=0.75, max_depth=32, max_leaf_nodes=41; total time=   0.2s\n",
      "[CV] END l2_regularization=0.5, learning_rate=0.75, max_depth=32, max_leaf_nodes=41; total time=   0.3s\n",
      "[CV] END l2_regularization=0.5, learning_rate=0.75, max_depth=32, max_leaf_nodes=41; total time=   0.2s\n",
      "[CV] END l2_regularization=0.01, learning_rate=1.0, max_depth=16, max_leaf_nodes=89; total time=   0.3s\n",
      "[CV] END l2_regularization=0.01, learning_rate=1.0, max_depth=16, max_leaf_nodes=89; total time=   0.3s\n",
      "[CV] END l2_regularization=0.01, learning_rate=1.0, max_depth=16, max_leaf_nodes=89; total time=   0.3s\n",
      "[CV] END l2_regularization=0, learning_rate=0.75, max_depth=30, max_leaf_nodes=35; total time=   0.2s\n",
      "[CV] END l2_regularization=0.01, learning_rate=1.0, max_depth=16, max_leaf_nodes=89; total time=   0.3s\n",
      "[CV] END l2_regularization=0.01, learning_rate=1.0, max_depth=16, max_leaf_nodes=89; total time=   0.3s\n",
      "[CV] END l2_regularization=0, learning_rate=0.75, max_depth=30, max_leaf_nodes=35; total time=   0.2s\n",
      "[CV] END l2_regularization=0, learning_rate=0.75, max_depth=30, max_leaf_nodes=35; total time=   0.2s\n",
      "[CV] END l2_regularization=0.1, learning_rate=0.1, max_depth=24, max_leaf_nodes=87; total time=   1.0s\n",
      "[CV] END l2_regularization=0, learning_rate=0.75, max_depth=30, max_leaf_nodes=35; total time=   0.2s\n",
      "[CV] END l2_regularization=0.1, learning_rate=0.1, max_depth=24, max_leaf_nodes=87; total time=   1.1s\n",
      "[CV] END l2_regularization=0, learning_rate=0.75, max_depth=30, max_leaf_nodes=35; total time=   0.2s\n",
      "[CV] END l2_regularization=0.1, learning_rate=0.1, max_depth=24, max_leaf_nodes=87; total time=   1.3s\n",
      "[CV] END l2_regularization=0.1, learning_rate=0.1, max_depth=24, max_leaf_nodes=87; total time=   1.3s\n",
      "[CV] END l2_regularization=0.1, learning_rate=0.1, max_depth=24, max_leaf_nodes=87; total time=   1.3s\n"
     ]
    },
    {
     "output_type": "execute_result",
     "data": {
      "text/plain": [
       "RandomizedSearchCV(cv=5,\n",
       "                   estimator=HistGradientBoostingClassifier(early_stopping=True,\n",
       "                                                            random_state=42),\n",
       "                   n_jobs=-1,\n",
       "                   param_distributions={'l2_regularization': [0, 0.1, 0.01,\n",
       "                                                              0.5],\n",
       "                                        'learning_rate': [0.1, 0.01, 0.5, 0.25,\n",
       "                                                          0.75, 1.0],\n",
       "                                        'max_depth': range(10, 50, 2),\n",
       "                                        'max_leaf_nodes': range(3, 100, 2)},\n",
       "                   random_state=42, verbose=2)"
      ]
     },
     "metadata": {},
     "execution_count": 486
    }
   ],
   "metadata": {}
  },
  {
   "cell_type": "code",
   "execution_count": 487,
   "source": [
    "clf_hist_boost.best_estimator_"
   ],
   "outputs": [
    {
     "output_type": "execute_result",
     "data": {
      "text/plain": [
       "HistGradientBoostingClassifier(early_stopping=True, l2_regularization=0.01,\n",
       "                               max_depth=18, max_leaf_nodes=19,\n",
       "                               random_state=42)"
      ]
     },
     "metadata": {},
     "execution_count": 487
    }
   ],
   "metadata": {}
  },
  {
   "cell_type": "code",
   "execution_count": 488,
   "source": [
    "clf_hist_boost.cv_results_['mean_test_score']"
   ],
   "outputs": [
    {
     "output_type": "execute_result",
     "data": {
      "text/plain": [
       "array([0.86108, 0.87196, 0.8664 , 0.86668, 0.87344, 0.85692, 0.86376,\n",
       "       0.87108, 0.84444, 0.86052])"
      ]
     },
     "metadata": {},
     "execution_count": 488
    }
   ],
   "metadata": {}
  },
  {
   "cell_type": "code",
   "execution_count": 489,
   "source": [
    "probs= clf_hist_boost.predict_proba(testing.drop(['ID'],axis=1))\n",
    "ID=[]\n",
    "for i in range(23842):\n",
    "    ID.append(i+1)\n",
    "d={'ID':ID,\"Prediction\":probs[:,1]}                                                            \n",
    "df=pd.DataFrame(d)\n",
    "df.to_csv(\"Submission_hist_boost.csv\",index=False)"
   ],
   "outputs": [],
   "metadata": {}
  },
  {
   "cell_type": "code",
   "execution_count": 493,
   "source": [
    "# Get Validation Curves for the Best Model\n",
    "best_model = clf_hist_boost\n",
    "fig_name = 'output-hist-grad.png'\n",
    "varying_param = 'max_leaf_nodes'\n",
    "train_scores, test_scores = validation_curve(best_model.best_estimator_, training.drop(['income>50K'],axis=1),training['income>50K'],cv=5, \n",
    "                                            param_name=varying_param, param_range=param_grid[varying_param], scoring='accuracy', n_jobs=-1)\n",
    "train_scores_mean = np.mean(train_scores, axis=1)\n",
    "train_scores_std = np.std(train_scores, axis=1)\n",
    "test_scores_mean = np.mean(test_scores, axis=1)\n",
    "test_scores_std = np.std(test_scores, axis=1)\n",
    "\n",
    "plt.title(\"Validation Curve for Best Model\")\n",
    "plt.xlabel('Max Leaf Nodes')\n",
    "plt.ylabel(\"Score\")\n",
    "plt.ylim(0.0, 1.1)\n",
    "lw = 0.85\n",
    "plt.plot(\n",
    "    param_grid[varying_param], train_scores_mean, label=\"Training score\", color=\"darkorange\", lw=lw\n",
    ")\n",
    "plt.fill_between(\n",
    "    param_grid[varying_param],\n",
    "    train_scores_mean - train_scores_std,\n",
    "    train_scores_mean + train_scores_std,\n",
    "    alpha=0.2,\n",
    "    color=\"darkorange\",\n",
    "    lw=lw,\n",
    ")\n",
    "plt.plot(\n",
    "    param_grid[varying_param], test_scores_mean, label=\"Cross-validation score\", color=\"navy\", lw=lw\n",
    ")\n",
    "plt.fill_between(\n",
    "    param_grid[varying_param],\n",
    "    test_scores_mean - test_scores_std,\n",
    "    test_scores_mean + test_scores_std,\n",
    "    alpha=0.2,\n",
    "    color=\"navy\",\n",
    "    lw=lw,\n",
    ")\n",
    "plt.legend(loc=\"best\")\n",
    "plt.savefig(f'Figures/{fig_name}', dpi=200)\n",
    "plt.show()"
   ],
   "outputs": [
    {
     "output_type": "display_data",
     "data": {
      "text/plain": [
       "<Figure size 432x288 with 1 Axes>"
      ],
      "image/svg+xml": "<?xml version=\"1.0\" encoding=\"utf-8\" standalone=\"no\"?>\n<!DOCTYPE svg PUBLIC \"-//W3C//DTD SVG 1.1//EN\"\n  \"http://www.w3.org/Graphics/SVG/1.1/DTD/svg11.dtd\">\n<svg height=\"277.314375pt\" version=\"1.1\" viewBox=\"0 0 385.78125 277.314375\" width=\"385.78125pt\" xmlns=\"http://www.w3.org/2000/svg\" xmlns:xlink=\"http://www.w3.org/1999/xlink\">\n <metadata>\n  <rdf:RDF xmlns:cc=\"http://creativecommons.org/ns#\" xmlns:dc=\"http://purl.org/dc/elements/1.1/\" xmlns:rdf=\"http://www.w3.org/1999/02/22-rdf-syntax-ns#\">\n   <cc:Work>\n    <dc:type rdf:resource=\"http://purl.org/dc/dcmitype/StillImage\"/>\n    <dc:date>2021-12-19T19:27:41.924022</dc:date>\n    <dc:format>image/svg+xml</dc:format>\n    <dc:creator>\n     <cc:Agent>\n      <dc:title>Matplotlib v3.4.3, https://matplotlib.org/</dc:title>\n     </cc:Agent>\n    </dc:creator>\n   </cc:Work>\n  </rdf:RDF>\n </metadata>\n <defs>\n  <style type=\"text/css\">*{stroke-linecap:butt;stroke-linejoin:round;}</style>\n </defs>\n <g id=\"figure_1\">\n  <g id=\"patch_1\">\n   <path d=\"M 0 277.314375 \nL 385.78125 277.314375 \nL 385.78125 0 \nL 0 0 \nz\n\" style=\"fill:none;\"/>\n  </g>\n  <g id=\"axes_1\">\n   <g id=\"patch_2\">\n    <path d=\"M 43.78125 239.758125 \nL 378.58125 239.758125 \nL 378.58125 22.318125 \nL 43.78125 22.318125 \nz\n\" style=\"fill:#ffffff;\"/>\n   </g>\n   <g id=\"PolyCollection_1\">\n    <defs>\n     <path d=\"M 58.999432 -207.091949 \nL 58.999432 -206.677421 \nL 65.340341 -208.795162 \nL 71.68125 -209.729723 \nL 78.022159 -210.710802 \nL 84.363068 -211.165492 \nL 90.703977 -211.625214 \nL 97.044886 -211.617083 \nL 103.385795 -212.085336 \nL 109.726705 -212.161364 \nL 116.067614 -212.163007 \nL 122.408523 -212.430904 \nL 128.749432 -212.371697 \nL 135.090341 -212.634413 \nL 141.43125 -212.607879 \nL 147.772159 -213.12041 \nL 154.113068 -212.872415 \nL 160.453977 -212.81908 \nL 166.794886 -213.293138 \nL 173.135795 -213.526963 \nL 179.476705 -213.557782 \nL 185.817614 -213.732986 \nL 192.158523 -214.145468 \nL 198.499432 -213.961968 \nL 204.840341 -213.941756 \nL 211.18125 -214.396778 \nL 217.522159 -214.250192 \nL 223.863068 -214.532383 \nL 230.203977 -214.452891 \nL 236.544886 -214.291853 \nL 242.885795 -215.043302 \nL 249.226705 -214.651124 \nL 255.567614 -215.240395 \nL 261.908523 -215.005101 \nL 268.249432 -215.130586 \nL 274.590341 -215.101834 \nL 280.93125 -215.122029 \nL 287.272159 -215.331394 \nL 293.613068 -215.461303 \nL 299.953977 -215.869247 \nL 306.294886 -215.682126 \nL 312.635795 -215.428726 \nL 318.976705 -215.901232 \nL 325.317614 -216.018853 \nL 331.658523 -215.815818 \nL 337.999432 -215.772691 \nL 344.340341 -215.819934 \nL 350.68125 -216.055214 \nL 357.022159 -216.00636 \nL 363.363068 -216.063305 \nL 363.363068 -216.959388 \nL 363.363068 -216.959388 \nL 357.022159 -217.190286 \nL 350.68125 -217.343058 \nL 344.340341 -216.7916 \nL 337.999432 -217.048377 \nL 331.658523 -216.807576 \nL 325.317614 -217.035468 \nL 318.976705 -216.587745 \nL 312.635795 -216.115376 \nL 306.294886 -216.225693 \nL 299.953977 -216.252059 \nL 293.613068 -216.367447 \nL 287.272159 -216.473635 \nL 280.93125 -216.690908 \nL 274.590341 -215.87297 \nL 268.249432 -216.010263 \nL 261.908523 -216.135748 \nL 255.567614 -215.706735 \nL 249.226705 -215.54485 \nL 242.885795 -215.714062 \nL 236.544886 -215.291335 \nL 230.203977 -215.300296 \nL 223.863068 -215.390802 \nL 217.522159 -215.431832 \nL 211.18125 -215.059899 \nL 204.840341 -214.522604 \nL 198.499432 -215.206107 \nL 192.158523 -214.90005 \nL 185.817614 -214.379517 \nL 179.476705 -214.610069 \nL 173.135795 -214.80298 \nL 166.794886 -213.89821 \nL 160.453977 -213.933435 \nL 154.113068 -214.09754 \nL 147.772159 -213.691407 \nL 141.43125 -213.610919 \nL 135.090341 -213.011134 \nL 128.749432 -213.443849 \nL 122.408523 -213.135574 \nL 116.067614 -212.798592 \nL 109.726705 -212.638144 \nL 103.385795 -212.283246 \nL 97.044886 -212.205922 \nL 90.703977 -211.984304 \nL 84.363068 -211.59008 \nL 78.022159 -211.103848 \nL 71.68125 -210.270292 \nL 65.340341 -209.026498 \nL 58.999432 -207.091949 \nz\n\" id=\"md9f89933da\" style=\"stroke:#ff8c00;stroke-opacity:0.2;stroke-width:0.85;\"/>\n    </defs>\n    <g clip-path=\"url(#pfce5856710)\">\n     <use style=\"fill:#ff8c00;fill-opacity:0.2;stroke:#ff8c00;stroke-opacity:0.2;stroke-width:0.85;\" x=\"0\" xlink:href=\"#md9f89933da\" y=\"277.314375\"/>\n    </g>\n   </g>\n   <g id=\"PolyCollection_2\">\n    <defs>\n     <path d=\"M 58.999432 -207.481813 \nL 58.999432 -205.904072 \nL 65.340341 -207.810516 \nL 71.68125 -208.793194 \nL 78.022159 -209.468737 \nL 84.363068 -209.362675 \nL 90.703977 -209.664323 \nL 97.044886 -209.802274 \nL 103.385795 -209.80873 \nL 109.726705 -209.77599 \nL 116.067614 -209.698198 \nL 122.408523 -209.552652 \nL 128.749432 -209.606651 \nL 135.090341 -209.766551 \nL 141.43125 -209.996965 \nL 147.772159 -209.533462 \nL 154.113068 -209.415825 \nL 160.453977 -209.639832 \nL 166.794886 -209.538979 \nL 173.135795 -209.417844 \nL 179.476705 -209.151201 \nL 185.817614 -209.394703 \nL 192.158523 -209.304647 \nL 198.499432 -209.53606 \nL 204.840341 -209.4433 \nL 211.18125 -209.324111 \nL 217.522159 -209.207818 \nL 223.863068 -209.182112 \nL 230.203977 -209.103458 \nL 236.544886 -209.55553 \nL 242.885795 -209.328162 \nL 249.226705 -209.305938 \nL 255.567614 -209.187667 \nL 261.908523 -208.913123 \nL 268.249432 -209.125703 \nL 274.590341 -209.173699 \nL 280.93125 -209.012844 \nL 287.272159 -208.870454 \nL 293.613068 -208.811614 \nL 299.953977 -209.055416 \nL 306.294886 -209.069165 \nL 312.635795 -209.34532 \nL 318.976705 -208.778291 \nL 325.317614 -209.000125 \nL 331.658523 -209.199136 \nL 337.999432 -208.8153 \nL 344.340341 -209.12359 \nL 350.68125 -208.886176 \nL 357.022159 -208.856898 \nL 363.363068 -208.717739 \nL 363.363068 -210.709024 \nL 363.363068 -210.709024 \nL 357.022159 -210.633121 \nL 350.68125 -210.746166 \nL 344.340341 -210.651077 \nL 337.999432 -210.72216 \nL 331.658523 -210.464834 \nL 325.317614 -210.837797 \nL 318.976705 -210.648472 \nL 312.635795 -210.587485 \nL 306.294886 -210.420853 \nL 299.953977 -210.608555 \nL 293.613068 -210.457011 \nL 287.272159 -210.635378 \nL 280.93125 -210.603685 \nL 274.590341 -210.790734 \nL 268.249432 -210.759661 \nL 261.908523 -210.608523 \nL 255.567614 -210.666069 \nL 249.226705 -210.816633 \nL 242.885795 -210.762781 \nL 236.544886 -210.64611 \nL 230.203977 -210.766092 \nL 223.863068 -210.719066 \nL 217.522159 -210.645919 \nL 211.18125 -210.861715 \nL 204.840341 -210.647644 \nL 198.499432 -210.633953 \nL 192.158523 -210.849552 \nL 185.817614 -210.854379 \nL 179.476705 -210.813232 \nL 173.135795 -210.720541 \nL 166.794886 -210.789172 \nL 160.453977 -210.925526 \nL 154.113068 -210.596049 \nL 147.772159 -211.079338 \nL 141.43125 -210.995367 \nL 135.090341 -210.830435 \nL 128.749432 -210.879638 \nL 122.408523 -210.664803 \nL 116.067614 -210.788091 \nL 109.726705 -210.647043 \nL 103.385795 -210.883139 \nL 97.044886 -210.778898 \nL 90.703977 -210.632201 \nL 84.363068 -210.57013 \nL 78.022159 -210.400813 \nL 71.68125 -209.842879 \nL 65.340341 -208.89627 \nL 58.999432 -207.481813 \nz\n\" id=\"mc2cdee28e7\" style=\"stroke:#000080;stroke-opacity:0.2;stroke-width:0.85;\"/>\n    </defs>\n    <g clip-path=\"url(#pfce5856710)\">\n     <use style=\"fill:#000080;fill-opacity:0.2;stroke:#000080;stroke-opacity:0.2;stroke-width:0.85;\" x=\"0\" xlink:href=\"#mc2cdee28e7\" y=\"277.314375\"/>\n    </g>\n   </g>\n   <g id=\"matplotlib.axis_1\">\n    <g id=\"xtick_1\">\n     <g id=\"line2d_1\">\n      <defs>\n       <path d=\"M 0 0 \nL 0 3.5 \n\" id=\"m1f167dbee1\" style=\"stroke:#000000;stroke-width:0.8;\"/>\n      </defs>\n      <g>\n       <use style=\"stroke:#000000;stroke-width:0.8;\" x=\"49.488068\" xlink:href=\"#m1f167dbee1\" y=\"239.758125\"/>\n      </g>\n     </g>\n     <g id=\"text_1\">\n      <!-- 0 -->\n      <g transform=\"translate(46.306818 254.356562)scale(0.1 -0.1)\">\n       <defs>\n        <path d=\"M 2034 4250 \nQ 1547 4250 1301 3770 \nQ 1056 3291 1056 2328 \nQ 1056 1369 1301 889 \nQ 1547 409 2034 409 \nQ 2525 409 2770 889 \nQ 3016 1369 3016 2328 \nQ 3016 3291 2770 3770 \nQ 2525 4250 2034 4250 \nz\nM 2034 4750 \nQ 2819 4750 3233 4129 \nQ 3647 3509 3647 2328 \nQ 3647 1150 3233 529 \nQ 2819 -91 2034 -91 \nQ 1250 -91 836 529 \nQ 422 1150 422 2328 \nQ 422 3509 836 4129 \nQ 1250 4750 2034 4750 \nz\n\" id=\"DejaVuSans-30\" transform=\"scale(0.015625)\"/>\n       </defs>\n       <use xlink:href=\"#DejaVuSans-30\"/>\n      </g>\n     </g>\n    </g>\n    <g id=\"xtick_2\">\n     <g id=\"line2d_2\">\n      <g>\n       <use style=\"stroke:#000000;stroke-width:0.8;\" x=\"112.897159\" xlink:href=\"#m1f167dbee1\" y=\"239.758125\"/>\n      </g>\n     </g>\n     <g id=\"text_2\">\n      <!-- 20 -->\n      <g transform=\"translate(106.534659 254.356562)scale(0.1 -0.1)\">\n       <defs>\n        <path d=\"M 1228 531 \nL 3431 531 \nL 3431 0 \nL 469 0 \nL 469 531 \nQ 828 903 1448 1529 \nQ 2069 2156 2228 2338 \nQ 2531 2678 2651 2914 \nQ 2772 3150 2772 3378 \nQ 2772 3750 2511 3984 \nQ 2250 4219 1831 4219 \nQ 1534 4219 1204 4116 \nQ 875 4013 500 3803 \nL 500 4441 \nQ 881 4594 1212 4672 \nQ 1544 4750 1819 4750 \nQ 2544 4750 2975 4387 \nQ 3406 4025 3406 3419 \nQ 3406 3131 3298 2873 \nQ 3191 2616 2906 2266 \nQ 2828 2175 2409 1742 \nQ 1991 1309 1228 531 \nz\n\" id=\"DejaVuSans-32\" transform=\"scale(0.015625)\"/>\n       </defs>\n       <use xlink:href=\"#DejaVuSans-32\"/>\n       <use x=\"63.623047\" xlink:href=\"#DejaVuSans-30\"/>\n      </g>\n     </g>\n    </g>\n    <g id=\"xtick_3\">\n     <g id=\"line2d_3\">\n      <g>\n       <use style=\"stroke:#000000;stroke-width:0.8;\" x=\"176.30625\" xlink:href=\"#m1f167dbee1\" y=\"239.758125\"/>\n      </g>\n     </g>\n     <g id=\"text_3\">\n      <!-- 40 -->\n      <g transform=\"translate(169.94375 254.356562)scale(0.1 -0.1)\">\n       <defs>\n        <path d=\"M 2419 4116 \nL 825 1625 \nL 2419 1625 \nL 2419 4116 \nz\nM 2253 4666 \nL 3047 4666 \nL 3047 1625 \nL 3713 1625 \nL 3713 1100 \nL 3047 1100 \nL 3047 0 \nL 2419 0 \nL 2419 1100 \nL 313 1100 \nL 313 1709 \nL 2253 4666 \nz\n\" id=\"DejaVuSans-34\" transform=\"scale(0.015625)\"/>\n       </defs>\n       <use xlink:href=\"#DejaVuSans-34\"/>\n       <use x=\"63.623047\" xlink:href=\"#DejaVuSans-30\"/>\n      </g>\n     </g>\n    </g>\n    <g id=\"xtick_4\">\n     <g id=\"line2d_4\">\n      <g>\n       <use style=\"stroke:#000000;stroke-width:0.8;\" x=\"239.715341\" xlink:href=\"#m1f167dbee1\" y=\"239.758125\"/>\n      </g>\n     </g>\n     <g id=\"text_4\">\n      <!-- 60 -->\n      <g transform=\"translate(233.352841 254.356562)scale(0.1 -0.1)\">\n       <defs>\n        <path d=\"M 2113 2584 \nQ 1688 2584 1439 2293 \nQ 1191 2003 1191 1497 \nQ 1191 994 1439 701 \nQ 1688 409 2113 409 \nQ 2538 409 2786 701 \nQ 3034 994 3034 1497 \nQ 3034 2003 2786 2293 \nQ 2538 2584 2113 2584 \nz\nM 3366 4563 \nL 3366 3988 \nQ 3128 4100 2886 4159 \nQ 2644 4219 2406 4219 \nQ 1781 4219 1451 3797 \nQ 1122 3375 1075 2522 \nQ 1259 2794 1537 2939 \nQ 1816 3084 2150 3084 \nQ 2853 3084 3261 2657 \nQ 3669 2231 3669 1497 \nQ 3669 778 3244 343 \nQ 2819 -91 2113 -91 \nQ 1303 -91 875 529 \nQ 447 1150 447 2328 \nQ 447 3434 972 4092 \nQ 1497 4750 2381 4750 \nQ 2619 4750 2861 4703 \nQ 3103 4656 3366 4563 \nz\n\" id=\"DejaVuSans-36\" transform=\"scale(0.015625)\"/>\n       </defs>\n       <use xlink:href=\"#DejaVuSans-36\"/>\n       <use x=\"63.623047\" xlink:href=\"#DejaVuSans-30\"/>\n      </g>\n     </g>\n    </g>\n    <g id=\"xtick_5\">\n     <g id=\"line2d_5\">\n      <g>\n       <use style=\"stroke:#000000;stroke-width:0.8;\" x=\"303.124432\" xlink:href=\"#m1f167dbee1\" y=\"239.758125\"/>\n      </g>\n     </g>\n     <g id=\"text_5\">\n      <!-- 80 -->\n      <g transform=\"translate(296.761932 254.356562)scale(0.1 -0.1)\">\n       <defs>\n        <path d=\"M 2034 2216 \nQ 1584 2216 1326 1975 \nQ 1069 1734 1069 1313 \nQ 1069 891 1326 650 \nQ 1584 409 2034 409 \nQ 2484 409 2743 651 \nQ 3003 894 3003 1313 \nQ 3003 1734 2745 1975 \nQ 2488 2216 2034 2216 \nz\nM 1403 2484 \nQ 997 2584 770 2862 \nQ 544 3141 544 3541 \nQ 544 4100 942 4425 \nQ 1341 4750 2034 4750 \nQ 2731 4750 3128 4425 \nQ 3525 4100 3525 3541 \nQ 3525 3141 3298 2862 \nQ 3072 2584 2669 2484 \nQ 3125 2378 3379 2068 \nQ 3634 1759 3634 1313 \nQ 3634 634 3220 271 \nQ 2806 -91 2034 -91 \nQ 1263 -91 848 271 \nQ 434 634 434 1313 \nQ 434 1759 690 2068 \nQ 947 2378 1403 2484 \nz\nM 1172 3481 \nQ 1172 3119 1398 2916 \nQ 1625 2713 2034 2713 \nQ 2441 2713 2670 2916 \nQ 2900 3119 2900 3481 \nQ 2900 3844 2670 4047 \nQ 2441 4250 2034 4250 \nQ 1625 4250 1398 4047 \nQ 1172 3844 1172 3481 \nz\n\" id=\"DejaVuSans-38\" transform=\"scale(0.015625)\"/>\n       </defs>\n       <use xlink:href=\"#DejaVuSans-38\"/>\n       <use x=\"63.623047\" xlink:href=\"#DejaVuSans-30\"/>\n      </g>\n     </g>\n    </g>\n    <g id=\"xtick_6\">\n     <g id=\"line2d_6\">\n      <g>\n       <use style=\"stroke:#000000;stroke-width:0.8;\" x=\"366.533523\" xlink:href=\"#m1f167dbee1\" y=\"239.758125\"/>\n      </g>\n     </g>\n     <g id=\"text_6\">\n      <!-- 100 -->\n      <g transform=\"translate(356.989773 254.356562)scale(0.1 -0.1)\">\n       <defs>\n        <path d=\"M 794 531 \nL 1825 531 \nL 1825 4091 \nL 703 3866 \nL 703 4441 \nL 1819 4666 \nL 2450 4666 \nL 2450 531 \nL 3481 531 \nL 3481 0 \nL 794 0 \nL 794 531 \nz\n\" id=\"DejaVuSans-31\" transform=\"scale(0.015625)\"/>\n       </defs>\n       <use xlink:href=\"#DejaVuSans-31\"/>\n       <use x=\"63.623047\" xlink:href=\"#DejaVuSans-30\"/>\n       <use x=\"127.246094\" xlink:href=\"#DejaVuSans-30\"/>\n      </g>\n     </g>\n    </g>\n    <g id=\"text_7\">\n     <!-- Max Leaf Nodes -->\n     <g transform=\"translate(171.410937 268.034687)scale(0.1 -0.1)\">\n      <defs>\n       <path d=\"M 628 4666 \nL 1569 4666 \nL 2759 1491 \nL 3956 4666 \nL 4897 4666 \nL 4897 0 \nL 4281 0 \nL 4281 4097 \nL 3078 897 \nL 2444 897 \nL 1241 4097 \nL 1241 0 \nL 628 0 \nL 628 4666 \nz\n\" id=\"DejaVuSans-4d\" transform=\"scale(0.015625)\"/>\n       <path d=\"M 2194 1759 \nQ 1497 1759 1228 1600 \nQ 959 1441 959 1056 \nQ 959 750 1161 570 \nQ 1363 391 1709 391 \nQ 2188 391 2477 730 \nQ 2766 1069 2766 1631 \nL 2766 1759 \nL 2194 1759 \nz\nM 3341 1997 \nL 3341 0 \nL 2766 0 \nL 2766 531 \nQ 2569 213 2275 61 \nQ 1981 -91 1556 -91 \nQ 1019 -91 701 211 \nQ 384 513 384 1019 \nQ 384 1609 779 1909 \nQ 1175 2209 1959 2209 \nL 2766 2209 \nL 2766 2266 \nQ 2766 2663 2505 2880 \nQ 2244 3097 1772 3097 \nQ 1472 3097 1187 3025 \nQ 903 2953 641 2809 \nL 641 3341 \nQ 956 3463 1253 3523 \nQ 1550 3584 1831 3584 \nQ 2591 3584 2966 3190 \nQ 3341 2797 3341 1997 \nz\n\" id=\"DejaVuSans-61\" transform=\"scale(0.015625)\"/>\n       <path d=\"M 3513 3500 \nL 2247 1797 \nL 3578 0 \nL 2900 0 \nL 1881 1375 \nL 863 0 \nL 184 0 \nL 1544 1831 \nL 300 3500 \nL 978 3500 \nL 1906 2253 \nL 2834 3500 \nL 3513 3500 \nz\n\" id=\"DejaVuSans-78\" transform=\"scale(0.015625)\"/>\n       <path id=\"DejaVuSans-20\" transform=\"scale(0.015625)\"/>\n       <path d=\"M 628 4666 \nL 1259 4666 \nL 1259 531 \nL 3531 531 \nL 3531 0 \nL 628 0 \nL 628 4666 \nz\n\" id=\"DejaVuSans-4c\" transform=\"scale(0.015625)\"/>\n       <path d=\"M 3597 1894 \nL 3597 1613 \nL 953 1613 \nQ 991 1019 1311 708 \nQ 1631 397 2203 397 \nQ 2534 397 2845 478 \nQ 3156 559 3463 722 \nL 3463 178 \nQ 3153 47 2828 -22 \nQ 2503 -91 2169 -91 \nQ 1331 -91 842 396 \nQ 353 884 353 1716 \nQ 353 2575 817 3079 \nQ 1281 3584 2069 3584 \nQ 2775 3584 3186 3129 \nQ 3597 2675 3597 1894 \nz\nM 3022 2063 \nQ 3016 2534 2758 2815 \nQ 2500 3097 2075 3097 \nQ 1594 3097 1305 2825 \nQ 1016 2553 972 2059 \nL 3022 2063 \nz\n\" id=\"DejaVuSans-65\" transform=\"scale(0.015625)\"/>\n       <path d=\"M 2375 4863 \nL 2375 4384 \nL 1825 4384 \nQ 1516 4384 1395 4259 \nQ 1275 4134 1275 3809 \nL 1275 3500 \nL 2222 3500 \nL 2222 3053 \nL 1275 3053 \nL 1275 0 \nL 697 0 \nL 697 3053 \nL 147 3053 \nL 147 3500 \nL 697 3500 \nL 697 3744 \nQ 697 4328 969 4595 \nQ 1241 4863 1831 4863 \nL 2375 4863 \nz\n\" id=\"DejaVuSans-66\" transform=\"scale(0.015625)\"/>\n       <path d=\"M 628 4666 \nL 1478 4666 \nL 3547 763 \nL 3547 4666 \nL 4159 4666 \nL 4159 0 \nL 3309 0 \nL 1241 3903 \nL 1241 0 \nL 628 0 \nL 628 4666 \nz\n\" id=\"DejaVuSans-4e\" transform=\"scale(0.015625)\"/>\n       <path d=\"M 1959 3097 \nQ 1497 3097 1228 2736 \nQ 959 2375 959 1747 \nQ 959 1119 1226 758 \nQ 1494 397 1959 397 \nQ 2419 397 2687 759 \nQ 2956 1122 2956 1747 \nQ 2956 2369 2687 2733 \nQ 2419 3097 1959 3097 \nz\nM 1959 3584 \nQ 2709 3584 3137 3096 \nQ 3566 2609 3566 1747 \nQ 3566 888 3137 398 \nQ 2709 -91 1959 -91 \nQ 1206 -91 779 398 \nQ 353 888 353 1747 \nQ 353 2609 779 3096 \nQ 1206 3584 1959 3584 \nz\n\" id=\"DejaVuSans-6f\" transform=\"scale(0.015625)\"/>\n       <path d=\"M 2906 2969 \nL 2906 4863 \nL 3481 4863 \nL 3481 0 \nL 2906 0 \nL 2906 525 \nQ 2725 213 2448 61 \nQ 2172 -91 1784 -91 \nQ 1150 -91 751 415 \nQ 353 922 353 1747 \nQ 353 2572 751 3078 \nQ 1150 3584 1784 3584 \nQ 2172 3584 2448 3432 \nQ 2725 3281 2906 2969 \nz\nM 947 1747 \nQ 947 1113 1208 752 \nQ 1469 391 1925 391 \nQ 2381 391 2643 752 \nQ 2906 1113 2906 1747 \nQ 2906 2381 2643 2742 \nQ 2381 3103 1925 3103 \nQ 1469 3103 1208 2742 \nQ 947 2381 947 1747 \nz\n\" id=\"DejaVuSans-64\" transform=\"scale(0.015625)\"/>\n       <path d=\"M 2834 3397 \nL 2834 2853 \nQ 2591 2978 2328 3040 \nQ 2066 3103 1784 3103 \nQ 1356 3103 1142 2972 \nQ 928 2841 928 2578 \nQ 928 2378 1081 2264 \nQ 1234 2150 1697 2047 \nL 1894 2003 \nQ 2506 1872 2764 1633 \nQ 3022 1394 3022 966 \nQ 3022 478 2636 193 \nQ 2250 -91 1575 -91 \nQ 1294 -91 989 -36 \nQ 684 19 347 128 \nL 347 722 \nQ 666 556 975 473 \nQ 1284 391 1588 391 \nQ 1994 391 2212 530 \nQ 2431 669 2431 922 \nQ 2431 1156 2273 1281 \nQ 2116 1406 1581 1522 \nL 1381 1569 \nQ 847 1681 609 1914 \nQ 372 2147 372 2553 \nQ 372 3047 722 3315 \nQ 1072 3584 1716 3584 \nQ 2034 3584 2315 3537 \nQ 2597 3491 2834 3397 \nz\n\" id=\"DejaVuSans-73\" transform=\"scale(0.015625)\"/>\n      </defs>\n      <use xlink:href=\"#DejaVuSans-4d\"/>\n      <use x=\"86.279297\" xlink:href=\"#DejaVuSans-61\"/>\n      <use x=\"147.558594\" xlink:href=\"#DejaVuSans-78\"/>\n      <use x=\"206.738281\" xlink:href=\"#DejaVuSans-20\"/>\n      <use x=\"238.525391\" xlink:href=\"#DejaVuSans-4c\"/>\n      <use x=\"292.488281\" xlink:href=\"#DejaVuSans-65\"/>\n      <use x=\"354.011719\" xlink:href=\"#DejaVuSans-61\"/>\n      <use x=\"415.291016\" xlink:href=\"#DejaVuSans-66\"/>\n      <use x=\"450.496094\" xlink:href=\"#DejaVuSans-20\"/>\n      <use x=\"482.283203\" xlink:href=\"#DejaVuSans-4e\"/>\n      <use x=\"557.087891\" xlink:href=\"#DejaVuSans-6f\"/>\n      <use x=\"618.269531\" xlink:href=\"#DejaVuSans-64\"/>\n      <use x=\"681.746094\" xlink:href=\"#DejaVuSans-65\"/>\n      <use x=\"743.269531\" xlink:href=\"#DejaVuSans-73\"/>\n     </g>\n    </g>\n   </g>\n   <g id=\"matplotlib.axis_2\">\n    <g id=\"ytick_1\">\n     <g id=\"line2d_7\">\n      <defs>\n       <path d=\"M 0 0 \nL -3.5 0 \n\" id=\"m9c3094b55a\" style=\"stroke:#000000;stroke-width:0.8;\"/>\n      </defs>\n      <g>\n       <use style=\"stroke:#000000;stroke-width:0.8;\" x=\"43.78125\" xlink:href=\"#m9c3094b55a\" y=\"239.758125\"/>\n      </g>\n     </g>\n     <g id=\"text_8\">\n      <!-- 0.0 -->\n      <g transform=\"translate(20.878125 243.557344)scale(0.1 -0.1)\">\n       <defs>\n        <path d=\"M 684 794 \nL 1344 794 \nL 1344 0 \nL 684 0 \nL 684 794 \nz\n\" id=\"DejaVuSans-2e\" transform=\"scale(0.015625)\"/>\n       </defs>\n       <use xlink:href=\"#DejaVuSans-30\"/>\n       <use x=\"63.623047\" xlink:href=\"#DejaVuSans-2e\"/>\n       <use x=\"95.410156\" xlink:href=\"#DejaVuSans-30\"/>\n      </g>\n     </g>\n    </g>\n    <g id=\"ytick_2\">\n     <g id=\"line2d_8\">\n      <g>\n       <use style=\"stroke:#000000;stroke-width:0.8;\" x=\"43.78125\" xlink:href=\"#m9c3094b55a\" y=\"200.22358\"/>\n      </g>\n     </g>\n     <g id=\"text_9\">\n      <!-- 0.2 -->\n      <g transform=\"translate(20.878125 204.022798)scale(0.1 -0.1)\">\n       <use xlink:href=\"#DejaVuSans-30\"/>\n       <use x=\"63.623047\" xlink:href=\"#DejaVuSans-2e\"/>\n       <use x=\"95.410156\" xlink:href=\"#DejaVuSans-32\"/>\n      </g>\n     </g>\n    </g>\n    <g id=\"ytick_3\">\n     <g id=\"line2d_9\">\n      <g>\n       <use style=\"stroke:#000000;stroke-width:0.8;\" x=\"43.78125\" xlink:href=\"#m9c3094b55a\" y=\"160.689034\"/>\n      </g>\n     </g>\n     <g id=\"text_10\">\n      <!-- 0.4 -->\n      <g transform=\"translate(20.878125 164.488253)scale(0.1 -0.1)\">\n       <use xlink:href=\"#DejaVuSans-30\"/>\n       <use x=\"63.623047\" xlink:href=\"#DejaVuSans-2e\"/>\n       <use x=\"95.410156\" xlink:href=\"#DejaVuSans-34\"/>\n      </g>\n     </g>\n    </g>\n    <g id=\"ytick_4\">\n     <g id=\"line2d_10\">\n      <g>\n       <use style=\"stroke:#000000;stroke-width:0.8;\" x=\"43.78125\" xlink:href=\"#m9c3094b55a\" y=\"121.154489\"/>\n      </g>\n     </g>\n     <g id=\"text_11\">\n      <!-- 0.6 -->\n      <g transform=\"translate(20.878125 124.953707)scale(0.1 -0.1)\">\n       <use xlink:href=\"#DejaVuSans-30\"/>\n       <use x=\"63.623047\" xlink:href=\"#DejaVuSans-2e\"/>\n       <use x=\"95.410156\" xlink:href=\"#DejaVuSans-36\"/>\n      </g>\n     </g>\n    </g>\n    <g id=\"ytick_5\">\n     <g id=\"line2d_11\">\n      <g>\n       <use style=\"stroke:#000000;stroke-width:0.8;\" x=\"43.78125\" xlink:href=\"#m9c3094b55a\" y=\"81.619943\"/>\n      </g>\n     </g>\n     <g id=\"text_12\">\n      <!-- 0.8 -->\n      <g transform=\"translate(20.878125 85.419162)scale(0.1 -0.1)\">\n       <use xlink:href=\"#DejaVuSans-30\"/>\n       <use x=\"63.623047\" xlink:href=\"#DejaVuSans-2e\"/>\n       <use x=\"95.410156\" xlink:href=\"#DejaVuSans-38\"/>\n      </g>\n     </g>\n    </g>\n    <g id=\"ytick_6\">\n     <g id=\"line2d_12\">\n      <g>\n       <use style=\"stroke:#000000;stroke-width:0.8;\" x=\"43.78125\" xlink:href=\"#m9c3094b55a\" y=\"42.085398\"/>\n      </g>\n     </g>\n     <g id=\"text_13\">\n      <!-- 1.0 -->\n      <g transform=\"translate(20.878125 45.884616)scale(0.1 -0.1)\">\n       <use xlink:href=\"#DejaVuSans-31\"/>\n       <use x=\"63.623047\" xlink:href=\"#DejaVuSans-2e\"/>\n       <use x=\"95.410156\" xlink:href=\"#DejaVuSans-30\"/>\n      </g>\n     </g>\n    </g>\n    <g id=\"text_14\">\n     <!-- Score -->\n     <g transform=\"translate(14.798438 145.040469)rotate(-90)scale(0.1 -0.1)\">\n      <defs>\n       <path d=\"M 3425 4513 \nL 3425 3897 \nQ 3066 4069 2747 4153 \nQ 2428 4238 2131 4238 \nQ 1616 4238 1336 4038 \nQ 1056 3838 1056 3469 \nQ 1056 3159 1242 3001 \nQ 1428 2844 1947 2747 \nL 2328 2669 \nQ 3034 2534 3370 2195 \nQ 3706 1856 3706 1288 \nQ 3706 609 3251 259 \nQ 2797 -91 1919 -91 \nQ 1588 -91 1214 -16 \nQ 841 59 441 206 \nL 441 856 \nQ 825 641 1194 531 \nQ 1563 422 1919 422 \nQ 2459 422 2753 634 \nQ 3047 847 3047 1241 \nQ 3047 1584 2836 1778 \nQ 2625 1972 2144 2069 \nL 1759 2144 \nQ 1053 2284 737 2584 \nQ 422 2884 422 3419 \nQ 422 4038 858 4394 \nQ 1294 4750 2059 4750 \nQ 2388 4750 2728 4690 \nQ 3069 4631 3425 4513 \nz\n\" id=\"DejaVuSans-53\" transform=\"scale(0.015625)\"/>\n       <path d=\"M 3122 3366 \nL 3122 2828 \nQ 2878 2963 2633 3030 \nQ 2388 3097 2138 3097 \nQ 1578 3097 1268 2742 \nQ 959 2388 959 1747 \nQ 959 1106 1268 751 \nQ 1578 397 2138 397 \nQ 2388 397 2633 464 \nQ 2878 531 3122 666 \nL 3122 134 \nQ 2881 22 2623 -34 \nQ 2366 -91 2075 -91 \nQ 1284 -91 818 406 \nQ 353 903 353 1747 \nQ 353 2603 823 3093 \nQ 1294 3584 2113 3584 \nQ 2378 3584 2631 3529 \nQ 2884 3475 3122 3366 \nz\n\" id=\"DejaVuSans-63\" transform=\"scale(0.015625)\"/>\n       <path d=\"M 2631 2963 \nQ 2534 3019 2420 3045 \nQ 2306 3072 2169 3072 \nQ 1681 3072 1420 2755 \nQ 1159 2438 1159 1844 \nL 1159 0 \nL 581 0 \nL 581 3500 \nL 1159 3500 \nL 1159 2956 \nQ 1341 3275 1631 3429 \nQ 1922 3584 2338 3584 \nQ 2397 3584 2469 3576 \nQ 2541 3569 2628 3553 \nL 2631 2963 \nz\n\" id=\"DejaVuSans-72\" transform=\"scale(0.015625)\"/>\n      </defs>\n      <use xlink:href=\"#DejaVuSans-53\"/>\n      <use x=\"63.476562\" xlink:href=\"#DejaVuSans-63\"/>\n      <use x=\"118.457031\" xlink:href=\"#DejaVuSans-6f\"/>\n      <use x=\"179.638672\" xlink:href=\"#DejaVuSans-72\"/>\n      <use x=\"218.501953\" xlink:href=\"#DejaVuSans-65\"/>\n     </g>\n    </g>\n   </g>\n   <g id=\"line2d_13\">\n    <path clip-path=\"url(#pfce5856710)\" d=\"M 58.999432 70.42969 \nL 65.340341 68.403545 \nL 71.68125 67.314368 \nL 78.022159 66.40705 \nL 84.363068 65.936589 \nL 90.703977 65.509616 \nL 97.044886 65.402873 \nL 103.385795 65.130084 \nL 109.726705 64.914621 \nL 116.067614 64.833575 \nL 122.408523 64.531136 \nL 128.749432 64.406602 \nL 135.090341 64.491601 \nL 141.43125 64.204976 \nL 147.772159 63.908467 \nL 154.113068 63.829398 \nL 160.453977 63.938118 \nL 166.794886 63.718701 \nL 173.135795 63.149404 \nL 179.476705 63.230449 \nL 185.817614 63.258124 \nL 192.158523 62.791616 \nL 198.499432 62.730337 \nL 204.840341 63.082195 \nL 211.18125 62.586036 \nL 217.522159 62.473363 \nL 223.863068 62.352782 \nL 230.203977 62.437782 \nL 236.544886 62.522781 \nL 242.885795 61.935693 \nL 249.226705 62.216388 \nL 255.567614 61.84081 \nL 261.908523 61.74395 \nL 268.249432 61.74395 \nL 274.590341 61.826973 \nL 280.93125 61.407907 \nL 287.272159 61.41186 \nL 293.613068 61.4 \nL 299.953977 61.253722 \nL 306.294886 61.360465 \nL 312.635795 61.542324 \nL 318.976705 61.069886 \nL 325.317614 60.787214 \nL 331.658523 61.002678 \nL 337.999432 60.903841 \nL 344.340341 61.008608 \nL 350.68125 60.615239 \nL 357.022159 60.716052 \nL 363.363068 60.803028 \n\" style=\"fill:none;stroke:#ff8c00;stroke-linecap:square;stroke-width:0.85;\"/>\n   </g>\n   <g id=\"line2d_14\">\n    <path clip-path=\"url(#pfce5856710)\" d=\"M 58.999432 70.621433 \nL 65.340341 68.960982 \nL 71.68125 67.996339 \nL 78.022159 67.3796 \nL 84.363068 67.347972 \nL 90.703977 67.166113 \nL 97.044886 67.023789 \nL 103.385795 66.968441 \nL 109.726705 67.102858 \nL 116.067614 67.07123 \nL 122.408523 67.205648 \nL 128.749432 67.07123 \nL 135.090341 67.015882 \nL 141.43125 66.818209 \nL 147.772159 67.007975 \nL 154.113068 67.308438 \nL 160.453977 67.031696 \nL 166.794886 67.1503 \nL 173.135795 67.245182 \nL 179.476705 67.332158 \nL 185.817614 67.189834 \nL 192.158523 67.237276 \nL 198.499432 67.229369 \nL 204.840341 67.268903 \nL 211.18125 67.221462 \nL 217.522159 67.387507 \nL 223.863068 67.363786 \nL 230.203977 67.3796 \nL 236.544886 67.213555 \nL 242.885795 67.268903 \nL 249.226705 67.253089 \nL 255.567614 67.387507 \nL 261.908523 67.553552 \nL 268.249432 67.371693 \nL 274.590341 67.332158 \nL 280.93125 67.50611 \nL 287.272159 67.561459 \nL 293.613068 67.680062 \nL 299.953977 67.48239 \nL 306.294886 67.569366 \nL 312.635795 67.347972 \nL 318.976705 67.600993 \nL 325.317614 67.395414 \nL 331.658523 67.48239 \nL 337.999432 67.545645 \nL 344.340341 67.427041 \nL 350.68125 67.498204 \nL 357.022159 67.569366 \nL 363.363068 67.600993 \n\" style=\"fill:none;stroke:#000080;stroke-linecap:square;stroke-width:0.85;\"/>\n   </g>\n   <g id=\"patch_3\">\n    <path d=\"M 43.78125 239.758125 \nL 43.78125 22.318125 \n\" style=\"fill:none;stroke:#000000;stroke-linecap:square;stroke-linejoin:miter;stroke-width:0.8;\"/>\n   </g>\n   <g id=\"patch_4\">\n    <path d=\"M 378.58125 239.758125 \nL 378.58125 22.318125 \n\" style=\"fill:none;stroke:#000000;stroke-linecap:square;stroke-linejoin:miter;stroke-width:0.8;\"/>\n   </g>\n   <g id=\"patch_5\">\n    <path d=\"M 43.78125 239.758125 \nL 378.58125 239.758125 \n\" style=\"fill:none;stroke:#000000;stroke-linecap:square;stroke-linejoin:miter;stroke-width:0.8;\"/>\n   </g>\n   <g id=\"patch_6\">\n    <path d=\"M 43.78125 22.318125 \nL 378.58125 22.318125 \n\" style=\"fill:none;stroke:#000000;stroke-linecap:square;stroke-linejoin:miter;stroke-width:0.8;\"/>\n   </g>\n   <g id=\"text_15\">\n    <!-- Validation Curve for Best Model -->\n    <g transform=\"translate(116.670938 16.318125)scale(0.12 -0.12)\">\n     <defs>\n      <path d=\"M 1831 0 \nL 50 4666 \nL 709 4666 \nL 2188 738 \nL 3669 4666 \nL 4325 4666 \nL 2547 0 \nL 1831 0 \nz\n\" id=\"DejaVuSans-56\" transform=\"scale(0.015625)\"/>\n      <path d=\"M 603 4863 \nL 1178 4863 \nL 1178 0 \nL 603 0 \nL 603 4863 \nz\n\" id=\"DejaVuSans-6c\" transform=\"scale(0.015625)\"/>\n      <path d=\"M 603 3500 \nL 1178 3500 \nL 1178 0 \nL 603 0 \nL 603 3500 \nz\nM 603 4863 \nL 1178 4863 \nL 1178 4134 \nL 603 4134 \nL 603 4863 \nz\n\" id=\"DejaVuSans-69\" transform=\"scale(0.015625)\"/>\n      <path d=\"M 1172 4494 \nL 1172 3500 \nL 2356 3500 \nL 2356 3053 \nL 1172 3053 \nL 1172 1153 \nQ 1172 725 1289 603 \nQ 1406 481 1766 481 \nL 2356 481 \nL 2356 0 \nL 1766 0 \nQ 1100 0 847 248 \nQ 594 497 594 1153 \nL 594 3053 \nL 172 3053 \nL 172 3500 \nL 594 3500 \nL 594 4494 \nL 1172 4494 \nz\n\" id=\"DejaVuSans-74\" transform=\"scale(0.015625)\"/>\n      <path d=\"M 3513 2113 \nL 3513 0 \nL 2938 0 \nL 2938 2094 \nQ 2938 2591 2744 2837 \nQ 2550 3084 2163 3084 \nQ 1697 3084 1428 2787 \nQ 1159 2491 1159 1978 \nL 1159 0 \nL 581 0 \nL 581 3500 \nL 1159 3500 \nL 1159 2956 \nQ 1366 3272 1645 3428 \nQ 1925 3584 2291 3584 \nQ 2894 3584 3203 3211 \nQ 3513 2838 3513 2113 \nz\n\" id=\"DejaVuSans-6e\" transform=\"scale(0.015625)\"/>\n      <path d=\"M 4122 4306 \nL 4122 3641 \nQ 3803 3938 3442 4084 \nQ 3081 4231 2675 4231 \nQ 1875 4231 1450 3742 \nQ 1025 3253 1025 2328 \nQ 1025 1406 1450 917 \nQ 1875 428 2675 428 \nQ 3081 428 3442 575 \nQ 3803 722 4122 1019 \nL 4122 359 \nQ 3791 134 3420 21 \nQ 3050 -91 2638 -91 \nQ 1578 -91 968 557 \nQ 359 1206 359 2328 \nQ 359 3453 968 4101 \nQ 1578 4750 2638 4750 \nQ 3056 4750 3426 4639 \nQ 3797 4528 4122 4306 \nz\n\" id=\"DejaVuSans-43\" transform=\"scale(0.015625)\"/>\n      <path d=\"M 544 1381 \nL 544 3500 \nL 1119 3500 \nL 1119 1403 \nQ 1119 906 1312 657 \nQ 1506 409 1894 409 \nQ 2359 409 2629 706 \nQ 2900 1003 2900 1516 \nL 2900 3500 \nL 3475 3500 \nL 3475 0 \nL 2900 0 \nL 2900 538 \nQ 2691 219 2414 64 \nQ 2138 -91 1772 -91 \nQ 1169 -91 856 284 \nQ 544 659 544 1381 \nz\nM 1991 3584 \nL 1991 3584 \nz\n\" id=\"DejaVuSans-75\" transform=\"scale(0.015625)\"/>\n      <path d=\"M 191 3500 \nL 800 3500 \nL 1894 563 \nL 2988 3500 \nL 3597 3500 \nL 2284 0 \nL 1503 0 \nL 191 3500 \nz\n\" id=\"DejaVuSans-76\" transform=\"scale(0.015625)\"/>\n      <path d=\"M 1259 2228 \nL 1259 519 \nL 2272 519 \nQ 2781 519 3026 730 \nQ 3272 941 3272 1375 \nQ 3272 1813 3026 2020 \nQ 2781 2228 2272 2228 \nL 1259 2228 \nz\nM 1259 4147 \nL 1259 2741 \nL 2194 2741 \nQ 2656 2741 2882 2914 \nQ 3109 3088 3109 3444 \nQ 3109 3797 2882 3972 \nQ 2656 4147 2194 4147 \nL 1259 4147 \nz\nM 628 4666 \nL 2241 4666 \nQ 2963 4666 3353 4366 \nQ 3744 4066 3744 3513 \nQ 3744 3084 3544 2831 \nQ 3344 2578 2956 2516 \nQ 3422 2416 3680 2098 \nQ 3938 1781 3938 1306 \nQ 3938 681 3513 340 \nQ 3088 0 2303 0 \nL 628 0 \nL 628 4666 \nz\n\" id=\"DejaVuSans-42\" transform=\"scale(0.015625)\"/>\n     </defs>\n     <use xlink:href=\"#DejaVuSans-56\"/>\n     <use x=\"60.658203\" xlink:href=\"#DejaVuSans-61\"/>\n     <use x=\"121.9375\" xlink:href=\"#DejaVuSans-6c\"/>\n     <use x=\"149.720703\" xlink:href=\"#DejaVuSans-69\"/>\n     <use x=\"177.503906\" xlink:href=\"#DejaVuSans-64\"/>\n     <use x=\"240.980469\" xlink:href=\"#DejaVuSans-61\"/>\n     <use x=\"302.259766\" xlink:href=\"#DejaVuSans-74\"/>\n     <use x=\"341.46875\" xlink:href=\"#DejaVuSans-69\"/>\n     <use x=\"369.251953\" xlink:href=\"#DejaVuSans-6f\"/>\n     <use x=\"430.433594\" xlink:href=\"#DejaVuSans-6e\"/>\n     <use x=\"493.8125\" xlink:href=\"#DejaVuSans-20\"/>\n     <use x=\"525.599609\" xlink:href=\"#DejaVuSans-43\"/>\n     <use x=\"595.423828\" xlink:href=\"#DejaVuSans-75\"/>\n     <use x=\"658.802734\" xlink:href=\"#DejaVuSans-72\"/>\n     <use x=\"699.916016\" xlink:href=\"#DejaVuSans-76\"/>\n     <use x=\"759.095703\" xlink:href=\"#DejaVuSans-65\"/>\n     <use x=\"820.619141\" xlink:href=\"#DejaVuSans-20\"/>\n     <use x=\"852.40625\" xlink:href=\"#DejaVuSans-66\"/>\n     <use x=\"887.611328\" xlink:href=\"#DejaVuSans-6f\"/>\n     <use x=\"948.792969\" xlink:href=\"#DejaVuSans-72\"/>\n     <use x=\"989.90625\" xlink:href=\"#DejaVuSans-20\"/>\n     <use x=\"1021.693359\" xlink:href=\"#DejaVuSans-42\"/>\n     <use x=\"1090.296875\" xlink:href=\"#DejaVuSans-65\"/>\n     <use x=\"1151.820312\" xlink:href=\"#DejaVuSans-73\"/>\n     <use x=\"1203.919922\" xlink:href=\"#DejaVuSans-74\"/>\n     <use x=\"1243.128906\" xlink:href=\"#DejaVuSans-20\"/>\n     <use x=\"1274.916016\" xlink:href=\"#DejaVuSans-4d\"/>\n     <use x=\"1361.195312\" xlink:href=\"#DejaVuSans-6f\"/>\n     <use x=\"1422.376953\" xlink:href=\"#DejaVuSans-64\"/>\n     <use x=\"1485.853516\" xlink:href=\"#DejaVuSans-65\"/>\n     <use x=\"1547.376953\" xlink:href=\"#DejaVuSans-6c\"/>\n    </g>\n   </g>\n   <g id=\"legend_1\">\n    <g id=\"patch_7\">\n     <path d=\"M 229.551562 59.674375 \nL 371.58125 59.674375 \nQ 373.58125 59.674375 373.58125 57.674375 \nL 373.58125 29.318125 \nQ 373.58125 27.318125 371.58125 27.318125 \nL 229.551562 27.318125 \nQ 227.551562 27.318125 227.551562 29.318125 \nL 227.551562 57.674375 \nQ 227.551562 59.674375 229.551562 59.674375 \nz\n\" style=\"fill:#ffffff;opacity:0.8;stroke:#cccccc;stroke-linejoin:miter;\"/>\n    </g>\n    <g id=\"line2d_15\">\n     <path d=\"M 231.551562 35.416562 \nL 251.551562 35.416562 \n\" style=\"fill:none;stroke:#ff8c00;stroke-linecap:square;stroke-width:0.85;\"/>\n    </g>\n    <g id=\"line2d_16\"/>\n    <g id=\"text_16\">\n     <!-- Training score -->\n     <g transform=\"translate(259.551562 38.916562)scale(0.1 -0.1)\">\n      <defs>\n       <path d=\"M -19 4666 \nL 3928 4666 \nL 3928 4134 \nL 2272 4134 \nL 2272 0 \nL 1638 0 \nL 1638 4134 \nL -19 4134 \nL -19 4666 \nz\n\" id=\"DejaVuSans-54\" transform=\"scale(0.015625)\"/>\n       <path d=\"M 2906 1791 \nQ 2906 2416 2648 2759 \nQ 2391 3103 1925 3103 \nQ 1463 3103 1205 2759 \nQ 947 2416 947 1791 \nQ 947 1169 1205 825 \nQ 1463 481 1925 481 \nQ 2391 481 2648 825 \nQ 2906 1169 2906 1791 \nz\nM 3481 434 \nQ 3481 -459 3084 -895 \nQ 2688 -1331 1869 -1331 \nQ 1566 -1331 1297 -1286 \nQ 1028 -1241 775 -1147 \nL 775 -588 \nQ 1028 -725 1275 -790 \nQ 1522 -856 1778 -856 \nQ 2344 -856 2625 -561 \nQ 2906 -266 2906 331 \nL 2906 616 \nQ 2728 306 2450 153 \nQ 2172 0 1784 0 \nQ 1141 0 747 490 \nQ 353 981 353 1791 \nQ 353 2603 747 3093 \nQ 1141 3584 1784 3584 \nQ 2172 3584 2450 3431 \nQ 2728 3278 2906 2969 \nL 2906 3500 \nL 3481 3500 \nL 3481 434 \nz\n\" id=\"DejaVuSans-67\" transform=\"scale(0.015625)\"/>\n      </defs>\n      <use xlink:href=\"#DejaVuSans-54\"/>\n      <use x=\"46.333984\" xlink:href=\"#DejaVuSans-72\"/>\n      <use x=\"87.447266\" xlink:href=\"#DejaVuSans-61\"/>\n      <use x=\"148.726562\" xlink:href=\"#DejaVuSans-69\"/>\n      <use x=\"176.509766\" xlink:href=\"#DejaVuSans-6e\"/>\n      <use x=\"239.888672\" xlink:href=\"#DejaVuSans-69\"/>\n      <use x=\"267.671875\" xlink:href=\"#DejaVuSans-6e\"/>\n      <use x=\"331.050781\" xlink:href=\"#DejaVuSans-67\"/>\n      <use x=\"394.527344\" xlink:href=\"#DejaVuSans-20\"/>\n      <use x=\"426.314453\" xlink:href=\"#DejaVuSans-73\"/>\n      <use x=\"478.414062\" xlink:href=\"#DejaVuSans-63\"/>\n      <use x=\"533.394531\" xlink:href=\"#DejaVuSans-6f\"/>\n      <use x=\"594.576172\" xlink:href=\"#DejaVuSans-72\"/>\n      <use x=\"633.439453\" xlink:href=\"#DejaVuSans-65\"/>\n     </g>\n    </g>\n    <g id=\"line2d_17\">\n     <path d=\"M 231.551562 50.094687 \nL 251.551562 50.094687 \n\" style=\"fill:none;stroke:#000080;stroke-linecap:square;stroke-width:0.85;\"/>\n    </g>\n    <g id=\"line2d_18\"/>\n    <g id=\"text_17\">\n     <!-- Cross-validation score -->\n     <g transform=\"translate(259.551562 53.594687)scale(0.1 -0.1)\">\n      <defs>\n       <path d=\"M 313 2009 \nL 1997 2009 \nL 1997 1497 \nL 313 1497 \nL 313 2009 \nz\n\" id=\"DejaVuSans-2d\" transform=\"scale(0.015625)\"/>\n      </defs>\n      <use xlink:href=\"#DejaVuSans-43\"/>\n      <use x=\"69.824219\" xlink:href=\"#DejaVuSans-72\"/>\n      <use x=\"108.6875\" xlink:href=\"#DejaVuSans-6f\"/>\n      <use x=\"169.869141\" xlink:href=\"#DejaVuSans-73\"/>\n      <use x=\"221.96875\" xlink:href=\"#DejaVuSans-73\"/>\n      <use x=\"274.068359\" xlink:href=\"#DejaVuSans-2d\"/>\n      <use x=\"307.527344\" xlink:href=\"#DejaVuSans-76\"/>\n      <use x=\"366.707031\" xlink:href=\"#DejaVuSans-61\"/>\n      <use x=\"427.986328\" xlink:href=\"#DejaVuSans-6c\"/>\n      <use x=\"455.769531\" xlink:href=\"#DejaVuSans-69\"/>\n      <use x=\"483.552734\" xlink:href=\"#DejaVuSans-64\"/>\n      <use x=\"547.029297\" xlink:href=\"#DejaVuSans-61\"/>\n      <use x=\"608.308594\" xlink:href=\"#DejaVuSans-74\"/>\n      <use x=\"647.517578\" xlink:href=\"#DejaVuSans-69\"/>\n      <use x=\"675.300781\" xlink:href=\"#DejaVuSans-6f\"/>\n      <use x=\"736.482422\" xlink:href=\"#DejaVuSans-6e\"/>\n      <use x=\"799.861328\" xlink:href=\"#DejaVuSans-20\"/>\n      <use x=\"831.648438\" xlink:href=\"#DejaVuSans-73\"/>\n      <use x=\"883.748047\" xlink:href=\"#DejaVuSans-63\"/>\n      <use x=\"938.728516\" xlink:href=\"#DejaVuSans-6f\"/>\n      <use x=\"999.910156\" xlink:href=\"#DejaVuSans-72\"/>\n      <use x=\"1038.773438\" xlink:href=\"#DejaVuSans-65\"/>\n     </g>\n    </g>\n   </g>\n  </g>\n </g>\n <defs>\n  <clipPath id=\"pfce5856710\">\n   <rect height=\"217.44\" width=\"334.8\" x=\"43.78125\" y=\"22.318125\"/>\n  </clipPath>\n </defs>\n</svg>\n",
      "image/png": "[encoded data removed]"
     },
     "metadata": {
      "needs_background": "light"
     }
    }
   ],
   "metadata": {}
  },
  {
   "cell_type": "markdown",
   "source": [
    "# 9. Stacking Classifiers"
   ],
   "metadata": {}
  },
  {
   "cell_type": "code",
   "execution_count": 369,
   "source": [
    "param_grid = {\n",
    "        'estimators': [[('aboost', AdaBoostClassifier(base_estimator=tree.DecisionTreeClassifier(max_depth=2),n_estimators=100, random_state=42)),\n",
    "        ('rf', RandomForestClassifier(max_depth=16, n_estimators=148, random_state=42)),\n",
    "        ('bagged', BaggingClassifier(base_estimator=tree.DecisionTreeClassifier(max_depth=10),\n",
    "                  max_features=13, n_estimators=152, random_state=42)), ('hist_boost', HistGradientBoostingClassifier(early_stopping=True, l2_regularization=0.01,\n",
    "                               max_depth=18, max_leaf_nodes=29,\n",
    "                               random_state=42))],\n",
    "        [('aboost',AdaBoostClassifier(base_estimator=tree.DecisionTreeClassifier(max_depth=1),n_estimators=50, random_state=42)),\n",
    "        ('rf', RandomForestClassifier(max_depth=20, n_estimators=148, random_state=42)),\n",
    "        ('bagged', BaggingClassifier(base_estimator=tree.DecisionTreeClassifier(max_depth=10),\n",
    "                  max_features=13, n_estimators=152, random_state=42)), ('hist_boost', HistGradientBoostingClassifier(early_stopping=True, l2_regularization=0.01,\n",
    "                               max_depth=18, max_leaf_nodes=29,\n",
    "                               random_state=42))]],\n",
    "        'passthrough': [True, False],\n",
    "        'final_estimator': [LogisticRegression(), Perceptron()]\n",
    "    }\n",
    "\n",
    "sclass = StackingClassifier(estimators=param_grid['estimators'][0], stack_method='predict_proba')\n"
   ],
   "outputs": [],
   "metadata": {}
  },
  {
   "cell_type": "code",
   "execution_count": 370,
   "source": [
    "clf_sclass=GridSearchCV(estimator=sclass,param_grid=param_grid,cv=5,verbose=2,n_jobs=-1)\n",
    "clf_sclass.fit(training.drop(['income>50K'],axis=1),training['income>50K'])"
   ],
   "outputs": [
    {
     "output_type": "stream",
     "name": "stdout",
     "text": [
      "Fitting 5 folds for each of 8 candidates, totalling 40 fits\n",
      "[CV] END estimators=[('aboost', AdaBoostClassifier(base_estimator=DecisionTreeClassifier(max_depth=2),\n",
      "                   n_estimators=100, random_state=42)), ('rf', RandomForestClassifier(max_depth=16, n_estimators=148, random_state=42)), ('bagged', BaggingClassifier(base_estimator=DecisionTreeClassifier(max_depth=10),\n",
      "                  max_features=13, n_estimators=152, random_state=42)), ('hist_boost', HistGradientBoostingClassifier(early_stopping=True, l2_regularization=0.01,\n",
      "                               max_depth=18, max_leaf_nodes=29,\n",
      "                               random_state=42))], final_estimator=LogisticRegression(), passthrough=True; total time= 1.1min\n"
     ]
    },
    {
     "output_type": "stream",
     "name": "stderr",
     "text": [
      "/home/sci/nawazish.khan/miniconda3/envs/assignment/lib/python3.7/site-packages/sklearn/linear_model/_logistic.py:818: ConvergenceWarning: lbfgs failed to converge (status=1):\n",
      "STOP: TOTAL NO. of ITERATIONS REACHED LIMIT.\n",
      "\n",
      "Increase the number of iterations (max_iter) or scale the data as shown in:\n",
      "    https://scikit-learn.org/stable/modules/preprocessing.html\n",
      "Please also refer to the documentation for alternative solver options:\n",
      "    https://scikit-learn.org/stable/modules/linear_model.html#logistic-regression\n",
      "  extra_warning_msg=_LOGISTIC_SOLVER_CONVERGENCE_MSG,\n"
     ]
    },
    {
     "output_type": "stream",
     "name": "stdout",
     "text": [
      "[CV] END estimators=[('aboost', AdaBoostClassifier(base_estimator=DecisionTreeClassifier(max_depth=2),\n",
      "                   n_estimators=100, random_state=42)), ('rf', RandomForestClassifier(max_depth=16, n_estimators=148, random_state=42)), ('bagged', BaggingClassifier(base_estimator=DecisionTreeClassifier(max_depth=10),\n",
      "                  max_features=13, n_estimators=152, random_state=42)), ('hist_boost', HistGradientBoostingClassifier(early_stopping=True, l2_regularization=0.01,\n",
      "                               max_depth=18, max_leaf_nodes=29,\n",
      "                               random_state=42))], final_estimator=LogisticRegression(), passthrough=False; total time= 1.2min\n",
      "[CV] END estimators=[('aboost', AdaBoostClassifier(base_estimator=DecisionTreeClassifier(max_depth=2),\n",
      "                   n_estimators=100, random_state=42)), ('rf', RandomForestClassifier(max_depth=16, n_estimators=148, random_state=42)), ('bagged', BaggingClassifier(base_estimator=DecisionTreeClassifier(max_depth=10),\n",
      "                  max_features=13, n_estimators=152, random_state=42)), ('hist_boost', HistGradientBoostingClassifier(early_stopping=True, l2_regularization=0.01,\n",
      "                               max_depth=18, max_leaf_nodes=29,\n",
      "                               random_state=42))], final_estimator=LogisticRegression(), passthrough=False; total time= 1.2min\n",
      "[CV] END estimators=[('aboost', AdaBoostClassifier(base_estimator=DecisionTreeClassifier(max_depth=2),\n",
      "                   n_estimators=100, random_state=42)), ('rf', RandomForestClassifier(max_depth=16, n_estimators=148, random_state=42)), ('bagged', BaggingClassifier(base_estimator=DecisionTreeClassifier(max_depth=10),\n",
      "                  max_features=13, n_estimators=152, random_state=42)), ('hist_boost', HistGradientBoostingClassifier(early_stopping=True, l2_regularization=0.01,\n",
      "                               max_depth=18, max_leaf_nodes=29,\n",
      "                               random_state=42))], final_estimator=LogisticRegression(), passthrough=True; total time= 1.2min\n",
      "[CV] END estimators=[('aboost', AdaBoostClassifier(base_estimator=DecisionTreeClassifier(max_depth=2),\n",
      "                   n_estimators=100, random_state=42)), ('rf', RandomForestClassifier(max_depth=16, n_estimators=148, random_state=42)), ('bagged', BaggingClassifier(base_estimator=DecisionTreeClassifier(max_depth=10),\n",
      "                  max_features=13, n_estimators=152, random_state=42)), ('hist_boost', HistGradientBoostingClassifier(early_stopping=True, l2_regularization=0.01,\n",
      "                               max_depth=18, max_leaf_nodes=29,\n",
      "                               random_state=42))], final_estimator=LogisticRegression(), passthrough=True; total time= 1.2min\n"
     ]
    },
    {
     "output_type": "stream",
     "name": "stderr",
     "text": [
      "/home/sci/nawazish.khan/miniconda3/envs/assignment/lib/python3.7/site-packages/sklearn/linear_model/_logistic.py:818: ConvergenceWarning: lbfgs failed to converge (status=1):\n",
      "STOP: TOTAL NO. of ITERATIONS REACHED LIMIT.\n",
      "\n",
      "Increase the number of iterations (max_iter) or scale the data as shown in:\n",
      "    https://scikit-learn.org/stable/modules/preprocessing.html\n",
      "Please also refer to the documentation for alternative solver options:\n",
      "    https://scikit-learn.org/stable/modules/linear_model.html#logistic-regression\n",
      "  extra_warning_msg=_LOGISTIC_SOLVER_CONVERGENCE_MSG,\n",
      "/home/sci/nawazish.khan/miniconda3/envs/assignment/lib/python3.7/site-packages/sklearn/linear_model/_logistic.py:818: ConvergenceWarning: lbfgs failed to converge (status=1):\n",
      "STOP: TOTAL NO. of ITERATIONS REACHED LIMIT.\n",
      "\n",
      "Increase the number of iterations (max_iter) or scale the data as shown in:\n",
      "    https://scikit-learn.org/stable/modules/preprocessing.html\n",
      "Please also refer to the documentation for alternative solver options:\n",
      "    https://scikit-learn.org/stable/modules/linear_model.html#logistic-regression\n",
      "  extra_warning_msg=_LOGISTIC_SOLVER_CONVERGENCE_MSG,\n"
     ]
    },
    {
     "output_type": "stream",
     "name": "stdout",
     "text": [
      "[CV] END estimators=[('aboost', AdaBoostClassifier(base_estimator=DecisionTreeClassifier(max_depth=2),\n",
      "                   n_estimators=100, random_state=42)), ('rf', RandomForestClassifier(max_depth=16, n_estimators=148, random_state=42)), ('bagged', BaggingClassifier(base_estimator=DecisionTreeClassifier(max_depth=10),\n",
      "                  max_features=13, n_estimators=152, random_state=42)), ('hist_boost', HistGradientBoostingClassifier(early_stopping=True, l2_regularization=0.01,\n",
      "                               max_depth=18, max_leaf_nodes=29,\n",
      "                               random_state=42))], final_estimator=LogisticRegression(), passthrough=False; total time= 1.2min\n",
      "[CV] END estimators=[('aboost', AdaBoostClassifier(base_estimator=DecisionTreeClassifier(max_depth=2),\n",
      "                   n_estimators=100, random_state=42)), ('rf', RandomForestClassifier(max_depth=16, n_estimators=148, random_state=42)), ('bagged', BaggingClassifier(base_estimator=DecisionTreeClassifier(max_depth=10),\n",
      "                  max_features=13, n_estimators=152, random_state=42)), ('hist_boost', HistGradientBoostingClassifier(early_stopping=True, l2_regularization=0.01,\n",
      "                               max_depth=18, max_leaf_nodes=29,\n",
      "                               random_state=42))], final_estimator=LogisticRegression(), passthrough=True; total time= 1.2min\n",
      "[CV] END estimators=[('aboost', AdaBoostClassifier(base_estimator=DecisionTreeClassifier(max_depth=2),\n",
      "                   n_estimators=100, random_state=42)), ('rf', RandomForestClassifier(max_depth=16, n_estimators=148, random_state=42)), ('bagged', BaggingClassifier(base_estimator=DecisionTreeClassifier(max_depth=10),\n",
      "                  max_features=13, n_estimators=152, random_state=42)), ('hist_boost', HistGradientBoostingClassifier(early_stopping=True, l2_regularization=0.01,\n",
      "                               max_depth=18, max_leaf_nodes=29,\n",
      "                               random_state=42))], final_estimator=LogisticRegression(), passthrough=True; total time= 1.2min\n",
      "[CV] END estimators=[('aboost', AdaBoostClassifier(base_estimator=DecisionTreeClassifier(max_depth=2),\n",
      "                   n_estimators=100, random_state=42)), ('rf', RandomForestClassifier(max_depth=16, n_estimators=148, random_state=42)), ('bagged', BaggingClassifier(base_estimator=DecisionTreeClassifier(max_depth=10),\n",
      "                  max_features=13, n_estimators=152, random_state=42)), ('hist_boost', HistGradientBoostingClassifier(early_stopping=True, l2_regularization=0.01,\n",
      "                               max_depth=18, max_leaf_nodes=29,\n",
      "                               random_state=42))], final_estimator=Perceptron(), passthrough=True; total time= 1.1min\n",
      "[CV] END estimators=[('aboost', AdaBoostClassifier(base_estimator=DecisionTreeClassifier(max_depth=2),\n",
      "                   n_estimators=100, random_state=42)), ('rf', RandomForestClassifier(max_depth=16, n_estimators=148, random_state=42)), ('bagged', BaggingClassifier(base_estimator=DecisionTreeClassifier(max_depth=10),\n",
      "                  max_features=13, n_estimators=152, random_state=42)), ('hist_boost', HistGradientBoostingClassifier(early_stopping=True, l2_regularization=0.01,\n",
      "                               max_depth=18, max_leaf_nodes=29,\n",
      "                               random_state=42))], final_estimator=Perceptron(), passthrough=True; total time= 1.1min\n",
      "[CV] END estimators=[('aboost', AdaBoostClassifier(base_estimator=DecisionTreeClassifier(max_depth=2),\n",
      "                   n_estimators=100, random_state=42)), ('rf', RandomForestClassifier(max_depth=16, n_estimators=148, random_state=42)), ('bagged', BaggingClassifier(base_estimator=DecisionTreeClassifier(max_depth=10),\n",
      "                  max_features=13, n_estimators=152, random_state=42)), ('hist_boost', HistGradientBoostingClassifier(early_stopping=True, l2_regularization=0.01,\n",
      "                               max_depth=18, max_leaf_nodes=29,\n",
      "                               random_state=42))], final_estimator=LogisticRegression(), passthrough=False; total time= 1.2min\n",
      "[CV] END estimators=[('aboost', AdaBoostClassifier(base_estimator=DecisionTreeClassifier(max_depth=2),\n",
      "                   n_estimators=100, random_state=42)), ('rf', RandomForestClassifier(max_depth=16, n_estimators=148, random_state=42)), ('bagged', BaggingClassifier(base_estimator=DecisionTreeClassifier(max_depth=10),\n",
      "                  max_features=13, n_estimators=152, random_state=42)), ('hist_boost', HistGradientBoostingClassifier(early_stopping=True, l2_regularization=0.01,\n",
      "                               max_depth=18, max_leaf_nodes=29,\n",
      "                               random_state=42))], final_estimator=Perceptron(), passthrough=True; total time= 1.1min\n",
      "[CV] END estimators=[('aboost', AdaBoostClassifier(base_estimator=DecisionTreeClassifier(max_depth=2),\n",
      "                   n_estimators=100, random_state=42)), ('rf', RandomForestClassifier(max_depth=16, n_estimators=148, random_state=42)), ('bagged', BaggingClassifier(base_estimator=DecisionTreeClassifier(max_depth=10),\n",
      "                  max_features=13, n_estimators=152, random_state=42)), ('hist_boost', HistGradientBoostingClassifier(early_stopping=True, l2_regularization=0.01,\n",
      "                               max_depth=18, max_leaf_nodes=29,\n",
      "                               random_state=42))], final_estimator=Perceptron(), passthrough=True; total time= 1.2min\n",
      "[CV] END estimators=[('aboost', AdaBoostClassifier(base_estimator=DecisionTreeClassifier(max_depth=2),\n",
      "                   n_estimators=100, random_state=42)), ('rf', RandomForestClassifier(max_depth=16, n_estimators=148, random_state=42)), ('bagged', BaggingClassifier(base_estimator=DecisionTreeClassifier(max_depth=10),\n",
      "                  max_features=13, n_estimators=152, random_state=42)), ('hist_boost', HistGradientBoostingClassifier(early_stopping=True, l2_regularization=0.01,\n",
      "                               max_depth=18, max_leaf_nodes=29,\n",
      "                               random_state=42))], final_estimator=Perceptron(), passthrough=False; total time= 1.2min\n",
      "[CV] END estimators=[('aboost', AdaBoostClassifier(base_estimator=DecisionTreeClassifier(max_depth=2),\n",
      "                   n_estimators=100, random_state=42)), ('rf', RandomForestClassifier(max_depth=16, n_estimators=148, random_state=42)), ('bagged', BaggingClassifier(base_estimator=DecisionTreeClassifier(max_depth=10),\n",
      "                  max_features=13, n_estimators=152, random_state=42)), ('hist_boost', HistGradientBoostingClassifier(early_stopping=True, l2_regularization=0.01,\n",
      "                               max_depth=18, max_leaf_nodes=29,\n",
      "                               random_state=42))], final_estimator=Perceptron(), passthrough=True; total time= 1.2min\n",
      "[CV] END estimators=[('aboost', AdaBoostClassifier(base_estimator=DecisionTreeClassifier(max_depth=2),\n",
      "                   n_estimators=100, random_state=42)), ('rf', RandomForestClassifier(max_depth=16, n_estimators=148, random_state=42)), ('bagged', BaggingClassifier(base_estimator=DecisionTreeClassifier(max_depth=10),\n",
      "                  max_features=13, n_estimators=152, random_state=42)), ('hist_boost', HistGradientBoostingClassifier(early_stopping=True, l2_regularization=0.01,\n",
      "                               max_depth=18, max_leaf_nodes=29,\n",
      "                               random_state=42))], final_estimator=LogisticRegression(), passthrough=False; total time= 1.2min\n"
     ]
    },
    {
     "output_type": "stream",
     "name": "stderr",
     "text": [
      "/home/sci/nawazish.khan/miniconda3/envs/assignment/lib/python3.7/site-packages/sklearn/linear_model/_logistic.py:818: ConvergenceWarning: lbfgs failed to converge (status=1):\n",
      "STOP: TOTAL NO. of ITERATIONS REACHED LIMIT.\n",
      "\n",
      "Increase the number of iterations (max_iter) or scale the data as shown in:\n",
      "    https://scikit-learn.org/stable/modules/preprocessing.html\n",
      "Please also refer to the documentation for alternative solver options:\n",
      "    https://scikit-learn.org/stable/modules/linear_model.html#logistic-regression\n",
      "  extra_warning_msg=_LOGISTIC_SOLVER_CONVERGENCE_MSG,\n"
     ]
    },
    {
     "output_type": "stream",
     "name": "stdout",
     "text": [
      "[CV] END estimators=[('aboost', AdaBoostClassifier(base_estimator=DecisionTreeClassifier(max_depth=1),\n",
      "                   random_state=42)), ('rf', RandomForestClassifier(max_depth=20, n_estimators=148, random_state=42)), ('bagged', BaggingClassifier(base_estimator=DecisionTreeClassifier(max_depth=10),\n",
      "                  max_features=13, n_estimators=152, random_state=42)), ('hist_boost', HistGradientBoostingClassifier(early_stopping=True, l2_regularization=0.01,\n",
      "                               max_depth=18, max_leaf_nodes=29,\n",
      "                               random_state=42))], final_estimator=LogisticRegression(), passthrough=True; total time= 1.0min\n",
      "[CV] END estimators=[('aboost', AdaBoostClassifier(base_estimator=DecisionTreeClassifier(max_depth=1),\n",
      "                   random_state=42)), ('rf', RandomForestClassifier(max_depth=20, n_estimators=148, random_state=42)), ('bagged', BaggingClassifier(base_estimator=DecisionTreeClassifier(max_depth=10),\n",
      "                  max_features=13, n_estimators=152, random_state=42)), ('hist_boost', HistGradientBoostingClassifier(early_stopping=True, l2_regularization=0.01,\n",
      "                               max_depth=18, max_leaf_nodes=29,\n",
      "                               random_state=42))], final_estimator=LogisticRegression(), passthrough=True; total time= 1.0min\n",
      "[CV] END estimators=[('aboost', AdaBoostClassifier(base_estimator=DecisionTreeClassifier(max_depth=1),\n",
      "                   random_state=42)), ('rf', RandomForestClassifier(max_depth=20, n_estimators=148, random_state=42)), ('bagged', BaggingClassifier(base_estimator=DecisionTreeClassifier(max_depth=10),\n",
      "                  max_features=13, n_estimators=152, random_state=42)), ('hist_boost', HistGradientBoostingClassifier(early_stopping=True, l2_regularization=0.01,\n",
      "                               max_depth=18, max_leaf_nodes=29,\n",
      "                               random_state=42))], final_estimator=LogisticRegression(), passthrough=True; total time= 1.1min\n"
     ]
    },
    {
     "output_type": "stream",
     "name": "stderr",
     "text": [
      "/home/sci/nawazish.khan/miniconda3/envs/assignment/lib/python3.7/site-packages/sklearn/linear_model/_logistic.py:818: ConvergenceWarning: lbfgs failed to converge (status=1):\n",
      "STOP: TOTAL NO. of ITERATIONS REACHED LIMIT.\n",
      "\n",
      "Increase the number of iterations (max_iter) or scale the data as shown in:\n",
      "    https://scikit-learn.org/stable/modules/preprocessing.html\n",
      "Please also refer to the documentation for alternative solver options:\n",
      "    https://scikit-learn.org/stable/modules/linear_model.html#logistic-regression\n",
      "  extra_warning_msg=_LOGISTIC_SOLVER_CONVERGENCE_MSG,\n"
     ]
    },
    {
     "output_type": "stream",
     "name": "stdout",
     "text": [
      "[CV] END estimators=[('aboost', AdaBoostClassifier(base_estimator=DecisionTreeClassifier(max_depth=1),\n",
      "                   random_state=42)), ('rf', RandomForestClassifier(max_depth=20, n_estimators=148, random_state=42)), ('bagged', BaggingClassifier(base_estimator=DecisionTreeClassifier(max_depth=10),\n",
      "                  max_features=13, n_estimators=152, random_state=42)), ('hist_boost', HistGradientBoostingClassifier(early_stopping=True, l2_regularization=0.01,\n",
      "                               max_depth=18, max_leaf_nodes=29,\n",
      "                               random_state=42))], final_estimator=LogisticRegression(), passthrough=True; total time= 1.0min\n",
      "[CV] END estimators=[('aboost', AdaBoostClassifier(base_estimator=DecisionTreeClassifier(max_depth=2),\n",
      "                   n_estimators=100, random_state=42)), ('rf', RandomForestClassifier(max_depth=16, n_estimators=148, random_state=42)), ('bagged', BaggingClassifier(base_estimator=DecisionTreeClassifier(max_depth=10),\n",
      "                  max_features=13, n_estimators=152, random_state=42)), ('hist_boost', HistGradientBoostingClassifier(early_stopping=True, l2_regularization=0.01,\n",
      "                               max_depth=18, max_leaf_nodes=29,\n",
      "                               random_state=42))], final_estimator=Perceptron(), passthrough=False; total time= 1.2min\n",
      "[CV] END estimators=[('aboost', AdaBoostClassifier(base_estimator=DecisionTreeClassifier(max_depth=2),\n",
      "                   n_estimators=100, random_state=42)), ('rf', RandomForestClassifier(max_depth=16, n_estimators=148, random_state=42)), ('bagged', BaggingClassifier(base_estimator=DecisionTreeClassifier(max_depth=10),\n",
      "                  max_features=13, n_estimators=152, random_state=42)), ('hist_boost', HistGradientBoostingClassifier(early_stopping=True, l2_regularization=0.01,\n",
      "                               max_depth=18, max_leaf_nodes=29,\n",
      "                               random_state=42))], final_estimator=Perceptron(), passthrough=False; total time= 1.2min\n",
      "[CV] END estimators=[('aboost', AdaBoostClassifier(base_estimator=DecisionTreeClassifier(max_depth=2),\n",
      "                   n_estimators=100, random_state=42)), ('rf', RandomForestClassifier(max_depth=16, n_estimators=148, random_state=42)), ('bagged', BaggingClassifier(base_estimator=DecisionTreeClassifier(max_depth=10),\n",
      "                  max_features=13, n_estimators=152, random_state=42)), ('hist_boost', HistGradientBoostingClassifier(early_stopping=True, l2_regularization=0.01,\n",
      "                               max_depth=18, max_leaf_nodes=29,\n",
      "                               random_state=42))], final_estimator=Perceptron(), passthrough=False; total time= 1.2min\n",
      "[CV] END estimators=[('aboost', AdaBoostClassifier(base_estimator=DecisionTreeClassifier(max_depth=2),\n",
      "                   n_estimators=100, random_state=42)), ('rf', RandomForestClassifier(max_depth=16, n_estimators=148, random_state=42)), ('bagged', BaggingClassifier(base_estimator=DecisionTreeClassifier(max_depth=10),\n",
      "                  max_features=13, n_estimators=152, random_state=42)), ('hist_boost', HistGradientBoostingClassifier(early_stopping=True, l2_regularization=0.01,\n",
      "                               max_depth=18, max_leaf_nodes=29,\n",
      "                               random_state=42))], final_estimator=Perceptron(), passthrough=False; total time= 1.3min\n",
      "[CV] END estimators=[('aboost', AdaBoostClassifier(base_estimator=DecisionTreeClassifier(max_depth=1),\n",
      "                   random_state=42)), ('rf', RandomForestClassifier(max_depth=20, n_estimators=148, random_state=42)), ('bagged', BaggingClassifier(base_estimator=DecisionTreeClassifier(max_depth=10),\n",
      "                  max_features=13, n_estimators=152, random_state=42)), ('hist_boost', HistGradientBoostingClassifier(early_stopping=True, l2_regularization=0.01,\n",
      "                               max_depth=18, max_leaf_nodes=29,\n",
      "                               random_state=42))], final_estimator=LogisticRegression(), passthrough=True; total time= 1.1min\n",
      "[CV] END estimators=[('aboost', AdaBoostClassifier(base_estimator=DecisionTreeClassifier(max_depth=1),\n",
      "                   random_state=42)), ('rf', RandomForestClassifier(max_depth=20, n_estimators=148, random_state=42)), ('bagged', BaggingClassifier(base_estimator=DecisionTreeClassifier(max_depth=10),\n",
      "                  max_features=13, n_estimators=152, random_state=42)), ('hist_boost', HistGradientBoostingClassifier(early_stopping=True, l2_regularization=0.01,\n",
      "                               max_depth=18, max_leaf_nodes=29,\n",
      "                               random_state=42))], final_estimator=LogisticRegression(), passthrough=False; total time= 1.0min\n",
      "[CV] END estimators=[('aboost', AdaBoostClassifier(base_estimator=DecisionTreeClassifier(max_depth=1),\n",
      "                   random_state=42)), ('rf', RandomForestClassifier(max_depth=20, n_estimators=148, random_state=42)), ('bagged', BaggingClassifier(base_estimator=DecisionTreeClassifier(max_depth=10),\n",
      "                  max_features=13, n_estimators=152, random_state=42)), ('hist_boost', HistGradientBoostingClassifier(early_stopping=True, l2_regularization=0.01,\n",
      "                               max_depth=18, max_leaf_nodes=29,\n",
      "                               random_state=42))], final_estimator=LogisticRegression(), passthrough=False; total time= 1.0min\n",
      "[CV] END estimators=[('aboost', AdaBoostClassifier(base_estimator=DecisionTreeClassifier(max_depth=1),\n",
      "                   random_state=42)), ('rf', RandomForestClassifier(max_depth=20, n_estimators=148, random_state=42)), ('bagged', BaggingClassifier(base_estimator=DecisionTreeClassifier(max_depth=10),\n",
      "                  max_features=13, n_estimators=152, random_state=42)), ('hist_boost', HistGradientBoostingClassifier(early_stopping=True, l2_regularization=0.01,\n",
      "                               max_depth=18, max_leaf_nodes=29,\n",
      "                               random_state=42))], final_estimator=LogisticRegression(), passthrough=False; total time= 1.0min\n",
      "[CV] END estimators=[('aboost', AdaBoostClassifier(base_estimator=DecisionTreeClassifier(max_depth=1),\n",
      "                   random_state=42)), ('rf', RandomForestClassifier(max_depth=20, n_estimators=148, random_state=42)), ('bagged', BaggingClassifier(base_estimator=DecisionTreeClassifier(max_depth=10),\n",
      "                  max_features=13, n_estimators=152, random_state=42)), ('hist_boost', HistGradientBoostingClassifier(early_stopping=True, l2_regularization=0.01,\n",
      "                               max_depth=18, max_leaf_nodes=29,\n",
      "                               random_state=42))], final_estimator=LogisticRegression(), passthrough=False; total time= 1.0min\n",
      "[CV] END estimators=[('aboost', AdaBoostClassifier(base_estimator=DecisionTreeClassifier(max_depth=1),\n",
      "                   random_state=42)), ('rf', RandomForestClassifier(max_depth=20, n_estimators=148, random_state=42)), ('bagged', BaggingClassifier(base_estimator=DecisionTreeClassifier(max_depth=10),\n",
      "                  max_features=13, n_estimators=152, random_state=42)), ('hist_boost', HistGradientBoostingClassifier(early_stopping=True, l2_regularization=0.01,\n",
      "                               max_depth=18, max_leaf_nodes=29,\n",
      "                               random_state=42))], final_estimator=Perceptron(), passthrough=True; total time= 1.0min\n",
      "[CV] END estimators=[('aboost', AdaBoostClassifier(base_estimator=DecisionTreeClassifier(max_depth=1),\n",
      "                   random_state=42)), ('rf', RandomForestClassifier(max_depth=20, n_estimators=148, random_state=42)), ('bagged', BaggingClassifier(base_estimator=DecisionTreeClassifier(max_depth=10),\n",
      "                  max_features=13, n_estimators=152, random_state=42)), ('hist_boost', HistGradientBoostingClassifier(early_stopping=True, l2_regularization=0.01,\n",
      "                               max_depth=18, max_leaf_nodes=29,\n",
      "                               random_state=42))], final_estimator=LogisticRegression(), passthrough=False; total time= 1.1min\n",
      "[CV] END estimators=[('aboost', AdaBoostClassifier(base_estimator=DecisionTreeClassifier(max_depth=1),\n",
      "                   random_state=42)), ('rf', RandomForestClassifier(max_depth=20, n_estimators=148, random_state=42)), ('bagged', BaggingClassifier(base_estimator=DecisionTreeClassifier(max_depth=10),\n",
      "                  max_features=13, n_estimators=152, random_state=42)), ('hist_boost', HistGradientBoostingClassifier(early_stopping=True, l2_regularization=0.01,\n",
      "                               max_depth=18, max_leaf_nodes=29,\n",
      "                               random_state=42))], final_estimator=Perceptron(), passthrough=True; total time= 1.1min\n",
      "[CV] END estimators=[('aboost', AdaBoostClassifier(base_estimator=DecisionTreeClassifier(max_depth=1),\n",
      "                   random_state=42)), ('rf', RandomForestClassifier(max_depth=20, n_estimators=148, random_state=42)), ('bagged', BaggingClassifier(base_estimator=DecisionTreeClassifier(max_depth=10),\n",
      "                  max_features=13, n_estimators=152, random_state=42)), ('hist_boost', HistGradientBoostingClassifier(early_stopping=True, l2_regularization=0.01,\n",
      "                               max_depth=18, max_leaf_nodes=29,\n",
      "                               random_state=42))], final_estimator=Perceptron(), passthrough=False; total time= 1.0min\n",
      "[CV] END estimators=[('aboost', AdaBoostClassifier(base_estimator=DecisionTreeClassifier(max_depth=1),\n",
      "                   random_state=42)), ('rf', RandomForestClassifier(max_depth=20, n_estimators=148, random_state=42)), ('bagged', BaggingClassifier(base_estimator=DecisionTreeClassifier(max_depth=10),\n",
      "                  max_features=13, n_estimators=152, random_state=42)), ('hist_boost', HistGradientBoostingClassifier(early_stopping=True, l2_regularization=0.01,\n",
      "                               max_depth=18, max_leaf_nodes=29,\n",
      "                               random_state=42))], final_estimator=Perceptron(), passthrough=True; total time= 1.0min\n",
      "[CV] END estimators=[('aboost', AdaBoostClassifier(base_estimator=DecisionTreeClassifier(max_depth=1),\n",
      "                   random_state=42)), ('rf', RandomForestClassifier(max_depth=20, n_estimators=148, random_state=42)), ('bagged', BaggingClassifier(base_estimator=DecisionTreeClassifier(max_depth=10),\n",
      "                  max_features=13, n_estimators=152, random_state=42)), ('hist_boost', HistGradientBoostingClassifier(early_stopping=True, l2_regularization=0.01,\n",
      "                               max_depth=18, max_leaf_nodes=29,\n",
      "                               random_state=42))], final_estimator=Perceptron(), passthrough=True; total time= 1.0min\n",
      "[CV] END estimators=[('aboost', AdaBoostClassifier(base_estimator=DecisionTreeClassifier(max_depth=1),\n",
      "                   random_state=42)), ('rf', RandomForestClassifier(max_depth=20, n_estimators=148, random_state=42)), ('bagged', BaggingClassifier(base_estimator=DecisionTreeClassifier(max_depth=10),\n",
      "                  max_features=13, n_estimators=152, random_state=42)), ('hist_boost', HistGradientBoostingClassifier(early_stopping=True, l2_regularization=0.01,\n",
      "                               max_depth=18, max_leaf_nodes=29,\n",
      "                               random_state=42))], final_estimator=Perceptron(), passthrough=True; total time= 1.0min\n",
      "[CV] END estimators=[('aboost', AdaBoostClassifier(base_estimator=DecisionTreeClassifier(max_depth=1),\n",
      "                   random_state=42)), ('rf', RandomForestClassifier(max_depth=20, n_estimators=148, random_state=42)), ('bagged', BaggingClassifier(base_estimator=DecisionTreeClassifier(max_depth=10),\n",
      "                  max_features=13, n_estimators=152, random_state=42)), ('hist_boost', HistGradientBoostingClassifier(early_stopping=True, l2_regularization=0.01,\n",
      "                               max_depth=18, max_leaf_nodes=29,\n",
      "                               random_state=42))], final_estimator=Perceptron(), passthrough=False; total time= 1.0min\n",
      "[CV] END estimators=[('aboost', AdaBoostClassifier(base_estimator=DecisionTreeClassifier(max_depth=1),\n",
      "                   random_state=42)), ('rf', RandomForestClassifier(max_depth=20, n_estimators=148, random_state=42)), ('bagged', BaggingClassifier(base_estimator=DecisionTreeClassifier(max_depth=10),\n",
      "                  max_features=13, n_estimators=152, random_state=42)), ('hist_boost', HistGradientBoostingClassifier(early_stopping=True, l2_regularization=0.01,\n",
      "                               max_depth=18, max_leaf_nodes=29,\n",
      "                               random_state=42))], final_estimator=Perceptron(), passthrough=False; total time= 1.0min\n",
      "[CV] END estimators=[('aboost', AdaBoostClassifier(base_estimator=DecisionTreeClassifier(max_depth=1),\n",
      "                   random_state=42)), ('rf', RandomForestClassifier(max_depth=20, n_estimators=148, random_state=42)), ('bagged', BaggingClassifier(base_estimator=DecisionTreeClassifier(max_depth=10),\n",
      "                  max_features=13, n_estimators=152, random_state=42)), ('hist_boost', HistGradientBoostingClassifier(early_stopping=True, l2_regularization=0.01,\n",
      "                               max_depth=18, max_leaf_nodes=29,\n",
      "                               random_state=42))], final_estimator=Perceptron(), passthrough=False; total time= 1.1min\n",
      "[CV] END estimators=[('aboost', AdaBoostClassifier(base_estimator=DecisionTreeClassifier(max_depth=1),\n",
      "                   random_state=42)), ('rf', RandomForestClassifier(max_depth=20, n_estimators=148, random_state=42)), ('bagged', BaggingClassifier(base_estimator=DecisionTreeClassifier(max_depth=10),\n",
      "                  max_features=13, n_estimators=152, random_state=42)), ('hist_boost', HistGradientBoostingClassifier(early_stopping=True, l2_regularization=0.01,\n",
      "                               max_depth=18, max_leaf_nodes=29,\n",
      "                               random_state=42))], final_estimator=Perceptron(), passthrough=False; total time= 1.0min\n"
     ]
    },
    {
     "output_type": "execute_result",
     "data": {
      "text/plain": [
       "GridSearchCV(cv=5,\n",
       "             estimator=StackingClassifier(estimators=[('aboost',\n",
       "                                                       AdaBoostClassifier(base_estimator=DecisionTreeClassifier(max_depth=2),\n",
       "                                                                          n_estimators=100,\n",
       "                                                                          random_state=42)),\n",
       "                                                      ('rf',\n",
       "                                                       RandomForestClassifier(max_depth=16,\n",
       "                                                                              n_estimators=148,\n",
       "                                                                              random_state=42)),\n",
       "                                                      ('bagged',\n",
       "                                                       BaggingClassifier(base_estimator=DecisionTreeClassifier(max_depth=10),\n",
       "                                                                         max_features=13,\n",
       "                                                                         n_e...\n",
       "                                          BaggingClassifier(base_estimator=DecisionTreeClassifier(max_depth=10),\n",
       "                                                            max_features=13,\n",
       "                                                            n_estimators=152,\n",
       "                                                            random_state=42)),\n",
       "                                         ('hist_boost',\n",
       "                                          HistGradientBoostingClassifier(early_stopping=True,\n",
       "                                                                         l2_regularization=0.01,\n",
       "                                                                         max_depth=18,\n",
       "                                                                         max_leaf_nodes=29,\n",
       "                                                                         random_state=42))]],\n",
       "                         'final_estimator': [LogisticRegression(),\n",
       "                                             Perceptron()],\n",
       "                         'passthrough': [True, False]},\n",
       "             verbose=2)"
      ]
     },
     "metadata": {},
     "execution_count": 370
    }
   ],
   "metadata": {}
  },
  {
   "cell_type": "code",
   "execution_count": 371,
   "source": [
    "clf_sclass.best_estimator_"
   ],
   "outputs": [
    {
     "output_type": "execute_result",
     "data": {
      "text/plain": [
       "StackingClassifier(estimators=[('aboost',\n",
       "                                AdaBoostClassifier(base_estimator=DecisionTreeClassifier(max_depth=2),\n",
       "                                                   n_estimators=100,\n",
       "                                                   random_state=42)),\n",
       "                               ('rf',\n",
       "                                RandomForestClassifier(max_depth=16,\n",
       "                                                       n_estimators=148,\n",
       "                                                       random_state=42)),\n",
       "                               ('bagged',\n",
       "                                BaggingClassifier(base_estimator=DecisionTreeClassifier(max_depth=10),\n",
       "                                                  max_features=13,\n",
       "                                                  n_estimators=152,\n",
       "                                                  random_state=42)),\n",
       "                               ('hist_boost',\n",
       "                                HistGradientBoostingClassifier(early_stopping=True,\n",
       "                                                               l2_regularization=0.01,\n",
       "                                                               max_depth=18,\n",
       "                                                               max_leaf_nodes=29,\n",
       "                                                               random_state=42))],\n",
       "                   final_estimator=LogisticRegression(),\n",
       "                   stack_method='predict_proba')"
      ]
     },
     "metadata": {},
     "execution_count": 371
    }
   ],
   "metadata": {}
  },
  {
   "cell_type": "code",
   "execution_count": 303,
   "source": [
    "clf_sclass.cv_results_['mean_test_score']"
   ],
   "outputs": [
    {
     "output_type": "execute_result",
     "data": {
      "text/plain": [
       "array([0.78776,     nan, 0.78944, 0.86824,     nan, 0.86816, 0.788  ,\n",
       "           nan, 0.788  , 0.74488,     nan, 0.71992, 0.79064,     nan,\n",
       "       0.78744, 0.8666 ,     nan, 0.8654 , 0.788  ,     nan, 0.788  ,\n",
       "       0.84464,     nan, 0.8416 ])"
      ]
     },
     "metadata": {},
     "execution_count": 303
    }
   ],
   "metadata": {}
  },
  {
   "cell_type": "code",
   "execution_count": 372,
   "source": [
    "clf_sclass.cv_results_['mean_test_score']"
   ],
   "outputs": [
    {
     "output_type": "execute_result",
     "data": {
      "text/plain": [
       "array([0.78764, 0.87388, 0.788  , 0.8402 , 0.78836, 0.87384, 0.788  ,\n",
       "       0.83272])"
      ]
     },
     "metadata": {},
     "execution_count": 372
    }
   ],
   "metadata": {}
  },
  {
   "cell_type": "code",
   "execution_count": 374,
   "source": [
    "probs= clf_sclass.predict_proba(testing.drop(['ID'],axis=1))\n",
    "ID=[]\n",
    "for i in range(23842):\n",
    "    ID.append(i+1)\n",
    "d={'ID':ID,\"Prediction\":probs[:,1]}                                                            \n",
    "df=pd.DataFrame(d)\n",
    "df.to_csv(\"Submission_sclass2.csv\",index=False)"
   ],
   "outputs": [],
   "metadata": {}
  },
  {
   "cell_type": "code",
   "execution_count": null,
   "source": [],
   "outputs": [],
   "metadata": {}
  }
 ],
 "metadata": {
  "orig_nbformat": 4,
  "language_info": {
   "name": "python",
   "version": "3.7.8",
   "mimetype": "text/x-python",
   "codemirror_mode": {
    "name": "ipython",
    "version": 3
   },
   "pygments_lexer": "ipython3",
   "nbconvert_exporter": "python",
   "file_extension": ".py"
  },
  "kernelspec": {
   "name": "python3",
   "display_name": "Python 3.7.8 64-bit ('assignment': conda)"
  },
  "interpreter": {
   "hash": "9abb8911c1aa7884fef042204dc94fda413b80958c53da6b047e0f4190aa0480"
  }
 },
 "nbformat": 4,
 "nbformat_minor": 2
}